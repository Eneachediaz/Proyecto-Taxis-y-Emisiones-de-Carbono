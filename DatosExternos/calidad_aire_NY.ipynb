{
 "cells": [
  {
   "cell_type": "markdown",
   "metadata": {},
   "source": [
    "Calidad de aire de la ciudad de NY, 2019-2022:"
   ]
  },
  {
   "cell_type": "code",
   "execution_count": 1,
   "metadata": {},
   "outputs": [],
   "source": [
    "# Librerías\n",
    "import pandas as pd\n",
    "import numpy as np\n",
    "import os\n",
    "\n",
    "import seaborn as sns\n",
    "import matplotlib as mpl\n",
    "import matplotlib.pyplot as plt\n",
    "\n",
    "# para eliminar warning en python\n",
    "import warnings\n",
    "warnings.simplefilter('ignore')"
   ]
  },
  {
   "cell_type": "code",
   "execution_count": 5,
   "metadata": {},
   "outputs": [],
   "source": [
    "# Assumiendo que el archivo está en la carpeta\n",
    "# Cambiar al directorio con el archivo\n",
    "file_path_01 = \"C:/Users/56988/Desktop/NYdrive/archivosExtNY/NYC EH Data Portal - Fine particles (PM 2.5) action days (full table).csv\"\n",
    "os.chdir(\"C:/Users/56988/Desktop/NYdrive/archivosExtNY/\")"
   ]
  },
  {
   "cell_type": "code",
   "execution_count": 6,
   "metadata": {},
   "outputs": [],
   "source": [
    "# Dataframe calidad aire NY\n",
    "df_calidad_aire_NY = pd.read_csv(file_path_01)"
   ]
  },
  {
   "cell_type": "code",
   "execution_count": 8,
   "metadata": {},
   "outputs": [
    {
     "data": {
      "text/html": [
       "<div>\n",
       "<style scoped>\n",
       "    .dataframe tbody tr th:only-of-type {\n",
       "        vertical-align: middle;\n",
       "    }\n",
       "\n",
       "    .dataframe tbody tr th {\n",
       "        vertical-align: top;\n",
       "    }\n",
       "\n",
       "    .dataframe thead th {\n",
       "        text-align: right;\n",
       "    }\n",
       "</style>\n",
       "<table border=\"1\" class=\"dataframe\">\n",
       "  <thead>\n",
       "    <tr style=\"text-align: right;\">\n",
       "      <th></th>\n",
       "      <th>TimePeriod</th>\n",
       "      <th>GeoType</th>\n",
       "      <th>GeoID</th>\n",
       "      <th>GeoRank</th>\n",
       "      <th>Geography</th>\n",
       "      <th>General population</th>\n",
       "      <th>PM2.5 98% percentile mcg/m3</th>\n",
       "      <th>PM2.5 annual average mcg/m3</th>\n",
       "      <th>Sensitive groups</th>\n",
       "    </tr>\n",
       "  </thead>\n",
       "  <tbody>\n",
       "    <tr>\n",
       "      <th>0</th>\n",
       "      <td>2022</td>\n",
       "      <td>Citywide</td>\n",
       "      <td>1</td>\n",
       "      <td>0</td>\n",
       "      <td>New York City</td>\n",
       "      <td>0</td>\n",
       "      <td>19.6</td>\n",
       "      <td>7.8</td>\n",
       "      <td>0</td>\n",
       "    </tr>\n",
       "    <tr>\n",
       "      <th>1</th>\n",
       "      <td>2021</td>\n",
       "      <td>Citywide</td>\n",
       "      <td>1</td>\n",
       "      <td>0</td>\n",
       "      <td>New York City</td>\n",
       "      <td>1</td>\n",
       "      <td>22.9</td>\n",
       "      <td>8.3</td>\n",
       "      <td>1</td>\n",
       "    </tr>\n",
       "  </tbody>\n",
       "</table>\n",
       "</div>"
      ],
      "text/plain": [
       "   TimePeriod   GeoType  GeoID  GeoRank      Geography  General population  \\\n",
       "0        2022  Citywide      1        0  New York City                   0   \n",
       "1        2021  Citywide      1        0  New York City                   1   \n",
       "\n",
       "   PM2.5 98% percentile mcg/m3  PM2.5 annual average mcg/m3  Sensitive groups  \n",
       "0                         19.6                          7.8                 0  \n",
       "1                         22.9                          8.3                 1  "
      ]
     },
     "execution_count": 8,
     "metadata": {},
     "output_type": "execute_result"
    }
   ],
   "source": [
    "df_calidad_aire_NY.head(2)"
   ]
  },
  {
   "cell_type": "markdown",
   "metadata": {},
   "source": [
    "**Diccionario:**\n",
    "* TimePeriod: Representa el año del dato (por ejemplo, 2022 o 2021).\n",
    "* GeoType: Indica el tipo de geografía (por ejemplo, “Citywide” para toda la ciudad).\n",
    "* GeoID: Es un identificador único para la ubicación geográfica.\n",
    "* GeoRank: Un valor que clasifica la geografía (puede ser 0 o algún otro número).\n",
    "* Geography: El nombre de la ubicación geográfica (en este caso, “New York City”).\n",
    "* General population: La población general en esa área.\n",
    "* PM2.5 98% percentile mcg/m3: El percentil 98 de concentración de partículas finas PM2.5 (medido en microgramos por metro cúbico).\n",
    "* PM2.5 annual average mcg/m3: El promedio anual de concentración de partículas finas PM2.5 (medido en microgramos por metro cúbico).\n",
    "* Sensitive groups: Indica si hay grupos sensibles (por ejemplo, personas con enfermedades respiratorias) en esa área."
   ]
  },
  {
   "cell_type": "code",
   "execution_count": 10,
   "metadata": {},
   "outputs": [
    {
     "data": {
      "text/plain": [
       "array([2022, 2021, 2020, 2019, 2018, 2017, 2016, 2015, 2014, 2013, 2012,\n",
       "       2011, 2010, 2009, 2008, 2007, 2006, 2005, 2004, 2003], dtype=int64)"
      ]
     },
     "execution_count": 10,
     "metadata": {},
     "output_type": "execute_result"
    }
   ],
   "source": [
    "df_calidad_aire_NY[\"TimePeriod\"].unique()"
   ]
  },
  {
   "cell_type": "code",
   "execution_count": 11,
   "metadata": {},
   "outputs": [],
   "source": [
    "# Filtrar los datos para los años 2019 al 2022\n",
    "df_filtered = df_calidad_aire_NY[(df_calidad_aire_NY[\"TimePeriod\"] >= 2019) & (df_calidad_aire_NY[\"TimePeriod\"] <= 2022)]"
   ]
  },
  {
   "cell_type": "code",
   "execution_count": 14,
   "metadata": {},
   "outputs": [
    {
     "data": {
      "text/html": [
       "<div>\n",
       "<style scoped>\n",
       "    .dataframe tbody tr th:only-of-type {\n",
       "        vertical-align: middle;\n",
       "    }\n",
       "\n",
       "    .dataframe tbody tr th {\n",
       "        vertical-align: top;\n",
       "    }\n",
       "\n",
       "    .dataframe thead th {\n",
       "        text-align: right;\n",
       "    }\n",
       "</style>\n",
       "<table border=\"1\" class=\"dataframe\">\n",
       "  <thead>\n",
       "    <tr style=\"text-align: right;\">\n",
       "      <th></th>\n",
       "      <th>TimePeriod</th>\n",
       "      <th>GeoType</th>\n",
       "      <th>GeoID</th>\n",
       "      <th>GeoRank</th>\n",
       "      <th>Geography</th>\n",
       "      <th>General population</th>\n",
       "      <th>PM2.5 98% percentile mcg/m3</th>\n",
       "      <th>PM2.5 annual average mcg/m3</th>\n",
       "      <th>Sensitive groups</th>\n",
       "    </tr>\n",
       "  </thead>\n",
       "  <tbody>\n",
       "    <tr>\n",
       "      <th>0</th>\n",
       "      <td>2022</td>\n",
       "      <td>Citywide</td>\n",
       "      <td>1</td>\n",
       "      <td>0</td>\n",
       "      <td>New York City</td>\n",
       "      <td>0</td>\n",
       "      <td>19.6</td>\n",
       "      <td>7.8</td>\n",
       "      <td>0</td>\n",
       "    </tr>\n",
       "    <tr>\n",
       "      <th>1</th>\n",
       "      <td>2021</td>\n",
       "      <td>Citywide</td>\n",
       "      <td>1</td>\n",
       "      <td>0</td>\n",
       "      <td>New York City</td>\n",
       "      <td>1</td>\n",
       "      <td>22.9</td>\n",
       "      <td>8.3</td>\n",
       "      <td>1</td>\n",
       "    </tr>\n",
       "    <tr>\n",
       "      <th>2</th>\n",
       "      <td>2020</td>\n",
       "      <td>Citywide</td>\n",
       "      <td>1</td>\n",
       "      <td>0</td>\n",
       "      <td>New York City</td>\n",
       "      <td>0</td>\n",
       "      <td>23.4</td>\n",
       "      <td>9.0</td>\n",
       "      <td>0</td>\n",
       "    </tr>\n",
       "    <tr>\n",
       "      <th>3</th>\n",
       "      <td>2019</td>\n",
       "      <td>Citywide</td>\n",
       "      <td>1</td>\n",
       "      <td>0</td>\n",
       "      <td>New York City</td>\n",
       "      <td>0</td>\n",
       "      <td>23.5</td>\n",
       "      <td>9.4</td>\n",
       "      <td>0</td>\n",
       "    </tr>\n",
       "  </tbody>\n",
       "</table>\n",
       "</div>"
      ],
      "text/plain": [
       "   TimePeriod   GeoType  GeoID  GeoRank      Geography  General population  \\\n",
       "0        2022  Citywide      1        0  New York City                   0   \n",
       "1        2021  Citywide      1        0  New York City                   1   \n",
       "2        2020  Citywide      1        0  New York City                   0   \n",
       "3        2019  Citywide      1        0  New York City                   0   \n",
       "\n",
       "   PM2.5 98% percentile mcg/m3  PM2.5 annual average mcg/m3  Sensitive groups  \n",
       "0                         19.6                          7.8                 0  \n",
       "1                         22.9                          8.3                 1  \n",
       "2                         23.4                          9.0                 0  \n",
       "3                         23.5                          9.4                 0  "
      ]
     },
     "execution_count": 14,
     "metadata": {},
     "output_type": "execute_result"
    }
   ],
   "source": [
    "df_filtered"
   ]
  },
  {
   "cell_type": "code",
   "execution_count": 13,
   "metadata": {},
   "outputs": [],
   "source": [
    "# Guardar df de calidad de aire NY 2019-2022\n",
    "#df_filtered.to_csv(\"df_calidad_aireNY_2019_2022.csv\")"
   ]
  }
 ],
 "metadata": {
  "kernelspec": {
   "display_name": "base",
   "language": "python",
   "name": "python3"
  },
  "language_info": {
   "codemirror_mode": {
    "name": "ipython",
    "version": 3
   },
   "file_extension": ".py",
   "mimetype": "text/x-python",
   "name": "python",
   "nbconvert_exporter": "python",
   "pygments_lexer": "ipython3",
   "version": "3.11.9"
  }
 },
 "nbformat": 4,
 "nbformat_minor": 2
}
