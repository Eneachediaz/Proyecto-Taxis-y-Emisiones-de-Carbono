{
 "cells": [
  {
   "cell_type": "markdown",
   "metadata": {},
   "source": [
    "Datos de ruidos de automóviles en Nueva York 2019-2023"
   ]
  },
  {
   "cell_type": "code",
   "execution_count": 46,
   "metadata": {},
   "outputs": [],
   "source": [
    "# Librerías\n",
    "import pandas as pd\n",
    "import numpy as np\n",
    "import os\n",
    "\n",
    "import seaborn as sns\n",
    "import matplotlib as mpl\n",
    "import matplotlib.pyplot as plt\n",
    "\n",
    "# para eliminar warning en python\n",
    "import warnings\n",
    "warnings.simplefilter('ignore')\n",
    "\n",
    "from geopy.geocoders import ArcGIS\n",
    "import folium\n"
   ]
  },
  {
   "cell_type": "code",
   "execution_count": 47,
   "metadata": {},
   "outputs": [],
   "source": [
    "# Assumiendo que el archivo está en la carpeta, 2019\n",
    "# Cambiar al directorio con el archivo\n",
    "file_path_01 = \"C:/Users/56988/Desktop/NYdrive/archivosExtNY/ruido2019autos.csv\"\n",
    "os.chdir(\"C:/Users/56988/Desktop/NYdrive/archivosExtNY/\")"
   ]
  },
  {
   "cell_type": "code",
   "execution_count": 48,
   "metadata": {},
   "outputs": [],
   "source": [
    "# Año 2020\n",
    "file_path_02 = \"C:/Users/56988/Desktop/NYdrive/archivosExtNY/ruido2020autos.csv\"\n",
    "os.chdir(\"C:/Users/56988/Desktop/NYdrive/archivosExtNY/\")"
   ]
  },
  {
   "cell_type": "code",
   "execution_count": 49,
   "metadata": {},
   "outputs": [],
   "source": [
    "# Año 2021\n",
    "file_path_03 = \"C:/Users/56988/Desktop/NYdrive/archivosExtNY/ruido2021autos.csv\"\n",
    "os.chdir(\"C:/Users/56988/Desktop/NYdrive/archivosExtNY/\")"
   ]
  },
  {
   "cell_type": "code",
   "execution_count": 50,
   "metadata": {},
   "outputs": [],
   "source": [
    "# Año 2022\n",
    "file_path_04 = \"C:/Users/56988/Desktop/NYdrive/archivosExtNY/ruido2022autos.csv\"\n",
    "os.chdir(\"C:/Users/56988/Desktop/NYdrive/archivosExtNY/\")"
   ]
  },
  {
   "cell_type": "code",
   "execution_count": 51,
   "metadata": {},
   "outputs": [],
   "source": [
    "# Año 2023\n",
    "file_path_05 = \"C:/Users/56988/Desktop/NYdrive/archivosExtNY/ruido2023autos.csv\"\n",
    "os.chdir(\"C:/Users/56988/Desktop/NYdrive/archivosExtNY/\")"
   ]
  },
  {
   "cell_type": "code",
   "execution_count": 52,
   "metadata": {},
   "outputs": [],
   "source": [
    "# Año 2024\n",
    "file_path_06 = \"C:/Users/56988/Desktop/NYdrive/archivosExtNY/ruido2024autos.csv\"\n",
    "os.chdir(\"C:/Users/56988/Desktop/NYdrive/archivosExtNY/\")"
   ]
  },
  {
   "cell_type": "code",
   "execution_count": 53,
   "metadata": {},
   "outputs": [],
   "source": [
    "# Dataframe ruidos 2019\n",
    "df_ruidos_2019 = pd.read_csv(file_path_01)"
   ]
  },
  {
   "cell_type": "code",
   "execution_count": 54,
   "metadata": {},
   "outputs": [],
   "source": [
    "# Dataframe ruidos 2020\n",
    "df_ruidos_2020 = pd.read_csv(file_path_02)"
   ]
  },
  {
   "cell_type": "code",
   "execution_count": 55,
   "metadata": {},
   "outputs": [],
   "source": [
    "# Dataframe ruidos 2021\n",
    "df_ruidos_2021 = pd.read_csv(file_path_03)"
   ]
  },
  {
   "cell_type": "code",
   "execution_count": 56,
   "metadata": {},
   "outputs": [],
   "source": [
    "# Dataframe ruidos 2022\n",
    "df_ruidos_2022 = pd.read_csv(file_path_04)"
   ]
  },
  {
   "cell_type": "code",
   "execution_count": 57,
   "metadata": {},
   "outputs": [],
   "source": [
    "# Dataframe ruidos 2023\n",
    "df_ruidos_2023 = pd.read_csv(file_path_05)"
   ]
  },
  {
   "cell_type": "code",
   "execution_count": 58,
   "metadata": {},
   "outputs": [],
   "source": [
    "# Dataframe ruidos 2024\n",
    "df_ruidos_2024 = pd.read_csv(file_path_06)"
   ]
  },
  {
   "cell_type": "code",
   "execution_count": 59,
   "metadata": {},
   "outputs": [
    {
     "data": {
      "text/html": [
       "<div>\n",
       "<style scoped>\n",
       "    .dataframe tbody tr th:only-of-type {\n",
       "        vertical-align: middle;\n",
       "    }\n",
       "\n",
       "    .dataframe tbody tr th {\n",
       "        vertical-align: top;\n",
       "    }\n",
       "\n",
       "    .dataframe thead th {\n",
       "        text-align: right;\n",
       "    }\n",
       "</style>\n",
       "<table border=\"1\" class=\"dataframe\">\n",
       "  <thead>\n",
       "    <tr style=\"text-align: right;\">\n",
       "      <th></th>\n",
       "      <th>Unique Key</th>\n",
       "      <th>Created Date</th>\n",
       "      <th>Closed Date</th>\n",
       "      <th>Agency</th>\n",
       "      <th>Agency Name</th>\n",
       "      <th>Complaint Type</th>\n",
       "      <th>Descriptor</th>\n",
       "      <th>Location Type</th>\n",
       "      <th>Incident Zip</th>\n",
       "      <th>Incident Address</th>\n",
       "      <th>...</th>\n",
       "      <th>Road Ramp</th>\n",
       "      <th>Bridge Highway Segment</th>\n",
       "      <th>Latitude</th>\n",
       "      <th>Longitude</th>\n",
       "      <th>Location</th>\n",
       "      <th>fecha</th>\n",
       "      <th>hora</th>\n",
       "      <th>agno</th>\n",
       "      <th>mes</th>\n",
       "      <th>dia</th>\n",
       "    </tr>\n",
       "  </thead>\n",
       "  <tbody>\n",
       "    <tr>\n",
       "      <th>0</th>\n",
       "      <td>39475884</td>\n",
       "      <td>06/15/2018 11:10:24 PM</td>\n",
       "      <td>2019-07-29 12:14:57</td>\n",
       "      <td>NYPD</td>\n",
       "      <td>New York City Police Department</td>\n",
       "      <td>Noise - Vehicle</td>\n",
       "      <td>Car/Truck Music</td>\n",
       "      <td>Street/Sidewalk</td>\n",
       "      <td>NaN</td>\n",
       "      <td>202 STREET</td>\n",
       "      <td>...</td>\n",
       "      <td>NaN</td>\n",
       "      <td>NaN</td>\n",
       "      <td>NaN</td>\n",
       "      <td>NaN</td>\n",
       "      <td>NaN</td>\n",
       "      <td>2019-07-29</td>\n",
       "      <td>12:14:57</td>\n",
       "      <td>2019.0</td>\n",
       "      <td>7.0</td>\n",
       "      <td>29.0</td>\n",
       "    </tr>\n",
       "    <tr>\n",
       "      <th>1</th>\n",
       "      <td>39480713</td>\n",
       "      <td>06/16/2018 11:09:43 PM</td>\n",
       "      <td>2019-07-29 12:14:58</td>\n",
       "      <td>NYPD</td>\n",
       "      <td>New York City Police Department</td>\n",
       "      <td>Noise - Vehicle</td>\n",
       "      <td>Car/Truck Music</td>\n",
       "      <td>Street/Sidewalk</td>\n",
       "      <td>NaN</td>\n",
       "      <td>GUIDER AVENUE</td>\n",
       "      <td>...</td>\n",
       "      <td>NaN</td>\n",
       "      <td>NaN</td>\n",
       "      <td>NaN</td>\n",
       "      <td>NaN</td>\n",
       "      <td>NaN</td>\n",
       "      <td>2019-07-29</td>\n",
       "      <td>12:14:58</td>\n",
       "      <td>2019.0</td>\n",
       "      <td>7.0</td>\n",
       "      <td>29.0</td>\n",
       "    </tr>\n",
       "  </tbody>\n",
       "</table>\n",
       "<p>2 rows × 44 columns</p>\n",
       "</div>"
      ],
      "text/plain": [
       "   Unique Key            Created Date          Closed Date Agency  \\\n",
       "0    39475884  06/15/2018 11:10:24 PM  2019-07-29 12:14:57   NYPD   \n",
       "1    39480713  06/16/2018 11:09:43 PM  2019-07-29 12:14:58   NYPD   \n",
       "\n",
       "                       Agency Name   Complaint Type       Descriptor  \\\n",
       "0  New York City Police Department  Noise - Vehicle  Car/Truck Music   \n",
       "1  New York City Police Department  Noise - Vehicle  Car/Truck Music   \n",
       "\n",
       "     Location Type  Incident Zip Incident Address  ... Road Ramp  \\\n",
       "0  Street/Sidewalk           NaN       202 STREET  ...       NaN   \n",
       "1  Street/Sidewalk           NaN    GUIDER AVENUE  ...       NaN   \n",
       "\n",
       "  Bridge Highway Segment Latitude Longitude Location       fecha      hora  \\\n",
       "0                    NaN      NaN       NaN      NaN  2019-07-29  12:14:57   \n",
       "1                    NaN      NaN       NaN      NaN  2019-07-29  12:14:58   \n",
       "\n",
       "     agno  mes   dia  \n",
       "0  2019.0  7.0  29.0  \n",
       "1  2019.0  7.0  29.0  \n",
       "\n",
       "[2 rows x 44 columns]"
      ]
     },
     "execution_count": 59,
     "metadata": {},
     "output_type": "execute_result"
    }
   ],
   "source": [
    "# Ver dataframe 2019\n",
    "df_ruidos_2019.head(2)"
   ]
  },
  {
   "cell_type": "code",
   "execution_count": 60,
   "metadata": {},
   "outputs": [
    {
     "data": {
      "text/plain": [
       "1295"
      ]
     },
     "execution_count": 60,
     "metadata": {},
     "output_type": "execute_result"
    }
   ],
   "source": [
    "# Cuántos nulos hay en latitud\n",
    "df_ruidos_2019[\"Latitude\"].isnull().sum()"
   ]
  },
  {
   "cell_type": "code",
   "execution_count": 61,
   "metadata": {},
   "outputs": [
    {
     "data": {
      "text/plain": [
       "1295"
      ]
     },
     "execution_count": 61,
     "metadata": {},
     "output_type": "execute_result"
    }
   ],
   "source": [
    "# Cuántos nulos hay en longitud\n",
    "df_ruidos_2019[\"Longitude\"].isnull().sum()"
   ]
  },
  {
   "cell_type": "code",
   "execution_count": 62,
   "metadata": {},
   "outputs": [],
   "source": [
    "# Reemplazar NaN con ceros en las columnas longitud y latitud\n",
    "df_ruidos_2019[[\"Latitude\", \"Longitude\"]] = df_ruidos_2019[[\"Latitude\", \"Longitude\"]].fillna(0)"
   ]
  },
  {
   "cell_type": "code",
   "execution_count": 63,
   "metadata": {},
   "outputs": [
    {
     "name": "stdout",
     "output_type": "stream",
     "text": [
      "<class 'pandas.core.frame.DataFrame'>\n",
      "RangeIndex: 43063 entries, 0 to 43062\n",
      "Data columns (total 44 columns):\n",
      " #   Column                          Non-Null Count  Dtype  \n",
      "---  ------                          --------------  -----  \n",
      " 0   Unique Key                      43063 non-null  int64  \n",
      " 1   Created Date                    43063 non-null  object \n",
      " 2   Closed Date                     43063 non-null  object \n",
      " 3   Agency                          43063 non-null  object \n",
      " 4   Agency Name                     43063 non-null  object \n",
      " 5   Complaint Type                  43063 non-null  object \n",
      " 6   Descriptor                      43063 non-null  object \n",
      " 7   Location Type                   39730 non-null  object \n",
      " 8   Incident Zip                    42987 non-null  float64\n",
      " 9   Incident Address                39410 non-null  object \n",
      " 10  Street Name                     39410 non-null  object \n",
      " 11  Cross Street 1                  39944 non-null  object \n",
      " 12  Cross Street 2                  39871 non-null  object \n",
      " 13  Intersection Street 1           28349 non-null  object \n",
      " 14  Intersection Street 2           28277 non-null  object \n",
      " 15  Address Type                    21471 non-null  object \n",
      " 16  City                            39721 non-null  object \n",
      " 17  Landmark                        18261 non-null  object \n",
      " 18  Facility Type                   17667 non-null  object \n",
      " 19  Status                          43063 non-null  object \n",
      " 20  Due Date                        21546 non-null  object \n",
      " 21  Resolution Description          43062 non-null  object \n",
      " 22  Resolution Action Updated Date  43019 non-null  object \n",
      " 23  Community Board                 43063 non-null  object \n",
      " 24  Borough                         43063 non-null  object \n",
      " 25  X Coordinate (State Plane)      41768 non-null  float64\n",
      " 26  Y Coordinate (State Plane)      41768 non-null  float64\n",
      " 27  Park Facility Name              43063 non-null  object \n",
      " 28  Park Borough                    43063 non-null  object \n",
      " 29  Vehicle Type                    0 non-null      float64\n",
      " 30  Taxi Company Borough            0 non-null      float64\n",
      " 31  Taxi Pick Up Location           0 non-null      float64\n",
      " 32  Bridge Highway Name             0 non-null      float64\n",
      " 33  Bridge Highway Direction        0 non-null      float64\n",
      " 34  Road Ramp                       0 non-null      float64\n",
      " 35  Bridge Highway Segment          0 non-null      float64\n",
      " 36  Latitude                        43063 non-null  float64\n",
      " 37  Longitude                       43063 non-null  float64\n",
      " 38  Location                        41768 non-null  object \n",
      " 39  fecha                           43063 non-null  object \n",
      " 40  hora                            43063 non-null  object \n",
      " 41  agno                            43063 non-null  float64\n",
      " 42  mes                             43063 non-null  float64\n",
      " 43  dia                             43063 non-null  float64\n",
      "dtypes: float64(15), int64(1), object(28)\n",
      "memory usage: 14.5+ MB\n"
     ]
    }
   ],
   "source": [
    "df_ruidos_2019.info()"
   ]
  },
  {
   "cell_type": "code",
   "execution_count": 64,
   "metadata": {},
   "outputs": [],
   "source": [
    "# Convertir la columna de mes y día a tipo int\n",
    "df_ruidos_2019[\"agno\"] = df_ruidos_2019[\"agno\"].astype(int)\n",
    "df_ruidos_2019[\"mes\"] = df_ruidos_2019[\"mes\"].astype(int)\n",
    "df_ruidos_2019[\"dia\"] = df_ruidos_2019[\"dia\"].astype(int)"
   ]
  },
  {
   "cell_type": "code",
   "execution_count": 65,
   "metadata": {},
   "outputs": [],
   "source": [
    "# Pasar a formato datetime\n",
    "df_ruidos_2019.loc[:, \"hora\"] = pd.to_datetime(df_ruidos_2019[\"hora\"])"
   ]
  },
  {
   "cell_type": "code",
   "execution_count": 66,
   "metadata": {},
   "outputs": [],
   "source": [
    "# Crea una nueva columna 'hora_exacta' extrayendo la hora de la columna 'hora'\n",
    "df_ruidos_2019.loc[:, \"hora_exacta\"] = df_ruidos_2019[\"hora\"].apply(lambda x: x.hour)"
   ]
  },
  {
   "cell_type": "code",
   "execution_count": 67,
   "metadata": {},
   "outputs": [
    {
     "data": {
      "text/plain": [
       "array(['Noise - Vehicle'], dtype=object)"
      ]
     },
     "execution_count": 67,
     "metadata": {},
     "output_type": "execute_result"
    }
   ],
   "source": [
    "# Escoger tipo de conflicto: ruidos de automóviles\n",
    "df_ruidos_2019[\"Complaint Type\"].unique()"
   ]
  },
  {
   "cell_type": "code",
   "execution_count": 68,
   "metadata": {},
   "outputs": [],
   "source": [
    "# Agrupar por mes y conflicto\n",
    "grouped_data_mes = df_ruidos_2019.groupby(\"Complaint Type\")[\"mes\"].sum()"
   ]
  },
  {
   "cell_type": "code",
   "execution_count": 69,
   "metadata": {},
   "outputs": [],
   "source": [
    "# Agrupar por dia y conflicto\n",
    "grouped_data_dia = df_ruidos_2019.groupby(\"Complaint Type\")[\"dia\"].sum()"
   ]
  },
  {
   "cell_type": "code",
   "execution_count": 70,
   "metadata": {},
   "outputs": [],
   "source": [
    "grouped_data_hora_ex = df_ruidos_2019.groupby(\"Complaint Type\")[\"hora_exacta\"].sum()"
   ]
  },
  {
   "cell_type": "code",
   "execution_count": 71,
   "metadata": {},
   "outputs": [
    {
     "data": {
      "image/png": "[encoded data removed]",
      "text/plain": [
       "<Figure size 1000x600 with 1 Axes>"
      ]
     },
     "metadata": {},
     "output_type": "display_data"
    }
   ],
   "source": [
    "# Agrupa por hora del día\n",
    "grouped_data = df_ruidos_2019.groupby([\"hora_exacta\", \"Complaint Type\"]).size().unstack()\n",
    "\n",
    "# Crea un gráfico de barras\n",
    "grouped_data.plot(kind='bar', figsize=(10, 6))\n",
    "plt.xlabel(\"Hora del día\")\n",
    "plt.ylabel(\"Número de Conflictos\")\n",
    "plt.title(\"Conflictos de tipo ruidos de autos por hora de día, 2019\")\n",
    "plt.legend(title=\"Tipo de Queja\")\n",
    "plt.show()"
   ]
  },
  {
   "cell_type": "code",
   "execution_count": 72,
   "metadata": {},
   "outputs": [],
   "source": [
    "# Mapa de ubicación de conflictos:\n",
    "nom = ArcGIS()"
   ]
  },
  {
   "cell_type": "code",
   "execution_count": 73,
   "metadata": {},
   "outputs": [],
   "source": [
    "# Código geoubicación de Nueva York\n",
    "NY = nom.geocode(\"New York\")"
   ]
  },
  {
   "cell_type": "code",
   "execution_count": 74,
   "metadata": {},
   "outputs": [
    {
     "data": {
      "text/plain": [
       "40.7130466"
      ]
     },
     "execution_count": 74,
     "metadata": {},
     "output_type": "execute_result"
    }
   ],
   "source": [
    "NY.latitude"
   ]
  },
  {
   "cell_type": "code",
   "execution_count": 75,
   "metadata": {},
   "outputs": [
    {
     "data": {
      "text/plain": [
       "-74.0072301"
      ]
     },
     "execution_count": 75,
     "metadata": {},
     "output_type": "execute_result"
    }
   ],
   "source": [
    "NY.longitude"
   ]
  },
  {
   "cell_type": "code",
   "execution_count": 76,
   "metadata": {},
   "outputs": [],
   "source": [
    "# Mapa en folium, se ve NY\n",
    "map = folium.Map(location = [40.7130466, -74.0072301], zoom_start = 20)"
   ]
  },
  {
   "cell_type": "code",
   "execution_count": 77,
   "metadata": {},
   "outputs": [],
   "source": [
    "# Agregar los datos:\n",
    "for index, row in df_ruidos_2019.iterrows():\n",
    "    folium.Marker(location=[row[\"Latitude\"], row[\"Longitude\"]], popup=\"Ubicación\").add_to(map)"
   ]
  },
  {
   "cell_type": "code",
   "execution_count": 78,
   "metadata": {},
   "outputs": [],
   "source": [
    "# Guardar el mapa como un archivo HTML   58 seg      No logré el mapa buhhh\n",
    "# map.save(\"mi_mapa.html\")"
   ]
  },
  {
   "cell_type": "code",
   "execution_count": 79,
   "metadata": {},
   "outputs": [],
   "source": [
    "# Guardar df de ruidos 2019\n",
    "# df_ruidos_2019.to_csv(\"df_ruidos_2019.csv\")"
   ]
  },
  {
   "cell_type": "code",
   "execution_count": 80,
   "metadata": {},
   "outputs": [
    {
     "data": {
      "text/html": [
       "<div>\n",
       "<style scoped>\n",
       "    .dataframe tbody tr th:only-of-type {\n",
       "        vertical-align: middle;\n",
       "    }\n",
       "\n",
       "    .dataframe tbody tr th {\n",
       "        vertical-align: top;\n",
       "    }\n",
       "\n",
       "    .dataframe thead th {\n",
       "        text-align: right;\n",
       "    }\n",
       "</style>\n",
       "<table border=\"1\" class=\"dataframe\">\n",
       "  <thead>\n",
       "    <tr style=\"text-align: right;\">\n",
       "      <th></th>\n",
       "      <th>Unique Key</th>\n",
       "      <th>Created Date</th>\n",
       "      <th>Closed Date</th>\n",
       "      <th>Agency</th>\n",
       "      <th>Agency Name</th>\n",
       "      <th>Complaint Type</th>\n",
       "      <th>Descriptor</th>\n",
       "      <th>Location Type</th>\n",
       "      <th>Incident Zip</th>\n",
       "      <th>Incident Address</th>\n",
       "      <th>...</th>\n",
       "      <th>Road Ramp</th>\n",
       "      <th>Bridge Highway Segment</th>\n",
       "      <th>Latitude</th>\n",
       "      <th>Longitude</th>\n",
       "      <th>Location</th>\n",
       "      <th>fecha</th>\n",
       "      <th>hora</th>\n",
       "      <th>agno</th>\n",
       "      <th>mes</th>\n",
       "      <th>dia</th>\n",
       "    </tr>\n",
       "  </thead>\n",
       "  <tbody>\n",
       "    <tr>\n",
       "      <th>0</th>\n",
       "      <td>56288552</td>\n",
       "      <td>12/19/2022 01:36:33 AM</td>\n",
       "      <td>2023-05-05 11:40:14</td>\n",
       "      <td>NYPD</td>\n",
       "      <td>New York City Police Department</td>\n",
       "      <td>Noise - Vehicle</td>\n",
       "      <td>Car/Truck Music</td>\n",
       "      <td>Street/Sidewalk</td>\n",
       "      <td>11225.0</td>\n",
       "      <td>2116 BEEKMAN PLACE</td>\n",
       "      <td>...</td>\n",
       "      <td>NaN</td>\n",
       "      <td>NaN</td>\n",
       "      <td>40.660007</td>\n",
       "      <td>-73.960872</td>\n",
       "      <td>(40.66000659902708, -73.96087182826301)</td>\n",
       "      <td>2023-05-05</td>\n",
       "      <td>11:40:14</td>\n",
       "      <td>2023.0</td>\n",
       "      <td>5.0</td>\n",
       "      <td>5.0</td>\n",
       "    </tr>\n",
       "    <tr>\n",
       "      <th>1</th>\n",
       "      <td>56412499</td>\n",
       "      <td>01/01/2023 07:51:18 PM</td>\n",
       "      <td>2023-01-01 20:19:51</td>\n",
       "      <td>NYPD</td>\n",
       "      <td>New York City Police Department</td>\n",
       "      <td>Noise - Vehicle</td>\n",
       "      <td>Engine Idling</td>\n",
       "      <td>Street/Sidewalk</td>\n",
       "      <td>11420.0</td>\n",
       "      <td>124-15 OLD SOUTH ROAD</td>\n",
       "      <td>...</td>\n",
       "      <td>NaN</td>\n",
       "      <td>NaN</td>\n",
       "      <td>40.664786</td>\n",
       "      <td>-73.816622</td>\n",
       "      <td>(40.66478573741414, -73.81662208738771)</td>\n",
       "      <td>2023-01-01</td>\n",
       "      <td>20:19:51</td>\n",
       "      <td>2023.0</td>\n",
       "      <td>1.0</td>\n",
       "      <td>1.0</td>\n",
       "    </tr>\n",
       "  </tbody>\n",
       "</table>\n",
       "<p>2 rows × 44 columns</p>\n",
       "</div>"
      ],
      "text/plain": [
       "   Unique Key            Created Date          Closed Date Agency  \\\n",
       "0    56288552  12/19/2022 01:36:33 AM  2023-05-05 11:40:14   NYPD   \n",
       "1    56412499  01/01/2023 07:51:18 PM  2023-01-01 20:19:51   NYPD   \n",
       "\n",
       "                       Agency Name   Complaint Type       Descriptor  \\\n",
       "0  New York City Police Department  Noise - Vehicle  Car/Truck Music   \n",
       "1  New York City Police Department  Noise - Vehicle    Engine Idling   \n",
       "\n",
       "     Location Type  Incident Zip       Incident Address  ... Road Ramp  \\\n",
       "0  Street/Sidewalk       11225.0     2116 BEEKMAN PLACE  ...       NaN   \n",
       "1  Street/Sidewalk       11420.0  124-15 OLD SOUTH ROAD  ...       NaN   \n",
       "\n",
       "  Bridge Highway Segment   Latitude  Longitude  \\\n",
       "0                    NaN  40.660007 -73.960872   \n",
       "1                    NaN  40.664786 -73.816622   \n",
       "\n",
       "                                  Location       fecha      hora    agno  mes  \\\n",
       "0  (40.66000659902708, -73.96087182826301)  2023-05-05  11:40:14  2023.0  5.0   \n",
       "1  (40.66478573741414, -73.81662208738771)  2023-01-01  20:19:51  2023.0  1.0   \n",
       "\n",
       "   dia  \n",
       "0  5.0  \n",
       "1  1.0  \n",
       "\n",
       "[2 rows x 44 columns]"
      ]
     },
     "execution_count": 80,
     "metadata": {},
     "output_type": "execute_result"
    }
   ],
   "source": [
    "# Dataframe ruidos 2023\n",
    "df_ruidos_2023.head(2)"
   ]
  },
  {
   "cell_type": "code",
   "execution_count": 81,
   "metadata": {},
   "outputs": [],
   "source": [
    "# Convertir la columna de mes y día a tipo int\n",
    "df_ruidos_2023[\"agno\"] = df_ruidos_2023[\"agno\"].astype(int)\n",
    "df_ruidos_2023[\"mes\"] = df_ruidos_2023[\"mes\"].astype(int)\n",
    "df_ruidos_2023[\"dia\"] = df_ruidos_2023[\"dia\"].astype(int)"
   ]
  },
  {
   "cell_type": "code",
   "execution_count": 82,
   "metadata": {},
   "outputs": [],
   "source": [
    "# Pasar a formato datetime\n",
    "df_ruidos_2023.loc[:, \"hora\"] = pd.to_datetime(df_ruidos_2023[\"hora\"])"
   ]
  },
  {
   "cell_type": "code",
   "execution_count": 83,
   "metadata": {},
   "outputs": [],
   "source": [
    "# Crea una nueva columna 'hora_exacta' extrayendo la hora de la columna 'hora'\n",
    "df_ruidos_2023.loc[:, \"hora_exacta\"] = df_ruidos_2023[\"hora\"].apply(lambda x: x.hour)"
   ]
  },
  {
   "cell_type": "code",
   "execution_count": 84,
   "metadata": {},
   "outputs": [
    {
     "data": {
      "text/html": [
       "<div>\n",
       "<style scoped>\n",
       "    .dataframe tbody tr th:only-of-type {\n",
       "        vertical-align: middle;\n",
       "    }\n",
       "\n",
       "    .dataframe tbody tr th {\n",
       "        vertical-align: top;\n",
       "    }\n",
       "\n",
       "    .dataframe thead th {\n",
       "        text-align: right;\n",
       "    }\n",
       "</style>\n",
       "<table border=\"1\" class=\"dataframe\">\n",
       "  <thead>\n",
       "    <tr style=\"text-align: right;\">\n",
       "      <th></th>\n",
       "      <th>Unique Key</th>\n",
       "      <th>Created Date</th>\n",
       "      <th>Closed Date</th>\n",
       "      <th>Agency</th>\n",
       "      <th>Agency Name</th>\n",
       "      <th>Complaint Type</th>\n",
       "      <th>Descriptor</th>\n",
       "      <th>Location Type</th>\n",
       "      <th>Incident Zip</th>\n",
       "      <th>Incident Address</th>\n",
       "      <th>...</th>\n",
       "      <th>Bridge Highway Segment</th>\n",
       "      <th>Latitude</th>\n",
       "      <th>Longitude</th>\n",
       "      <th>Location</th>\n",
       "      <th>fecha</th>\n",
       "      <th>hora</th>\n",
       "      <th>agno</th>\n",
       "      <th>mes</th>\n",
       "      <th>dia</th>\n",
       "      <th>hora_exacta</th>\n",
       "    </tr>\n",
       "  </thead>\n",
       "  <tbody>\n",
       "    <tr>\n",
       "      <th>0</th>\n",
       "      <td>56288552</td>\n",
       "      <td>12/19/2022 01:36:33 AM</td>\n",
       "      <td>2023-05-05 11:40:14</td>\n",
       "      <td>NYPD</td>\n",
       "      <td>New York City Police Department</td>\n",
       "      <td>Noise - Vehicle</td>\n",
       "      <td>Car/Truck Music</td>\n",
       "      <td>Street/Sidewalk</td>\n",
       "      <td>11225.0</td>\n",
       "      <td>2116 BEEKMAN PLACE</td>\n",
       "      <td>...</td>\n",
       "      <td>NaN</td>\n",
       "      <td>40.660007</td>\n",
       "      <td>-73.960872</td>\n",
       "      <td>(40.66000659902708, -73.96087182826301)</td>\n",
       "      <td>2023-05-05</td>\n",
       "      <td>2024-07-02 11:40:14</td>\n",
       "      <td>2023</td>\n",
       "      <td>5</td>\n",
       "      <td>5</td>\n",
       "      <td>11</td>\n",
       "    </tr>\n",
       "    <tr>\n",
       "      <th>1</th>\n",
       "      <td>56412499</td>\n",
       "      <td>01/01/2023 07:51:18 PM</td>\n",
       "      <td>2023-01-01 20:19:51</td>\n",
       "      <td>NYPD</td>\n",
       "      <td>New York City Police Department</td>\n",
       "      <td>Noise - Vehicle</td>\n",
       "      <td>Engine Idling</td>\n",
       "      <td>Street/Sidewalk</td>\n",
       "      <td>11420.0</td>\n",
       "      <td>124-15 OLD SOUTH ROAD</td>\n",
       "      <td>...</td>\n",
       "      <td>NaN</td>\n",
       "      <td>40.664786</td>\n",
       "      <td>-73.816622</td>\n",
       "      <td>(40.66478573741414, -73.81662208738771)</td>\n",
       "      <td>2023-01-01</td>\n",
       "      <td>2024-07-02 20:19:51</td>\n",
       "      <td>2023</td>\n",
       "      <td>1</td>\n",
       "      <td>1</td>\n",
       "      <td>20</td>\n",
       "    </tr>\n",
       "  </tbody>\n",
       "</table>\n",
       "<p>2 rows × 45 columns</p>\n",
       "</div>"
      ],
      "text/plain": [
       "   Unique Key            Created Date          Closed Date Agency  \\\n",
       "0    56288552  12/19/2022 01:36:33 AM  2023-05-05 11:40:14   NYPD   \n",
       "1    56412499  01/01/2023 07:51:18 PM  2023-01-01 20:19:51   NYPD   \n",
       "\n",
       "                       Agency Name   Complaint Type       Descriptor  \\\n",
       "0  New York City Police Department  Noise - Vehicle  Car/Truck Music   \n",
       "1  New York City Police Department  Noise - Vehicle    Engine Idling   \n",
       "\n",
       "     Location Type  Incident Zip       Incident Address  ...  \\\n",
       "0  Street/Sidewalk       11225.0     2116 BEEKMAN PLACE  ...   \n",
       "1  Street/Sidewalk       11420.0  124-15 OLD SOUTH ROAD  ...   \n",
       "\n",
       "  Bridge Highway Segment   Latitude  Longitude  \\\n",
       "0                    NaN  40.660007 -73.960872   \n",
       "1                    NaN  40.664786 -73.816622   \n",
       "\n",
       "                                  Location       fecha                 hora  \\\n",
       "0  (40.66000659902708, -73.96087182826301)  2023-05-05  2024-07-02 11:40:14   \n",
       "1  (40.66478573741414, -73.81662208738771)  2023-01-01  2024-07-02 20:19:51   \n",
       "\n",
       "   agno mes  dia hora_exacta  \n",
       "0  2023   5    5          11  \n",
       "1  2023   1    1          20  \n",
       "\n",
       "[2 rows x 45 columns]"
      ]
     },
     "execution_count": 84,
     "metadata": {},
     "output_type": "execute_result"
    }
   ],
   "source": [
    "df_ruidos_2023.head(2)"
   ]
  },
  {
   "cell_type": "code",
   "execution_count": 85,
   "metadata": {},
   "outputs": [],
   "source": [
    "# Guardar df de ruidos 2024\n",
    "#df_ruidos_2023.to_csv(\"df_ruidos_2023.csv\")"
   ]
  }
 ],
 "metadata": {
  "kernelspec": {
   "display_name": "base",
   "language": "python",
   "name": "python3"
  },
  "language_info": {
   "codemirror_mode": {
    "name": "ipython",
    "version": 3
   },
   "file_extension": ".py",
   "mimetype": "text/x-python",
   "name": "python",
   "nbconvert_exporter": "python",
   "pygments_lexer": "ipython3",
   "version": "3.11.9"
  }
 },
 "nbformat": 4,
 "nbformat_minor": 2
}
