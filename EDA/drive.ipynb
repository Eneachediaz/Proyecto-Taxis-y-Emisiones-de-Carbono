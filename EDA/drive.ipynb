{
 "cells": [
  {
   "cell_type": "markdown",
   "metadata": {},
   "source": [
    "**Datasets extraídos desde la página web**\n",
    "- Fuente data de viajes: https://www.nyc.gov/site/tlc/about/tlc-trip-record-data.page"
   ]
  },
  {
   "cell_type": "markdown",
   "metadata": {},
   "source": [
    "Abriendo un archivo de Taxi \"amarillos\" 2024 ENERO:"
   ]
  },
  {
   "cell_type": "code",
   "execution_count": 323,
   "metadata": {},
   "outputs": [],
   "source": [
    "# Librerías\n",
    "import pandas as pd\n",
    "import numpy as np\n",
    "\n",
    "import pyarrow.parquet as pq \n",
    "import os\n",
    "from pandas import DataFrame\n",
    "from dbfread import DBF\n",
    "\n",
    "import folium\n",
    "from folium.plugins import MarkerCluster\n",
    "import webbrowser\n",
    "\n",
    "import seaborn as sns\n",
    "import matplotlib as mpl\n",
    "import plotly.express as px\n",
    "\n",
    "import matplotlib.pyplot as plt\n",
    "\n",
    "# para eliminar warning en python\n",
    "import warnings\n",
    "warnings.simplefilter('ignore')\n"
   ]
  },
  {
   "cell_type": "code",
   "execution_count": 324,
   "metadata": {},
   "outputs": [],
   "source": [
    "# Assumiendo que el archivo está en la carpeta\n",
    "# Cambiar al directorio con el archivo\n",
    "file_path = \"C:/Users/56988/Desktop/NYdrive/yellow_tripdata_2024-01.parquet\"\n",
    "os.chdir(\"C:/Users/56988/Desktop/NYdrive/\")"
   ]
  },
  {
   "cell_type": "code",
   "execution_count": 325,
   "metadata": {},
   "outputs": [],
   "source": [
    "# Dataframe Taxis amarillos\n",
    "df_amarillos = pd.read_parquet(file_path)"
   ]
  },
  {
   "cell_type": "code",
   "execution_count": 326,
   "metadata": {},
   "outputs": [
    {
     "name": "stdout",
     "output_type": "stream",
     "text": [
      "<class 'pandas.core.frame.DataFrame'>\n",
      "RangeIndex: 2964624 entries, 0 to 2964623\n",
      "Data columns (total 19 columns):\n",
      " #   Column                 Dtype         \n",
      "---  ------                 -----         \n",
      " 0   VendorID               int32         \n",
      " 1   tpep_pickup_datetime   datetime64[us]\n",
      " 2   tpep_dropoff_datetime  datetime64[us]\n",
      " 3   passenger_count        float64       \n",
      " 4   trip_distance          float64       \n",
      " 5   RatecodeID             float64       \n",
      " 6   store_and_fwd_flag     object        \n",
      " 7   PULocationID           int32         \n",
      " 8   DOLocationID           int32         \n",
      " 9   payment_type           int64         \n",
      " 10  fare_amount            float64       \n",
      " 11  extra                  float64       \n",
      " 12  mta_tax                float64       \n",
      " 13  tip_amount             float64       \n",
      " 14  tolls_amount           float64       \n",
      " 15  improvement_surcharge  float64       \n",
      " 16  total_amount           float64       \n",
      " 17  congestion_surcharge   float64       \n",
      " 18  Airport_fee            float64       \n",
      "dtypes: datetime64[us](2), float64(12), int32(3), int64(1), object(1)\n",
      "memory usage: 395.8+ MB\n"
     ]
    }
   ],
   "source": [
    "# Dataframe de 2 964 624 registros por 19 columnas\n",
    "df_amarillos.info()"
   ]
  },
  {
   "cell_type": "code",
   "execution_count": 327,
   "metadata": {},
   "outputs": [
    {
     "data": {
      "text/html": [
       "<div>\n",
       "<style scoped>\n",
       "    .dataframe tbody tr th:only-of-type {\n",
       "        vertical-align: middle;\n",
       "    }\n",
       "\n",
       "    .dataframe tbody tr th {\n",
       "        vertical-align: top;\n",
       "    }\n",
       "\n",
       "    .dataframe thead th {\n",
       "        text-align: right;\n",
       "    }\n",
       "</style>\n",
       "<table border=\"1\" class=\"dataframe\">\n",
       "  <thead>\n",
       "    <tr style=\"text-align: right;\">\n",
       "      <th></th>\n",
       "      <th>VendorID</th>\n",
       "      <th>tpep_pickup_datetime</th>\n",
       "      <th>tpep_dropoff_datetime</th>\n",
       "      <th>passenger_count</th>\n",
       "      <th>trip_distance</th>\n",
       "      <th>RatecodeID</th>\n",
       "      <th>store_and_fwd_flag</th>\n",
       "      <th>PULocationID</th>\n",
       "      <th>DOLocationID</th>\n",
       "      <th>payment_type</th>\n",
       "      <th>fare_amount</th>\n",
       "      <th>extra</th>\n",
       "      <th>mta_tax</th>\n",
       "      <th>tip_amount</th>\n",
       "      <th>tolls_amount</th>\n",
       "      <th>improvement_surcharge</th>\n",
       "      <th>total_amount</th>\n",
       "      <th>congestion_surcharge</th>\n",
       "      <th>Airport_fee</th>\n",
       "    </tr>\n",
       "  </thead>\n",
       "  <tbody>\n",
       "    <tr>\n",
       "      <th>2964622</th>\n",
       "      <td>2</td>\n",
       "      <td>2024-01-31 23:07:23</td>\n",
       "      <td>2024-01-31 23:25:14</td>\n",
       "      <td>NaN</td>\n",
       "      <td>3.06</td>\n",
       "      <td>NaN</td>\n",
       "      <td>None</td>\n",
       "      <td>107</td>\n",
       "      <td>13</td>\n",
       "      <td>0</td>\n",
       "      <td>23.88</td>\n",
       "      <td>0.00</td>\n",
       "      <td>0.5</td>\n",
       "      <td>5.58</td>\n",
       "      <td>0.00</td>\n",
       "      <td>1.0</td>\n",
       "      <td>33.46</td>\n",
       "      <td>NaN</td>\n",
       "      <td>NaN</td>\n",
       "    </tr>\n",
       "    <tr>\n",
       "      <th>2964623</th>\n",
       "      <td>1</td>\n",
       "      <td>2024-01-31 23:58:25</td>\n",
       "      <td>2024-02-01 00:13:30</td>\n",
       "      <td>NaN</td>\n",
       "      <td>8.10</td>\n",
       "      <td>NaN</td>\n",
       "      <td>None</td>\n",
       "      <td>138</td>\n",
       "      <td>75</td>\n",
       "      <td>0</td>\n",
       "      <td>32.40</td>\n",
       "      <td>7.75</td>\n",
       "      <td>0.5</td>\n",
       "      <td>7.29</td>\n",
       "      <td>6.94</td>\n",
       "      <td>1.0</td>\n",
       "      <td>55.88</td>\n",
       "      <td>NaN</td>\n",
       "      <td>NaN</td>\n",
       "    </tr>\n",
       "  </tbody>\n",
       "</table>\n",
       "</div>"
      ],
      "text/plain": [
       "         VendorID tpep_pickup_datetime tpep_dropoff_datetime  passenger_count  \\\n",
       "2964622         2  2024-01-31 23:07:23   2024-01-31 23:25:14              NaN   \n",
       "2964623         1  2024-01-31 23:58:25   2024-02-01 00:13:30              NaN   \n",
       "\n",
       "         trip_distance  RatecodeID store_and_fwd_flag  PULocationID  \\\n",
       "2964622           3.06         NaN               None           107   \n",
       "2964623           8.10         NaN               None           138   \n",
       "\n",
       "         DOLocationID  payment_type  fare_amount  extra  mta_tax  tip_amount  \\\n",
       "2964622            13             0        23.88   0.00      0.5        5.58   \n",
       "2964623            75             0        32.40   7.75      0.5        7.29   \n",
       "\n",
       "         tolls_amount  improvement_surcharge  total_amount  \\\n",
       "2964622          0.00                    1.0         33.46   \n",
       "2964623          6.94                    1.0         55.88   \n",
       "\n",
       "         congestion_surcharge  Airport_fee  \n",
       "2964622                   NaN          NaN  \n",
       "2964623                   NaN          NaN  "
      ]
     },
     "execution_count": 327,
     "metadata": {},
     "output_type": "execute_result"
    }
   ],
   "source": [
    "df_amarillos.tail(2)"
   ]
  },
  {
   "cell_type": "code",
   "execution_count": 328,
   "metadata": {},
   "outputs": [],
   "source": [
    "# Cantidad de valores nulos en cada columna\n",
    "null_counts = df_amarillos.isnull().sum()"
   ]
  },
  {
   "cell_type": "code",
   "execution_count": 329,
   "metadata": {},
   "outputs": [
    {
     "data": {
      "text/plain": [
       "VendorID                      0\n",
       "tpep_pickup_datetime          0\n",
       "tpep_dropoff_datetime         0\n",
       "passenger_count          140162\n",
       "trip_distance                 0\n",
       "RatecodeID               140162\n",
       "store_and_fwd_flag       140162\n",
       "PULocationID                  0\n",
       "DOLocationID                  0\n",
       "payment_type                  0\n",
       "fare_amount                   0\n",
       "extra                         0\n",
       "mta_tax                       0\n",
       "tip_amount                    0\n",
       "tolls_amount                  0\n",
       "improvement_surcharge         0\n",
       "total_amount                  0\n",
       "congestion_surcharge     140162\n",
       "Airport_fee              140162\n",
       "dtype: int64"
      ]
     },
     "execution_count": 329,
     "metadata": {},
     "output_type": "execute_result"
    }
   ],
   "source": [
    "null_counts"
   ]
  },
  {
   "cell_type": "markdown",
   "metadata": {},
   "source": [
    "**Archivo Taxis \"verdes\", ENERO, 2024:"
   ]
  },
  {
   "cell_type": "markdown",
   "metadata": {},
   "source": [
    "En Nueva York, la principal diferencia entre los taxis amarillos y los verdes es la zona en la que pueden operar. Los taxis amarillos pueden recoger pasajeros en cualquier lugar de la ciudad, mientras que los taxis verdes, también conocidos como Boro Cabs, están limitados a recoger pasajeros principalmente fuera de Manhattan y no pueden hacerlo por debajo de la calle East 96th o West 110th ni en los aeropuertos."
   ]
  },
  {
   "cell_type": "code",
   "execution_count": 330,
   "metadata": {},
   "outputs": [],
   "source": [
    "# Assumiendo que el archivo está en la carpeta\n",
    "# Cambiar al directorio con el archivo\n",
    "file_path = \"C:/Users/56988/Desktop/NYdrive/green_tripdata_2024-01.parquet\"\n",
    "os.chdir(\"C:/Users/56988/Desktop/NYdrive/\")"
   ]
  },
  {
   "cell_type": "code",
   "execution_count": 331,
   "metadata": {},
   "outputs": [],
   "source": [
    "# Dataframe Taxis verdes\n",
    "df_verdes = pd.read_parquet(file_path)"
   ]
  },
  {
   "cell_type": "code",
   "execution_count": 332,
   "metadata": {},
   "outputs": [
    {
     "data": {
      "text/html": [
       "<div>\n",
       "<style scoped>\n",
       "    .dataframe tbody tr th:only-of-type {\n",
       "        vertical-align: middle;\n",
       "    }\n",
       "\n",
       "    .dataframe tbody tr th {\n",
       "        vertical-align: top;\n",
       "    }\n",
       "\n",
       "    .dataframe thead th {\n",
       "        text-align: right;\n",
       "    }\n",
       "</style>\n",
       "<table border=\"1\" class=\"dataframe\">\n",
       "  <thead>\n",
       "    <tr style=\"text-align: right;\">\n",
       "      <th></th>\n",
       "      <th>VendorID</th>\n",
       "      <th>lpep_pickup_datetime</th>\n",
       "      <th>lpep_dropoff_datetime</th>\n",
       "      <th>store_and_fwd_flag</th>\n",
       "      <th>RatecodeID</th>\n",
       "      <th>PULocationID</th>\n",
       "      <th>DOLocationID</th>\n",
       "      <th>passenger_count</th>\n",
       "      <th>trip_distance</th>\n",
       "      <th>fare_amount</th>\n",
       "      <th>extra</th>\n",
       "      <th>mta_tax</th>\n",
       "      <th>tip_amount</th>\n",
       "      <th>tolls_amount</th>\n",
       "      <th>ehail_fee</th>\n",
       "      <th>improvement_surcharge</th>\n",
       "      <th>total_amount</th>\n",
       "      <th>payment_type</th>\n",
       "      <th>trip_type</th>\n",
       "      <th>congestion_surcharge</th>\n",
       "    </tr>\n",
       "  </thead>\n",
       "  <tbody>\n",
       "    <tr>\n",
       "      <th>0</th>\n",
       "      <td>2</td>\n",
       "      <td>2024-01-01 00:46:55</td>\n",
       "      <td>2024-01-01 00:58:25</td>\n",
       "      <td>N</td>\n",
       "      <td>1.0</td>\n",
       "      <td>236</td>\n",
       "      <td>239</td>\n",
       "      <td>1.0</td>\n",
       "      <td>1.98</td>\n",
       "      <td>12.8</td>\n",
       "      <td>1.0</td>\n",
       "      <td>0.5</td>\n",
       "      <td>3.61</td>\n",
       "      <td>0.0</td>\n",
       "      <td>NaN</td>\n",
       "      <td>1.0</td>\n",
       "      <td>21.66</td>\n",
       "      <td>1.0</td>\n",
       "      <td>1.0</td>\n",
       "      <td>2.75</td>\n",
       "    </tr>\n",
       "    <tr>\n",
       "      <th>1</th>\n",
       "      <td>2</td>\n",
       "      <td>2024-01-01 00:31:42</td>\n",
       "      <td>2024-01-01 00:52:34</td>\n",
       "      <td>N</td>\n",
       "      <td>1.0</td>\n",
       "      <td>65</td>\n",
       "      <td>170</td>\n",
       "      <td>5.0</td>\n",
       "      <td>6.54</td>\n",
       "      <td>30.3</td>\n",
       "      <td>1.0</td>\n",
       "      <td>0.5</td>\n",
       "      <td>7.11</td>\n",
       "      <td>0.0</td>\n",
       "      <td>NaN</td>\n",
       "      <td>1.0</td>\n",
       "      <td>42.66</td>\n",
       "      <td>1.0</td>\n",
       "      <td>1.0</td>\n",
       "      <td>2.75</td>\n",
       "    </tr>\n",
       "  </tbody>\n",
       "</table>\n",
       "</div>"
      ],
      "text/plain": [
       "   VendorID lpep_pickup_datetime lpep_dropoff_datetime store_and_fwd_flag  \\\n",
       "0         2  2024-01-01 00:46:55   2024-01-01 00:58:25                  N   \n",
       "1         2  2024-01-01 00:31:42   2024-01-01 00:52:34                  N   \n",
       "\n",
       "   RatecodeID  PULocationID  DOLocationID  passenger_count  trip_distance  \\\n",
       "0         1.0           236           239              1.0           1.98   \n",
       "1         1.0            65           170              5.0           6.54   \n",
       "\n",
       "   fare_amount  extra  mta_tax  tip_amount  tolls_amount  ehail_fee  \\\n",
       "0         12.8    1.0      0.5        3.61           0.0        NaN   \n",
       "1         30.3    1.0      0.5        7.11           0.0        NaN   \n",
       "\n",
       "   improvement_surcharge  total_amount  payment_type  trip_type  \\\n",
       "0                    1.0         21.66           1.0        1.0   \n",
       "1                    1.0         42.66           1.0        1.0   \n",
       "\n",
       "   congestion_surcharge  \n",
       "0                  2.75  \n",
       "1                  2.75  "
      ]
     },
     "execution_count": 332,
     "metadata": {},
     "output_type": "execute_result"
    }
   ],
   "source": [
    "df_verdes.head(2)"
   ]
  },
  {
   "cell_type": "code",
   "execution_count": 333,
   "metadata": {},
   "outputs": [
    {
     "name": "stdout",
     "output_type": "stream",
     "text": [
      "<class 'pandas.core.frame.DataFrame'>\n",
      "RangeIndex: 56551 entries, 0 to 56550\n",
      "Data columns (total 20 columns):\n",
      " #   Column                 Non-Null Count  Dtype         \n",
      "---  ------                 --------------  -----         \n",
      " 0   VendorID               56551 non-null  int32         \n",
      " 1   lpep_pickup_datetime   56551 non-null  datetime64[us]\n",
      " 2   lpep_dropoff_datetime  56551 non-null  datetime64[us]\n",
      " 3   store_and_fwd_flag     53136 non-null  object        \n",
      " 4   RatecodeID             53136 non-null  float64       \n",
      " 5   PULocationID           56551 non-null  int32         \n",
      " 6   DOLocationID           56551 non-null  int32         \n",
      " 7   passenger_count        53136 non-null  float64       \n",
      " 8   trip_distance          56551 non-null  float64       \n",
      " 9   fare_amount            56551 non-null  float64       \n",
      " 10  extra                  56551 non-null  float64       \n",
      " 11  mta_tax                56551 non-null  float64       \n",
      " 12  tip_amount             56551 non-null  float64       \n",
      " 13  tolls_amount           56551 non-null  float64       \n",
      " 14  ehail_fee              0 non-null      float64       \n",
      " 15  improvement_surcharge  56551 non-null  float64       \n",
      " 16  total_amount           56551 non-null  float64       \n",
      " 17  payment_type           53136 non-null  float64       \n",
      " 18  trip_type              53133 non-null  float64       \n",
      " 19  congestion_surcharge   53136 non-null  float64       \n",
      "dtypes: datetime64[us](2), float64(14), int32(3), object(1)\n",
      "memory usage: 8.0+ MB\n"
     ]
    }
   ],
   "source": [
    "# 56 551 registros con 20 columnas\n",
    "df_verdes.info()"
   ]
  },
  {
   "cell_type": "code",
   "execution_count": 334,
   "metadata": {},
   "outputs": [],
   "source": [
    "# Cantidad de valores nulos en cada columna\n",
    "null_counts_verd = df_verdes.isnull().sum()"
   ]
  },
  {
   "cell_type": "code",
   "execution_count": 335,
   "metadata": {},
   "outputs": [
    {
     "data": {
      "text/plain": [
       "VendorID                     0\n",
       "lpep_pickup_datetime         0\n",
       "lpep_dropoff_datetime        0\n",
       "store_and_fwd_flag        3415\n",
       "RatecodeID                3415\n",
       "PULocationID                 0\n",
       "DOLocationID                 0\n",
       "passenger_count           3415\n",
       "trip_distance                0\n",
       "fare_amount                  0\n",
       "extra                        0\n",
       "mta_tax                      0\n",
       "tip_amount                   0\n",
       "tolls_amount                 0\n",
       "ehail_fee                56551\n",
       "improvement_surcharge        0\n",
       "total_amount                 0\n",
       "payment_type              3415\n",
       "trip_type                 3418\n",
       "congestion_surcharge      3415\n",
       "dtype: int64"
      ]
     },
     "execution_count": 335,
     "metadata": {},
     "output_type": "execute_result"
    }
   ],
   "source": [
    "null_counts_verd"
   ]
  },
  {
   "cell_type": "markdown",
   "metadata": {},
   "source": [
    "Archivo FHV, ENERO, 2024:"
   ]
  },
  {
   "cell_type": "code",
   "execution_count": 336,
   "metadata": {},
   "outputs": [],
   "source": [
    "# Assumiendo que el archivo está en la carpeta\n",
    "# Cambiar al directorio con el archivo\n",
    "file_path = \"C:/Users/56988/Desktop/NYdrive/fhv_tripdata_2024-01.parquet\"\n",
    "os.chdir(\"C:/Users/56988/Desktop/NYdrive/\")"
   ]
  },
  {
   "cell_type": "code",
   "execution_count": 337,
   "metadata": {},
   "outputs": [],
   "source": [
    "# Dataframe FHV\n",
    "df_fhv = pd.read_parquet(file_path)"
   ]
  },
  {
   "cell_type": "code",
   "execution_count": 338,
   "metadata": {},
   "outputs": [
    {
     "name": "stdout",
     "output_type": "stream",
     "text": [
      "<class 'pandas.core.frame.DataFrame'>\n",
      "RangeIndex: 1290116 entries, 0 to 1290115\n",
      "Data columns (total 7 columns):\n",
      " #   Column                  Non-Null Count    Dtype         \n",
      "---  ------                  --------------    -----         \n",
      " 0   dispatching_base_num    1290116 non-null  object        \n",
      " 1   pickup_datetime         1290116 non-null  datetime64[us]\n",
      " 2   dropOff_datetime        1290116 non-null  datetime64[us]\n",
      " 3   PUlocationID            274816 non-null   float64       \n",
      " 4   DOlocationID            1107055 non-null  float64       \n",
      " 5   SR_Flag                 0 non-null        float64       \n",
      " 6   Affiliated_base_number  1290116 non-null  object        \n",
      "dtypes: datetime64[us](2), float64(3), object(2)\n",
      "memory usage: 68.9+ MB\n"
     ]
    }
   ],
   "source": [
    "df_fhv.info()"
   ]
  },
  {
   "cell_type": "code",
   "execution_count": 339,
   "metadata": {},
   "outputs": [
    {
     "data": {
      "text/html": [
       "<div>\n",
       "<style scoped>\n",
       "    .dataframe tbody tr th:only-of-type {\n",
       "        vertical-align: middle;\n",
       "    }\n",
       "\n",
       "    .dataframe tbody tr th {\n",
       "        vertical-align: top;\n",
       "    }\n",
       "\n",
       "    .dataframe thead th {\n",
       "        text-align: right;\n",
       "    }\n",
       "</style>\n",
       "<table border=\"1\" class=\"dataframe\">\n",
       "  <thead>\n",
       "    <tr style=\"text-align: right;\">\n",
       "      <th></th>\n",
       "      <th>dispatching_base_num</th>\n",
       "      <th>pickup_datetime</th>\n",
       "      <th>dropOff_datetime</th>\n",
       "      <th>PUlocationID</th>\n",
       "      <th>DOlocationID</th>\n",
       "      <th>SR_Flag</th>\n",
       "      <th>Affiliated_base_number</th>\n",
       "    </tr>\n",
       "  </thead>\n",
       "  <tbody>\n",
       "    <tr>\n",
       "      <th>0</th>\n",
       "      <td>B00053</td>\n",
       "      <td>2024-01-01 00:15:00</td>\n",
       "      <td>2024-01-01 02:13:00</td>\n",
       "      <td>NaN</td>\n",
       "      <td>NaN</td>\n",
       "      <td>NaN</td>\n",
       "      <td>B00014</td>\n",
       "    </tr>\n",
       "    <tr>\n",
       "      <th>1</th>\n",
       "      <td>B00111</td>\n",
       "      <td>2024-01-01 00:30:00</td>\n",
       "      <td>2024-01-01 02:37:00</td>\n",
       "      <td>NaN</td>\n",
       "      <td>NaN</td>\n",
       "      <td>NaN</td>\n",
       "      <td>B00111</td>\n",
       "    </tr>\n",
       "    <tr>\n",
       "      <th>2</th>\n",
       "      <td>B00112</td>\n",
       "      <td>2024-01-01 00:27:24</td>\n",
       "      <td>2024-01-01 01:12:05</td>\n",
       "      <td>NaN</td>\n",
       "      <td>14.0</td>\n",
       "      <td>NaN</td>\n",
       "      <td>B00112</td>\n",
       "    </tr>\n",
       "    <tr>\n",
       "      <th>3</th>\n",
       "      <td>B00112</td>\n",
       "      <td>2024-01-01 00:10:09</td>\n",
       "      <td>2024-01-01 00:25:39</td>\n",
       "      <td>NaN</td>\n",
       "      <td>133.0</td>\n",
       "      <td>NaN</td>\n",
       "      <td>B00112</td>\n",
       "    </tr>\n",
       "    <tr>\n",
       "      <th>4</th>\n",
       "      <td>B00112</td>\n",
       "      <td>2024-01-01 00:57:07</td>\n",
       "      <td>2024-01-01 01:05:04</td>\n",
       "      <td>NaN</td>\n",
       "      <td>14.0</td>\n",
       "      <td>NaN</td>\n",
       "      <td>B00112</td>\n",
       "    </tr>\n",
       "    <tr>\n",
       "      <th>...</th>\n",
       "      <td>...</td>\n",
       "      <td>...</td>\n",
       "      <td>...</td>\n",
       "      <td>...</td>\n",
       "      <td>...</td>\n",
       "      <td>...</td>\n",
       "      <td>...</td>\n",
       "    </tr>\n",
       "    <tr>\n",
       "      <th>1290111</th>\n",
       "      <td>B03492</td>\n",
       "      <td>2024-01-31 23:51:21</td>\n",
       "      <td>2024-01-31 23:57:09</td>\n",
       "      <td>NaN</td>\n",
       "      <td>14.0</td>\n",
       "      <td>NaN</td>\n",
       "      <td>B03492</td>\n",
       "    </tr>\n",
       "    <tr>\n",
       "      <th>1290112</th>\n",
       "      <td>B03492</td>\n",
       "      <td>2024-01-31 23:05:06</td>\n",
       "      <td>2024-01-31 23:20:13</td>\n",
       "      <td>NaN</td>\n",
       "      <td>21.0</td>\n",
       "      <td>NaN</td>\n",
       "      <td>B03492</td>\n",
       "    </tr>\n",
       "    <tr>\n",
       "      <th>1290113</th>\n",
       "      <td>B03492</td>\n",
       "      <td>2024-01-31 23:49:07</td>\n",
       "      <td>2024-02-01 00:16:25</td>\n",
       "      <td>NaN</td>\n",
       "      <td>14.0</td>\n",
       "      <td>NaN</td>\n",
       "      <td>B03492</td>\n",
       "    </tr>\n",
       "    <tr>\n",
       "      <th>1290114</th>\n",
       "      <td>B03505</td>\n",
       "      <td>2024-01-31 23:04:46</td>\n",
       "      <td>2024-01-31 23:18:22</td>\n",
       "      <td>NaN</td>\n",
       "      <td>76.0</td>\n",
       "      <td>NaN</td>\n",
       "      <td>B03505</td>\n",
       "    </tr>\n",
       "    <tr>\n",
       "      <th>1290115</th>\n",
       "      <td>B03529</td>\n",
       "      <td>2024-01-31 23:45:30</td>\n",
       "      <td>2024-01-31 23:59:25</td>\n",
       "      <td>NaN</td>\n",
       "      <td>76.0</td>\n",
       "      <td>NaN</td>\n",
       "      <td>B03404</td>\n",
       "    </tr>\n",
       "  </tbody>\n",
       "</table>\n",
       "<p>1290116 rows × 7 columns</p>\n",
       "</div>"
      ],
      "text/plain": [
       "        dispatching_base_num     pickup_datetime    dropOff_datetime  \\\n",
       "0                     B00053 2024-01-01 00:15:00 2024-01-01 02:13:00   \n",
       "1                     B00111 2024-01-01 00:30:00 2024-01-01 02:37:00   \n",
       "2                     B00112 2024-01-01 00:27:24 2024-01-01 01:12:05   \n",
       "3                     B00112 2024-01-01 00:10:09 2024-01-01 00:25:39   \n",
       "4                     B00112 2024-01-01 00:57:07 2024-01-01 01:05:04   \n",
       "...                      ...                 ...                 ...   \n",
       "1290111               B03492 2024-01-31 23:51:21 2024-01-31 23:57:09   \n",
       "1290112               B03492 2024-01-31 23:05:06 2024-01-31 23:20:13   \n",
       "1290113               B03492 2024-01-31 23:49:07 2024-02-01 00:16:25   \n",
       "1290114               B03505 2024-01-31 23:04:46 2024-01-31 23:18:22   \n",
       "1290115               B03529 2024-01-31 23:45:30 2024-01-31 23:59:25   \n",
       "\n",
       "         PUlocationID  DOlocationID  SR_Flag Affiliated_base_number  \n",
       "0                 NaN           NaN      NaN                 B00014  \n",
       "1                 NaN           NaN      NaN                 B00111  \n",
       "2                 NaN          14.0      NaN                 B00112  \n",
       "3                 NaN         133.0      NaN                 B00112  \n",
       "4                 NaN          14.0      NaN                 B00112  \n",
       "...               ...           ...      ...                    ...  \n",
       "1290111           NaN          14.0      NaN                 B03492  \n",
       "1290112           NaN          21.0      NaN                 B03492  \n",
       "1290113           NaN          14.0      NaN                 B03492  \n",
       "1290114           NaN          76.0      NaN                 B03505  \n",
       "1290115           NaN          76.0      NaN                 B03404  \n",
       "\n",
       "[1290116 rows x 7 columns]"
      ]
     },
     "execution_count": 339,
     "metadata": {},
     "output_type": "execute_result"
    }
   ],
   "source": [
    "df_fhv"
   ]
  },
  {
   "cell_type": "code",
   "execution_count": 340,
   "metadata": {},
   "outputs": [],
   "source": [
    "# Cantidad de valores nulos en cada columna\n",
    "null_counts_fhv = df_fhv.isnull().sum()"
   ]
  },
  {
   "cell_type": "code",
   "execution_count": 341,
   "metadata": {},
   "outputs": [
    {
     "data": {
      "text/plain": [
       "dispatching_base_num            0\n",
       "pickup_datetime                 0\n",
       "dropOff_datetime                0\n",
       "PUlocationID              1015300\n",
       "DOlocationID               183061\n",
       "SR_Flag                   1290116\n",
       "Affiliated_base_number          0\n",
       "dtype: int64"
      ]
     },
     "execution_count": 341,
     "metadata": {},
     "output_type": "execute_result"
    }
   ],
   "source": [
    "null_counts_fhv"
   ]
  },
  {
   "cell_type": "markdown",
   "metadata": {},
   "source": [
    "Archivo FHVHV, ENERO, 2024:"
   ]
  },
  {
   "cell_type": "code",
   "execution_count": 342,
   "metadata": {},
   "outputs": [],
   "source": [
    "# Assumiendo que el archivo está en la carpeta\n",
    "# Cambiar al directorio con el archivo\n",
    "file_path = \"C:/Users/56988/Desktop/NYdrive/fhvhv_tripdata_2024-01.parquet\"\n",
    "os.chdir(\"C:/Users/56988/Desktop/NYdrive/\")"
   ]
  },
  {
   "cell_type": "code",
   "execution_count": 343,
   "metadata": {},
   "outputs": [],
   "source": [
    "# Dataframe FHVHV      28, 2 seg en abrir\n",
    "df_fhvhv = pd.read_parquet(file_path)"
   ]
  },
  {
   "cell_type": "code",
   "execution_count": 344,
   "metadata": {},
   "outputs": [
    {
     "name": "stdout",
     "output_type": "stream",
     "text": [
      "<class 'pandas.core.frame.DataFrame'>\n",
      "RangeIndex: 19663930 entries, 0 to 19663929\n",
      "Data columns (total 24 columns):\n",
      " #   Column                Dtype         \n",
      "---  ------                -----         \n",
      " 0   hvfhs_license_num     object        \n",
      " 1   dispatching_base_num  object        \n",
      " 2   originating_base_num  object        \n",
      " 3   request_datetime      datetime64[us]\n",
      " 4   on_scene_datetime     datetime64[us]\n",
      " 5   pickup_datetime       datetime64[us]\n",
      " 6   dropoff_datetime      datetime64[us]\n",
      " 7   PULocationID          int32         \n",
      " 8   DOLocationID          int32         \n",
      " 9   trip_miles            float64       \n",
      " 10  trip_time             int64         \n",
      " 11  base_passenger_fare   float64       \n",
      " 12  tolls                 float64       \n",
      " 13  bcf                   float64       \n",
      " 14  sales_tax             float64       \n",
      " 15  congestion_surcharge  float64       \n",
      " 16  airport_fee           float64       \n",
      " 17  tips                  float64       \n",
      " 18  driver_pay            float64       \n",
      " 19  shared_request_flag   object        \n",
      " 20  shared_match_flag     object        \n",
      " 21  access_a_ride_flag    object        \n",
      " 22  wav_request_flag      object        \n",
      " 23  wav_match_flag        object        \n",
      "dtypes: datetime64[us](4), float64(9), int32(2), int64(1), object(8)\n",
      "memory usage: 3.4+ GB\n"
     ]
    }
   ],
   "source": [
    "df_fhvhv.info()"
   ]
  },
  {
   "cell_type": "code",
   "execution_count": 345,
   "metadata": {},
   "outputs": [
    {
     "data": {
      "text/plain": [
       "Index(['hvfhs_license_num', 'dispatching_base_num', 'originating_base_num',\n",
       "       'request_datetime', 'on_scene_datetime', 'pickup_datetime',\n",
       "       'dropoff_datetime', 'PULocationID', 'DOLocationID', 'trip_miles',\n",
       "       'trip_time', 'base_passenger_fare', 'tolls', 'bcf', 'sales_tax',\n",
       "       'congestion_surcharge', 'airport_fee', 'tips', 'driver_pay',\n",
       "       'shared_request_flag', 'shared_match_flag', 'access_a_ride_flag',\n",
       "       'wav_request_flag', 'wav_match_flag'],\n",
       "      dtype='object')"
      ]
     },
     "execution_count": 345,
     "metadata": {},
     "output_type": "execute_result"
    }
   ],
   "source": [
    "df_fhvhv.columns"
   ]
  },
  {
   "cell_type": "code",
   "execution_count": 346,
   "metadata": {},
   "outputs": [
    {
     "data": {
      "text/html": [
       "<div>\n",
       "<style scoped>\n",
       "    .dataframe tbody tr th:only-of-type {\n",
       "        vertical-align: middle;\n",
       "    }\n",
       "\n",
       "    .dataframe tbody tr th {\n",
       "        vertical-align: top;\n",
       "    }\n",
       "\n",
       "    .dataframe thead th {\n",
       "        text-align: right;\n",
       "    }\n",
       "</style>\n",
       "<table border=\"1\" class=\"dataframe\">\n",
       "  <thead>\n",
       "    <tr style=\"text-align: right;\">\n",
       "      <th></th>\n",
       "      <th>hvfhs_license_num</th>\n",
       "      <th>dispatching_base_num</th>\n",
       "      <th>originating_base_num</th>\n",
       "      <th>request_datetime</th>\n",
       "      <th>on_scene_datetime</th>\n",
       "      <th>pickup_datetime</th>\n",
       "      <th>dropoff_datetime</th>\n",
       "      <th>PULocationID</th>\n",
       "      <th>DOLocationID</th>\n",
       "      <th>trip_miles</th>\n",
       "      <th>...</th>\n",
       "      <th>sales_tax</th>\n",
       "      <th>congestion_surcharge</th>\n",
       "      <th>airport_fee</th>\n",
       "      <th>tips</th>\n",
       "      <th>driver_pay</th>\n",
       "      <th>shared_request_flag</th>\n",
       "      <th>shared_match_flag</th>\n",
       "      <th>access_a_ride_flag</th>\n",
       "      <th>wav_request_flag</th>\n",
       "      <th>wav_match_flag</th>\n",
       "    </tr>\n",
       "  </thead>\n",
       "  <tbody>\n",
       "    <tr>\n",
       "      <th>19663928</th>\n",
       "      <td>HV0003</td>\n",
       "      <td>B03404</td>\n",
       "      <td>B03404</td>\n",
       "      <td>2024-01-31 23:39:00</td>\n",
       "      <td>2024-01-31 23:41:03</td>\n",
       "      <td>2024-01-31 23:41:45</td>\n",
       "      <td>2024-01-31 23:52:40</td>\n",
       "      <td>246</td>\n",
       "      <td>163</td>\n",
       "      <td>1.57</td>\n",
       "      <td>...</td>\n",
       "      <td>1.62</td>\n",
       "      <td>2.75</td>\n",
       "      <td>0.0</td>\n",
       "      <td>4.62</td>\n",
       "      <td>8.54</td>\n",
       "      <td>N</td>\n",
       "      <td>N</td>\n",
       "      <td>N</td>\n",
       "      <td>N</td>\n",
       "      <td>N</td>\n",
       "    </tr>\n",
       "    <tr>\n",
       "      <th>19663929</th>\n",
       "      <td>HV0003</td>\n",
       "      <td>B03404</td>\n",
       "      <td>B03404</td>\n",
       "      <td>2024-01-31 23:54:54</td>\n",
       "      <td>2024-01-31 23:57:59</td>\n",
       "      <td>2024-01-31 23:58:25</td>\n",
       "      <td>2024-02-01 00:02:10</td>\n",
       "      <td>161</td>\n",
       "      <td>162</td>\n",
       "      <td>0.39</td>\n",
       "      <td>...</td>\n",
       "      <td>0.73</td>\n",
       "      <td>2.75</td>\n",
       "      <td>0.0</td>\n",
       "      <td>0.00</td>\n",
       "      <td>5.40</td>\n",
       "      <td>N</td>\n",
       "      <td>N</td>\n",
       "      <td>N</td>\n",
       "      <td>N</td>\n",
       "      <td>N</td>\n",
       "    </tr>\n",
       "  </tbody>\n",
       "</table>\n",
       "<p>2 rows × 24 columns</p>\n",
       "</div>"
      ],
      "text/plain": [
       "         hvfhs_license_num dispatching_base_num originating_base_num  \\\n",
       "19663928            HV0003               B03404               B03404   \n",
       "19663929            HV0003               B03404               B03404   \n",
       "\n",
       "            request_datetime   on_scene_datetime     pickup_datetime  \\\n",
       "19663928 2024-01-31 23:39:00 2024-01-31 23:41:03 2024-01-31 23:41:45   \n",
       "19663929 2024-01-31 23:54:54 2024-01-31 23:57:59 2024-01-31 23:58:25   \n",
       "\n",
       "            dropoff_datetime  PULocationID  DOLocationID  trip_miles  ...  \\\n",
       "19663928 2024-01-31 23:52:40           246           163        1.57  ...   \n",
       "19663929 2024-02-01 00:02:10           161           162        0.39  ...   \n",
       "\n",
       "          sales_tax  congestion_surcharge  airport_fee  tips  driver_pay  \\\n",
       "19663928       1.62                  2.75          0.0  4.62        8.54   \n",
       "19663929       0.73                  2.75          0.0  0.00        5.40   \n",
       "\n",
       "          shared_request_flag  shared_match_flag  access_a_ride_flag  \\\n",
       "19663928                    N                  N                   N   \n",
       "19663929                    N                  N                   N   \n",
       "\n",
       "          wav_request_flag wav_match_flag  \n",
       "19663928                 N              N  \n",
       "19663929                 N              N  \n",
       "\n",
       "[2 rows x 24 columns]"
      ]
     },
     "execution_count": 346,
     "metadata": {},
     "output_type": "execute_result"
    }
   ],
   "source": [
    "df_fhvhv.tail(2)"
   ]
  },
  {
   "cell_type": "code",
   "execution_count": 347,
   "metadata": {},
   "outputs": [],
   "source": [
    "# Cantidad de valores nulos en cada columna\n",
    "null_counts_fhvhv = df_fhvhv.isnull().sum()"
   ]
  },
  {
   "cell_type": "code",
   "execution_count": 348,
   "metadata": {},
   "outputs": [
    {
     "data": {
      "text/plain": [
       "hvfhs_license_num             0\n",
       "dispatching_base_num          0\n",
       "originating_base_num    5218737\n",
       "request_datetime              0\n",
       "on_scene_datetime       5218737\n",
       "pickup_datetime               0\n",
       "dropoff_datetime              0\n",
       "PULocationID                  0\n",
       "DOLocationID                  0\n",
       "trip_miles                    0\n",
       "trip_time                     0\n",
       "base_passenger_fare           0\n",
       "tolls                         0\n",
       "bcf                           0\n",
       "sales_tax                     0\n",
       "congestion_surcharge          0\n",
       "airport_fee                   0\n",
       "tips                          0\n",
       "driver_pay                    0\n",
       "shared_request_flag           0\n",
       "shared_match_flag             0\n",
       "access_a_ride_flag            0\n",
       "wav_request_flag              0\n",
       "wav_match_flag                0\n",
       "dtype: int64"
      ]
     },
     "execution_count": 348,
     "metadata": {},
     "output_type": "execute_result"
    }
   ],
   "source": [
    "null_counts_fhvhv"
   ]
  },
  {
   "cell_type": "markdown",
   "metadata": {},
   "source": [
    "DATASET Vehículos de combustible alternativo en USA:"
   ]
  },
  {
   "cell_type": "code",
   "execution_count": 349,
   "metadata": {},
   "outputs": [],
   "source": [
    "# Assumiendo que el archivo está en la carpeta\n",
    "# Cambiar al directorio con el archivo\n",
    "file_path = \"C:/Users/56988/Desktop/NYdrive/DATASETORIGEN/Alternative Fuel Vehicles US.csv\"\n",
    "os.chdir(\"C:/Users/56988/Desktop/NYdrive/\")"
   ]
  },
  {
   "cell_type": "code",
   "execution_count": 350,
   "metadata": {},
   "outputs": [],
   "source": [
    "# Dataframe alternative fuel     28, 2 seg en abrir\n",
    "df_alternative_fuel = pd.read_csv(file_path)"
   ]
  },
  {
   "cell_type": "code",
   "execution_count": 351,
   "metadata": {},
   "outputs": [
    {
     "name": "stdout",
     "output_type": "stream",
     "text": [
      "<class 'pandas.core.frame.DataFrame'>\n",
      "RangeIndex: 882 entries, 0 to 881\n",
      "Data columns (total 22 columns):\n",
      " #   Column                              Non-Null Count  Dtype  \n",
      "---  ------                              --------------  -----  \n",
      " 0   Category                            882 non-null    object \n",
      " 1   Model                               882 non-null    object \n",
      " 2   Model Year                          594 non-null    float64\n",
      " 3   Manufacturer                        882 non-null    object \n",
      " 4   Fuel                                882 non-null    object \n",
      " 5   All-Electric Range                  222 non-null    float64\n",
      " 6   PHEV Total Range                    43 non-null     float64\n",
      " 7   Alternative Fuel Economy City       169 non-null    float64\n",
      " 8   Alternative Fuel Economy Highway    169 non-null    float64\n",
      " 9   Alternative Fuel Economy Combined   262 non-null    float64\n",
      " 10  Conventional Fuel Economy City      444 non-null    float64\n",
      " 11  Conventional Fuel Economy Highway   444 non-null    float64\n",
      " 12  Conventional Fuel Economy Combined  444 non-null    float64\n",
      " 13  Transmission Type                   640 non-null    object \n",
      " 14  Transmission Make                   125 non-null    object \n",
      " 15  Engine Type                         589 non-null    object \n",
      " 16  Engine Size                         589 non-null    object \n",
      " 17  Engine Cylinder Count               449 non-null    float64\n",
      " 18  Number of Passengers                121 non-null    object \n",
      " 19  Heavy-Duty Power System             245 non-null    object \n",
      " 20  Notes                               179 non-null    object \n",
      " 21  Drivetrain                          329 non-null    object \n",
      "dtypes: float64(10), object(12)\n",
      "memory usage: 151.7+ KB\n"
     ]
    }
   ],
   "source": [
    "df_alternative_fuel.info()"
   ]
  },
  {
   "cell_type": "code",
   "execution_count": 352,
   "metadata": {},
   "outputs": [
    {
     "data": {
      "text/html": [
       "<div>\n",
       "<style scoped>\n",
       "    .dataframe tbody tr th:only-of-type {\n",
       "        vertical-align: middle;\n",
       "    }\n",
       "\n",
       "    .dataframe tbody tr th {\n",
       "        vertical-align: top;\n",
       "    }\n",
       "\n",
       "    .dataframe thead th {\n",
       "        text-align: right;\n",
       "    }\n",
       "</style>\n",
       "<table border=\"1\" class=\"dataframe\">\n",
       "  <thead>\n",
       "    <tr style=\"text-align: right;\">\n",
       "      <th></th>\n",
       "      <th>Category</th>\n",
       "      <th>Model</th>\n",
       "      <th>Model Year</th>\n",
       "      <th>Manufacturer</th>\n",
       "      <th>Fuel</th>\n",
       "      <th>All-Electric Range</th>\n",
       "      <th>PHEV Total Range</th>\n",
       "      <th>Alternative Fuel Economy City</th>\n",
       "      <th>Alternative Fuel Economy Highway</th>\n",
       "      <th>Alternative Fuel Economy Combined</th>\n",
       "      <th>...</th>\n",
       "      <th>Conventional Fuel Economy Combined</th>\n",
       "      <th>Transmission Type</th>\n",
       "      <th>Transmission Make</th>\n",
       "      <th>Engine Type</th>\n",
       "      <th>Engine Size</th>\n",
       "      <th>Engine Cylinder Count</th>\n",
       "      <th>Number of Passengers</th>\n",
       "      <th>Heavy-Duty Power System</th>\n",
       "      <th>Notes</th>\n",
       "      <th>Drivetrain</th>\n",
       "    </tr>\n",
       "  </thead>\n",
       "  <tbody>\n",
       "    <tr>\n",
       "      <th>0</th>\n",
       "      <td>Sedan/Wagon</td>\n",
       "      <td>NSX</td>\n",
       "      <td>2022.0</td>\n",
       "      <td>Acura</td>\n",
       "      <td>Hybrid Electric</td>\n",
       "      <td>0.0</td>\n",
       "      <td>0.0</td>\n",
       "      <td>0.0</td>\n",
       "      <td>0.0</td>\n",
       "      <td>0.0</td>\n",
       "      <td>...</td>\n",
       "      <td>21.0</td>\n",
       "      <td>Auto</td>\n",
       "      <td>0</td>\n",
       "      <td>SI</td>\n",
       "      <td>3.5L</td>\n",
       "      <td>6.0</td>\n",
       "      <td>0</td>\n",
       "      <td>0</td>\n",
       "      <td>0</td>\n",
       "      <td>AWD</td>\n",
       "    </tr>\n",
       "    <tr>\n",
       "      <th>1</th>\n",
       "      <td>Sedan/Wagon</td>\n",
       "      <td>A3</td>\n",
       "      <td>2022.0</td>\n",
       "      <td>Audi</td>\n",
       "      <td>Hybrid Electric</td>\n",
       "      <td>0.0</td>\n",
       "      <td>0.0</td>\n",
       "      <td>0.0</td>\n",
       "      <td>0.0</td>\n",
       "      <td>0.0</td>\n",
       "      <td>...</td>\n",
       "      <td>32.0</td>\n",
       "      <td>Auto</td>\n",
       "      <td>0</td>\n",
       "      <td>SI</td>\n",
       "      <td>2.0L</td>\n",
       "      <td>4.0</td>\n",
       "      <td>0</td>\n",
       "      <td>0</td>\n",
       "      <td>0</td>\n",
       "      <td>FWD</td>\n",
       "    </tr>\n",
       "    <tr>\n",
       "      <th>2</th>\n",
       "      <td>Sedan/Wagon</td>\n",
       "      <td>A3 quattro</td>\n",
       "      <td>2022.0</td>\n",
       "      <td>Audi</td>\n",
       "      <td>Hybrid Electric</td>\n",
       "      <td>0.0</td>\n",
       "      <td>0.0</td>\n",
       "      <td>0.0</td>\n",
       "      <td>0.0</td>\n",
       "      <td>0.0</td>\n",
       "      <td>...</td>\n",
       "      <td>31.0</td>\n",
       "      <td>Auto</td>\n",
       "      <td>0</td>\n",
       "      <td>SI</td>\n",
       "      <td>2.0L</td>\n",
       "      <td>4.0</td>\n",
       "      <td>0</td>\n",
       "      <td>0</td>\n",
       "      <td>0</td>\n",
       "      <td>AWD</td>\n",
       "    </tr>\n",
       "    <tr>\n",
       "      <th>3</th>\n",
       "      <td>Sedan/Wagon</td>\n",
       "      <td>A4 allroad quattro</td>\n",
       "      <td>2022.0</td>\n",
       "      <td>Audi</td>\n",
       "      <td>Hybrid Electric</td>\n",
       "      <td>0.0</td>\n",
       "      <td>0.0</td>\n",
       "      <td>0.0</td>\n",
       "      <td>0.0</td>\n",
       "      <td>0.0</td>\n",
       "      <td>...</td>\n",
       "      <td>26.0</td>\n",
       "      <td>Auto</td>\n",
       "      <td>0</td>\n",
       "      <td>SI</td>\n",
       "      <td>2.0L</td>\n",
       "      <td>4.0</td>\n",
       "      <td>0</td>\n",
       "      <td>0</td>\n",
       "      <td>0</td>\n",
       "      <td>AWD</td>\n",
       "    </tr>\n",
       "    <tr>\n",
       "      <th>4</th>\n",
       "      <td>Sedan/Wagon</td>\n",
       "      <td>A4 quattro</td>\n",
       "      <td>2022.0</td>\n",
       "      <td>Audi</td>\n",
       "      <td>Hybrid Electric</td>\n",
       "      <td>0.0</td>\n",
       "      <td>0.0</td>\n",
       "      <td>0.0</td>\n",
       "      <td>0.0</td>\n",
       "      <td>0.0</td>\n",
       "      <td>...</td>\n",
       "      <td>29.0</td>\n",
       "      <td>Auto</td>\n",
       "      <td>0</td>\n",
       "      <td>SI</td>\n",
       "      <td>2.0L</td>\n",
       "      <td>4.0</td>\n",
       "      <td>0</td>\n",
       "      <td>0</td>\n",
       "      <td>0</td>\n",
       "      <td>AWD</td>\n",
       "    </tr>\n",
       "    <tr>\n",
       "      <th>...</th>\n",
       "      <td>...</td>\n",
       "      <td>...</td>\n",
       "      <td>...</td>\n",
       "      <td>...</td>\n",
       "      <td>...</td>\n",
       "      <td>...</td>\n",
       "      <td>...</td>\n",
       "      <td>...</td>\n",
       "      <td>...</td>\n",
       "      <td>...</td>\n",
       "      <td>...</td>\n",
       "      <td>...</td>\n",
       "      <td>...</td>\n",
       "      <td>...</td>\n",
       "      <td>...</td>\n",
       "      <td>...</td>\n",
       "      <td>...</td>\n",
       "      <td>...</td>\n",
       "      <td>...</td>\n",
       "      <td>...</td>\n",
       "      <td>...</td>\n",
       "    </tr>\n",
       "    <tr>\n",
       "      <th>877</th>\n",
       "      <td>Street Sweeper</td>\n",
       "      <td>HSP</td>\n",
       "      <td>0.0</td>\n",
       "      <td>TYMCO</td>\n",
       "      <td>CNG - Compressed Natural Gas</td>\n",
       "      <td>0.0</td>\n",
       "      <td>0.0</td>\n",
       "      <td>0.0</td>\n",
       "      <td>0.0</td>\n",
       "      <td>0.0</td>\n",
       "      <td>...</td>\n",
       "      <td>0.0</td>\n",
       "      <td>0</td>\n",
       "      <td>0</td>\n",
       "      <td>0</td>\n",
       "      <td>0</td>\n",
       "      <td>0.0</td>\n",
       "      <td>0</td>\n",
       "      <td>Cummins Westport L9N 8.9L Near Zero</td>\n",
       "      <td>0</td>\n",
       "      <td>0</td>\n",
       "    </tr>\n",
       "    <tr>\n",
       "      <th>878</th>\n",
       "      <td>Step Van</td>\n",
       "      <td>(various models)</td>\n",
       "      <td>0.0</td>\n",
       "      <td>Utilimaster</td>\n",
       "      <td>Electric</td>\n",
       "      <td>0.0</td>\n",
       "      <td>0.0</td>\n",
       "      <td>0.0</td>\n",
       "      <td>0.0</td>\n",
       "      <td>0.0</td>\n",
       "      <td>...</td>\n",
       "      <td>0.0</td>\n",
       "      <td>Automatic</td>\n",
       "      <td>0</td>\n",
       "      <td>0</td>\n",
       "      <td>0</td>\n",
       "      <td>0.0</td>\n",
       "      <td>0</td>\n",
       "      <td>0</td>\n",
       "      <td>According to manufacturer: Various platforms a...</td>\n",
       "      <td>0</td>\n",
       "    </tr>\n",
       "    <tr>\n",
       "      <th>879</th>\n",
       "      <td>Transit Bus</td>\n",
       "      <td>CX45E</td>\n",
       "      <td>0.0</td>\n",
       "      <td>Van Hool</td>\n",
       "      <td>Electric</td>\n",
       "      <td>0.0</td>\n",
       "      <td>0.0</td>\n",
       "      <td>0.0</td>\n",
       "      <td>0.0</td>\n",
       "      <td>0.0</td>\n",
       "      <td>...</td>\n",
       "      <td>0.0</td>\n",
       "      <td>0</td>\n",
       "      <td>0</td>\n",
       "      <td>0</td>\n",
       "      <td>0</td>\n",
       "      <td>0.0</td>\n",
       "      <td>Up to 56</td>\n",
       "      <td>Siemens  ELFA2 Electric Drive System 360kW</td>\n",
       "      <td>According to manufacturer: 676 kWh battery sto...</td>\n",
       "      <td>0</td>\n",
       "    </tr>\n",
       "    <tr>\n",
       "      <th>880</th>\n",
       "      <td>Tractor</td>\n",
       "      <td>VNR Electric - Class 8</td>\n",
       "      <td>0.0</td>\n",
       "      <td>Volvo</td>\n",
       "      <td>Electric</td>\n",
       "      <td>0.0</td>\n",
       "      <td>0.0</td>\n",
       "      <td>0.0</td>\n",
       "      <td>0.0</td>\n",
       "      <td>0.0</td>\n",
       "      <td>...</td>\n",
       "      <td>0.0</td>\n",
       "      <td>0</td>\n",
       "      <td>0</td>\n",
       "      <td>0</td>\n",
       "      <td>0</td>\n",
       "      <td>0.0</td>\n",
       "      <td>0</td>\n",
       "      <td>0</td>\n",
       "      <td>According to manufacturer: 340kW; 455hp; 4,051...</td>\n",
       "      <td>0</td>\n",
       "    </tr>\n",
       "    <tr>\n",
       "      <th>881</th>\n",
       "      <td>Step Van</td>\n",
       "      <td>C-Series</td>\n",
       "      <td>0.0</td>\n",
       "      <td>Workhorse</td>\n",
       "      <td>Electric</td>\n",
       "      <td>0.0</td>\n",
       "      <td>0.0</td>\n",
       "      <td>0.0</td>\n",
       "      <td>0.0</td>\n",
       "      <td>0.0</td>\n",
       "      <td>...</td>\n",
       "      <td>0.0</td>\n",
       "      <td>Automatic</td>\n",
       "      <td>0</td>\n",
       "      <td>0</td>\n",
       "      <td>0</td>\n",
       "      <td>0.0</td>\n",
       "      <td>0</td>\n",
       "      <td>Workhorse Dual Axial Flux Interior Permanent M...</td>\n",
       "      <td>According to manufacturer: Up to 105 kWh batte...</td>\n",
       "      <td>0</td>\n",
       "    </tr>\n",
       "  </tbody>\n",
       "</table>\n",
       "<p>882 rows × 22 columns</p>\n",
       "</div>"
      ],
      "text/plain": [
       "           Category                   Model  Model Year Manufacturer  \\\n",
       "0       Sedan/Wagon                     NSX      2022.0        Acura   \n",
       "1       Sedan/Wagon                     A3       2022.0         Audi   \n",
       "2       Sedan/Wagon              A3 quattro      2022.0         Audi   \n",
       "3       Sedan/Wagon      A4 allroad quattro      2022.0         Audi   \n",
       "4       Sedan/Wagon              A4 quattro      2022.0         Audi   \n",
       "..              ...                     ...         ...          ...   \n",
       "877  Street Sweeper                     HSP         0.0        TYMCO   \n",
       "878        Step Van        (various models)         0.0  Utilimaster   \n",
       "879     Transit Bus                   CX45E         0.0     Van Hool   \n",
       "880         Tractor  VNR Electric - Class 8         0.0        Volvo   \n",
       "881        Step Van                C-Series         0.0    Workhorse   \n",
       "\n",
       "                             Fuel  All-Electric Range  PHEV Total Range  \\\n",
       "0                 Hybrid Electric                 0.0               0.0   \n",
       "1                 Hybrid Electric                 0.0               0.0   \n",
       "2                 Hybrid Electric                 0.0               0.0   \n",
       "3                 Hybrid Electric                 0.0               0.0   \n",
       "4                 Hybrid Electric                 0.0               0.0   \n",
       "..                            ...                 ...               ...   \n",
       "877  CNG - Compressed Natural Gas                 0.0               0.0   \n",
       "878                      Electric                 0.0               0.0   \n",
       "879                      Electric                 0.0               0.0   \n",
       "880                      Electric                 0.0               0.0   \n",
       "881                      Electric                 0.0               0.0   \n",
       "\n",
       "     Alternative Fuel Economy City  Alternative Fuel Economy Highway  \\\n",
       "0                              0.0                               0.0   \n",
       "1                              0.0                               0.0   \n",
       "2                              0.0                               0.0   \n",
       "3                              0.0                               0.0   \n",
       "4                              0.0                               0.0   \n",
       "..                             ...                               ...   \n",
       "877                            0.0                               0.0   \n",
       "878                            0.0                               0.0   \n",
       "879                            0.0                               0.0   \n",
       "880                            0.0                               0.0   \n",
       "881                            0.0                               0.0   \n",
       "\n",
       "     Alternative Fuel Economy Combined  ...  \\\n",
       "0                                  0.0  ...   \n",
       "1                                  0.0  ...   \n",
       "2                                  0.0  ...   \n",
       "3                                  0.0  ...   \n",
       "4                                  0.0  ...   \n",
       "..                                 ...  ...   \n",
       "877                                0.0  ...   \n",
       "878                                0.0  ...   \n",
       "879                                0.0  ...   \n",
       "880                                0.0  ...   \n",
       "881                                0.0  ...   \n",
       "\n",
       "     Conventional Fuel Economy Combined  Transmission Type  Transmission Make  \\\n",
       "0                                  21.0               Auto                  0   \n",
       "1                                  32.0               Auto                  0   \n",
       "2                                  31.0               Auto                  0   \n",
       "3                                  26.0               Auto                  0   \n",
       "4                                  29.0               Auto                  0   \n",
       "..                                  ...                ...                ...   \n",
       "877                                 0.0                  0                  0   \n",
       "878                                 0.0          Automatic                  0   \n",
       "879                                 0.0                  0                  0   \n",
       "880                                 0.0                  0                  0   \n",
       "881                                 0.0          Automatic                  0   \n",
       "\n",
       "    Engine Type Engine Size Engine Cylinder Count Number of Passengers  \\\n",
       "0            SI        3.5L                   6.0                    0   \n",
       "1            SI        2.0L                   4.0                    0   \n",
       "2            SI        2.0L                   4.0                    0   \n",
       "3            SI        2.0L                   4.0                    0   \n",
       "4            SI        2.0L                   4.0                    0   \n",
       "..          ...         ...                   ...                  ...   \n",
       "877           0           0                   0.0                    0   \n",
       "878           0           0                   0.0                    0   \n",
       "879           0           0                   0.0             Up to 56   \n",
       "880           0           0                   0.0                    0   \n",
       "881           0           0                   0.0                    0   \n",
       "\n",
       "                               Heavy-Duty Power System  \\\n",
       "0                                                    0   \n",
       "1                                                    0   \n",
       "2                                                    0   \n",
       "3                                                    0   \n",
       "4                                                    0   \n",
       "..                                                 ...   \n",
       "877                Cummins Westport L9N 8.9L Near Zero   \n",
       "878                                                  0   \n",
       "879         Siemens  ELFA2 Electric Drive System 360kW   \n",
       "880                                                  0   \n",
       "881  Workhorse Dual Axial Flux Interior Permanent M...   \n",
       "\n",
       "                                                 Notes Drivetrain  \n",
       "0                                                    0        AWD  \n",
       "1                                                    0        FWD  \n",
       "2                                                    0        AWD  \n",
       "3                                                    0        AWD  \n",
       "4                                                    0        AWD  \n",
       "..                                                 ...        ...  \n",
       "877                                                  0          0  \n",
       "878  According to manufacturer: Various platforms a...          0  \n",
       "879  According to manufacturer: 676 kWh battery sto...          0  \n",
       "880  According to manufacturer: 340kW; 455hp; 4,051...          0  \n",
       "881  According to manufacturer: Up to 105 kWh batte...          0  \n",
       "\n",
       "[882 rows x 22 columns]"
      ]
     },
     "execution_count": 352,
     "metadata": {},
     "output_type": "execute_result"
    }
   ],
   "source": [
    "df_alternative_fuel.fillna(0)"
   ]
  },
  {
   "cell_type": "code",
   "execution_count": 353,
   "metadata": {},
   "outputs": [
    {
     "data": {
      "text/plain": [
       "Index(['Category', 'Model', 'Model Year', 'Manufacturer', 'Fuel',\n",
       "       'All-Electric Range', 'PHEV Total Range',\n",
       "       'Alternative Fuel Economy City', 'Alternative Fuel Economy Highway',\n",
       "       'Alternative Fuel Economy Combined', 'Conventional Fuel Economy City',\n",
       "       'Conventional Fuel Economy Highway',\n",
       "       'Conventional Fuel Economy Combined', 'Transmission Type',\n",
       "       'Transmission Make', 'Engine Type', 'Engine Size',\n",
       "       'Engine Cylinder Count', 'Number of Passengers',\n",
       "       'Heavy-Duty Power System', 'Notes', 'Drivetrain'],\n",
       "      dtype='object')"
      ]
     },
     "execution_count": 353,
     "metadata": {},
     "output_type": "execute_result"
    }
   ],
   "source": [
    "df_alternative_fuel.columns"
   ]
  },
  {
   "cell_type": "code",
   "execution_count": 354,
   "metadata": {},
   "outputs": [],
   "source": [
    "# Suponiendo que hay un DataFrame con columna \"columna_float\" que contiene valores flotantes, y se rellena con 0 a su vez\n",
    "df_alternative_fuel[\"Model Year\"] = df_alternative_fuel[\"Model Year\"].fillna(0).astype(int)\n"
   ]
  },
  {
   "cell_type": "code",
   "execution_count": 355,
   "metadata": {},
   "outputs": [],
   "source": [
    "df_alternative_fuel[\"All-Electric Range\"] = df_alternative_fuel[\"All-Electric Range\"].fillna(0).astype(int)\n",
    "df_alternative_fuel[\"PHEV Total Range\"] = df_alternative_fuel[\"PHEV Total Range\"].fillna(0).astype(int)\n",
    "df_alternative_fuel[\"Alternative Fuel Economy City\"] = df_alternative_fuel[\"Alternative Fuel Economy City\"].fillna(0).astype(int)\n",
    "df_alternative_fuel[\"Alternative Fuel Economy Highway\"] = df_alternative_fuel[\"Alternative Fuel Economy Highway\"].fillna(0).astype(int)\n",
    "df_alternative_fuel[\"Alternative Fuel Economy Combined\"] = df_alternative_fuel[\"Alternative Fuel Economy Combined\"].fillna(0).astype(int)\n",
    "df_alternative_fuel[\"Conventional Fuel Economy City\"] = df_alternative_fuel[\"Conventional Fuel Economy City\"].fillna(0).astype(int)\n",
    "df_alternative_fuel[\"Conventional Fuel Economy Highway\"] = df_alternative_fuel[\"Conventional Fuel Economy Highway\"].fillna(0).astype(int)\n",
    "df_alternative_fuel[\"Conventional Fuel Economy Combined\"] = df_alternative_fuel[\"Conventional Fuel Economy Combined\"].fillna(0).astype(int)\n",
    "df_alternative_fuel[\"Engine Cylinder Count\"] = df_alternative_fuel[\"Engine Cylinder Count\"].fillna(0).astype(int)"
   ]
  },
  {
   "cell_type": "code",
   "execution_count": 356,
   "metadata": {},
   "outputs": [
    {
     "data": {
      "text/html": [
       "<div>\n",
       "<style scoped>\n",
       "    .dataframe tbody tr th:only-of-type {\n",
       "        vertical-align: middle;\n",
       "    }\n",
       "\n",
       "    .dataframe tbody tr th {\n",
       "        vertical-align: top;\n",
       "    }\n",
       "\n",
       "    .dataframe thead th {\n",
       "        text-align: right;\n",
       "    }\n",
       "</style>\n",
       "<table border=\"1\" class=\"dataframe\">\n",
       "  <thead>\n",
       "    <tr style=\"text-align: right;\">\n",
       "      <th></th>\n",
       "      <th>Category</th>\n",
       "      <th>Model</th>\n",
       "      <th>Model Year</th>\n",
       "      <th>Manufacturer</th>\n",
       "      <th>Fuel</th>\n",
       "      <th>All-Electric Range</th>\n",
       "      <th>PHEV Total Range</th>\n",
       "      <th>Alternative Fuel Economy City</th>\n",
       "      <th>Alternative Fuel Economy Highway</th>\n",
       "      <th>Alternative Fuel Economy Combined</th>\n",
       "      <th>...</th>\n",
       "      <th>Conventional Fuel Economy Combined</th>\n",
       "      <th>Transmission Type</th>\n",
       "      <th>Transmission Make</th>\n",
       "      <th>Engine Type</th>\n",
       "      <th>Engine Size</th>\n",
       "      <th>Engine Cylinder Count</th>\n",
       "      <th>Number of Passengers</th>\n",
       "      <th>Heavy-Duty Power System</th>\n",
       "      <th>Notes</th>\n",
       "      <th>Drivetrain</th>\n",
       "    </tr>\n",
       "  </thead>\n",
       "  <tbody>\n",
       "    <tr>\n",
       "      <th>880</th>\n",
       "      <td>Tractor</td>\n",
       "      <td>VNR Electric - Class 8</td>\n",
       "      <td>0</td>\n",
       "      <td>Volvo</td>\n",
       "      <td>Electric</td>\n",
       "      <td>0</td>\n",
       "      <td>0</td>\n",
       "      <td>0</td>\n",
       "      <td>0</td>\n",
       "      <td>0</td>\n",
       "      <td>...</td>\n",
       "      <td>0</td>\n",
       "      <td>NaN</td>\n",
       "      <td>NaN</td>\n",
       "      <td>NaN</td>\n",
       "      <td>NaN</td>\n",
       "      <td>0</td>\n",
       "      <td>NaN</td>\n",
       "      <td>NaN</td>\n",
       "      <td>According to manufacturer: 340kW; 455hp; 4,051...</td>\n",
       "      <td>NaN</td>\n",
       "    </tr>\n",
       "    <tr>\n",
       "      <th>881</th>\n",
       "      <td>Step Van</td>\n",
       "      <td>C-Series</td>\n",
       "      <td>0</td>\n",
       "      <td>Workhorse</td>\n",
       "      <td>Electric</td>\n",
       "      <td>0</td>\n",
       "      <td>0</td>\n",
       "      <td>0</td>\n",
       "      <td>0</td>\n",
       "      <td>0</td>\n",
       "      <td>...</td>\n",
       "      <td>0</td>\n",
       "      <td>Automatic</td>\n",
       "      <td>NaN</td>\n",
       "      <td>NaN</td>\n",
       "      <td>NaN</td>\n",
       "      <td>0</td>\n",
       "      <td>NaN</td>\n",
       "      <td>Workhorse Dual Axial Flux Interior Permanent M...</td>\n",
       "      <td>According to manufacturer: Up to 105 kWh batte...</td>\n",
       "      <td>NaN</td>\n",
       "    </tr>\n",
       "  </tbody>\n",
       "</table>\n",
       "<p>2 rows × 22 columns</p>\n",
       "</div>"
      ],
      "text/plain": [
       "     Category                   Model  Model Year Manufacturer      Fuel  \\\n",
       "880   Tractor  VNR Electric - Class 8           0        Volvo  Electric   \n",
       "881  Step Van                C-Series           0    Workhorse  Electric   \n",
       "\n",
       "     All-Electric Range  PHEV Total Range  Alternative Fuel Economy City  \\\n",
       "880                   0                 0                              0   \n",
       "881                   0                 0                              0   \n",
       "\n",
       "     Alternative Fuel Economy Highway  Alternative Fuel Economy Combined  ...  \\\n",
       "880                                 0                                  0  ...   \n",
       "881                                 0                                  0  ...   \n",
       "\n",
       "     Conventional Fuel Economy Combined  Transmission Type  Transmission Make  \\\n",
       "880                                   0                NaN                NaN   \n",
       "881                                   0          Automatic                NaN   \n",
       "\n",
       "    Engine Type Engine Size Engine Cylinder Count Number of Passengers  \\\n",
       "880         NaN         NaN                     0                  NaN   \n",
       "881         NaN         NaN                     0                  NaN   \n",
       "\n",
       "                               Heavy-Duty Power System  \\\n",
       "880                                                NaN   \n",
       "881  Workhorse Dual Axial Flux Interior Permanent M...   \n",
       "\n",
       "                                                 Notes Drivetrain  \n",
       "880  According to manufacturer: 340kW; 455hp; 4,051...        NaN  \n",
       "881  According to manufacturer: Up to 105 kWh batte...        NaN  \n",
       "\n",
       "[2 rows x 22 columns]"
      ]
     },
     "execution_count": 356,
     "metadata": {},
     "output_type": "execute_result"
    }
   ],
   "source": [
    "df_alternative_fuel.tail(2)  # Drivetrain es Tren motriz"
   ]
  },
  {
   "cell_type": "code",
   "execution_count": 357,
   "metadata": {},
   "outputs": [
    {
     "data": {
      "text/plain": [
       "<Axes: >"
      ]
     },
     "execution_count": 357,
     "metadata": {},
     "output_type": "execute_result"
    },
    {
     "data": {
      "image/png": "[encoded data removed]",
      "text/plain": [
       "<Figure size 640x480 with 1 Axes>"
      ]
     },
     "metadata": {},
     "output_type": "display_data"
    }
   ],
   "source": [
    "# DF 'df_alternative_fuel' como DataFrame\n",
    "sns.boxplot(data=df_alternative_fuel[[\"All-Electric Range\", \"PHEV Total Range\",\n",
    "        \"Alternative Fuel Economy City\", \"Alternative Fuel Economy Highway\",\n",
    "        \"Alternative Fuel Economy Combined\", \"Conventional Fuel Economy City\",\n",
    "        \"Conventional Fuel Economy Highway\",\n",
    "        \"Conventional Fuel Economy Combined\"]])"
   ]
  },
  {
   "cell_type": "code",
   "execution_count": 358,
   "metadata": {},
   "outputs": [
    {
     "data": {
      "text/html": [
       "<div>\n",
       "<style scoped>\n",
       "    .dataframe tbody tr th:only-of-type {\n",
       "        vertical-align: middle;\n",
       "    }\n",
       "\n",
       "    .dataframe tbody tr th {\n",
       "        vertical-align: top;\n",
       "    }\n",
       "\n",
       "    .dataframe thead th {\n",
       "        text-align: right;\n",
       "    }\n",
       "</style>\n",
       "<table border=\"1\" class=\"dataframe\">\n",
       "  <thead>\n",
       "    <tr style=\"text-align: right;\">\n",
       "      <th></th>\n",
       "      <th>Model Year</th>\n",
       "      <th>All-Electric Range</th>\n",
       "      <th>PHEV Total Range</th>\n",
       "      <th>Alternative Fuel Economy City</th>\n",
       "      <th>Alternative Fuel Economy Highway</th>\n",
       "      <th>Alternative Fuel Economy Combined</th>\n",
       "      <th>Conventional Fuel Economy City</th>\n",
       "      <th>Conventional Fuel Economy Highway</th>\n",
       "      <th>Conventional Fuel Economy Combined</th>\n",
       "      <th>Engine Cylinder Count</th>\n",
       "    </tr>\n",
       "  </thead>\n",
       "  <tbody>\n",
       "    <tr>\n",
       "      <th>count</th>\n",
       "      <td>882.000000</td>\n",
       "      <td>882.000000</td>\n",
       "      <td>882.000000</td>\n",
       "      <td>882.000000</td>\n",
       "      <td>882.000000</td>\n",
       "      <td>882.000000</td>\n",
       "      <td>882.000000</td>\n",
       "      <td>882.000000</td>\n",
       "      <td>882.000000</td>\n",
       "      <td>882.000000</td>\n",
       "    </tr>\n",
       "    <tr>\n",
       "      <th>mean</th>\n",
       "      <td>1361.444444</td>\n",
       "      <td>41.764172</td>\n",
       "      <td>21.961451</td>\n",
       "      <td>16.207483</td>\n",
       "      <td>14.867347</td>\n",
       "      <td>22.573696</td>\n",
       "      <td>13.038549</td>\n",
       "      <td>15.145125</td>\n",
       "      <td>13.723356</td>\n",
       "      <td>2.775510</td>\n",
       "    </tr>\n",
       "    <tr>\n",
       "      <th>std</th>\n",
       "      <td>948.526184</td>\n",
       "      <td>98.124009</td>\n",
       "      <td>99.166256</td>\n",
       "      <td>37.496440</td>\n",
       "      <td>33.733473</td>\n",
       "      <td>38.940563</td>\n",
       "      <td>15.073437</td>\n",
       "      <td>17.581767</td>\n",
       "      <td>15.307758</td>\n",
       "      <td>2.903196</td>\n",
       "    </tr>\n",
       "    <tr>\n",
       "      <th>min</th>\n",
       "      <td>0.000000</td>\n",
       "      <td>0.000000</td>\n",
       "      <td>0.000000</td>\n",
       "      <td>0.000000</td>\n",
       "      <td>0.000000</td>\n",
       "      <td>0.000000</td>\n",
       "      <td>0.000000</td>\n",
       "      <td>0.000000</td>\n",
       "      <td>0.000000</td>\n",
       "      <td>0.000000</td>\n",
       "    </tr>\n",
       "    <tr>\n",
       "      <th>25%</th>\n",
       "      <td>0.000000</td>\n",
       "      <td>0.000000</td>\n",
       "      <td>0.000000</td>\n",
       "      <td>0.000000</td>\n",
       "      <td>0.000000</td>\n",
       "      <td>0.000000</td>\n",
       "      <td>0.000000</td>\n",
       "      <td>0.000000</td>\n",
       "      <td>0.000000</td>\n",
       "      <td>0.000000</td>\n",
       "    </tr>\n",
       "    <tr>\n",
       "      <th>50%</th>\n",
       "      <td>2021.000000</td>\n",
       "      <td>0.000000</td>\n",
       "      <td>0.000000</td>\n",
       "      <td>0.000000</td>\n",
       "      <td>0.000000</td>\n",
       "      <td>0.000000</td>\n",
       "      <td>13.500000</td>\n",
       "      <td>17.000000</td>\n",
       "      <td>15.000000</td>\n",
       "      <td>4.000000</td>\n",
       "    </tr>\n",
       "    <tr>\n",
       "      <th>75%</th>\n",
       "      <td>2022.000000</td>\n",
       "      <td>8.000000</td>\n",
       "      <td>0.000000</td>\n",
       "      <td>0.000000</td>\n",
       "      <td>0.000000</td>\n",
       "      <td>46.000000</td>\n",
       "      <td>22.000000</td>\n",
       "      <td>28.000000</td>\n",
       "      <td>24.000000</td>\n",
       "      <td>6.000000</td>\n",
       "    </tr>\n",
       "    <tr>\n",
       "      <th>max</th>\n",
       "      <td>2022.000000</td>\n",
       "      <td>520.000000</td>\n",
       "      <td>640.000000</td>\n",
       "      <td>150.000000</td>\n",
       "      <td>133.000000</td>\n",
       "      <td>142.000000</td>\n",
       "      <td>59.000000</td>\n",
       "      <td>231.000000</td>\n",
       "      <td>59.000000</td>\n",
       "      <td>8.000000</td>\n",
       "    </tr>\n",
       "  </tbody>\n",
       "</table>\n",
       "</div>"
      ],
      "text/plain": [
       "        Model Year  All-Electric Range  PHEV Total Range  \\\n",
       "count   882.000000          882.000000        882.000000   \n",
       "mean   1361.444444           41.764172         21.961451   \n",
       "std     948.526184           98.124009         99.166256   \n",
       "min       0.000000            0.000000          0.000000   \n",
       "25%       0.000000            0.000000          0.000000   \n",
       "50%    2021.000000            0.000000          0.000000   \n",
       "75%    2022.000000            8.000000          0.000000   \n",
       "max    2022.000000          520.000000        640.000000   \n",
       "\n",
       "       Alternative Fuel Economy City  Alternative Fuel Economy Highway  \\\n",
       "count                     882.000000                        882.000000   \n",
       "mean                       16.207483                         14.867347   \n",
       "std                        37.496440                         33.733473   \n",
       "min                         0.000000                          0.000000   \n",
       "25%                         0.000000                          0.000000   \n",
       "50%                         0.000000                          0.000000   \n",
       "75%                         0.000000                          0.000000   \n",
       "max                       150.000000                        133.000000   \n",
       "\n",
       "       Alternative Fuel Economy Combined  Conventional Fuel Economy City  \\\n",
       "count                         882.000000                      882.000000   \n",
       "mean                           22.573696                       13.038549   \n",
       "std                            38.940563                       15.073437   \n",
       "min                             0.000000                        0.000000   \n",
       "25%                             0.000000                        0.000000   \n",
       "50%                             0.000000                       13.500000   \n",
       "75%                            46.000000                       22.000000   \n",
       "max                           142.000000                       59.000000   \n",
       "\n",
       "       Conventional Fuel Economy Highway  Conventional Fuel Economy Combined  \\\n",
       "count                         882.000000                          882.000000   \n",
       "mean                           15.145125                           13.723356   \n",
       "std                            17.581767                           15.307758   \n",
       "min                             0.000000                            0.000000   \n",
       "25%                             0.000000                            0.000000   \n",
       "50%                            17.000000                           15.000000   \n",
       "75%                            28.000000                           24.000000   \n",
       "max                           231.000000                           59.000000   \n",
       "\n",
       "       Engine Cylinder Count  \n",
       "count             882.000000  \n",
       "mean                2.775510  \n",
       "std                 2.903196  \n",
       "min                 0.000000  \n",
       "25%                 0.000000  \n",
       "50%                 4.000000  \n",
       "75%                 6.000000  \n",
       "max                 8.000000  "
      ]
     },
     "execution_count": 358,
     "metadata": {},
     "output_type": "execute_result"
    }
   ],
   "source": [
    "df_alternative_fuel.describe()"
   ]
  },
  {
   "cell_type": "markdown",
   "metadata": {},
   "source": [
    "**Gráfico de caja con bigotes con Automóviles con combustible alternativo:**\n",
    "- Todo Eléctrico\n",
    "- Auto híbrido\n",
    "- Alternativo económico ciudad\n",
    "- Alternativo económico autopista\n",
    "- Alternativo económico combinado\n",
    "- Convencional económico ciudad\n",
    "- Convencional económico autopista\n",
    "- Convencional económico combinado\n",
    "\n",
    "\n",
    "**Diagrama de Caja con Bigotes para tipo de Vehículos según su tipo (2021-2022)**\n",
    "\n",
    "*Variables:*\n",
    "\n",
    "*Tipo de Combustible:* Todo Eléctrico, Híbrido Enchufable, Alternativo (Ciudad/Autopista/Combinado), Convencional (Ciudad/Autopista/Combinado),\n",
    "distribución de su frecuencia (cuántos hay de cada tipo).\n",
    "\n",
    "**Interpretación:**\n",
    "\n",
    "El diagrama de caja con bigotes muestra la distribución de frecuencia de tipos de vehículos de los años 2021-2022. Cada caja representa la frecuencia, con las siguientes características:\n",
    "\n",
    "**Fila \"std\":** Representa la desviación estándar para cada columna. Indica qué tan dispersos están los datos con respecto al promedio.\n",
    "**Filas \"min\", \"25%\", \"50%\", \"75%\", \"max\":** Representan valores percentiles. Por ejemplo, en la columna \"Year\", el valor en \"50%\" (mediana) es 2021, lo que indica que la mitad de los vehículos son del año 2021 o más nuevos y la otra mitad es del 2021 o más antiguos.\n",
    "\n",
    "**Fila \"count\":** Indica la cantidad de vehículos para los que se tienen datos en cada columna. En este caso, hay información para 882 automóviles en todas las columnas y\n",
    "para \"max\": All-Electric Range: 520; PHEV Total Range: 640;\tAlternative Fuel Economy City: 150;\tAlternative Fuel Economy Highway: 133;\tAlternative Fuel Economy Combined: 142;\tConventional Fuel Economy City: 59;\tConventional Fuel Economy Highway: 231;\tConventional Fuel Economy Combined: 59.\n",
    "La variabilidad es muy alta por la std respecto de la media."
   ]
  },
  {
   "cell_type": "code",
   "execution_count": 468,
   "metadata": {},
   "outputs": [],
   "source": [
    "# Cantidad de valores nulos en cada columna\n",
    "null_counts_alt_fuel = df_alternative_fuel.isnull().sum()"
   ]
  },
  {
   "cell_type": "code",
   "execution_count": 469,
   "metadata": {},
   "outputs": [
    {
     "data": {
      "text/plain": [
       "Category                                0\n",
       "Model                                   0\n",
       "Model Year                              0\n",
       "Manufacturer                            0\n",
       "Fuel                                    0\n",
       "All-Electric Range                      0\n",
       "PHEV Total Range                        0\n",
       "Alternative Fuel Economy City           0\n",
       "Alternative Fuel Economy Highway        0\n",
       "Alternative Fuel Economy Combined       0\n",
       "Conventional Fuel Economy City          0\n",
       "Conventional Fuel Economy Highway       0\n",
       "Conventional Fuel Economy Combined      0\n",
       "Transmission Type                     242\n",
       "Transmission Make                     757\n",
       "Engine Type                           293\n",
       "Engine Size                           293\n",
       "Engine Cylinder Count                   0\n",
       "Number of Passengers                  761\n",
       "Heavy-Duty Power System               637\n",
       "Notes                                 703\n",
       "Drivetrain                            553\n",
       "dtype: int64"
      ]
     },
     "execution_count": 469,
     "metadata": {},
     "output_type": "execute_result"
    }
   ],
   "source": [
    "null_counts_alt_fuel"
   ]
  },
  {
   "cell_type": "code",
   "execution_count": 361,
   "metadata": {},
   "outputs": [],
   "source": [
    "# Hay algunas notas sobre gasto y rendimiento de automóvil.\n",
    "# df_alternative_fuel[\"Notes\"].unique() "
   ]
  },
  {
   "cell_type": "code",
   "execution_count": 362,
   "metadata": {},
   "outputs": [],
   "source": [
    "# Ver nombre de columnas\n",
    "# df_alternative_fuel.columns"
   ]
  },
  {
   "cell_type": "code",
   "execution_count": 363,
   "metadata": {},
   "outputs": [],
   "source": [
    "# Cantidad de valores nulos en cada columna\n",
    "null_counts_alternative_fuel = df_alternative_fuel.isnull().sum()"
   ]
  },
  {
   "cell_type": "code",
   "execution_count": 364,
   "metadata": {},
   "outputs": [
    {
     "data": {
      "text/plain": [
       "Category                                0\n",
       "Model                                   0\n",
       "Model Year                              0\n",
       "Manufacturer                            0\n",
       "Fuel                                    0\n",
       "All-Electric Range                      0\n",
       "PHEV Total Range                        0\n",
       "Alternative Fuel Economy City           0\n",
       "Alternative Fuel Economy Highway        0\n",
       "Alternative Fuel Economy Combined       0\n",
       "Conventional Fuel Economy City          0\n",
       "Conventional Fuel Economy Highway       0\n",
       "Conventional Fuel Economy Combined      0\n",
       "Transmission Type                     242\n",
       "Transmission Make                     757\n",
       "Engine Type                           293\n",
       "Engine Size                           293\n",
       "Engine Cylinder Count                   0\n",
       "Number of Passengers                  761\n",
       "Heavy-Duty Power System               637\n",
       "Notes                                 703\n",
       "Drivetrain                            553\n",
       "dtype: int64"
      ]
     },
     "execution_count": 364,
     "metadata": {},
     "output_type": "execute_result"
    }
   ],
   "source": [
    "null_counts_alternative_fuel"
   ]
  },
  {
   "cell_type": "markdown",
   "metadata": {},
   "source": [
    "Estaciones de carga de combustible, eléctrico y alternativo:"
   ]
  },
  {
   "cell_type": "code",
   "execution_count": 365,
   "metadata": {},
   "outputs": [],
   "source": [
    "# Assumiendo que el archivo está en la carpeta\n",
    "# Cambiar al directorio con el archivo\n",
    "file_path = \"C:/Users/56988/Desktop/NYdrive/DATASETORIGEN/Electric and Alternative Fuel Charging Stations.csv\"\n",
    "os.chdir(\"C:/Users/56988/Desktop/NYdrive/\")"
   ]
  },
  {
   "cell_type": "code",
   "execution_count": 366,
   "metadata": {},
   "outputs": [],
   "source": [
    "# Dataframe alternative fuel     28, 2 seg en abrir\n",
    "df_alternative_elec = pd.read_csv(file_path)"
   ]
  },
  {
   "cell_type": "code",
   "execution_count": 367,
   "metadata": {},
   "outputs": [
    {
     "data": {
      "text/html": [
       "<div>\n",
       "<style scoped>\n",
       "    .dataframe tbody tr th:only-of-type {\n",
       "        vertical-align: middle;\n",
       "    }\n",
       "\n",
       "    .dataframe tbody tr th {\n",
       "        vertical-align: top;\n",
       "    }\n",
       "\n",
       "    .dataframe thead th {\n",
       "        text-align: right;\n",
       "    }\n",
       "</style>\n",
       "<table border=\"1\" class=\"dataframe\">\n",
       "  <thead>\n",
       "    <tr style=\"text-align: right;\">\n",
       "      <th></th>\n",
       "      <th>Fuel Type Code</th>\n",
       "      <th>Station Name</th>\n",
       "      <th>Street Address</th>\n",
       "      <th>Intersection Directions</th>\n",
       "      <th>City</th>\n",
       "      <th>State</th>\n",
       "      <th>ZIP</th>\n",
       "      <th>Plus4</th>\n",
       "      <th>Station Phone</th>\n",
       "      <th>Status Code</th>\n",
       "      <th>...</th>\n",
       "      <th>EV Pricing (French)</th>\n",
       "      <th>LPG Nozzle Types</th>\n",
       "      <th>Hydrogen Pressures</th>\n",
       "      <th>Hydrogen Standards</th>\n",
       "      <th>CNG Fill Type Code</th>\n",
       "      <th>CNG PSI</th>\n",
       "      <th>CNG Vehicle Class</th>\n",
       "      <th>LNG Vehicle Class</th>\n",
       "      <th>EV On-Site Renewable Source</th>\n",
       "      <th>Restricted Access</th>\n",
       "    </tr>\n",
       "  </thead>\n",
       "  <tbody>\n",
       "    <tr>\n",
       "      <th>0</th>\n",
       "      <td>CNG</td>\n",
       "      <td>Spire - Montgomery Operations Center</td>\n",
       "      <td>2951 Chestnut St</td>\n",
       "      <td>NaN</td>\n",
       "      <td>Montgomery</td>\n",
       "      <td>AL</td>\n",
       "      <td>36107</td>\n",
       "      <td>NaN</td>\n",
       "      <td>NaN</td>\n",
       "      <td>E</td>\n",
       "      <td>...</td>\n",
       "      <td>NaN</td>\n",
       "      <td>NaN</td>\n",
       "      <td>NaN</td>\n",
       "      <td>NaN</td>\n",
       "      <td>B</td>\n",
       "      <td>3600</td>\n",
       "      <td>MD</td>\n",
       "      <td>NaN</td>\n",
       "      <td>NaN</td>\n",
       "      <td>NaN</td>\n",
       "    </tr>\n",
       "    <tr>\n",
       "      <th>1</th>\n",
       "      <td>CNG</td>\n",
       "      <td>PS Energy - Atlanta</td>\n",
       "      <td>340 Whitehall St</td>\n",
       "      <td>From I-7585 N, exit 91 to Central Ave, left on...</td>\n",
       "      <td>Atlanta</td>\n",
       "      <td>GA</td>\n",
       "      <td>30303</td>\n",
       "      <td>NaN</td>\n",
       "      <td>770-350-3000</td>\n",
       "      <td>E</td>\n",
       "      <td>...</td>\n",
       "      <td>NaN</td>\n",
       "      <td>NaN</td>\n",
       "      <td>NaN</td>\n",
       "      <td>NaN</td>\n",
       "      <td>Q</td>\n",
       "      <td>3600</td>\n",
       "      <td>MD</td>\n",
       "      <td>NaN</td>\n",
       "      <td>NaN</td>\n",
       "      <td>False</td>\n",
       "    </tr>\n",
       "  </tbody>\n",
       "</table>\n",
       "<p>2 rows × 65 columns</p>\n",
       "</div>"
      ],
      "text/plain": [
       "  Fuel Type Code                          Station Name    Street Address  \\\n",
       "0            CNG  Spire - Montgomery Operations Center  2951 Chestnut St   \n",
       "1            CNG                   PS Energy - Atlanta  340 Whitehall St   \n",
       "\n",
       "                             Intersection Directions        City State    ZIP  \\\n",
       "0                                                NaN  Montgomery    AL  36107   \n",
       "1  From I-7585 N, exit 91 to Central Ave, left on...     Atlanta    GA  30303   \n",
       "\n",
       "   Plus4 Station Phone Status Code  ... EV Pricing (French) LPG Nozzle Types  \\\n",
       "0    NaN           NaN           E  ...                 NaN              NaN   \n",
       "1    NaN  770-350-3000           E  ...                 NaN              NaN   \n",
       "\n",
       "  Hydrogen Pressures Hydrogen Standards CNG Fill Type Code CNG PSI  \\\n",
       "0                NaN                NaN                  B    3600   \n",
       "1                NaN                NaN                  Q    3600   \n",
       "\n",
       "  CNG Vehicle Class  LNG Vehicle Class  EV On-Site Renewable Source  \\\n",
       "0                MD                NaN                          NaN   \n",
       "1                MD                NaN                          NaN   \n",
       "\n",
       "   Restricted Access  \n",
       "0                NaN  \n",
       "1              False  \n",
       "\n",
       "[2 rows x 65 columns]"
      ]
     },
     "execution_count": 367,
     "metadata": {},
     "output_type": "execute_result"
    }
   ],
   "source": [
    "df_alternative_elec.head(2)"
   ]
  },
  {
   "cell_type": "code",
   "execution_count": 368,
   "metadata": {},
   "outputs": [],
   "source": [
    "# Cantidad de valores nulos en cada columna\n",
    "null_counts_alternative_elec = df_alternative_elec.isnull().sum()"
   ]
  },
  {
   "cell_type": "code",
   "execution_count": 369,
   "metadata": {},
   "outputs": [
    {
     "data": {
      "text/plain": [
       "array([36107, 30303, 30324, ..., 'H2Z 1A4', '07732', 'V9A 2A3'],\n",
       "      dtype=object)"
      ]
     },
     "execution_count": 369,
     "metadata": {},
     "output_type": "execute_result"
    }
   ],
   "source": [
    "df_alternative_elec[\"ZIP\"].unique()"
   ]
  },
  {
   "cell_type": "code",
   "execution_count": 370,
   "metadata": {},
   "outputs": [
    {
     "data": {
      "text/plain": [
       "Index(['Fuel Type Code', 'Station Name', 'Street Address',\n",
       "       'Intersection Directions', 'City', 'State', 'ZIP', 'Plus4',\n",
       "       'Station Phone', 'Status Code', 'Expected Date',\n",
       "       'Groups With Access Code', 'Access Days Time', 'Cards Accepted',\n",
       "       'BD Blends', 'NG Fill Type Code', 'NG PSI', 'EV Level1 EVSE Num',\n",
       "       'EV Level2 EVSE Num', 'EV DC Fast Count', 'EV Other Info', 'EV Network',\n",
       "       'EV Network Web', 'Geocode Status', 'Latitude', 'Longitude',\n",
       "       'Date Last Confirmed', 'ID', 'Updated At', 'Owner Type Code',\n",
       "       'Federal Agency ID', 'Federal Agency Name', 'Open Date',\n",
       "       'Hydrogen Status Link', 'NG Vehicle Class', 'LPG Primary',\n",
       "       'E85 Blender Pump', 'EV Connector Types', 'Country',\n",
       "       'Intersection Directions (French)', 'Access Days Time (French)',\n",
       "       'BD Blends (French)', 'Groups With Access Code (French)',\n",
       "       'Hydrogen Is Retail', 'Access Code', 'Access Detail Code',\n",
       "       'Federal Agency Code', 'Facility Type', 'CNG Dispenser Num',\n",
       "       'CNG On-Site Renewable Source', 'CNG Total Compression Capacity',\n",
       "       'CNG Storage Capacity', 'LNG On-Site Renewable Source',\n",
       "       'E85 Other Ethanol Blends', 'EV Pricing', 'EV Pricing (French)',\n",
       "       'LPG Nozzle Types', 'Hydrogen Pressures', 'Hydrogen Standards',\n",
       "       'CNG Fill Type Code', 'CNG PSI', 'CNG Vehicle Class',\n",
       "       'LNG Vehicle Class', 'EV On-Site Renewable Source',\n",
       "       'Restricted Access'],\n",
       "      dtype='object')"
      ]
     },
     "execution_count": 370,
     "metadata": {},
     "output_type": "execute_result"
    }
   ],
   "source": [
    "df_alternative_elec.columns"
   ]
  },
  {
   "cell_type": "code",
   "execution_count": 371,
   "metadata": {},
   "outputs": [
    {
     "data": {
      "text/plain": [
       "Fuel Type Code                     0\n",
       "Station Name                       0\n",
       "Street Address                     1\n",
       "Intersection Directions        65914\n",
       "City                               0\n",
       "                               ...  \n",
       "CNG PSI                        68809\n",
       "CNG Vehicle Class              68784\n",
       "LNG Vehicle Class              70248\n",
       "EV On-Site Renewable Source    70036\n",
       "Restricted Access              16971\n",
       "Length: 65, dtype: int64"
      ]
     },
     "execution_count": 371,
     "metadata": {},
     "output_type": "execute_result"
    }
   ],
   "source": [
    "null_counts_alternative_elec"
   ]
  },
  {
   "cell_type": "markdown",
   "metadata": {},
   "source": [
    "Datos de autos eléctricos, datos limpios:"
   ]
  },
  {
   "cell_type": "code",
   "execution_count": 372,
   "metadata": {},
   "outputs": [],
   "source": [
    "# Assumiendo que el archivo está en la carpeta\n",
    "# Cambiar al directorio con el archivo\n",
    "file_path = \"C:/Users/56988/Desktop/NYdrive/DATASETORIGEN/ElectricCarData_Clean.csv\"\n",
    "os.chdir(\"C:/Users/56988/Desktop/NYdrive/\")"
   ]
  },
  {
   "cell_type": "code",
   "execution_count": 373,
   "metadata": {},
   "outputs": [],
   "source": [
    "# Dataframe alternative fuel     28, 2 seg en abrir\n",
    "df_alternative_elec_clean = pd.read_csv(file_path)"
   ]
  },
  {
   "cell_type": "code",
   "execution_count": 374,
   "metadata": {},
   "outputs": [
    {
     "name": "stdout",
     "output_type": "stream",
     "text": [
      "<class 'pandas.core.frame.DataFrame'>\n",
      "RangeIndex: 103 entries, 0 to 102\n",
      "Data columns (total 14 columns):\n",
      " #   Column           Non-Null Count  Dtype  \n",
      "---  ------           --------------  -----  \n",
      " 0   Brand            103 non-null    object \n",
      " 1   Model            103 non-null    object \n",
      " 2   AccelSec         103 non-null    float64\n",
      " 3   TopSpeed_KmH     103 non-null    int64  \n",
      " 4   Range_Km         103 non-null    int64  \n",
      " 5   Efficiency_WhKm  103 non-null    int64  \n",
      " 6   FastCharge_KmH   103 non-null    object \n",
      " 7   RapidCharge      103 non-null    object \n",
      " 8   PowerTrain       103 non-null    object \n",
      " 9   PlugType         103 non-null    object \n",
      " 10  BodyStyle        103 non-null    object \n",
      " 11  Segment          103 non-null    object \n",
      " 12  Seats            103 non-null    int64  \n",
      " 13  PriceEuro        103 non-null    int64  \n",
      "dtypes: float64(1), int64(5), object(8)\n",
      "memory usage: 11.4+ KB\n"
     ]
    }
   ],
   "source": [
    "df_alternative_elec_clean.info()"
   ]
  },
  {
   "cell_type": "code",
   "execution_count": 375,
   "metadata": {},
   "outputs": [
    {
     "data": {
      "text/html": [
       "<div>\n",
       "<style scoped>\n",
       "    .dataframe tbody tr th:only-of-type {\n",
       "        vertical-align: middle;\n",
       "    }\n",
       "\n",
       "    .dataframe tbody tr th {\n",
       "        vertical-align: top;\n",
       "    }\n",
       "\n",
       "    .dataframe thead th {\n",
       "        text-align: right;\n",
       "    }\n",
       "</style>\n",
       "<table border=\"1\" class=\"dataframe\">\n",
       "  <thead>\n",
       "    <tr style=\"text-align: right;\">\n",
       "      <th></th>\n",
       "      <th>Brand</th>\n",
       "      <th>Model</th>\n",
       "      <th>AccelSec</th>\n",
       "      <th>TopSpeed_KmH</th>\n",
       "      <th>Range_Km</th>\n",
       "      <th>Efficiency_WhKm</th>\n",
       "      <th>FastCharge_KmH</th>\n",
       "      <th>RapidCharge</th>\n",
       "      <th>PowerTrain</th>\n",
       "      <th>PlugType</th>\n",
       "      <th>BodyStyle</th>\n",
       "      <th>Segment</th>\n",
       "      <th>Seats</th>\n",
       "      <th>PriceEuro</th>\n",
       "    </tr>\n",
       "  </thead>\n",
       "  <tbody>\n",
       "    <tr>\n",
       "      <th>0</th>\n",
       "      <td>Tesla</td>\n",
       "      <td>Model 3 Long Range Dual Motor</td>\n",
       "      <td>4.6</td>\n",
       "      <td>233</td>\n",
       "      <td>450</td>\n",
       "      <td>161</td>\n",
       "      <td>940</td>\n",
       "      <td>Yes</td>\n",
       "      <td>AWD</td>\n",
       "      <td>Type 2 CCS</td>\n",
       "      <td>Sedan</td>\n",
       "      <td>D</td>\n",
       "      <td>5</td>\n",
       "      <td>55480</td>\n",
       "    </tr>\n",
       "    <tr>\n",
       "      <th>1</th>\n",
       "      <td>Volkswagen</td>\n",
       "      <td>ID.3 Pure</td>\n",
       "      <td>10.0</td>\n",
       "      <td>160</td>\n",
       "      <td>270</td>\n",
       "      <td>167</td>\n",
       "      <td>250</td>\n",
       "      <td>Yes</td>\n",
       "      <td>RWD</td>\n",
       "      <td>Type 2 CCS</td>\n",
       "      <td>Hatchback</td>\n",
       "      <td>C</td>\n",
       "      <td>5</td>\n",
       "      <td>30000</td>\n",
       "    </tr>\n",
       "  </tbody>\n",
       "</table>\n",
       "</div>"
      ],
      "text/plain": [
       "         Brand                          Model  AccelSec  TopSpeed_KmH  \\\n",
       "0       Tesla   Model 3 Long Range Dual Motor       4.6           233   \n",
       "1  Volkswagen                       ID.3 Pure      10.0           160   \n",
       "\n",
       "   Range_Km  Efficiency_WhKm FastCharge_KmH RapidCharge PowerTrain  \\\n",
       "0       450              161            940         Yes        AWD   \n",
       "1       270              167            250         Yes        RWD   \n",
       "\n",
       "     PlugType  BodyStyle Segment  Seats  PriceEuro  \n",
       "0  Type 2 CCS      Sedan       D      5      55480  \n",
       "1  Type 2 CCS  Hatchback       C      5      30000  "
      ]
     },
     "execution_count": 375,
     "metadata": {},
     "output_type": "execute_result"
    }
   ],
   "source": [
    "# TABLA SIMPLIFICADA DE LOS DATOS EN KILOMETRAJE DE LA CLEAN\n",
    "df_alternative_elec_clean.head(2)"
   ]
  },
  {
   "cell_type": "code",
   "execution_count": 376,
   "metadata": {},
   "outputs": [
    {
     "data": {
      "text/plain": [
       "array(['Type 2 CCS', 'Type 2 CHAdeMO', 'Type 2', 'Type 1 CHAdeMO'],\n",
       "      dtype=object)"
      ]
     },
     "execution_count": 376,
     "metadata": {},
     "output_type": "execute_result"
    }
   ],
   "source": [
    "df_alternative_elec_clean[\"PlugType\"].unique()"
   ]
  },
  {
   "cell_type": "code",
   "execution_count": 377,
   "metadata": {},
   "outputs": [],
   "source": [
    "# Cantidad de valores nulos en cada columna\n",
    "null_counts_alternative_elec_clean = df_alternative_elec_clean.isnull().sum()"
   ]
  },
  {
   "cell_type": "code",
   "execution_count": 378,
   "metadata": {},
   "outputs": [
    {
     "data": {
      "text/plain": [
       "Brand              0\n",
       "Model              0\n",
       "AccelSec           0\n",
       "TopSpeed_KmH       0\n",
       "Range_Km           0\n",
       "Efficiency_WhKm    0\n",
       "FastCharge_KmH     0\n",
       "RapidCharge        0\n",
       "PowerTrain         0\n",
       "PlugType           0\n",
       "BodyStyle          0\n",
       "Segment            0\n",
       "Seats              0\n",
       "PriceEuro          0\n",
       "dtype: int64"
      ]
     },
     "execution_count": 378,
     "metadata": {},
     "output_type": "execute_result"
    }
   ],
   "source": [
    "null_counts_alternative_elec_clean"
   ]
  },
  {
   "cell_type": "code",
   "execution_count": 379,
   "metadata": {},
   "outputs": [
    {
     "data": {
      "image/png": "[encoded data removed]",
      "text/plain": [
       "<Figure size 900x500 with 6 Axes>"
      ]
     },
     "metadata": {},
     "output_type": "display_data"
    }
   ],
   "source": [
    "# Gráfico de distribución para cada variable numérica\n",
    "# ==============================================================================\n",
    "# Ajustar número de subplots en función del número de columnas\n",
    "fig, axes = plt.subplots(nrows=2, ncols=3, figsize=(9, 5))\n",
    "axes = axes.flat\n",
    "columnas_numeric = df_alternative_elec_clean.select_dtypes(include=['float64', 'int']).columns\n",
    "# Check if 'string' is in columnas_numeric before dropping\n",
    "if 'string' in columnas_numeric:\n",
    "    columnas_numeric = columnas_numeric.drop('string')\n",
    "\n",
    "for i, colum in enumerate(columnas_numeric):\n",
    "    sns.histplot(\n",
    "        data     = df_alternative_elec_clean,\n",
    "        x        = colum,\n",
    "        stat     = \"count\",\n",
    "        kde      = True,\n",
    "        color    = (list(plt.rcParams['axes.prop_cycle'])*2)[i][\"color\"],\n",
    "        line_kws = {'linewidth': 2},\n",
    "        alpha    = 0.3,\n",
    "        ax       = axes[i]\n",
    "    )\n",
    "    axes[i].set_title(colum, fontsize = 7, fontweight = \"bold\")\n",
    "    axes[i].tick_params(labelsize = 6)\n",
    "    axes[i].set_xlabel(\"\")\n",
    "    \n",
    "fig.tight_layout()\n",
    "plt.subplots_adjust(top = 0.9)\n",
    "fig.suptitle('Distribución variables numéricas', fontsize = 10, fontweight = \"bold\")\n",
    "\n",
    "plt.show()"
   ]
  },
  {
   "cell_type": "markdown",
   "metadata": {},
   "source": [
    "Datos de autos eléctricos, normales, conviene utilizar la clean, porque ya están convetidos sus valores para comparar."
   ]
  },
  {
   "cell_type": "markdown",
   "metadata": {},
   "source": [
    "**Suponiendo que los datos se refieren a vehículos eléctricos, esto es lo que probablemente representa cada columna para los modelos de automóviles:**\n",
    "\n",
    "- AccelSec: Tiempo de aceleración de 0 a 100 kilómetros por hora (km/h), medido en segundos. Los valores más bajos indican una aceleración más rápida.\n",
    "\n",
    "- TopSpeed_KmH: Velocidad máxima que puede alcanzar el vehículo, medida en kilómetros por hora.\n",
    "\n",
    "- Range_Km: Autonomía del vehículo con una sola carga completa, medida en kilómetros. Los valores más altos indican una mayor autonomía.\n",
    "\n",
    "- Efficiency_WhKm: Eficiencia energética del vehículo, medida en vatios-hora por kilómetro (Wh/km). Los valores más bajos indican una mejor eficiencia, lo que significa que el vehículo utiliza menos energía para recorrer una distancia determinada.\n",
    "\n",
    "- Asientos: Número de asientos del vehículo.\n",
    "\n",
    "- PriceEuro: Precio del vehículo en euros.\n",
    "\n",
    "*Ejemplos:*\n",
    "\n",
    "**Modelo A:** AccelSec: 4,5; TopSpeed_KmH: 200; Range_Km: 400; Efficiency_WhKm: 150; Seats: 5; PriceEuro: 35000.\n",
    "Esto significa que el Modelo A puede acelerar de 0 a 100 km/h en 4,5 segundos, tiene una velocidad máxima de 200 km/h, puede recorrer 400 kilómetros con una sola carga, consume 150 Wh/km, tiene 5 plazas y cuesta 35.000 euros.\n",
    "\n",
    "**Modelo B:** AccelSec: 7,0; TopSpeed_KmH: 160; Range_Km: 250; Efficiency_WhKm: 180; Seats: 4; PriceEuro: 28000.\n",
    "Esto significa que el Modelo B acelera de 0 a 100 km/h en 7 segundos, tiene una velocidad máxima de 160 km/h, puede recorrer 250 kilómetros con una sola carga, consume 180 Wh/km, tiene 4 asientos y cuesta 28.000 euros.\n",
    "\n",
    "Estas columnas proporcionan información valiosa para comparar el rendimiento, la eficiencia y el valor general de diferentes modelos de coches eléctricos."
   ]
  },
  {
   "cell_type": "code",
   "execution_count": 380,
   "metadata": {},
   "outputs": [],
   "source": [
    "# Assumiendo que el archivo está en la carpeta\n",
    "# Cambiar al directorio con el archivo\n",
    "file_path = \"C:/Users/56988/Desktop/NYdrive/DATASETORIGEN/ElectricCarData_Norm.csv\"\n",
    "os.chdir(\"C:/Users/56988/Desktop/NYdrive/\")"
   ]
  },
  {
   "cell_type": "code",
   "execution_count": 381,
   "metadata": {},
   "outputs": [],
   "source": [
    "# Dataframe alternative fuel     28, 2 seg en abrir\n",
    "df_alternative_elec_norm = pd.read_csv(file_path)"
   ]
  },
  {
   "cell_type": "code",
   "execution_count": 382,
   "metadata": {},
   "outputs": [
    {
     "name": "stdout",
     "output_type": "stream",
     "text": [
      "<class 'pandas.core.frame.DataFrame'>\n",
      "RangeIndex: 103 entries, 0 to 102\n",
      "Data columns (total 14 columns):\n",
      " #   Column       Non-Null Count  Dtype \n",
      "---  ------       --------------  ----- \n",
      " 0   Brand        103 non-null    object\n",
      " 1   Model        103 non-null    object\n",
      " 2   Accel        103 non-null    object\n",
      " 3   TopSpeed     103 non-null    object\n",
      " 4   Range        103 non-null    object\n",
      " 5   Efficiency   103 non-null    object\n",
      " 6   FastCharge   103 non-null    object\n",
      " 7   RapidCharge  103 non-null    object\n",
      " 8   PowerTrain   103 non-null    object\n",
      " 9   PlugType     103 non-null    object\n",
      " 10  BodyStyle    103 non-null    object\n",
      " 11  Segment      103 non-null    object\n",
      " 12  Seats        103 non-null    int64 \n",
      " 13  PriceEuro    103 non-null    int64 \n",
      "dtypes: int64(2), object(12)\n",
      "memory usage: 11.4+ KB\n"
     ]
    }
   ],
   "source": [
    "df_alternative_elec_norm.info()"
   ]
  },
  {
   "cell_type": "code",
   "execution_count": 383,
   "metadata": {},
   "outputs": [
    {
     "data": {
      "text/html": [
       "<div>\n",
       "<style scoped>\n",
       "    .dataframe tbody tr th:only-of-type {\n",
       "        vertical-align: middle;\n",
       "    }\n",
       "\n",
       "    .dataframe tbody tr th {\n",
       "        vertical-align: top;\n",
       "    }\n",
       "\n",
       "    .dataframe thead th {\n",
       "        text-align: right;\n",
       "    }\n",
       "</style>\n",
       "<table border=\"1\" class=\"dataframe\">\n",
       "  <thead>\n",
       "    <tr style=\"text-align: right;\">\n",
       "      <th></th>\n",
       "      <th>Brand</th>\n",
       "      <th>Model</th>\n",
       "      <th>Accel</th>\n",
       "      <th>TopSpeed</th>\n",
       "      <th>Range</th>\n",
       "      <th>Efficiency</th>\n",
       "      <th>FastCharge</th>\n",
       "      <th>RapidCharge</th>\n",
       "      <th>PowerTrain</th>\n",
       "      <th>PlugType</th>\n",
       "      <th>BodyStyle</th>\n",
       "      <th>Segment</th>\n",
       "      <th>Seats</th>\n",
       "      <th>PriceEuro</th>\n",
       "    </tr>\n",
       "  </thead>\n",
       "  <tbody>\n",
       "    <tr>\n",
       "      <th>0</th>\n",
       "      <td>Tesla</td>\n",
       "      <td>Model 3 Long Range Dual Motor</td>\n",
       "      <td>4.6 sec</td>\n",
       "      <td>233 km/h</td>\n",
       "      <td>450 km</td>\n",
       "      <td>161 Wh/km</td>\n",
       "      <td>940 km/h</td>\n",
       "      <td>Rapid charging possible</td>\n",
       "      <td>All Wheel Drive</td>\n",
       "      <td>Type 2 CCS</td>\n",
       "      <td>Sedan</td>\n",
       "      <td>D</td>\n",
       "      <td>5</td>\n",
       "      <td>55480</td>\n",
       "    </tr>\n",
       "    <tr>\n",
       "      <th>1</th>\n",
       "      <td>Volkswagen</td>\n",
       "      <td>ID.3 Pure</td>\n",
       "      <td>10.0 sec</td>\n",
       "      <td>160 km/h</td>\n",
       "      <td>270 km</td>\n",
       "      <td>167 Wh/km</td>\n",
       "      <td>250 km/h</td>\n",
       "      <td>Rapid charging possible</td>\n",
       "      <td>Rear Wheel Drive</td>\n",
       "      <td>Type 2 CCS</td>\n",
       "      <td>Hatchback</td>\n",
       "      <td>C</td>\n",
       "      <td>5</td>\n",
       "      <td>30000</td>\n",
       "    </tr>\n",
       "  </tbody>\n",
       "</table>\n",
       "</div>"
      ],
      "text/plain": [
       "         Brand                          Model     Accel  TopSpeed   Range  \\\n",
       "0       Tesla   Model 3 Long Range Dual Motor   4.6 sec  233 km/h  450 km   \n",
       "1  Volkswagen                       ID.3 Pure  10.0 sec  160 km/h  270 km   \n",
       "\n",
       "  Efficiency FastCharge              RapidCharge        PowerTrain  \\\n",
       "0  161 Wh/km   940 km/h  Rapid charging possible   All Wheel Drive   \n",
       "1  167 Wh/km   250 km/h  Rapid charging possible  Rear Wheel Drive   \n",
       "\n",
       "     PlugType  BodyStyle Segment  Seats  PriceEuro  \n",
       "0  Type 2 CCS      Sedan       D      5      55480  \n",
       "1  Type 2 CCS  Hatchback       C      5      30000  "
      ]
     },
     "execution_count": 383,
     "metadata": {},
     "output_type": "execute_result"
    }
   ],
   "source": [
    "df_alternative_elec_norm.head(2)"
   ]
  },
  {
   "cell_type": "code",
   "execution_count": 384,
   "metadata": {},
   "outputs": [],
   "source": [
    "# Cantidad de valores nulos en cada columna\n",
    "null_counts_alternative_elec_norm = df_alternative_elec_norm.isnull().sum()"
   ]
  },
  {
   "cell_type": "code",
   "execution_count": 385,
   "metadata": {},
   "outputs": [
    {
     "data": {
      "text/plain": [
       "Brand          0\n",
       "Model          0\n",
       "Accel          0\n",
       "TopSpeed       0\n",
       "Range          0\n",
       "Efficiency     0\n",
       "FastCharge     0\n",
       "RapidCharge    0\n",
       "PowerTrain     0\n",
       "PlugType       0\n",
       "BodyStyle      0\n",
       "Segment        0\n",
       "Seats          0\n",
       "PriceEuro      0\n",
       "dtype: int64"
      ]
     },
     "execution_count": 385,
     "metadata": {},
     "output_type": "execute_result"
    }
   ],
   "source": [
    "null_counts_alternative_elec_norm"
   ]
  },
  {
   "cell_type": "markdown",
   "metadata": {},
   "source": [
    "Archivo de taxi+zone+lookup:"
   ]
  },
  {
   "cell_type": "code",
   "execution_count": 386,
   "metadata": {},
   "outputs": [],
   "source": [
    "# Assumiendo que el archivo está en la carpeta\n",
    "# Cambiar al directorio con el archivo\n",
    "file_path = \"C:/Users/56988/Desktop/NYdrive/DATASETORIGEN/taxi+_zone_lookup.csv\"\n",
    "os.chdir(\"C:/Users/56988/Desktop/NYdrive/\")"
   ]
  },
  {
   "cell_type": "code",
   "execution_count": 387,
   "metadata": {},
   "outputs": [],
   "source": [
    "# Dataframe alternative fuel     28, 2 seg en abrir\n",
    "df_taxi_zone = pd.read_csv(file_path)"
   ]
  },
  {
   "cell_type": "code",
   "execution_count": 388,
   "metadata": {},
   "outputs": [
    {
     "data": {
      "text/html": [
       "<div>\n",
       "<style scoped>\n",
       "    .dataframe tbody tr th:only-of-type {\n",
       "        vertical-align: middle;\n",
       "    }\n",
       "\n",
       "    .dataframe tbody tr th {\n",
       "        vertical-align: top;\n",
       "    }\n",
       "\n",
       "    .dataframe thead th {\n",
       "        text-align: right;\n",
       "    }\n",
       "</style>\n",
       "<table border=\"1\" class=\"dataframe\">\n",
       "  <thead>\n",
       "    <tr style=\"text-align: right;\">\n",
       "      <th></th>\n",
       "      <th>LocationID</th>\n",
       "      <th>Borough</th>\n",
       "      <th>Zone</th>\n",
       "      <th>service_zone</th>\n",
       "    </tr>\n",
       "  </thead>\n",
       "  <tbody>\n",
       "    <tr>\n",
       "      <th>0</th>\n",
       "      <td>1</td>\n",
       "      <td>EWR</td>\n",
       "      <td>Newark Airport</td>\n",
       "      <td>EWR</td>\n",
       "    </tr>\n",
       "    <tr>\n",
       "      <th>1</th>\n",
       "      <td>2</td>\n",
       "      <td>Queens</td>\n",
       "      <td>Jamaica Bay</td>\n",
       "      <td>Boro Zone</td>\n",
       "    </tr>\n",
       "    <tr>\n",
       "      <th>2</th>\n",
       "      <td>3</td>\n",
       "      <td>Bronx</td>\n",
       "      <td>Allerton/Pelham Gardens</td>\n",
       "      <td>Boro Zone</td>\n",
       "    </tr>\n",
       "    <tr>\n",
       "      <th>3</th>\n",
       "      <td>4</td>\n",
       "      <td>Manhattan</td>\n",
       "      <td>Alphabet City</td>\n",
       "      <td>Yellow Zone</td>\n",
       "    </tr>\n",
       "    <tr>\n",
       "      <th>4</th>\n",
       "      <td>5</td>\n",
       "      <td>Staten Island</td>\n",
       "      <td>Arden Heights</td>\n",
       "      <td>Boro Zone</td>\n",
       "    </tr>\n",
       "    <tr>\n",
       "      <th>...</th>\n",
       "      <td>...</td>\n",
       "      <td>...</td>\n",
       "      <td>...</td>\n",
       "      <td>...</td>\n",
       "    </tr>\n",
       "    <tr>\n",
       "      <th>260</th>\n",
       "      <td>261</td>\n",
       "      <td>Manhattan</td>\n",
       "      <td>World Trade Center</td>\n",
       "      <td>Yellow Zone</td>\n",
       "    </tr>\n",
       "    <tr>\n",
       "      <th>261</th>\n",
       "      <td>262</td>\n",
       "      <td>Manhattan</td>\n",
       "      <td>Yorkville East</td>\n",
       "      <td>Yellow Zone</td>\n",
       "    </tr>\n",
       "    <tr>\n",
       "      <th>262</th>\n",
       "      <td>263</td>\n",
       "      <td>Manhattan</td>\n",
       "      <td>Yorkville West</td>\n",
       "      <td>Yellow Zone</td>\n",
       "    </tr>\n",
       "    <tr>\n",
       "      <th>263</th>\n",
       "      <td>264</td>\n",
       "      <td>Unknown</td>\n",
       "      <td>NV</td>\n",
       "      <td>NaN</td>\n",
       "    </tr>\n",
       "    <tr>\n",
       "      <th>264</th>\n",
       "      <td>265</td>\n",
       "      <td>Unknown</td>\n",
       "      <td>NaN</td>\n",
       "      <td>NaN</td>\n",
       "    </tr>\n",
       "  </tbody>\n",
       "</table>\n",
       "<p>265 rows × 4 columns</p>\n",
       "</div>"
      ],
      "text/plain": [
       "     LocationID        Borough                     Zone service_zone\n",
       "0             1            EWR           Newark Airport          EWR\n",
       "1             2         Queens              Jamaica Bay    Boro Zone\n",
       "2             3          Bronx  Allerton/Pelham Gardens    Boro Zone\n",
       "3             4      Manhattan            Alphabet City  Yellow Zone\n",
       "4             5  Staten Island            Arden Heights    Boro Zone\n",
       "..          ...            ...                      ...          ...\n",
       "260         261      Manhattan       World Trade Center  Yellow Zone\n",
       "261         262      Manhattan           Yorkville East  Yellow Zone\n",
       "262         263      Manhattan           Yorkville West  Yellow Zone\n",
       "263         264        Unknown                       NV          NaN\n",
       "264         265        Unknown                      NaN          NaN\n",
       "\n",
       "[265 rows x 4 columns]"
      ]
     },
     "execution_count": 388,
     "metadata": {},
     "output_type": "execute_result"
    }
   ],
   "source": [
    "df_taxi_zone"
   ]
  },
  {
   "cell_type": "code",
   "execution_count": 389,
   "metadata": {},
   "outputs": [
    {
     "data": {
      "text/plain": [
       "array(['EWR', 'Boro Zone', 'Yellow Zone', 'Airports', nan], dtype=object)"
      ]
     },
     "execution_count": 389,
     "metadata": {},
     "output_type": "execute_result"
    }
   ],
   "source": [
    "df_taxi_zone[\"service_zone\"].unique()"
   ]
  },
  {
   "cell_type": "code",
   "execution_count": 390,
   "metadata": {},
   "outputs": [],
   "source": [
    "# Cantidad de valores nulos en cada columna\n",
    "null_counts_taxi_zone = df_taxi_zone.isnull().sum()"
   ]
  },
  {
   "cell_type": "code",
   "execution_count": 391,
   "metadata": {},
   "outputs": [
    {
     "data": {
      "text/plain": [
       "LocationID      0\n",
       "Borough         0\n",
       "Zone            1\n",
       "service_zone    2\n",
       "dtype: int64"
      ]
     },
     "execution_count": 391,
     "metadata": {},
     "output_type": "execute_result"
    }
   ],
   "source": [
    "null_counts_taxi_zone"
   ]
  },
  {
   "cell_type": "markdown",
   "metadata": {},
   "source": [
    "Abrir archivo de metadata DATASETORIGEN\\taxi_zones.dbf"
   ]
  },
  {
   "cell_type": "code",
   "execution_count": 392,
   "metadata": {},
   "outputs": [],
   "source": [
    "# Abre el archivo DBF\n",
    "dbf = DBF(\"DATASETORIGEN/taxi_zones.dbf\")\n",
    "\n",
    "# Convierte los datos a un DataFrame\n",
    "df = DataFrame(iter(dbf))"
   ]
  },
  {
   "cell_type": "code",
   "execution_count": 393,
   "metadata": {},
   "outputs": [
    {
     "data": {
      "text/html": [
       "<div>\n",
       "<style scoped>\n",
       "    .dataframe tbody tr th:only-of-type {\n",
       "        vertical-align: middle;\n",
       "    }\n",
       "\n",
       "    .dataframe tbody tr th {\n",
       "        vertical-align: top;\n",
       "    }\n",
       "\n",
       "    .dataframe thead th {\n",
       "        text-align: right;\n",
       "    }\n",
       "</style>\n",
       "<table border=\"1\" class=\"dataframe\">\n",
       "  <thead>\n",
       "    <tr style=\"text-align: right;\">\n",
       "      <th></th>\n",
       "      <th>OBJECTID</th>\n",
       "      <th>Shape_Leng</th>\n",
       "      <th>Shape_Area</th>\n",
       "      <th>zone</th>\n",
       "      <th>LocationID</th>\n",
       "      <th>borough</th>\n",
       "    </tr>\n",
       "  </thead>\n",
       "  <tbody>\n",
       "    <tr>\n",
       "      <th>0</th>\n",
       "      <td>1</td>\n",
       "      <td>0.116357</td>\n",
       "      <td>0.000782</td>\n",
       "      <td>Newark Airport</td>\n",
       "      <td>1</td>\n",
       "      <td>EWR</td>\n",
       "    </tr>\n",
       "    <tr>\n",
       "      <th>1</th>\n",
       "      <td>2</td>\n",
       "      <td>0.433470</td>\n",
       "      <td>0.004866</td>\n",
       "      <td>Jamaica Bay</td>\n",
       "      <td>2</td>\n",
       "      <td>Queens</td>\n",
       "    </tr>\n",
       "  </tbody>\n",
       "</table>\n",
       "</div>"
      ],
      "text/plain": [
       "   OBJECTID  Shape_Leng  Shape_Area            zone  LocationID borough\n",
       "0         1    0.116357    0.000782  Newark Airport           1     EWR\n",
       "1         2    0.433470    0.004866     Jamaica Bay           2  Queens"
      ]
     },
     "execution_count": 393,
     "metadata": {},
     "output_type": "execute_result"
    }
   ],
   "source": [
    "# Ahora puedes trabajar con el DataFrame 'df'\n",
    "df.head(2)"
   ]
  },
  {
   "cell_type": "code",
   "execution_count": 394,
   "metadata": {},
   "outputs": [
    {
     "name": "stdout",
     "output_type": "stream",
     "text": [
      "<class 'pandas.core.frame.DataFrame'>\n",
      "RangeIndex: 263 entries, 0 to 262\n",
      "Data columns (total 6 columns):\n",
      " #   Column      Non-Null Count  Dtype  \n",
      "---  ------      --------------  -----  \n",
      " 0   OBJECTID    263 non-null    int64  \n",
      " 1   Shape_Leng  263 non-null    float64\n",
      " 2   Shape_Area  263 non-null    float64\n",
      " 3   zone        263 non-null    object \n",
      " 4   LocationID  263 non-null    int64  \n",
      " 5   borough     263 non-null    object \n",
      "dtypes: float64(2), int64(2), object(2)\n",
      "memory usage: 12.5+ KB\n"
     ]
    }
   ],
   "source": [
    "df.info()"
   ]
  },
  {
   "cell_type": "markdown",
   "metadata": {},
   "source": [
    "Probando hacer una gráfica con todos los datos de Taxis verdes de un mes (ENERO, 2024):"
   ]
  },
  {
   "cell_type": "code",
   "execution_count": 395,
   "metadata": {},
   "outputs": [],
   "source": [
    "# datos de taxi 56 mil  df_verdes (taxis amarillos son de 3 millones) y df 263 df\n",
    "\n",
    "# Unir los DataFrames\n",
    "df_unido_verdes = pd.merge(df_verdes, df, left_on=\"PULocationID\", right_on=\"LocationID\")"
   ]
  },
  {
   "cell_type": "code",
   "execution_count": 396,
   "metadata": {},
   "outputs": [
    {
     "data": {
      "text/html": [
       "<div>\n",
       "<style scoped>\n",
       "    .dataframe tbody tr th:only-of-type {\n",
       "        vertical-align: middle;\n",
       "    }\n",
       "\n",
       "    .dataframe tbody tr th {\n",
       "        vertical-align: top;\n",
       "    }\n",
       "\n",
       "    .dataframe thead th {\n",
       "        text-align: right;\n",
       "    }\n",
       "</style>\n",
       "<table border=\"1\" class=\"dataframe\">\n",
       "  <thead>\n",
       "    <tr style=\"text-align: right;\">\n",
       "      <th></th>\n",
       "      <th>VendorID</th>\n",
       "      <th>lpep_pickup_datetime</th>\n",
       "      <th>lpep_dropoff_datetime</th>\n",
       "      <th>store_and_fwd_flag</th>\n",
       "      <th>RatecodeID</th>\n",
       "      <th>PULocationID</th>\n",
       "      <th>DOLocationID</th>\n",
       "      <th>passenger_count</th>\n",
       "      <th>trip_distance</th>\n",
       "      <th>fare_amount</th>\n",
       "      <th>...</th>\n",
       "      <th>total_amount</th>\n",
       "      <th>payment_type</th>\n",
       "      <th>trip_type</th>\n",
       "      <th>congestion_surcharge</th>\n",
       "      <th>OBJECTID</th>\n",
       "      <th>Shape_Leng</th>\n",
       "      <th>Shape_Area</th>\n",
       "      <th>zone</th>\n",
       "      <th>LocationID</th>\n",
       "      <th>borough</th>\n",
       "    </tr>\n",
       "  </thead>\n",
       "  <tbody>\n",
       "    <tr>\n",
       "      <th>0</th>\n",
       "      <td>2</td>\n",
       "      <td>2024-01-01 00:46:55</td>\n",
       "      <td>2024-01-01 00:58:25</td>\n",
       "      <td>N</td>\n",
       "      <td>1.0</td>\n",
       "      <td>236</td>\n",
       "      <td>239</td>\n",
       "      <td>1.0</td>\n",
       "      <td>1.98</td>\n",
       "      <td>12.8</td>\n",
       "      <td>...</td>\n",
       "      <td>21.66</td>\n",
       "      <td>1.0</td>\n",
       "      <td>1.0</td>\n",
       "      <td>2.75</td>\n",
       "      <td>236</td>\n",
       "      <td>0.044252</td>\n",
       "      <td>0.000103</td>\n",
       "      <td>Upper East Side North</td>\n",
       "      <td>236</td>\n",
       "      <td>Manhattan</td>\n",
       "    </tr>\n",
       "    <tr>\n",
       "      <th>1</th>\n",
       "      <td>2</td>\n",
       "      <td>2024-01-01 00:31:42</td>\n",
       "      <td>2024-01-01 00:52:34</td>\n",
       "      <td>N</td>\n",
       "      <td>1.0</td>\n",
       "      <td>65</td>\n",
       "      <td>170</td>\n",
       "      <td>5.0</td>\n",
       "      <td>6.54</td>\n",
       "      <td>30.3</td>\n",
       "      <td>...</td>\n",
       "      <td>42.66</td>\n",
       "      <td>1.0</td>\n",
       "      <td>1.0</td>\n",
       "      <td>2.75</td>\n",
       "      <td>65</td>\n",
       "      <td>0.044607</td>\n",
       "      <td>0.000082</td>\n",
       "      <td>Downtown Brooklyn/MetroTech</td>\n",
       "      <td>65</td>\n",
       "      <td>Brooklyn</td>\n",
       "    </tr>\n",
       "  </tbody>\n",
       "</table>\n",
       "<p>2 rows × 26 columns</p>\n",
       "</div>"
      ],
      "text/plain": [
       "   VendorID lpep_pickup_datetime lpep_dropoff_datetime store_and_fwd_flag  \\\n",
       "0         2  2024-01-01 00:46:55   2024-01-01 00:58:25                  N   \n",
       "1         2  2024-01-01 00:31:42   2024-01-01 00:52:34                  N   \n",
       "\n",
       "   RatecodeID  PULocationID  DOLocationID  passenger_count  trip_distance  \\\n",
       "0         1.0           236           239              1.0           1.98   \n",
       "1         1.0            65           170              5.0           6.54   \n",
       "\n",
       "   fare_amount  ...  total_amount  payment_type  trip_type  \\\n",
       "0         12.8  ...         21.66           1.0        1.0   \n",
       "1         30.3  ...         42.66           1.0        1.0   \n",
       "\n",
       "   congestion_surcharge  OBJECTID  Shape_Leng  Shape_Area  \\\n",
       "0                  2.75       236    0.044252    0.000103   \n",
       "1                  2.75        65    0.044607    0.000082   \n",
       "\n",
       "                          zone  LocationID    borough  \n",
       "0        Upper East Side North         236  Manhattan  \n",
       "1  Downtown Brooklyn/MetroTech          65   Brooklyn  \n",
       "\n",
       "[2 rows x 26 columns]"
      ]
     },
     "execution_count": 396,
     "metadata": {},
     "output_type": "execute_result"
    }
   ],
   "source": [
    "df_unido_verdes.head(2)"
   ]
  },
  {
   "cell_type": "code",
   "execution_count": 397,
   "metadata": {},
   "outputs": [],
   "source": [
    "# entonces tengo una nueva data con VendorID, lpep_pickup_datetime,\tlpep_dropoff_datetime, PULocationID, DOLocationID,\n",
    "# trip_type, congestio_surcharge, Shape_Leng,\tShape_Area,\tzone, LocationID,\tborough\n",
    "# Seleccionar las columnas deseadas\n",
    "columnas_seleccionadas = [\"VendorID\", \"lpep_pickup_datetime\", \"lpep_dropoff_datetime\",\n",
    "                        \"PULocationID\", \"DOLocationID\", \"RatecodeID\", \"LocationID\", \n",
    "                        \"Shape_Leng\", \"Shape_Area\", \"zone\", \"borough\", \"store_and_fwd_flag\", \n",
    "                        \"passenger_count\", \"trip_distance\", \"trip_type\", \"congestion_surcharge\",\n",
    "                        \"fare_amount\", \"extra\", \"mta_tax\", \"tip_amount\", \"tolls_amount\", \n",
    "                        \"ehail_fee\", \"improvement_surcharge\", \"total_amount\", \"payment_type\", \n",
    "                        \"trip_type\", \"congestion_surcharge\"]\n",
    "\n",
    "df_nuevo_mapa = df_unido_verdes[columnas_seleccionadas]\n",
    "\n",
    "# Ahora df_nuevo contiene solo las columnas que quieres"
   ]
  },
  {
   "cell_type": "code",
   "execution_count": 398,
   "metadata": {},
   "outputs": [
    {
     "name": "stdout",
     "output_type": "stream",
     "text": [
      "<class 'pandas.core.frame.DataFrame'>\n",
      "RangeIndex: 56444 entries, 0 to 56443\n",
      "Data columns (total 27 columns):\n",
      " #   Column                 Non-Null Count  Dtype         \n",
      "---  ------                 --------------  -----         \n",
      " 0   VendorID               56444 non-null  int32         \n",
      " 1   lpep_pickup_datetime   56444 non-null  datetime64[us]\n",
      " 2   lpep_dropoff_datetime  56444 non-null  datetime64[us]\n",
      " 3   PULocationID           56444 non-null  int32         \n",
      " 4   DOLocationID           56444 non-null  int32         \n",
      " 5   RatecodeID             53031 non-null  float64       \n",
      " 6   LocationID             56444 non-null  int64         \n",
      " 7   Shape_Leng             56444 non-null  float64       \n",
      " 8   Shape_Area             56444 non-null  float64       \n",
      " 9   zone                   56444 non-null  object        \n",
      " 10  borough                56444 non-null  object        \n",
      " 11  store_and_fwd_flag     53031 non-null  object        \n",
      " 12  passenger_count        53031 non-null  float64       \n",
      " 13  trip_distance          56444 non-null  float64       \n",
      " 14  trip_type              53028 non-null  float64       \n",
      " 15  congestion_surcharge   53031 non-null  float64       \n",
      " 16  fare_amount            56444 non-null  float64       \n",
      " 17  extra                  56444 non-null  float64       \n",
      " 18  mta_tax                56444 non-null  float64       \n",
      " 19  tip_amount             56444 non-null  float64       \n",
      " 20  tolls_amount           56444 non-null  float64       \n",
      " 21  ehail_fee              0 non-null      float64       \n",
      " 22  improvement_surcharge  56444 non-null  float64       \n",
      " 23  total_amount           56444 non-null  float64       \n",
      " 24  payment_type           53031 non-null  float64       \n",
      " 25  trip_type              53028 non-null  float64       \n",
      " 26  congestion_surcharge   53031 non-null  float64       \n",
      "dtypes: datetime64[us](2), float64(18), int32(3), int64(1), object(3)\n",
      "memory usage: 11.0+ MB\n"
     ]
    }
   ],
   "source": [
    "df_nuevo_mapa.info()"
   ]
  },
  {
   "cell_type": "code",
   "execution_count": 399,
   "metadata": {},
   "outputs": [],
   "source": [
    "# Reducción de la cantidad de datos para hacer el mapa\n",
    "# Calcula el número de puntos a mostrar\n",
    "#num_puntos_mostrar = int(0.07 * len(df_nuevo_mapa))\n",
    "\n",
    "# Obtiene una muestra aleatoria del 7% de los datos\n",
    "#muestra_aleatoria = df_nuevo_mapa.sample(num_puntos_mostrar, random_state=1, weights=None)"
   ]
  },
  {
   "cell_type": "code",
   "execution_count": 400,
   "metadata": {},
   "outputs": [
    {
     "data": {
      "text/plain": [
       "<DatetimeArray>\n",
       "['2024-01-01 00:46:55', '2024-01-01 00:31:42', '2024-01-01 00:30:21',\n",
       " '2024-01-01 00:30:20', '2024-01-01 00:32:38', '2024-01-01 00:43:41',\n",
       " '2024-01-01 00:31:56', '2024-01-01 00:46:12', '2024-01-01 00:38:07',\n",
       " '2024-01-01 00:44:24',\n",
       " ...\n",
       " '2024-01-31 18:32:52', '2024-01-31 18:19:00', '2024-01-31 19:23:00',\n",
       " '2024-01-31 19:14:00', '2024-01-31 19:41:00', '2024-01-31 20:46:00',\n",
       " '2024-01-31 21:06:00', '2024-01-31 21:36:00', '2024-01-31 22:45:00',\n",
       " '2024-01-31 22:28:00']\n",
       "Length: 55145, dtype: datetime64[us]"
      ]
     },
     "execution_count": 400,
     "metadata": {},
     "output_type": "execute_result"
    }
   ],
   "source": [
    "# Separar la fecha y hora de recogida de los taxis a sus pasajeros\n",
    "df_nuevo_mapa[\"lpep_pickup_datetime\"].unique()"
   ]
  },
  {
   "cell_type": "code",
   "execution_count": 401,
   "metadata": {},
   "outputs": [],
   "source": [
    "# Supongamos que tienes un DataFrame 'df' con una columna 'fecha_hora'\n",
    "# df['fecha_hora'] sería tu columna de fecha y hora\n",
    "\n",
    "# Primero, asegúrate de que la columna esté en formato datetime\n",
    "df_nuevo_mapa.loc[:, 'lpep_pickup_datetime'] = pd.to_datetime(df_nuevo_mapa[\"lpep_pickup_datetime\"])"
   ]
  },
  {
   "cell_type": "code",
   "execution_count": 402,
   "metadata": {},
   "outputs": [],
   "source": [
    "# Crea dos nuevas columnas para la fecha y la hora\n",
    "df_nuevo_mapa.loc[:, 'fecha_pic'] = df_nuevo_mapa[\"lpep_pickup_datetime\"].dt.date\n",
    "df_nuevo_mapa.loc[:, 'hora_pic'] = df_nuevo_mapa[\"lpep_pickup_datetime\"].dt.time"
   ]
  },
  {
   "cell_type": "code",
   "execution_count": 403,
   "metadata": {},
   "outputs": [],
   "source": [
    "# DataFrame con año, mes y día separados\n",
    "df_nuevo_mapa.loc[:, 'agno_pic'] = df_nuevo_mapa[\"lpep_pickup_datetime\"].dt.year\n",
    "df_nuevo_mapa.loc[:, 'mes_pic'] = df_nuevo_mapa[\"lpep_pickup_datetime\"].dt.month\n",
    "df_nuevo_mapa.loc[:, 'dia_pic'] = df_nuevo_mapa[\"lpep_pickup_datetime\"].dt.day"
   ]
  },
  {
   "cell_type": "code",
   "execution_count": 404,
   "metadata": {},
   "outputs": [],
   "source": [
    "# Crea una nueva columna 'hora_exacta' extrayendo la hora de la columna 'hora'\n",
    "df_nuevo_mapa.loc[:, 'hora_exacta_pic'] = df_nuevo_mapa[\"hora_pic\"].apply(lambda x: x.hour)"
   ]
  },
  {
   "cell_type": "code",
   "execution_count": 405,
   "metadata": {},
   "outputs": [
    {
     "data": {
      "text/plain": [
       "<DatetimeArray>\n",
       "['2024-01-01 00:58:25', '2024-01-01 00:52:34', '2024-01-01 00:49:23',\n",
       " '2024-01-01 00:42:12', '2024-01-01 00:43:37', '2024-01-01 01:00:23',\n",
       " '2024-01-01 00:48:09', '2024-01-01 00:57:39', '2024-01-01 00:39:23',\n",
       " '2024-01-01 00:57:47',\n",
       " ...\n",
       " '2024-01-31 18:43:13', '2024-01-31 18:35:00', '2024-01-31 19:31:00',\n",
       " '2024-01-31 19:23:00', '2024-01-31 19:57:00', '2024-01-31 20:55:00',\n",
       " '2024-01-31 21:11:00', '2024-01-31 21:40:00', '2024-01-31 22:51:00',\n",
       " '2024-01-31 22:59:00']\n",
       "Length: 55161, dtype: datetime64[us]"
      ]
     },
     "execution_count": 405,
     "metadata": {},
     "output_type": "execute_result"
    }
   ],
   "source": [
    "# Separar la fecha y hora de llegada de los taxis con sus pasajeros\n",
    "df_nuevo_mapa[\"lpep_dropoff_datetime\"].unique()"
   ]
  },
  {
   "cell_type": "code",
   "execution_count": 406,
   "metadata": {},
   "outputs": [],
   "source": [
    "# Supongamos que tienes un DataFrame 'df' con una columna 'fecha_hora'\n",
    "# df['fecha_hora'] sería tu columna de fecha y hora\n",
    "# Primero, asegúrate de que la columna esté en formato datetime\n",
    "df_nuevo_mapa.loc[:, 'lpep_dropoff_datetime'] = pd.to_datetime(df_nuevo_mapa[\"lpep_dropoff_datetime\"])"
   ]
  },
  {
   "cell_type": "code",
   "execution_count": 407,
   "metadata": {},
   "outputs": [],
   "source": [
    "# Crea dos nuevas columnas para la fecha y la hora\n",
    "df_nuevo_mapa.loc[:, 'fecha_off'] = df_nuevo_mapa[\"lpep_dropoff_datetime\"].dt.date\n",
    "df_nuevo_mapa.loc[:, 'hora_off'] = df_nuevo_mapa[\"lpep_dropoff_datetime\"].dt.time"
   ]
  },
  {
   "cell_type": "code",
   "execution_count": 408,
   "metadata": {},
   "outputs": [],
   "source": [
    "# DataFrame con año, mes y día separados\n",
    "df_nuevo_mapa.loc[:, 'agno_off'] = df_nuevo_mapa[\"lpep_dropoff_datetime\"].dt.year\n",
    "df_nuevo_mapa.loc[:, 'mes_off'] = df_nuevo_mapa[\"lpep_dropoff_datetime\"].dt.month\n",
    "df_nuevo_mapa.loc[:, 'dia_off'] = df_nuevo_mapa[\"lpep_dropoff_datetime\"].dt.day"
   ]
  },
  {
   "cell_type": "code",
   "execution_count": 409,
   "metadata": {},
   "outputs": [],
   "source": [
    "# Crea una nueva columna 'hora_exacta' extrayendo la hora de la columna 'hora'\n",
    "df_nuevo_mapa.loc[:, 'hora_exacta_off'] = df_nuevo_mapa['hora_off'].apply(lambda x: x.hour)"
   ]
  },
  {
   "cell_type": "code",
   "execution_count": 410,
   "metadata": {},
   "outputs": [],
   "source": [
    "# Ordenar columnas\n",
    "df_nuevo_mapa = df_nuevo_mapa[[\"VendorID\", \"agno_pic\", \"mes_pic\", \"dia_pic\", \"hora_exacta_pic\", \"agno_off\", \"mes_off\",\n",
    "            \"dia_off\", \"hora_exacta_off\", \"PULocationID\", \"DOLocationID\", \"RatecodeID\", \"LocationID\", \n",
    "            \"Shape_Leng\", \"Shape_Area\", \"zone\", \"borough\", \"store_and_fwd_flag\", \"passenger_count\", \n",
    "            \"trip_distance\", \"trip_type\", \"congestion_surcharge\", \"fare_amount\", \"extra\", \"mta_tax\", \n",
    "            \"tip_amount\", \"tolls_amount\", \"improvement_surcharge\", \"total_amount\", \"payment_type\"]]"
   ]
  },
  {
   "cell_type": "code",
   "execution_count": 411,
   "metadata": {},
   "outputs": [
    {
     "name": "stdout",
     "output_type": "stream",
     "text": [
      "Suma total de NaNs: 27310\n"
     ]
    }
   ],
   "source": [
    "# Contar los valores NaN de cada columna\n",
    "nan_counts = df_nuevo_mapa.isnull().sum()\n",
    "\n",
    "# Conseguir la suma total de NaNs\n",
    "total_nan = nan_counts.sum()\n",
    "\n",
    "# Mostrar la suma total de NaNs\n",
    "print(\"Suma total de NaNs:\", total_nan)"
   ]
  },
  {
   "cell_type": "code",
   "execution_count": 412,
   "metadata": {},
   "outputs": [],
   "source": [
    "# Reemplazar los Nulos por 0s\n",
    "df_nuevo_mapa.replace(np.nan, 0, inplace=True)"
   ]
  },
  {
   "cell_type": "code",
   "execution_count": 413,
   "metadata": {},
   "outputs": [
    {
     "name": "stdout",
     "output_type": "stream",
     "text": [
      "<class 'pandas.core.frame.DataFrame'>\n",
      "RangeIndex: 56444 entries, 0 to 56443\n",
      "Data columns (total 32 columns):\n",
      " #   Column                 Non-Null Count  Dtype  \n",
      "---  ------                 --------------  -----  \n",
      " 0   VendorID               56444 non-null  int32  \n",
      " 1   agno_pic               56444 non-null  int32  \n",
      " 2   mes_pic                56444 non-null  int32  \n",
      " 3   dia_pic                56444 non-null  int32  \n",
      " 4   hora_exacta_pic        56444 non-null  int64  \n",
      " 5   agno_off               56444 non-null  int32  \n",
      " 6   mes_off                56444 non-null  int32  \n",
      " 7   dia_off                56444 non-null  int32  \n",
      " 8   hora_exacta_off        56444 non-null  int64  \n",
      " 9   PULocationID           56444 non-null  int32  \n",
      " 10  DOLocationID           56444 non-null  int32  \n",
      " 11  RatecodeID             56444 non-null  float64\n",
      " 12  LocationID             56444 non-null  int64  \n",
      " 13  Shape_Leng             56444 non-null  float64\n",
      " 14  Shape_Area             56444 non-null  float64\n",
      " 15  zone                   56444 non-null  object \n",
      " 16  borough                56444 non-null  object \n",
      " 17  store_and_fwd_flag     56444 non-null  object \n",
      " 18  passenger_count        56444 non-null  float64\n",
      " 19  trip_distance          56444 non-null  float64\n",
      " 20  trip_type              56444 non-null  float64\n",
      " 21  trip_type              56444 non-null  float64\n",
      " 22  congestion_surcharge   56444 non-null  float64\n",
      " 23  congestion_surcharge   56444 non-null  float64\n",
      " 24  fare_amount            56444 non-null  float64\n",
      " 25  extra                  56444 non-null  float64\n",
      " 26  mta_tax                56444 non-null  float64\n",
      " 27  tip_amount             56444 non-null  float64\n",
      " 28  tolls_amount           56444 non-null  float64\n",
      " 29  improvement_surcharge  56444 non-null  float64\n",
      " 30  total_amount           56444 non-null  float64\n",
      " 31  payment_type           56444 non-null  float64\n",
      "dtypes: float64(17), int32(9), int64(3), object(3)\n",
      "memory usage: 11.8+ MB\n"
     ]
    }
   ],
   "source": [
    "df_nuevo_mapa.info()"
   ]
  },
  {
   "cell_type": "code",
   "execution_count": 414,
   "metadata": {},
   "outputs": [
    {
     "data": {
      "text/html": [
       "<div>\n",
       "<style scoped>\n",
       "    .dataframe tbody tr th:only-of-type {\n",
       "        vertical-align: middle;\n",
       "    }\n",
       "\n",
       "    .dataframe tbody tr th {\n",
       "        vertical-align: top;\n",
       "    }\n",
       "\n",
       "    .dataframe thead th {\n",
       "        text-align: right;\n",
       "    }\n",
       "</style>\n",
       "<table border=\"1\" class=\"dataframe\">\n",
       "  <thead>\n",
       "    <tr style=\"text-align: right;\">\n",
       "      <th></th>\n",
       "      <th>VendorID</th>\n",
       "      <th>agno_pic</th>\n",
       "      <th>mes_pic</th>\n",
       "      <th>dia_pic</th>\n",
       "      <th>hora_exacta_pic</th>\n",
       "      <th>agno_off</th>\n",
       "      <th>mes_off</th>\n",
       "      <th>dia_off</th>\n",
       "      <th>hora_exacta_off</th>\n",
       "      <th>PULocationID</th>\n",
       "      <th>...</th>\n",
       "      <th>congestion_surcharge</th>\n",
       "      <th>congestion_surcharge</th>\n",
       "      <th>fare_amount</th>\n",
       "      <th>extra</th>\n",
       "      <th>mta_tax</th>\n",
       "      <th>tip_amount</th>\n",
       "      <th>tolls_amount</th>\n",
       "      <th>improvement_surcharge</th>\n",
       "      <th>total_amount</th>\n",
       "      <th>payment_type</th>\n",
       "    </tr>\n",
       "  </thead>\n",
       "  <tbody>\n",
       "    <tr>\n",
       "      <th>count</th>\n",
       "      <td>56444.000000</td>\n",
       "      <td>56444.000000</td>\n",
       "      <td>56444.000000</td>\n",
       "      <td>56444.000000</td>\n",
       "      <td>56444.000000</td>\n",
       "      <td>56444.000000</td>\n",
       "      <td>56444.000000</td>\n",
       "      <td>56444.000000</td>\n",
       "      <td>56444.000000</td>\n",
       "      <td>56444.000000</td>\n",
       "      <td>...</td>\n",
       "      <td>56444.000000</td>\n",
       "      <td>56444.000000</td>\n",
       "      <td>56444.000000</td>\n",
       "      <td>56444.000000</td>\n",
       "      <td>56444.000000</td>\n",
       "      <td>56444.000000</td>\n",
       "      <td>56444.000000</td>\n",
       "      <td>56444.000000</td>\n",
       "      <td>56444.000000</td>\n",
       "      <td>56444.00000</td>\n",
       "    </tr>\n",
       "    <tr>\n",
       "      <th>mean</th>\n",
       "      <td>1.870509</td>\n",
       "      <td>2023.999965</td>\n",
       "      <td>1.000390</td>\n",
       "      <td>16.288463</td>\n",
       "      <td>13.795408</td>\n",
       "      <td>2023.999965</td>\n",
       "      <td>1.000656</td>\n",
       "      <td>16.287843</td>\n",
       "      <td>13.911966</td>\n",
       "      <td>95.633389</td>\n",
       "      <td>...</td>\n",
       "      <td>0.731304</td>\n",
       "      <td>0.731304</td>\n",
       "      <td>16.912102</td>\n",
       "      <td>0.901995</td>\n",
       "      <td>0.576877</td>\n",
       "      <td>2.255084</td>\n",
       "      <td>0.191046</td>\n",
       "      <td>0.985003</td>\n",
       "      <td>22.387249</td>\n",
       "      <td>1.24309</td>\n",
       "    </tr>\n",
       "    <tr>\n",
       "      <th>std</th>\n",
       "      <td>0.335746</td>\n",
       "      <td>0.005953</td>\n",
       "      <td>0.065478</td>\n",
       "      <td>8.885194</td>\n",
       "      <td>5.246437</td>\n",
       "      <td>0.005953</td>\n",
       "      <td>0.067475</td>\n",
       "      <td>8.885116</td>\n",
       "      <td>5.295923</td>\n",
       "      <td>57.311134</td>\n",
       "      <td>...</td>\n",
       "      <td>1.214828</td>\n",
       "      <td>1.214828</td>\n",
       "      <td>15.278908</td>\n",
       "      <td>1.345228</td>\n",
       "      <td>0.381317</td>\n",
       "      <td>2.842035</td>\n",
       "      <td>1.188227</td>\n",
       "      <td>0.139405</td>\n",
       "      <td>16.884352</td>\n",
       "      <td>0.57789</td>\n",
       "    </tr>\n",
       "    <tr>\n",
       "      <th>min</th>\n",
       "      <td>1.000000</td>\n",
       "      <td>2023.000000</td>\n",
       "      <td>1.000000</td>\n",
       "      <td>1.000000</td>\n",
       "      <td>0.000000</td>\n",
       "      <td>2023.000000</td>\n",
       "      <td>1.000000</td>\n",
       "      <td>1.000000</td>\n",
       "      <td>0.000000</td>\n",
       "      <td>1.000000</td>\n",
       "      <td>...</td>\n",
       "      <td>-2.750000</td>\n",
       "      <td>-2.750000</td>\n",
       "      <td>-70.000000</td>\n",
       "      <td>-5.000000</td>\n",
       "      <td>-0.500000</td>\n",
       "      <td>-1.660000</td>\n",
       "      <td>0.000000</td>\n",
       "      <td>-1.000000</td>\n",
       "      <td>-76.500000</td>\n",
       "      <td>0.00000</td>\n",
       "    </tr>\n",
       "    <tr>\n",
       "      <th>25%</th>\n",
       "      <td>2.000000</td>\n",
       "      <td>2024.000000</td>\n",
       "      <td>1.000000</td>\n",
       "      <td>9.000000</td>\n",
       "      <td>10.000000</td>\n",
       "      <td>2024.000000</td>\n",
       "      <td>1.000000</td>\n",
       "      <td>9.000000</td>\n",
       "      <td>10.000000</td>\n",
       "      <td>74.000000</td>\n",
       "      <td>...</td>\n",
       "      <td>0.000000</td>\n",
       "      <td>0.000000</td>\n",
       "      <td>9.300000</td>\n",
       "      <td>0.000000</td>\n",
       "      <td>0.500000</td>\n",
       "      <td>0.000000</td>\n",
       "      <td>0.000000</td>\n",
       "      <td>1.000000</td>\n",
       "      <td>13.440000</td>\n",
       "      <td>1.00000</td>\n",
       "    </tr>\n",
       "    <tr>\n",
       "      <th>50%</th>\n",
       "      <td>2.000000</td>\n",
       "      <td>2024.000000</td>\n",
       "      <td>1.000000</td>\n",
       "      <td>17.000000</td>\n",
       "      <td>14.000000</td>\n",
       "      <td>2024.000000</td>\n",
       "      <td>1.000000</td>\n",
       "      <td>17.000000</td>\n",
       "      <td>15.000000</td>\n",
       "      <td>75.000000</td>\n",
       "      <td>...</td>\n",
       "      <td>0.000000</td>\n",
       "      <td>0.000000</td>\n",
       "      <td>13.500000</td>\n",
       "      <td>0.000000</td>\n",
       "      <td>0.500000</td>\n",
       "      <td>2.000000</td>\n",
       "      <td>0.000000</td>\n",
       "      <td>1.000000</td>\n",
       "      <td>18.430000</td>\n",
       "      <td>1.00000</td>\n",
       "    </tr>\n",
       "    <tr>\n",
       "      <th>75%</th>\n",
       "      <td>2.000000</td>\n",
       "      <td>2024.000000</td>\n",
       "      <td>1.000000</td>\n",
       "      <td>24.000000</td>\n",
       "      <td>18.000000</td>\n",
       "      <td>2024.000000</td>\n",
       "      <td>1.000000</td>\n",
       "      <td>24.000000</td>\n",
       "      <td>18.000000</td>\n",
       "      <td>97.000000</td>\n",
       "      <td>...</td>\n",
       "      <td>2.750000</td>\n",
       "      <td>2.750000</td>\n",
       "      <td>19.800000</td>\n",
       "      <td>2.500000</td>\n",
       "      <td>0.500000</td>\n",
       "      <td>3.500000</td>\n",
       "      <td>0.000000</td>\n",
       "      <td>1.000000</td>\n",
       "      <td>26.600000</td>\n",
       "      <td>2.00000</td>\n",
       "    </tr>\n",
       "    <tr>\n",
       "      <th>max</th>\n",
       "      <td>2.000000</td>\n",
       "      <td>2024.000000</td>\n",
       "      <td>12.000000</td>\n",
       "      <td>31.000000</td>\n",
       "      <td>23.000000</td>\n",
       "      <td>2024.000000</td>\n",
       "      <td>12.000000</td>\n",
       "      <td>31.000000</td>\n",
       "      <td>23.000000</td>\n",
       "      <td>263.000000</td>\n",
       "      <td>...</td>\n",
       "      <td>2.750000</td>\n",
       "      <td>2.750000</td>\n",
       "      <td>1422.600000</td>\n",
       "      <td>10.250000</td>\n",
       "      <td>4.250000</td>\n",
       "      <td>110.000000</td>\n",
       "      <td>24.050000</td>\n",
       "      <td>1.000000</td>\n",
       "      <td>1424.100000</td>\n",
       "      <td>5.00000</td>\n",
       "    </tr>\n",
       "  </tbody>\n",
       "</table>\n",
       "<p>8 rows × 29 columns</p>\n",
       "</div>"
      ],
      "text/plain": [
       "           VendorID      agno_pic       mes_pic       dia_pic  \\\n",
       "count  56444.000000  56444.000000  56444.000000  56444.000000   \n",
       "mean       1.870509   2023.999965      1.000390     16.288463   \n",
       "std        0.335746      0.005953      0.065478      8.885194   \n",
       "min        1.000000   2023.000000      1.000000      1.000000   \n",
       "25%        2.000000   2024.000000      1.000000      9.000000   \n",
       "50%        2.000000   2024.000000      1.000000     17.000000   \n",
       "75%        2.000000   2024.000000      1.000000     24.000000   \n",
       "max        2.000000   2024.000000     12.000000     31.000000   \n",
       "\n",
       "       hora_exacta_pic      agno_off       mes_off       dia_off  \\\n",
       "count     56444.000000  56444.000000  56444.000000  56444.000000   \n",
       "mean         13.795408   2023.999965      1.000656     16.287843   \n",
       "std           5.246437      0.005953      0.067475      8.885116   \n",
       "min           0.000000   2023.000000      1.000000      1.000000   \n",
       "25%          10.000000   2024.000000      1.000000      9.000000   \n",
       "50%          14.000000   2024.000000      1.000000     17.000000   \n",
       "75%          18.000000   2024.000000      1.000000     24.000000   \n",
       "max          23.000000   2024.000000     12.000000     31.000000   \n",
       "\n",
       "       hora_exacta_off  PULocationID  ...  congestion_surcharge  \\\n",
       "count     56444.000000  56444.000000  ...          56444.000000   \n",
       "mean         13.911966     95.633389  ...              0.731304   \n",
       "std           5.295923     57.311134  ...              1.214828   \n",
       "min           0.000000      1.000000  ...             -2.750000   \n",
       "25%          10.000000     74.000000  ...              0.000000   \n",
       "50%          15.000000     75.000000  ...              0.000000   \n",
       "75%          18.000000     97.000000  ...              2.750000   \n",
       "max          23.000000    263.000000  ...              2.750000   \n",
       "\n",
       "       congestion_surcharge   fare_amount         extra       mta_tax  \\\n",
       "count          56444.000000  56444.000000  56444.000000  56444.000000   \n",
       "mean               0.731304     16.912102      0.901995      0.576877   \n",
       "std                1.214828     15.278908      1.345228      0.381317   \n",
       "min               -2.750000    -70.000000     -5.000000     -0.500000   \n",
       "25%                0.000000      9.300000      0.000000      0.500000   \n",
       "50%                0.000000     13.500000      0.000000      0.500000   \n",
       "75%                2.750000     19.800000      2.500000      0.500000   \n",
       "max                2.750000   1422.600000     10.250000      4.250000   \n",
       "\n",
       "         tip_amount  tolls_amount  improvement_surcharge  total_amount  \\\n",
       "count  56444.000000  56444.000000           56444.000000  56444.000000   \n",
       "mean       2.255084      0.191046               0.985003     22.387249   \n",
       "std        2.842035      1.188227               0.139405     16.884352   \n",
       "min       -1.660000      0.000000              -1.000000    -76.500000   \n",
       "25%        0.000000      0.000000               1.000000     13.440000   \n",
       "50%        2.000000      0.000000               1.000000     18.430000   \n",
       "75%        3.500000      0.000000               1.000000     26.600000   \n",
       "max      110.000000     24.050000               1.000000   1424.100000   \n",
       "\n",
       "       payment_type  \n",
       "count   56444.00000  \n",
       "mean        1.24309  \n",
       "std         0.57789  \n",
       "min         0.00000  \n",
       "25%         1.00000  \n",
       "50%         1.00000  \n",
       "75%         2.00000  \n",
       "max         5.00000  \n",
       "\n",
       "[8 rows x 29 columns]"
      ]
     },
     "execution_count": 414,
     "metadata": {},
     "output_type": "execute_result"
    }
   ],
   "source": [
    "df_nuevo_mapa.describe()"
   ]
  },
  {
   "cell_type": "code",
   "execution_count": 415,
   "metadata": {},
   "outputs": [],
   "source": [
    "# Muestrea el 7% de los datos, al azar\n",
    "df_muestra_tverdes = df_nuevo_mapa.sample(frac=0.07, random_state=1)"
   ]
  },
  {
   "cell_type": "code",
   "execution_count": 416,
   "metadata": {},
   "outputs": [],
   "source": [
    "# Option 1: Convert infinity to NaN before operations\n",
    "df_muestra_tverdes = df_muestra_tverdes.replace([np.inf, -np.inf], np.nan)  # Replace both positive and negative infinity\n",
    "\n",
    "# Now you can use df for further analysis without the warning"
   ]
  },
  {
   "cell_type": "code",
   "execution_count": 417,
   "metadata": {},
   "outputs": [],
   "source": [
    "data_array = df_muestra_tverdes[\"VendorID\"].to_numpy()\n"
   ]
  },
  {
   "cell_type": "code",
   "execution_count": 418,
   "metadata": {},
   "outputs": [
    {
     "data": {
      "text/plain": [
       "array([1, 2, 2, ..., 1, 2, 2])"
      ]
     },
     "execution_count": 418,
     "metadata": {},
     "output_type": "execute_result"
    }
   ],
   "source": [
    "data_array"
   ]
  },
  {
   "cell_type": "code",
   "execution_count": 419,
   "metadata": {},
   "outputs": [],
   "source": [
    "# Assuming you have a list of desired column names\n",
    "desired_columns = [\"VendorID\", \"agno_pic\", \"mes_pic\", \"dia_pic\", \"hora_exacta_pic\", \n",
    "                                    \"agno_off\", \"mes_off\", \"dia_off\", \"hora_exacta_off\", \"PULocationID\", \n",
    "                                    \"DOLocationID\", \"RatecodeID\", \"LocationID\", \"Shape_Leng\", \"Shape_Area\", \n",
    "                                    \"zone\", \"borough\", \"store_and_fwd_flag\", \"passenger_count\", \"trip_distance\", \n",
    "                                    \"trip_type\", \"congestion_surcharge\", \"fare_amount\", \"extra\", \"mta_tax\", \n",
    "                                    \"tip_amount\", \"tolls_amount\", \"improvement_surcharge\", \"total_amount\", \"payment_type\"]\n",
    "\n",
    "data_array = df_muestra_tverdes[desired_columns]\n"
   ]
  },
  {
   "cell_type": "code",
   "execution_count": 420,
   "metadata": {},
   "outputs": [],
   "source": [
    "numerical_columns = df_muestra_tverdes.select_dtypes(include=[np.number]).columns\n",
    "categorical_columns = df_muestra_tverdes.select_dtypes(exclude=[np.number]).columns\n"
   ]
  },
  {
   "cell_type": "code",
   "execution_count": 421,
   "metadata": {},
   "outputs": [
    {
     "data": {
      "text/plain": [
       "<Axes: xlabel='VendorID', ylabel='Count'>"
      ]
     },
     "execution_count": 421,
     "metadata": {},
     "output_type": "execute_result"
    },
    {
     "data": {
      "image/png": "[encoded data removed]",
      "text/plain": [
       "<Figure size 640x480 with 1 Axes>"
      ]
     },
     "metadata": {},
     "output_type": "display_data"
    }
   ],
   "source": [
    "sns.histplot(data=df_muestra_tverdes, x=\"VendorID\", stat=\"count\")  # \"count\" for frequency"
   ]
  },
  {
   "cell_type": "markdown",
   "metadata": {},
   "source": [
    "En VendorID, se muestra la frecuencia del proveedor de LPEP que proporcionó el registro. 1= Creative Mobile Technologies, LLC; 2= VeriFone Inc.\n",
    "Para la opción 2 es mucho más frecuente que la 1."
   ]
  },
  {
   "cell_type": "code",
   "execution_count": 422,
   "metadata": {},
   "outputs": [
    {
     "data": {
      "image/png": "[encoded data removed]",
      "text/plain": [
       "<Figure size 640x480 with 1 Axes>"
      ]
     },
     "metadata": {},
     "output_type": "display_data"
    }
   ],
   "source": [
    "# Adjust histogram and trendline\n",
    "sns.histplot(data=df_muestra_tverdes, x=\"hora_exacta_pic\", stat=\"count\", color=\"lightcoral\", alpha=0.7, kde_kws=dict(line_on='add', color='black', linewidth=3))\n",
    "plt.title(\"Distribución de la frecuencia horaria en que se recoge al pasajero\")\n",
    "plt.grid(True)\n",
    "plt.show()"
   ]
  },
  {
   "cell_type": "markdown",
   "metadata": {},
   "source": [
    "Acá se muestra la franja horaria en que se recoge al pasajero, activándose el taxímetro."
   ]
  },
  {
   "cell_type": "code",
   "execution_count": 423,
   "metadata": {},
   "outputs": [
    {
     "data": {
      "image/png": "[encoded data removed]",
      "text/plain": [
       "<Figure size 640x480 with 1 Axes>"
      ]
     },
     "metadata": {},
     "output_type": "display_data"
    }
   ],
   "source": [
    "# Adjust histogram and trendline\n",
    "sns.histplot(data=df_muestra_tverdes, x=\"hora_exacta_off\", stat=\"count\", color=\"yellow\", alpha=0.7, kde_kws=dict(line_on='add', color='black', linewidth=3))\n",
    "plt.title(\"Distribución de la frecuencia horaria en que se baja el pasajero\")\n",
    "plt.grid(True)\n",
    "plt.show()"
   ]
  },
  {
   "cell_type": "markdown",
   "metadata": {},
   "source": [
    "Poquísima diferencia para la franja horaria en que se baja el pasajero del taxi, desactivándose el taxímetro."
   ]
  },
  {
   "cell_type": "code",
   "execution_count": 424,
   "metadata": {},
   "outputs": [
    {
     "data": {
      "image/png": "[encoded data removed]",
      "text/plain": [
       "<Figure size 640x480 with 1 Axes>"
      ]
     },
     "metadata": {},
     "output_type": "display_data"
    }
   ],
   "source": [
    "# Adjust histogram and trendline\n",
    "sns.histplot(data=df_muestra_tverdes, x=\"PULocationID\", stat=\"count\", color=\"green\", alpha=0.7, kde_kws=dict(line_on='add', color='black', linewidth=3))\n",
    "plt.title(\"Distribución de la frecuencia en que se activa un taxímetro en una zona TLC\")\n",
    "plt.grid(True)\n",
    "plt.show()"
   ]
  },
  {
   "cell_type": "markdown",
   "metadata": {},
   "source": [
    "Frecuencia de la activación de taxímetro en Zona de taxis de TLC (Comisión de taxis y limusinas de la ciudad de Nueva York), \n",
    "es decir, se recogió a un pasajero en una zona determinada (equivale a un ID). "
   ]
  },
  {
   "cell_type": "code",
   "execution_count": 425,
   "metadata": {},
   "outputs": [
    {
     "data": {
      "image/png": "[encoded data removed]",
      "text/plain": [
       "<Figure size 640x480 with 1 Axes>"
      ]
     },
     "metadata": {},
     "output_type": "display_data"
    }
   ],
   "source": [
    "# Adjust histogram and trendline\n",
    "sns.histplot(data=df_muestra_tverdes, x=\"DOLocationID\", stat=\"count\", color=\"red\", alpha=0.7, kde_kws=dict(line_on='add', color='black', linewidth=3))\n",
    "plt.title(\"Distribución de la frecuencia en que se desactiva un taxímetro en una zona TLC\")\n",
    "plt.grid(True)\n",
    "plt.show()"
   ]
  },
  {
   "cell_type": "markdown",
   "metadata": {},
   "source": [
    "Frecuencia de la desactivación de taxímetro en Zona de taxis de TLC (Comisión de taxis y limusinas de la ciudad de Nueva York), \n",
    "es decir, se bajó un pasajero en una zona determinada (equivale a un ID). "
   ]
  },
  {
   "cell_type": "code",
   "execution_count": 426,
   "metadata": {},
   "outputs": [
    {
     "name": "stdout",
     "output_type": "stream",
     "text": [
      "VendorID                   int32\n",
      "agno_pic                   int32\n",
      "mes_pic                    int32\n",
      "dia_pic                    int32\n",
      "hora_exacta_pic            int64\n",
      "agno_off                   int32\n",
      "mes_off                    int32\n",
      "dia_off                    int32\n",
      "hora_exacta_off            int64\n",
      "PULocationID               int32\n",
      "DOLocationID               int32\n",
      "RatecodeID               float64\n",
      "LocationID                 int64\n",
      "Shape_Leng               float64\n",
      "Shape_Area               float64\n",
      "zone                      object\n",
      "borough                   object\n",
      "store_and_fwd_flag        object\n",
      "passenger_count          float64\n",
      "trip_distance            float64\n",
      "trip_type                float64\n",
      "trip_type                float64\n",
      "congestion_surcharge     float64\n",
      "congestion_surcharge     float64\n",
      "fare_amount              float64\n",
      "extra                    float64\n",
      "mta_tax                  float64\n",
      "tip_amount               float64\n",
      "tolls_amount             float64\n",
      "improvement_surcharge    float64\n",
      "total_amount             float64\n",
      "payment_type             float64\n",
      "dtype: object\n"
     ]
    }
   ],
   "source": [
    "# Verify data types (optional)\n",
    "print(df_muestra_tverdes.dtypes)"
   ]
  },
  {
   "cell_type": "code",
   "execution_count": 427,
   "metadata": {},
   "outputs": [
    {
     "data": {
      "image/png": "[encoded data removed]",
      "text/plain": [
       "<Figure size 640x480 with 1 Axes>"
      ]
     },
     "metadata": {},
     "output_type": "display_data"
    }
   ],
   "source": [
    "# Adjust histogram and trendline\n",
    "sns.histplot(data=df_muestra_tverdes, x=\"RatecodeID\", stat=\"count\", color=\"purple\", alpha=0.7, kde_kws=dict(line_on='add', color='black', linewidth=3))\n",
    "plt.title(\"Distribución de la frecuencia del tipo de tarifa\")\n",
    "plt.grid(True)\n",
    "plt.show()"
   ]
  },
  {
   "cell_type": "markdown",
   "metadata": {},
   "source": [
    "Se muestra la frecuencia de las tarifas, el código ID que más se repite es el 1 (el código de tarifa final vigente al final del viaje. 1 = Tarifa estándar; 2 = JFK; 3 = Newark; 4 = Nassau o Westchester; 5 = Tarifa negociada; 6 = Viaje en grupo)."
   ]
  },
  {
   "cell_type": "code",
   "execution_count": 428,
   "metadata": {},
   "outputs": [
    {
     "data": {
      "image/png": "[encoded data removed]",
      "text/plain": [
       "<Figure size 640x480 with 1 Axes>"
      ]
     },
     "metadata": {},
     "output_type": "display_data"
    }
   ],
   "source": [
    "# Adjust histogram and trendline\n",
    "sns.histplot(data=df_muestra_tverdes, x=\"LocationID\", stat=\"count\", color=\"orange\", alpha=0.7, kde_kws=dict(line_on='add', color='black', linewidth=3))\n",
    "plt.title(\"Distribución de la frecuencia de ID de lugar donde se tomó el taxi\")\n",
    "plt.grid(True)\n",
    "plt.show()"
   ]
  },
  {
   "cell_type": "markdown",
   "metadata": {},
   "source": [
    "En general, locationIDs son componentes esenciales del sistema de taxis de la ciudad de Nueva York, que contribuyen a precios justos, viajes eficientes y valiosa información de datos. Frecuencia de ID de zona o lugar donde se toma el viaje en taxi (verde)."
   ]
  },
  {
   "cell_type": "code",
   "execution_count": 429,
   "metadata": {},
   "outputs": [
    {
     "data": {
      "image/png": "[encoded data removed]",
      "text/plain": [
       "<Figure size 640x480 with 1 Axes>"
      ]
     },
     "metadata": {},
     "output_type": "display_data"
    }
   ],
   "source": [
    "# Adjust histogram and trendline\n",
    "sns.histplot(data=df_muestra_tverdes, x=\"Shape_Leng\", stat=\"count\", color=\"lightblue\", alpha=0.7, kde_kws=dict(line_on='add', color='black', linewidth=3))\n",
    "plt.title(\"Distribución de la frecuencia de las distancias de los viajes en taxi verde\")\n",
    "plt.grid(True)\n",
    "plt.show()"
   ]
  },
  {
   "cell_type": "markdown",
   "metadata": {},
   "source": [
    "Acá se puede ver la distribución de frecuencia de los viajes en taxi verde de cierta distancia (0,12 grados decimales)"
   ]
  },
  {
   "cell_type": "code",
   "execution_count": 430,
   "metadata": {},
   "outputs": [
    {
     "data": {
      "image/png": "[encoded data removed]",
      "text/plain": [
       "<Figure size 640x480 with 1 Axes>"
      ]
     },
     "metadata": {},
     "output_type": "display_data"
    }
   ],
   "source": [
    "# Adjust histogram and trendline\n",
    "sns.histplot(data=df_muestra_tverdes, x=\"Shape_Area\", stat=\"count\", color=\"blue\", alpha=0.7, kde_kws=dict(line_on='add', color='black', linewidth=3))\n",
    "plt.title(\"Distribución de la frecuencia de las distancias de los viajes en taxi verde\")\n",
    "plt.grid(True)\n",
    "plt.show()"
   ]
  },
  {
   "cell_type": "markdown",
   "metadata": {},
   "source": [
    "La columna Shape_Area probablemente represente el área de una zona geográfica específica asociada con cada viaje en taxi. Es muy probable que esta área se mida en metros cuadrados (m²). 0,0003 m², sería el área de la zona de tránsito de taxi verde que más se repite. NO ESTOY SEGURA"
   ]
  },
  {
   "cell_type": "code",
   "execution_count": 431,
   "metadata": {},
   "outputs": [
    {
     "name": "stdout",
     "output_type": "stream",
     "text": [
      "Valor máximo: 0.00203830095472\n",
      "Valor más frecuente: 0.000295038418204\n"
     ]
    }
   ],
   "source": [
    "# Cuál es el valor máximo y el que más se repite en Shape_Area\n",
    "max_value = df_muestra_tverdes[\"Shape_Area\"].max()\n",
    "most_frequent_value = df_muestra_tverdes[\"Shape_Area\"].value_counts().idxmax()\n",
    "\n",
    "print(\"Valor máximo:\", max_value)\n",
    "print(\"Valor más frecuente:\", most_frequent_value)\n"
   ]
  },
  {
   "cell_type": "markdown",
   "metadata": {},
   "source": [
    "Información geoespacial:\n",
    "Componentes potenciales:\n",
    "\n",
    "OBJECTIDShape_LengShape_Area: esta parte sugiere que podría estar relacionada con el identificador único de un objeto geográfico (ObjectID), sus propiedades de forma (posiblemente longitud - LengShape y área - Area) y posiblemente su información de zona (Area).\n",
    "\n",
    "zoneLocationID: esto podría indicar un identificador de zona dentro de los datos.\n",
    "\n",
    "borough: lo más probable es que se refiera a uno de los cinco distritos de la ciudad de Nueva York (Manhattan, Brooklyn, Queens, Staten Island o el Bronx). En este caso, se menciona \"Queens\".\n",
    "\n",
    "Coordenadas: Los valores 010.1163570.000782 y 120.4334700.004866 pueden representar coordenadas de latitud y longitud en un formato específico (grados decimales).\n",
    "\n",
    "Ubicaciones: \"Newark Airport1EWR\" y \"Jamaica Bay2\" pueden ser nombres de ubicaciones o etiquetas asociadas con las coordenadas. \"1EWR\" puede ser un identificador para el aeropuerto de Newark (EWR es un código de aeropuerto común).\n",
    "\n",
    "Interpretación general:\n",
    "\n",
    "Sin contexto sobre la fuente y el formato de los datos, es difícil proporcionar una interpretación definitiva. Sin embargo, aquí hay un posible escenario:\n",
    "\n",
    "Esta cadena puede representar una sola entrada de datos de un conjunto de datos geoespaciales que contiene información sobre zonas, ubicaciones y, potencialmente, formas dentro de la ciudad de Nueva York.\n",
    "La entrada puede ser para una zona en Queens (distrito) que incluye el aeropuerto de Newark (ubicación con código 1EWR) y Jamaica Bay (otra ubicación).\n",
    "La zona puede tener un identificador único y los valores numéricos pueden representar propiedades como su área y la longitud de una forma específica dentro de la zona.\n",
    "Consideraciones adicionales:\n",
    "\n",
    "El formato específico y el significado de los datos dependen de la fuente. Consulta el diccionario de datos o la documentación asociada con el conjunto de datos para obtener una explicación clara de cada campo y su formato.\n",
    "Si tienes la fuente de estos datos, puedes usarla para obtener una comprensión más precisa de lo que representa esta cadena.\n",
    "\n",
    "\n",
    "OBJECTID Shape_Leng\tShape_Area\tzone\t     LocationID\t  borough\n",
    "0\t1\t0.116357\t0.000782\tNewark Airport\t  1\t      EWR\n",
    "1\t2\t0.433470\t0.004866\tJamaica Bay\t      2\t      Queens"
   ]
  },
  {
   "cell_type": "markdown",
   "metadata": {},
   "source": [
    "No, los valores de la columna Shape_Leng (suponiendo que esa sea la longitud que te interesa) probablemente no estén en millas. Esta es la razón:\n",
    "\n",
    "Origen de los datos: el fragmento de datos proporcionado menciona ubicaciones como \"Aeropuerto de Newark\" y \"Bahía de Jamaica\", lo que sugiere que está relacionado con la ciudad de Nueva York.\n",
    "Unidades estándar: los datos geoespaciales en los EE. UU. suelen utilizar grados decimales o metros para representar ubicaciones y longitudes. Las millas son menos comunes para dichos datos.\n",
    "Unidades posibles:\n",
    "\n",
    "Grados decimales: si representan longitudes a lo largo de una línea geográfica, es probable que estén en grados decimales. Las distancias calculadas con estos valores necesitarían una conversión a una unidad lineal como metros o pies antes de convertirlas a millas.\n",
    "\n",
    "Metros: también es posible que los valores representen directamente longitudes en metros. En este caso, podrías convertirlos a millas multiplicándolos por 0,000621371 (factor de conversión de metros a millas).\n",
    "\n",
    "Cómo determinar las unidades:\n",
    "\n",
    "Documentación de la fuente de datos: la mejor manera de confirmar las unidades es consultar la documentación o el diccionario de datos que acompaña al conjunto de datos que está utilizando. Debe especificar las unidades utilizadas para cada columna.\n",
    "Pistas de contexto: a veces, los datos en sí mismos pueden ofrecer pistas. Por ejemplo, si otras columnas contienen distancias que se sabe que están en millas, es menos probable que Shape_Leng también esté en millas.\n",
    "Recomendación:\n",
    "\n",
    "Consulte la documentación de la fuente de datos para confirmar las unidades utilizadas en Shape_Leng.\n",
    "Si las unidades no están en millas, deberá realizar una conversión de unidades antes de interpretarlas como longitudes en millas."
   ]
  },
  {
   "cell_type": "markdown",
   "metadata": {},
   "source": [
    "En el contexto del fragmento de datos proporcionado y el conjunto de datos de taxis ecológicos de Nueva York, la columna Shape_Area probablemente represente el área de una zona geográfica específica asociada con cada viaje en taxi. Es muy probable que esta área se mida en metros cuadrados (m²).\n",
    "\n",
    "Justificación:\n",
    "\n",
    "Datos relacionados con la zona: la presencia de columnas como zone y LocationID sugiere que los datos están relacionados con zonas o áreas geográficas.\n",
    "Área vs. Longitud: Shape_Area es distinta de Shape_Leng, que probablemente representa la longitud. El área es una medida bidimensional, mientras que la longitud es unidimensional.\n",
    "Taxis y zonas de Nueva York: los taxis ecológicos de Nueva York operan dentro de zonas específicas, y Shape_Area podría estar asociada con el área de estas zonas.\n",
    "Interpretación:\n",
    "\n",
    "Cada fila de los datos podría representar un viaje en taxi, y el valor Shape_Area para ese viaje podría ser el área de la zona donde se originó o finalizó el viaje.\n",
    "El análisis de la distribución de los valores Shape_Area podría proporcionar información sobre el tamaño de las áreas donde los viajes en taxi ecológico son más comunes.\n",
    "Visualización de histograma:\n",
    "\n",
    "El fragmento de código proporcionado utiliza seaborn.histplot() para visualizar la distribución de los valores de Shape_Area mediante un histograma. Este es un enfoque adecuado para explorar la frecuencia de diferentes valores de área.\n",
    "\n",
    "Consideraciones adicionales:\n",
    "\n",
    "El significado específico de Shape_Area y su relevancia para los viajes en taxi dependen del contexto de la fuente de datos y del análisis que se esté realizando. Si la documentación de la fuente de datos no define explícitamente Shape_Area, es recomendable aclarar su significado con el proveedor de datos o investigar más a fondo para garantizar una interpretación precisa. Espero que esta explicación aclare el significado de Shape_Area y su posible función en el análisis de los datos de taxis ecológicos de Nueva York."
   ]
  },
  {
   "cell_type": "code",
   "execution_count": 432,
   "metadata": {},
   "outputs": [
    {
     "name": "stdout",
     "output_type": "stream",
     "text": [
      "Top 20 Most Frequent Places in 'zone':\n",
      "zone\n",
      "East Harlem North              876\n",
      "East Harlem South              562\n",
      "Central Park                   212\n",
      "Central Harlem                 191\n",
      "Elmhurst                       185\n",
      "Morningside Heights            185\n",
      "Forest Hills                   183\n",
      "Fort Greene                    132\n",
      "Downtown Brooklyn/MetroTech    109\n",
      "Washington Heights South        98\n",
      "Astoria                         97\n",
      "Jackson Heights                 93\n",
      "Central Harlem North            90\n",
      "Jamaica                         88\n",
      "Woodside                        83\n",
      "Kew Gardens                     53\n",
      "DUMBO/Vinegar Hill              50\n",
      "Brooklyn Heights                35\n",
      "Hamilton Heights                35\n",
      "Steinway                        30\n",
      "Name: count, dtype: int64\n"
     ]
    }
   ],
   "source": [
    "\n",
    "# Get the frequency counts of unique values in the 'zone' column\n",
    "zone_counts = df_muestra_tverdes['zone'].value_counts()\n",
    "\n",
    "# Sort the Series by counts in descending order (most frequent first)\n",
    "top_20_zones = zone_counts.nlargest(20)\n",
    "\n",
    "print(\"Top 20 Most Frequent Places in 'zone':\")\n",
    "print(top_20_zones)\n"
   ]
  },
  {
   "cell_type": "code",
   "execution_count": 433,
   "metadata": {},
   "outputs": [],
   "source": [
    "# Contar las zonas o lugares de NY\n",
    "df_muestra_tverdes_with_counts = df_muestra_tverdes['zone'].value_counts().reset_index(name='count')"
   ]
  },
  {
   "cell_type": "code",
   "execution_count": 434,
   "metadata": {},
   "outputs": [
    {
     "data": {
      "image/png": "[encoded data removed]",
      "text/plain": [
       "<Figure size 1000x600 with 1 Axes>"
      ]
     },
     "metadata": {},
     "output_type": "display_data"
    }
   ],
   "source": [
    "# Extracto de los 20 lugares que más se repiten en ZONE\n",
    "zones = top_20_zones.index.to_list()\n",
    "counts = top_20_zones.to_list()\n",
    "\n",
    "# Crear el gráfico\n",
    "plt.figure(figsize=(10, 6))  # Adjust figure size as desired\n",
    "plt.bar(zones, counts, color='skyblue')\n",
    "\n",
    "# Etiquetar ejes\n",
    "plt.xlabel(\"Zona de NY\")\n",
    "plt.ylabel(\"Frecuencia\")\n",
    "plt.title(\"Top 20 de los lugares que más se repiten en la columna 'zone' \")\n",
    "\n",
    "# Rotar un poco las etiquetas\n",
    "plt.xticks(rotation=45, ha='right')\n",
    "\n",
    "# Mostrar gráfica\n",
    "plt.grid(axis='y')\n",
    "plt.tight_layout()\n",
    "plt.show()\n"
   ]
  },
  {
   "cell_type": "code",
   "execution_count": 435,
   "metadata": {},
   "outputs": [
    {
     "name": "stdout",
     "output_type": "stream",
     "text": [
      "Valor máximo: Yorkville West\n",
      "Valor más frecuente: East Harlem North\n"
     ]
    }
   ],
   "source": [
    "# Cuál es el valor máximo y el que más se repite en Shape_Area\n",
    "max_value = df_muestra_tverdes[\"zone\"].max()\n",
    "most_frequent_value = df_muestra_tverdes[\"zone\"].value_counts().idxmax()\n",
    "\n",
    "print(\"Valor máximo:\", max_value)\n",
    "print(\"Valor más frecuente:\", most_frequent_value)\n"
   ]
  },
  {
   "cell_type": "markdown",
   "metadata": {},
   "source": [
    "Los lugares que más se repiten entre los viajes en taxi verde en NY (top 20)."
   ]
  },
  {
   "cell_type": "code",
   "execution_count": 436,
   "metadata": {},
   "outputs": [
    {
     "data": {
      "image/png": "[encoded data removed]",
      "text/plain": [
       "<Figure size 640x480 with 1 Axes>"
      ]
     },
     "metadata": {},
     "output_type": "display_data"
    }
   ],
   "source": [
    "# Adjust histogram and trendline\n",
    "sns.histplot(data=df_muestra_tverdes, x=\"borough\", stat=\"count\", color=\"blue\", alpha=0.7, kde_kws=dict(line_on='add', color='black', linewidth=3))\n",
    "plt.title(\"Distribución de la frecuencia de los Borough en los viajes en taxi verde\")\n",
    "plt.grid(True)\n",
    "plt.show()"
   ]
  },
  {
   "cell_type": "markdown",
   "metadata": {},
   "source": [
    "Los Borough más frecuentados en viaje de taxi verde, son Manhattan y Queens."
   ]
  },
  {
   "cell_type": "code",
   "execution_count": 437,
   "metadata": {},
   "outputs": [
    {
     "name": "stdout",
     "output_type": "stream",
     "text": [
      "object\n"
     ]
    }
   ],
   "source": [
    "# Tipo de dato de la columna\n",
    "print(df_muestra_tverdes[\"store_and_fwd_flag\"].dtype)"
   ]
  },
  {
   "cell_type": "code",
   "execution_count": 438,
   "metadata": {},
   "outputs": [],
   "source": [
    "# Cambiar N e Y por 0 y 1 en la columna\n",
    "df_muestra_tverdes[\"store_and_fwd_flag\"] = df_muestra_tverdes[\"store_and_fwd_flag\"].replace(\n",
    "    {0: 'N', 1: 'Y'})"
   ]
  },
  {
   "cell_type": "code",
   "execution_count": 439,
   "metadata": {},
   "outputs": [
    {
     "data": {
      "image/png": "[encoded data removed]",
      "text/plain": [
       "<Figure size 640x480 with 1 Axes>"
      ]
     },
     "metadata": {},
     "output_type": "display_data"
    }
   ],
   "source": [
    "# Graficar la distribución de la frecuencia de los valores\n",
    "sns.histplot(\n",
    "    data=df_muestra_tverdes,\n",
    "    x=\"store_and_fwd_flag\",\n",
    "    stat=\"count\",\n",
    "    color=\"skyblue\",\n",
    "    alpha=0.7,\n",
    "    kde_kws=dict(line_on=\"add\", color=\"black\", linewidth=3),\n",
    ")\n",
    "\n",
    "plt.title(\"Distribución de frecuencia de 'store_and_fwd_flag'\")\n",
    "plt.xlabel(\"store_and_fwd_flag\")\n",
    "plt.ylabel(\"Frecuencia\")\n",
    "\n",
    "plt.grid(True)\n",
    "plt.show()\n"
   ]
  },
  {
   "cell_type": "markdown",
   "metadata": {},
   "source": [
    "Al parecer no se mantienen los registros en la memoria del taxi antes de enviarlo al proveedor de LPEP.\n",
    "(Local Public Entity Program) para taxis verdes. Estos proveedores ofrecen una variedad de servicios para ayudar a las entidades públicas locales a cumplir con los requisitos del programa LPEP, que incluye la implementación de programas de transporte público, la mejora de la seguridad vial y la reducción del impacto ambiental del transporte.\n",
    "The New York City Taxi and Limousine Commission (TLC) es un LPEP.\n",
    "- **Store_and_fwd_flag:** Esta bandera indica si el registro del viaje se mantuvo en la memoria del vehículo antes de enviarlo al proveedor, también conocido como \"almacenamiento y reenvío\", porque el vehículo no tenía una conexión con el servidor. Y = viaje de almacenamiento y reenvío; N = no es un viaje de almacenamiento y reenvío.\n",
    "\n",
    "**La gráfica indica que se envió directamente al servidor sin almacenamiento previo.**"
   ]
  },
  {
   "cell_type": "code",
   "execution_count": 440,
   "metadata": {},
   "outputs": [
    {
     "data": {
      "image/png": "[encoded data removed]",
      "text/plain": [
       "<Figure size 640x480 with 1 Axes>"
      ]
     },
     "metadata": {},
     "output_type": "display_data"
    }
   ],
   "source": [
    "# Adjust histogram and trendline\n",
    "sns.histplot(data=df_muestra_tverdes, x=\"passenger_count\", stat=\"count\", color=\"blue\", alpha=0.7, kde_kws=dict(line_on='add', color='black', linewidth=3))\n",
    "plt.title(\"Distribución de la frecuencia del número de pasajeros en taxi verde\")\n",
    "plt.grid(True)\n",
    "plt.show()"
   ]
  },
  {
   "cell_type": "markdown",
   "metadata": {},
   "source": [
    "Lo más frecuente es de a un pasajero."
   ]
  },
  {
   "cell_type": "code",
   "execution_count": 441,
   "metadata": {},
   "outputs": [
    {
     "data": {
      "text/plain": [
       "count      3951.000000\n",
       "mean         57.354333\n",
       "std        3212.694792\n",
       "min           0.000000\n",
       "25%           1.120000\n",
       "50%           1.810000\n",
       "75%           3.110000\n",
       "max      201421.680000\n",
       "Name: trip_distance, dtype: float64"
      ]
     },
     "execution_count": 441,
     "metadata": {},
     "output_type": "execute_result"
    }
   ],
   "source": [
    "# Descripción de las millas recorridas por los taxi verdes\n",
    "df_muestra_tverdes[\"trip_distance\"].describe()"
   ]
  },
  {
   "cell_type": "code",
   "execution_count": 442,
   "metadata": {},
   "outputs": [
    {
     "name": "stdout",
     "output_type": "stream",
     "text": [
      "Valor máximo: 201421.68\n",
      "Valor más frecuente: 0.0\n"
     ]
    }
   ],
   "source": [
    "# Cuál es el valor máximo y las distancias en millas como valor máximo\n",
    "max_value = df_muestra_tverdes[\"trip_distance\"].max()\n",
    "most_frequent_value = df_muestra_tverdes[\"trip_distance\"].value_counts().idxmax()\n",
    "\n",
    "print(\"Valor máximo:\", max_value)\n",
    "print(\"Valor más frecuente:\", most_frequent_value)\n"
   ]
  },
  {
   "cell_type": "code",
   "execution_count": 443,
   "metadata": {},
   "outputs": [
    {
     "data": {
      "text/plain": [
       "count      3951.000000\n",
       "mean         57.354333\n",
       "std        3212.694792\n",
       "min           0.000000\n",
       "25%           1.120000\n",
       "50%           1.810000\n",
       "75%           3.110000\n",
       "max      201421.680000\n",
       "Name: trip_distance, dtype: float64"
      ]
     },
     "execution_count": 443,
     "metadata": {},
     "output_type": "execute_result"
    }
   ],
   "source": [
    "df_muestra_tverdes[\"trip_distance\"].describe()"
   ]
  },
  {
   "cell_type": "markdown",
   "metadata": {},
   "source": [
    "En cuanto a distancia recorrida en el mes de ENERO del 2024, sumaron 201 421, 68 millas; con un promedio de 57, 3 millas por día\n",
    "(con una desviación estándar +/- de 3 212,69 millas, lo cual es de mucha variabilidad respecto al promedio). Outlier."
   ]
  },
  {
   "cell_type": "code",
   "execution_count": 444,
   "metadata": {},
   "outputs": [
    {
     "data": {
      "text/html": [
       "<div>\n",
       "<style scoped>\n",
       "    .dataframe tbody tr th:only-of-type {\n",
       "        vertical-align: middle;\n",
       "    }\n",
       "\n",
       "    .dataframe tbody tr th {\n",
       "        vertical-align: top;\n",
       "    }\n",
       "\n",
       "    .dataframe thead th {\n",
       "        text-align: right;\n",
       "    }\n",
       "</style>\n",
       "<table border=\"1\" class=\"dataframe\">\n",
       "  <thead>\n",
       "    <tr style=\"text-align: right;\">\n",
       "      <th></th>\n",
       "      <th>trip_type</th>\n",
       "      <th>trip_type</th>\n",
       "    </tr>\n",
       "  </thead>\n",
       "  <tbody>\n",
       "    <tr>\n",
       "      <th>count</th>\n",
       "      <td>3951.000000</td>\n",
       "      <td>3951.000000</td>\n",
       "    </tr>\n",
       "    <tr>\n",
       "      <th>mean</th>\n",
       "      <td>0.963554</td>\n",
       "      <td>0.963554</td>\n",
       "    </tr>\n",
       "    <tr>\n",
       "      <th>std</th>\n",
       "      <td>0.301369</td>\n",
       "      <td>0.301369</td>\n",
       "    </tr>\n",
       "    <tr>\n",
       "      <th>min</th>\n",
       "      <td>0.000000</td>\n",
       "      <td>0.000000</td>\n",
       "    </tr>\n",
       "    <tr>\n",
       "      <th>25%</th>\n",
       "      <td>1.000000</td>\n",
       "      <td>1.000000</td>\n",
       "    </tr>\n",
       "    <tr>\n",
       "      <th>50%</th>\n",
       "      <td>1.000000</td>\n",
       "      <td>1.000000</td>\n",
       "    </tr>\n",
       "    <tr>\n",
       "      <th>75%</th>\n",
       "      <td>1.000000</td>\n",
       "      <td>1.000000</td>\n",
       "    </tr>\n",
       "    <tr>\n",
       "      <th>max</th>\n",
       "      <td>2.000000</td>\n",
       "      <td>2.000000</td>\n",
       "    </tr>\n",
       "  </tbody>\n",
       "</table>\n",
       "</div>"
      ],
      "text/plain": [
       "         trip_type    trip_type\n",
       "count  3951.000000  3951.000000\n",
       "mean      0.963554     0.963554\n",
       "std       0.301369     0.301369\n",
       "min       0.000000     0.000000\n",
       "25%       1.000000     1.000000\n",
       "50%       1.000000     1.000000\n",
       "75%       1.000000     1.000000\n",
       "max       2.000000     2.000000"
      ]
     },
     "execution_count": 444,
     "metadata": {},
     "output_type": "execute_result"
    }
   ],
   "source": [
    "df_muestra_tverdes[\"trip_type\"].describe()"
   ]
  },
  {
   "cell_type": "markdown",
   "metadata": {},
   "source": [
    " Un código que indica si el viaje fue un viaje con conductor en la calle o un viaje con conductor que se asigna automáticamente en función de la tarifa medida en uso, pero que el conductor puede modificar. 1 = Viaje con conductor en la calle; 2 = Viaje con conductor.\n"
   ]
  },
  {
   "cell_type": "code",
   "execution_count": 445,
   "metadata": {},
   "outputs": [],
   "source": [
    "if df_muestra_tverdes.index is None:\n",
    "    df_muestra_tverdes = df_muestra_tverdes.reset_index(drop=True)\n"
   ]
  },
  {
   "cell_type": "code",
   "execution_count": 446,
   "metadata": {},
   "outputs": [
    {
     "data": {
      "text/html": [
       "<div>\n",
       "<style scoped>\n",
       "    .dataframe tbody tr th:only-of-type {\n",
       "        vertical-align: middle;\n",
       "    }\n",
       "\n",
       "    .dataframe tbody tr th {\n",
       "        vertical-align: top;\n",
       "    }\n",
       "\n",
       "    .dataframe thead th {\n",
       "        text-align: right;\n",
       "    }\n",
       "</style>\n",
       "<table border=\"1\" class=\"dataframe\">\n",
       "  <thead>\n",
       "    <tr style=\"text-align: right;\">\n",
       "      <th></th>\n",
       "      <th>congestion_surcharge</th>\n",
       "      <th>congestion_surcharge</th>\n",
       "    </tr>\n",
       "  </thead>\n",
       "  <tbody>\n",
       "    <tr>\n",
       "      <th>count</th>\n",
       "      <td>3951.000000</td>\n",
       "      <td>3951.000000</td>\n",
       "    </tr>\n",
       "    <tr>\n",
       "      <th>mean</th>\n",
       "      <td>0.725892</td>\n",
       "      <td>0.725892</td>\n",
       "    </tr>\n",
       "    <tr>\n",
       "      <th>std</th>\n",
       "      <td>1.211510</td>\n",
       "      <td>1.211510</td>\n",
       "    </tr>\n",
       "    <tr>\n",
       "      <th>min</th>\n",
       "      <td>0.000000</td>\n",
       "      <td>0.000000</td>\n",
       "    </tr>\n",
       "    <tr>\n",
       "      <th>25%</th>\n",
       "      <td>0.000000</td>\n",
       "      <td>0.000000</td>\n",
       "    </tr>\n",
       "    <tr>\n",
       "      <th>50%</th>\n",
       "      <td>0.000000</td>\n",
       "      <td>0.000000</td>\n",
       "    </tr>\n",
       "    <tr>\n",
       "      <th>75%</th>\n",
       "      <td>2.750000</td>\n",
       "      <td>2.750000</td>\n",
       "    </tr>\n",
       "    <tr>\n",
       "      <th>max</th>\n",
       "      <td>2.750000</td>\n",
       "      <td>2.750000</td>\n",
       "    </tr>\n",
       "  </tbody>\n",
       "</table>\n",
       "</div>"
      ],
      "text/plain": [
       "       congestion_surcharge  congestion_surcharge\n",
       "count           3951.000000           3951.000000\n",
       "mean               0.725892              0.725892\n",
       "std                1.211510              1.211510\n",
       "min                0.000000              0.000000\n",
       "25%                0.000000              0.000000\n",
       "50%                0.000000              0.000000\n",
       "75%                2.750000              2.750000\n",
       "max                2.750000              2.750000"
      ]
     },
     "execution_count": 446,
     "metadata": {},
     "output_type": "execute_result"
    }
   ],
   "source": [
    "df_muestra_tverdes[\"congestion_surcharge\"].describe()"
   ]
  },
  {
   "cell_type": "code",
   "execution_count": 447,
   "metadata": {},
   "outputs": [
    {
     "data": {
      "text/plain": [
       "count    3951.000000\n",
       "mean       17.389995\n",
       "std        15.575752\n",
       "min        -5.800000\n",
       "25%         9.300000\n",
       "50%        13.500000\n",
       "75%        19.800000\n",
       "max       400.000000\n",
       "Name: fare_amount, dtype: float64"
      ]
     },
     "execution_count": 447,
     "metadata": {},
     "output_type": "execute_result"
    }
   ],
   "source": [
    "df_muestra_tverdes[\"fare_amount\"].describe()"
   ]
  },
  {
   "cell_type": "code",
   "execution_count": 448,
   "metadata": {},
   "outputs": [
    {
     "data": {
      "text/plain": [
       "count    3951.000000\n",
       "mean        0.879461\n",
       "std         1.338846\n",
       "min        -2.500000\n",
       "25%         0.000000\n",
       "50%         0.000000\n",
       "75%         1.000000\n",
       "max         7.500000\n",
       "Name: extra, dtype: float64"
      ]
     },
     "execution_count": 448,
     "metadata": {},
     "output_type": "execute_result"
    }
   ],
   "source": [
    "df_muestra_tverdes[\"extra\"].describe()"
   ]
  },
  {
   "cell_type": "code",
   "execution_count": 449,
   "metadata": {},
   "outputs": [
    {
     "data": {
      "text/plain": [
       "count    3951.000000\n",
       "mean        0.578904\n",
       "std         0.387777\n",
       "min        -0.500000\n",
       "25%         0.500000\n",
       "50%         0.500000\n",
       "75%         0.500000\n",
       "max         4.250000\n",
       "Name: mta_tax, dtype: float64"
      ]
     },
     "execution_count": 449,
     "metadata": {},
     "output_type": "execute_result"
    }
   ],
   "source": [
    "df_muestra_tverdes[\"mta_tax\"].describe()"
   ]
  },
  {
   "cell_type": "code",
   "execution_count": 450,
   "metadata": {},
   "outputs": [
    {
     "data": {
      "text/plain": [
       "count    3951.000000\n",
       "mean        2.267689\n",
       "std         2.922249\n",
       "min        -0.010000\n",
       "25%         0.000000\n",
       "50%         2.000000\n",
       "75%         3.500000\n",
       "max        56.000000\n",
       "Name: tip_amount, dtype: float64"
      ]
     },
     "execution_count": 450,
     "metadata": {},
     "output_type": "execute_result"
    }
   ],
   "source": [
    "df_muestra_tverdes[\"tip_amount\"].describe()"
   ]
  },
  {
   "cell_type": "code",
   "execution_count": 451,
   "metadata": {},
   "outputs": [
    {
     "data": {
      "text/plain": [
       "count    3951.000000\n",
       "mean        0.196603\n",
       "std         1.221540\n",
       "min         0.000000\n",
       "25%         0.000000\n",
       "50%         0.000000\n",
       "75%         0.000000\n",
       "max        20.320000\n",
       "Name: tolls_amount, dtype: float64"
      ]
     },
     "execution_count": 451,
     "metadata": {},
     "output_type": "execute_result"
    }
   ],
   "source": [
    "df_muestra_tverdes[\"tolls_amount\"].describe()"
   ]
  },
  {
   "cell_type": "code",
   "execution_count": 452,
   "metadata": {},
   "outputs": [
    {
     "data": {
      "text/plain": [
       "count    3951.000000\n",
       "mean        0.982637\n",
       "std         0.143738\n",
       "min        -1.000000\n",
       "25%         1.000000\n",
       "50%         1.000000\n",
       "75%         1.000000\n",
       "max         1.000000\n",
       "Name: improvement_surcharge, dtype: float64"
      ]
     },
     "execution_count": 452,
     "metadata": {},
     "output_type": "execute_result"
    }
   ],
   "source": [
    "df_muestra_tverdes[\"improvement_surcharge\"].describe()"
   ]
  },
  {
   "cell_type": "code",
   "execution_count": 453,
   "metadata": {},
   "outputs": [
    {
     "data": {
      "text/plain": [
       "count    3951.000000\n",
       "mean       22.849960\n",
       "std        17.292685\n",
       "min        -8.400000\n",
       "25%        13.600000\n",
       "50%        18.750000\n",
       "75%        26.920000\n",
       "max       401.000000\n",
       "Name: total_amount, dtype: float64"
      ]
     },
     "execution_count": 453,
     "metadata": {},
     "output_type": "execute_result"
    }
   ],
   "source": [
    "df_muestra_tverdes[\"total_amount\"].describe()"
   ]
  },
  {
   "cell_type": "code",
   "execution_count": 454,
   "metadata": {},
   "outputs": [
    {
     "data": {
      "text/plain": [
       "count    3951.000000\n",
       "mean        1.237914\n",
       "std         0.581652\n",
       "min         0.000000\n",
       "25%         1.000000\n",
       "50%         1.000000\n",
       "75%         2.000000\n",
       "max         4.000000\n",
       "Name: payment_type, dtype: float64"
      ]
     },
     "execution_count": 454,
     "metadata": {},
     "output_type": "execute_result"
    }
   ],
   "source": [
    "df_muestra_tverdes[\"payment_type\"].describe()"
   ]
  },
  {
   "cell_type": "code",
   "execution_count": 455,
   "metadata": {},
   "outputs": [],
   "source": [
    "# Agrupación para seleccionar datos sin nulo\n",
    "# #tabla1[\"fecha\"] = tabla1[\"tpep_pickup_datetime\"].dt.date\n",
    "#tabla_agrupada1 = tabla1.groupby([\"fecha\",\"VendorID\",\"store_and_fwd_flag\",\"payment_type\",\"RatecodeID\",\"PULocationID\",\"DOLocationID\"]).sum().reset_index()"
   ]
  },
  {
   "cell_type": "code",
   "execution_count": 456,
   "metadata": {},
   "outputs": [],
   "source": [
    "#df_numeric = df.copy()  # Create a copy to avoid modifying the original DataFrame\n",
    "#df_numeric[\"column1\"] = df_numeric[\"column1\"].astype(int)\n",
    "#df_numeric[\"column2\"] = df_numeric[\"column2\"].astype(float)\n"
   ]
  },
  {
   "cell_type": "code",
   "execution_count": 457,
   "metadata": {},
   "outputs": [],
   "source": [
    "# Crea el mapa base\n",
    "#m = folium.Map(location=[40.7128, -74.0060], zoom_start=11)\n",
    "\n",
    "# Agrega marcadores para la recogida\n",
    "#for index, row in muestra_aleatoria.iterrows():\n",
    "#    folium.Marker(\n",
    "#        [row[\"PULocationID\"], row[\"DOLocationID\"]],\n",
    "#        popup=f\"Pickup: {row['zone']}\",\n",
    "#        icon=folium.Icon(color=\"green\"),\n",
    "#    ).add_to(m)\n",
    "\n",
    "# Agrega marcadores para la entrega\n",
    "#for index, row in muestra_aleatoria.iterrows():\n",
    "#    folium.Marker(\n",
    "#        [row[\"PULocationID\"], row[\"DOLocationID\"]],\n",
    "#        popup=f\"Dropoff: {row['zone']}\",\n",
    "#        icon=folium.Icon(color=\"red\"),\n",
    "#    ).add_to(m)\n",
    "\n",
    "# Guarda el mapa en un archivo HTML\n",
    "#m.save(\"mapa_viajes_taxi_muestra.html\")\n",
    "\n",
    "# (Opcional) Muestra el mapa en un IFrame\n",
    "#from IPython.display import IFrame\n",
    "\n",
    "#IFrame(src=\"mapa_viajes_taxi_muestra.html\", width=700, height=600)\n"
   ]
  },
  {
   "cell_type": "code",
   "execution_count": 458,
   "metadata": {},
   "outputs": [],
   "source": [
    "#from IPython.display import IFrame\n",
    "\n",
    "#iframe = IFrame(src='mapa_viajes_taxi.html', width=700, height=600)\n"
   ]
  },
  {
   "cell_type": "code",
   "execution_count": 459,
   "metadata": {},
   "outputs": [],
   "source": [
    "#iframe"
   ]
  },
  {
   "cell_type": "code",
   "execution_count": 460,
   "metadata": {},
   "outputs": [],
   "source": [
    "# Cantidad de valores nulos en cada columna\n",
    "null_counts_metadata = df.isnull().sum()"
   ]
  },
  {
   "cell_type": "code",
   "execution_count": 461,
   "metadata": {},
   "outputs": [
    {
     "data": {
      "text/plain": [
       "OBJECTID      0\n",
       "Shape_Leng    0\n",
       "Shape_Area    0\n",
       "zone          0\n",
       "LocationID    0\n",
       "borough       0\n",
       "dtype: int64"
      ]
     },
     "execution_count": 461,
     "metadata": {},
     "output_type": "execute_result"
    }
   ],
   "source": [
    "null_counts_metadata"
   ]
  },
  {
   "cell_type": "markdown",
   "metadata": {},
   "source": [
    "Data vehicle fuel economy:"
   ]
  },
  {
   "cell_type": "code",
   "execution_count": 462,
   "metadata": {},
   "outputs": [],
   "source": [
    "# Assumiendo que el archivo está en la carpeta\n",
    "# Cambiar al directorio con el archivo\n",
    "file_path = \"C:/Users/56988/Desktop/NYdrive/DATASETORIGEN/Vehicle Fuel Economy Data.csv\"\n",
    "os.chdir(\"C:/Users/56988/Desktop/NYdrive/\")"
   ]
  },
  {
   "cell_type": "code",
   "execution_count": 463,
   "metadata": {},
   "outputs": [],
   "source": [
    "# Dataframe alternative fuel     28, 2 seg en abrir\n",
    "df_vehicle_fuel_econo = pd.read_csv(file_path)"
   ]
  },
  {
   "cell_type": "code",
   "execution_count": 464,
   "metadata": {},
   "outputs": [
    {
     "data": {
      "text/html": [
       "<div>\n",
       "<style scoped>\n",
       "    .dataframe tbody tr th:only-of-type {\n",
       "        vertical-align: middle;\n",
       "    }\n",
       "\n",
       "    .dataframe tbody tr th {\n",
       "        vertical-align: top;\n",
       "    }\n",
       "\n",
       "    .dataframe thead th {\n",
       "        text-align: right;\n",
       "    }\n",
       "</style>\n",
       "<table border=\"1\" class=\"dataframe\">\n",
       "  <thead>\n",
       "    <tr style=\"text-align: right;\">\n",
       "      <th></th>\n",
       "      <th>Year</th>\n",
       "      <th>Manufacturer</th>\n",
       "      <th>Model</th>\n",
       "      <th>barrels08</th>\n",
       "      <th>barrelsA08</th>\n",
       "      <th>charge240</th>\n",
       "      <th>city08</th>\n",
       "      <th>city08U</th>\n",
       "      <th>cityA08</th>\n",
       "      <th>cityA08U</th>\n",
       "      <th>...</th>\n",
       "      <th>mfrCode</th>\n",
       "      <th>c240Dscr</th>\n",
       "      <th>charge240b</th>\n",
       "      <th>c240bDscr</th>\n",
       "      <th>createdOn</th>\n",
       "      <th>modifiedOn</th>\n",
       "      <th>startStop</th>\n",
       "      <th>phevCity</th>\n",
       "      <th>phevHwy</th>\n",
       "      <th>phevComb</th>\n",
       "    </tr>\n",
       "  </thead>\n",
       "  <tbody>\n",
       "    <tr>\n",
       "      <th>0</th>\n",
       "      <td>2017</td>\n",
       "      <td>BMW</td>\n",
       "      <td>M6 Coupe</td>\n",
       "      <td>17.500588</td>\n",
       "      <td>0.0</td>\n",
       "      <td>0.0</td>\n",
       "      <td>15.0</td>\n",
       "      <td>14.0</td>\n",
       "      <td>0.0</td>\n",
       "      <td>0.0</td>\n",
       "      <td>...</td>\n",
       "      <td>BMX</td>\n",
       "      <td>NaN</td>\n",
       "      <td>0.0</td>\n",
       "      <td>NaN</td>\n",
       "      <td>04-04-2016</td>\n",
       "      <td>09-09-2016</td>\n",
       "      <td>Y</td>\n",
       "      <td>0.0</td>\n",
       "      <td>0.0</td>\n",
       "      <td>0.0</td>\n",
       "    </tr>\n",
       "    <tr>\n",
       "      <th>1</th>\n",
       "      <td>2017</td>\n",
       "      <td>BMW</td>\n",
       "      <td>X3 sDrive28i</td>\n",
       "      <td>12.396250</td>\n",
       "      <td>0.0</td>\n",
       "      <td>0.0</td>\n",
       "      <td>21.0</td>\n",
       "      <td>21.0</td>\n",
       "      <td>0.0</td>\n",
       "      <td>0.0</td>\n",
       "      <td>...</td>\n",
       "      <td>BMX</td>\n",
       "      <td>NaN</td>\n",
       "      <td>0.0</td>\n",
       "      <td>NaN</td>\n",
       "      <td>04-04-2016</td>\n",
       "      <td>22-11-2016</td>\n",
       "      <td>Y</td>\n",
       "      <td>0.0</td>\n",
       "      <td>0.0</td>\n",
       "      <td>0.0</td>\n",
       "    </tr>\n",
       "  </tbody>\n",
       "</table>\n",
       "<p>2 rows × 82 columns</p>\n",
       "</div>"
      ],
      "text/plain": [
       "   Year Manufacturer         Model  barrels08  barrelsA08  charge240  city08  \\\n",
       "0  2017          BMW      M6 Coupe  17.500588         0.0        0.0    15.0   \n",
       "1  2017          BMW  X3 sDrive28i  12.396250         0.0        0.0    21.0   \n",
       "\n",
       "   city08U  cityA08  cityA08U  ...  mfrCode  c240Dscr  charge240b  c240bDscr  \\\n",
       "0     14.0      0.0       0.0  ...      BMX       NaN         0.0        NaN   \n",
       "1     21.0      0.0       0.0  ...      BMX       NaN         0.0        NaN   \n",
       "\n",
       "    createdOn  modifiedOn  startStop  phevCity  phevHwy  phevComb  \n",
       "0  04-04-2016  09-09-2016          Y       0.0      0.0       0.0  \n",
       "1  04-04-2016  22-11-2016          Y       0.0      0.0       0.0  \n",
       "\n",
       "[2 rows x 82 columns]"
      ]
     },
     "execution_count": 464,
     "metadata": {},
     "output_type": "execute_result"
    }
   ],
   "source": [
    "df_vehicle_fuel_econo.head(2)"
   ]
  },
  {
   "cell_type": "code",
   "execution_count": 465,
   "metadata": {},
   "outputs": [
    {
     "data": {
      "text/plain": [
       "Index(['Year', 'Manufacturer', 'Model', 'barrels08', 'barrelsA08', 'charge240',\n",
       "       'city08', 'city08U', 'cityA08', 'cityA08U', 'cityCD', 'cityE', 'cityUF',\n",
       "       'co2', 'co2A', 'co2TailpipeAGpm', 'co2TailpipeGpm', 'comb08', 'comb08U',\n",
       "       'combA08', 'combA08U', 'combE', 'combinedCD', 'combinedUF', 'cylinders',\n",
       "       'displ', 'drive', 'engId', 'eng_dscr', 'feScore', 'fuelCost08',\n",
       "       'fuelCostA08', 'fuelType', 'fuelType1', 'ghgScore', 'ghgScoreA',\n",
       "       'highway08', 'highway08U', 'highwayA08', 'highwayA08U', 'VClass',\n",
       "       'highwayCD', 'highwayE', 'highwayUF', 'hlv', 'hpv', 'id', 'lv2', 'lv4',\n",
       "       'mpgData', 'phevBlended', 'pv2', 'pv4', 'range', 'rangeCity',\n",
       "       'rangeCityA', 'rangeHwy', 'rangeHwyA', 'trany', 'UCity', 'UCityA',\n",
       "       'UHighway', 'UHighwayA', 'youSaveSpend', 'guzzler', 'trans_dscr',\n",
       "       'tCharger', 'sCharger', 'atvType', 'fuelType2', 'rangeA', 'evMotor',\n",
       "       'mfrCode', 'c240Dscr', 'charge240b', 'c240bDscr', 'createdOn',\n",
       "       'modifiedOn', 'startStop', 'phevCity', 'phevHwy', 'phevComb'],\n",
       "      dtype='object')"
      ]
     },
     "execution_count": 465,
     "metadata": {},
     "output_type": "execute_result"
    }
   ],
   "source": [
    "df_vehicle_fuel_econo.columns"
   ]
  },
  {
   "cell_type": "markdown",
   "metadata": {},
   "source": [
    "- ‘Year’: El año de fabricación del vehículo.\n",
    "- ‘Manufacturer’: El fabricante o marca del vehículo.\n",
    "- ‘Model’: El modelo específico del vehículo.\n",
    "- ‘barrels08’: Consumo de barriles de combustible por cada 100 millas en ciudad.\n",
    "- ‘co2TailpipeGpm’: Emisiones de CO2 en gramos por milla.\n",
    "- ‘comb08’: Consumo combinado de combustible en ciudad y carretera.\n",
    "- ‘cylinders’: Número de cilindros en el motor.\n",
    "- ‘displ’: Desplazamiento del motor en litros.\n",
    "- ‘drive’: Tipo de tracción (por ejemplo, tracción delantera o trasera).\n",
    "- ‘VClass’: Clase de vehículo (por ejemplo, compacto, SUV, etc.).\n",
    "- ‘highway08’: Consumo de combustible en carretera.\n",
    "- ‘UCity’: Consumo de combustible urbano ajustado.\n",
    "- ‘youSaveSpend’: Ahorro o gasto estimado en combustible en comparación con un vehículo promedio.\n",
    "- ‘trans_dscr’: Descripción de la transmisión (por ejemplo, automática, manual).\n",
    "- ‘startStop’: Indica si el vehículo tiene una función de parada y arranque automático del motor.\n"
   ]
  },
  {
   "cell_type": "code",
   "execution_count": 466,
   "metadata": {},
   "outputs": [],
   "source": [
    "# Cantidad de valores nulos en cada columna\n",
    "null_counts_veh_fuel_econo = df_vehicle_fuel_econo.isnull().sum()"
   ]
  },
  {
   "cell_type": "code",
   "execution_count": 467,
   "metadata": {},
   "outputs": [
    {
     "data": {
      "text/plain": [
       "Year                0\n",
       "Manufacturer        0\n",
       "Model              10\n",
       "barrels08          17\n",
       "barrelsA08         17\n",
       "                ...  \n",
       "modifiedOn       2016\n",
       "startStop       31829\n",
       "phevCity         2016\n",
       "phevHwy          2016\n",
       "phevComb         2016\n",
       "Length: 82, dtype: int64"
      ]
     },
     "execution_count": 467,
     "metadata": {},
     "output_type": "execute_result"
    }
   ],
   "source": [
    "null_counts_veh_fuel_econo"
   ]
  }
 ],
 "metadata": {
  "kernelspec": {
   "display_name": "base",
   "language": "python",
   "name": "python3"
  },
  "language_info": {
   "codemirror_mode": {
    "name": "ipython",
    "version": 3
   },
   "file_extension": ".py",
   "mimetype": "text/x-python",
   "name": "python",
   "nbconvert_exporter": "python",
   "pygments_lexer": "ipython3",
   "version": "3.11.9"
  }
 },
 "nbformat": 4,
 "nbformat_minor": 2
}
