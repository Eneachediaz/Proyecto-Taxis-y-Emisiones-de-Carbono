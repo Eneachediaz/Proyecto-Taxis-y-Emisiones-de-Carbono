{
 "cells": [
  {
   "cell_type": "markdown",
   "metadata": {},
   "source": [
    "Para la KPI2 necesitaremos los archivos, a modo de prueba: fhvhv_tripdata_2024-01, fhv_tripdata_2024-01, taxi+_zone_lookup y taxi_zones.dbf.\n",
    "\n",
    "Para calcular la tasa de cambio en el número de usuarios de servicios de taxis.\n",
    "\n",
    "**Columnas**:\n",
    "| pickup_datetime | dropOff_datetime | dispatching | PUlocationID | DOlocationID | passenger_count |\n",
    "\n",
    "* Agrupar los datos por número de pasajeros trasladados.\n",
    "* Calcular la tasa de cambio en el número de usuarios trasladados en taxi.\n",
    "\n",
    "* La tasa de cambio en el número de usuarios del servicio se calculará utilizando la siguiente fórmula:\n",
    "\n",
    "* Tasa de Cambio = (NúmeroUsuariosFinalPeríodo − NúmeroUsuariosComienzoPeríodo) / NúmeroUsuariosComienzoPeríodo × 100\n"
   ]
  },
  {
   "cell_type": "markdown",
   "metadata": {},
   "source": [
    "Abriremos archivos de FHVHV y FHV, además de las datas de zona."
   ]
  },
  {
   "cell_type": "code",
   "execution_count": 24,
   "metadata": {},
   "outputs": [],
   "source": [
    "# Librerías:\n",
    "# Librerías\n",
    "import pandas as pd\n",
    "import numpy as np\n",
    "\n",
    "import pyarrow.parquet as pq \n",
    "import os\n",
    "from pandas import DataFrame\n",
    "from dbfread import DBF\n",
    "\n",
    "import seaborn as sns\n",
    "import matplotlib as mpl\n",
    "import plotly.express as px\n",
    "\n",
    "import matplotlib.pyplot as plt\n",
    "\n",
    "# para eliminar warning en python\n",
    "import warnings\n",
    "warnings.simplefilter('ignore')\n"
   ]
  },
  {
   "cell_type": "markdown",
   "metadata": {},
   "source": [
    "Abriendo datos de FHVHV:"
   ]
  },
  {
   "cell_type": "code",
   "execution_count": 25,
   "metadata": {},
   "outputs": [],
   "source": [
    "# Assumiendo que el archivo está en la carpeta\n",
    "# Cambiar al directorio con el archivo\n",
    "file_path = \"C:/Users/56988/Desktop/NYdrive/fhvhv_tripdata_2024-01.parquet\"\n",
    "os.chdir(\"C:/Users/56988/Desktop/NYdrive/\")"
   ]
  },
  {
   "cell_type": "code",
   "execution_count": 26,
   "metadata": {},
   "outputs": [],
   "source": [
    "# Dataframe Taxis FHVHV\n",
    "df_fhvhv_ene24 = pd.read_parquet(file_path)"
   ]
  },
  {
   "cell_type": "code",
   "execution_count": 27,
   "metadata": {},
   "outputs": [
    {
     "data": {
      "text/plain": [
       "Index(['hvfhs_license_num', 'dispatching_base_num', 'originating_base_num',\n",
       "       'request_datetime', 'on_scene_datetime', 'pickup_datetime',\n",
       "       'dropoff_datetime', 'PULocationID', 'DOLocationID', 'trip_miles',\n",
       "       'trip_time', 'base_passenger_fare', 'tolls', 'bcf', 'sales_tax',\n",
       "       'congestion_surcharge', 'airport_fee', 'tips', 'driver_pay',\n",
       "       'shared_request_flag', 'shared_match_flag', 'access_a_ride_flag',\n",
       "       'wav_request_flag', 'wav_match_flag'],\n",
       "      dtype='object')"
      ]
     },
     "execution_count": 27,
     "metadata": {},
     "output_type": "execute_result"
    }
   ],
   "source": [
    "df_fhvhv_ene24.columns"
   ]
  },
  {
   "cell_type": "code",
   "execution_count": 28,
   "metadata": {},
   "outputs": [
    {
     "data": {
      "text/html": [
       "<div>\n",
       "<style scoped>\n",
       "    .dataframe tbody tr th:only-of-type {\n",
       "        vertical-align: middle;\n",
       "    }\n",
       "\n",
       "    .dataframe tbody tr th {\n",
       "        vertical-align: top;\n",
       "    }\n",
       "\n",
       "    .dataframe thead th {\n",
       "        text-align: right;\n",
       "    }\n",
       "</style>\n",
       "<table border=\"1\" class=\"dataframe\">\n",
       "  <thead>\n",
       "    <tr style=\"text-align: right;\">\n",
       "      <th></th>\n",
       "      <th>hvfhs_license_num</th>\n",
       "      <th>dispatching_base_num</th>\n",
       "      <th>originating_base_num</th>\n",
       "      <th>request_datetime</th>\n",
       "      <th>on_scene_datetime</th>\n",
       "      <th>pickup_datetime</th>\n",
       "      <th>dropoff_datetime</th>\n",
       "      <th>PULocationID</th>\n",
       "      <th>DOLocationID</th>\n",
       "      <th>trip_miles</th>\n",
       "      <th>...</th>\n",
       "      <th>sales_tax</th>\n",
       "      <th>congestion_surcharge</th>\n",
       "      <th>airport_fee</th>\n",
       "      <th>tips</th>\n",
       "      <th>driver_pay</th>\n",
       "      <th>shared_request_flag</th>\n",
       "      <th>shared_match_flag</th>\n",
       "      <th>access_a_ride_flag</th>\n",
       "      <th>wav_request_flag</th>\n",
       "      <th>wav_match_flag</th>\n",
       "    </tr>\n",
       "  </thead>\n",
       "  <tbody>\n",
       "    <tr>\n",
       "      <th>0</th>\n",
       "      <td>HV0003</td>\n",
       "      <td>B03404</td>\n",
       "      <td>B03404</td>\n",
       "      <td>2024-01-01 00:21:47</td>\n",
       "      <td>2024-01-01 00:25:06</td>\n",
       "      <td>2024-01-01 00:28:08</td>\n",
       "      <td>2024-01-01 01:05:39</td>\n",
       "      <td>161</td>\n",
       "      <td>158</td>\n",
       "      <td>2.83</td>\n",
       "      <td>...</td>\n",
       "      <td>4.05</td>\n",
       "      <td>2.75</td>\n",
       "      <td>0.0</td>\n",
       "      <td>0.0</td>\n",
       "      <td>40.18</td>\n",
       "      <td>N</td>\n",
       "      <td>N</td>\n",
       "      <td>N</td>\n",
       "      <td>N</td>\n",
       "      <td>N</td>\n",
       "    </tr>\n",
       "    <tr>\n",
       "      <th>1</th>\n",
       "      <td>HV0003</td>\n",
       "      <td>B03404</td>\n",
       "      <td>B03404</td>\n",
       "      <td>2024-01-01 00:10:56</td>\n",
       "      <td>2024-01-01 00:11:08</td>\n",
       "      <td>2024-01-01 00:12:53</td>\n",
       "      <td>2024-01-01 00:20:05</td>\n",
       "      <td>137</td>\n",
       "      <td>79</td>\n",
       "      <td>1.57</td>\n",
       "      <td>...</td>\n",
       "      <td>0.89</td>\n",
       "      <td>2.75</td>\n",
       "      <td>0.0</td>\n",
       "      <td>0.0</td>\n",
       "      <td>6.12</td>\n",
       "      <td>N</td>\n",
       "      <td>N</td>\n",
       "      <td>N</td>\n",
       "      <td>N</td>\n",
       "      <td>N</td>\n",
       "    </tr>\n",
       "  </tbody>\n",
       "</table>\n",
       "<p>2 rows × 24 columns</p>\n",
       "</div>"
      ],
      "text/plain": [
       "  hvfhs_license_num dispatching_base_num originating_base_num  \\\n",
       "0            HV0003               B03404               B03404   \n",
       "1            HV0003               B03404               B03404   \n",
       "\n",
       "     request_datetime   on_scene_datetime     pickup_datetime  \\\n",
       "0 2024-01-01 00:21:47 2024-01-01 00:25:06 2024-01-01 00:28:08   \n",
       "1 2024-01-01 00:10:56 2024-01-01 00:11:08 2024-01-01 00:12:53   \n",
       "\n",
       "     dropoff_datetime  PULocationID  DOLocationID  trip_miles  ...  sales_tax  \\\n",
       "0 2024-01-01 01:05:39           161           158        2.83  ...       4.05   \n",
       "1 2024-01-01 00:20:05           137            79        1.57  ...       0.89   \n",
       "\n",
       "   congestion_surcharge  airport_fee  tips  driver_pay  shared_request_flag  \\\n",
       "0                  2.75          0.0   0.0       40.18                    N   \n",
       "1                  2.75          0.0   0.0        6.12                    N   \n",
       "\n",
       "   shared_match_flag  access_a_ride_flag  wav_request_flag wav_match_flag  \n",
       "0                  N                   N                 N              N  \n",
       "1                  N                   N                 N              N  \n",
       "\n",
       "[2 rows x 24 columns]"
      ]
     },
     "execution_count": 28,
     "metadata": {},
     "output_type": "execute_result"
    }
   ],
   "source": [
    "df_fhvhv_ene24.head(2)"
   ]
  },
  {
   "cell_type": "markdown",
   "metadata": {},
   "source": [
    "Abrir archivo FHV:"
   ]
  },
  {
   "cell_type": "code",
   "execution_count": 29,
   "metadata": {},
   "outputs": [],
   "source": [
    "# Abrir data de FHV\n",
    "file_path = \"C:/Users/56988/Desktop/NYdrive/fhv_tripdata_2024-01.parquet\"\n",
    "os.chdir(\"C:/Users/56988/Desktop/NYdrive/\")"
   ]
  },
  {
   "cell_type": "code",
   "execution_count": 30,
   "metadata": {},
   "outputs": [],
   "source": [
    "df_fhv_ene24 = pd.read_parquet(file_path)"
   ]
  },
  {
   "cell_type": "code",
   "execution_count": 31,
   "metadata": {},
   "outputs": [
    {
     "data": {
      "text/html": [
       "<div>\n",
       "<style scoped>\n",
       "    .dataframe tbody tr th:only-of-type {\n",
       "        vertical-align: middle;\n",
       "    }\n",
       "\n",
       "    .dataframe tbody tr th {\n",
       "        vertical-align: top;\n",
       "    }\n",
       "\n",
       "    .dataframe thead th {\n",
       "        text-align: right;\n",
       "    }\n",
       "</style>\n",
       "<table border=\"1\" class=\"dataframe\">\n",
       "  <thead>\n",
       "    <tr style=\"text-align: right;\">\n",
       "      <th></th>\n",
       "      <th>dispatching_base_num</th>\n",
       "      <th>pickup_datetime</th>\n",
       "      <th>dropOff_datetime</th>\n",
       "      <th>PUlocationID</th>\n",
       "      <th>DOlocationID</th>\n",
       "      <th>SR_Flag</th>\n",
       "      <th>Affiliated_base_number</th>\n",
       "    </tr>\n",
       "  </thead>\n",
       "  <tbody>\n",
       "    <tr>\n",
       "      <th>0</th>\n",
       "      <td>B00053</td>\n",
       "      <td>2024-01-01 00:15:00</td>\n",
       "      <td>2024-01-01 02:13:00</td>\n",
       "      <td>NaN</td>\n",
       "      <td>NaN</td>\n",
       "      <td>NaN</td>\n",
       "      <td>B00014</td>\n",
       "    </tr>\n",
       "    <tr>\n",
       "      <th>1</th>\n",
       "      <td>B00111</td>\n",
       "      <td>2024-01-01 00:30:00</td>\n",
       "      <td>2024-01-01 02:37:00</td>\n",
       "      <td>NaN</td>\n",
       "      <td>NaN</td>\n",
       "      <td>NaN</td>\n",
       "      <td>B00111</td>\n",
       "    </tr>\n",
       "  </tbody>\n",
       "</table>\n",
       "</div>"
      ],
      "text/plain": [
       "  dispatching_base_num     pickup_datetime    dropOff_datetime  PUlocationID  \\\n",
       "0               B00053 2024-01-01 00:15:00 2024-01-01 02:13:00           NaN   \n",
       "1               B00111 2024-01-01 00:30:00 2024-01-01 02:37:00           NaN   \n",
       "\n",
       "   DOlocationID  SR_Flag Affiliated_base_number  \n",
       "0           NaN      NaN                 B00014  \n",
       "1           NaN      NaN                 B00111  "
      ]
     },
     "execution_count": 31,
     "metadata": {},
     "output_type": "execute_result"
    }
   ],
   "source": [
    "df_fhv_ene24.head(2)"
   ]
  },
  {
   "cell_type": "code",
   "execution_count": 32,
   "metadata": {},
   "outputs": [
    {
     "data": {
      "text/plain": [
       "Index(['dispatching_base_num', 'pickup_datetime', 'dropOff_datetime',\n",
       "       'PUlocationID', 'DOlocationID', 'SR_Flag', 'Affiliated_base_number'],\n",
       "      dtype='object')"
      ]
     },
     "execution_count": 32,
     "metadata": {},
     "output_type": "execute_result"
    }
   ],
   "source": [
    "df_fhv_ene24.columns"
   ]
  },
  {
   "cell_type": "markdown",
   "metadata": {},
   "source": [
    "Abrir data de los taxis+zones, para asociarlos por zona y borough"
   ]
  },
  {
   "cell_type": "code",
   "execution_count": 33,
   "metadata": {},
   "outputs": [],
   "source": [
    "# Abre el archivo DBF\n",
    "dbf = DBF(\"DATASETORIGEN/taxi_zones.dbf\")\n",
    "\n",
    "# Convierte los datos a un DataFrame\n",
    "df = DataFrame(iter(dbf))"
   ]
  },
  {
   "cell_type": "code",
   "execution_count": 34,
   "metadata": {},
   "outputs": [
    {
     "data": {
      "text/plain": [
       "Index(['OBJECTID', 'Shape_Leng', 'Shape_Area', 'zone', 'LocationID',\n",
       "       'borough'],\n",
       "      dtype='object')"
      ]
     },
     "execution_count": 34,
     "metadata": {},
     "output_type": "execute_result"
    }
   ],
   "source": [
    "df.columns"
   ]
  },
  {
   "cell_type": "markdown",
   "metadata": {},
   "source": [
    "Unión de dataframes:"
   ]
  },
  {
   "cell_type": "code",
   "execution_count": 35,
   "metadata": {},
   "outputs": [],
   "source": [
    "# datos de taxi unidos con la data de zona de taxi\n",
    "\n",
    "# Unir los DataFrames\n",
    "df_unido_fhvhvene24 = pd.merge(df_fhvhv_ene24, df, left_on=\"PULocationID\", right_on=\"LocationID\")"
   ]
  },
  {
   "cell_type": "code",
   "execution_count": 36,
   "metadata": {},
   "outputs": [
    {
     "data": {
      "text/html": [
       "<div>\n",
       "<style scoped>\n",
       "    .dataframe tbody tr th:only-of-type {\n",
       "        vertical-align: middle;\n",
       "    }\n",
       "\n",
       "    .dataframe tbody tr th {\n",
       "        vertical-align: top;\n",
       "    }\n",
       "\n",
       "    .dataframe thead th {\n",
       "        text-align: right;\n",
       "    }\n",
       "</style>\n",
       "<table border=\"1\" class=\"dataframe\">\n",
       "  <thead>\n",
       "    <tr style=\"text-align: right;\">\n",
       "      <th></th>\n",
       "      <th>hvfhs_license_num</th>\n",
       "      <th>dispatching_base_num</th>\n",
       "      <th>originating_base_num</th>\n",
       "      <th>request_datetime</th>\n",
       "      <th>on_scene_datetime</th>\n",
       "      <th>pickup_datetime</th>\n",
       "      <th>dropoff_datetime</th>\n",
       "      <th>PULocationID</th>\n",
       "      <th>DOLocationID</th>\n",
       "      <th>trip_miles</th>\n",
       "      <th>...</th>\n",
       "      <th>shared_match_flag</th>\n",
       "      <th>access_a_ride_flag</th>\n",
       "      <th>wav_request_flag</th>\n",
       "      <th>wav_match_flag</th>\n",
       "      <th>OBJECTID</th>\n",
       "      <th>Shape_Leng</th>\n",
       "      <th>Shape_Area</th>\n",
       "      <th>zone</th>\n",
       "      <th>LocationID</th>\n",
       "      <th>borough</th>\n",
       "    </tr>\n",
       "  </thead>\n",
       "  <tbody>\n",
       "    <tr>\n",
       "      <th>0</th>\n",
       "      <td>HV0003</td>\n",
       "      <td>B03404</td>\n",
       "      <td>B03404</td>\n",
       "      <td>2024-01-01 00:21:47</td>\n",
       "      <td>2024-01-01 00:25:06</td>\n",
       "      <td>2024-01-01 00:28:08</td>\n",
       "      <td>2024-01-01 01:05:39</td>\n",
       "      <td>161</td>\n",
       "      <td>158</td>\n",
       "      <td>2.83</td>\n",
       "      <td>...</td>\n",
       "      <td>N</td>\n",
       "      <td>N</td>\n",
       "      <td>N</td>\n",
       "      <td>N</td>\n",
       "      <td>161</td>\n",
       "      <td>0.035804</td>\n",
       "      <td>0.000072</td>\n",
       "      <td>Midtown Center</td>\n",
       "      <td>161</td>\n",
       "      <td>Manhattan</td>\n",
       "    </tr>\n",
       "    <tr>\n",
       "      <th>1</th>\n",
       "      <td>HV0003</td>\n",
       "      <td>B03404</td>\n",
       "      <td>B03404</td>\n",
       "      <td>2024-01-01 00:10:56</td>\n",
       "      <td>2024-01-01 00:11:08</td>\n",
       "      <td>2024-01-01 00:12:53</td>\n",
       "      <td>2024-01-01 00:20:05</td>\n",
       "      <td>137</td>\n",
       "      <td>79</td>\n",
       "      <td>1.57</td>\n",
       "      <td>...</td>\n",
       "      <td>N</td>\n",
       "      <td>N</td>\n",
       "      <td>N</td>\n",
       "      <td>N</td>\n",
       "      <td>137</td>\n",
       "      <td>0.046108</td>\n",
       "      <td>0.000116</td>\n",
       "      <td>Kips Bay</td>\n",
       "      <td>137</td>\n",
       "      <td>Manhattan</td>\n",
       "    </tr>\n",
       "  </tbody>\n",
       "</table>\n",
       "<p>2 rows × 30 columns</p>\n",
       "</div>"
      ],
      "text/plain": [
       "  hvfhs_license_num dispatching_base_num originating_base_num  \\\n",
       "0            HV0003               B03404               B03404   \n",
       "1            HV0003               B03404               B03404   \n",
       "\n",
       "     request_datetime   on_scene_datetime     pickup_datetime  \\\n",
       "0 2024-01-01 00:21:47 2024-01-01 00:25:06 2024-01-01 00:28:08   \n",
       "1 2024-01-01 00:10:56 2024-01-01 00:11:08 2024-01-01 00:12:53   \n",
       "\n",
       "     dropoff_datetime  PULocationID  DOLocationID  trip_miles  ...  \\\n",
       "0 2024-01-01 01:05:39           161           158        2.83  ...   \n",
       "1 2024-01-01 00:20:05           137            79        1.57  ...   \n",
       "\n",
       "   shared_match_flag  access_a_ride_flag  wav_request_flag  wav_match_flag  \\\n",
       "0                  N                   N                 N               N   \n",
       "1                  N                   N                 N               N   \n",
       "\n",
       "   OBJECTID  Shape_Leng  Shape_Area            zone  LocationID    borough  \n",
       "0       161    0.035804    0.000072  Midtown Center         161  Manhattan  \n",
       "1       137    0.046108    0.000116        Kips Bay         137  Manhattan  \n",
       "\n",
       "[2 rows x 30 columns]"
      ]
     },
     "execution_count": 36,
     "metadata": {},
     "output_type": "execute_result"
    }
   ],
   "source": [
    "df_unido_fhvhvene24.head(2)"
   ]
  },
  {
   "cell_type": "code",
   "execution_count": 37,
   "metadata": {},
   "outputs": [
    {
     "data": {
      "text/plain": [
       "Index(['hvfhs_license_num', 'dispatching_base_num', 'originating_base_num',\n",
       "       'request_datetime', 'on_scene_datetime', 'pickup_datetime',\n",
       "       'dropoff_datetime', 'PULocationID', 'DOLocationID', 'trip_miles',\n",
       "       'trip_time', 'base_passenger_fare', 'tolls', 'bcf', 'sales_tax',\n",
       "       'congestion_surcharge', 'airport_fee', 'tips', 'driver_pay',\n",
       "       'shared_request_flag', 'shared_match_flag', 'access_a_ride_flag',\n",
       "       'wav_request_flag', 'wav_match_flag', 'OBJECTID', 'Shape_Leng',\n",
       "       'Shape_Area', 'zone', 'LocationID', 'borough'],\n",
       "      dtype='object')"
      ]
     },
     "execution_count": 37,
     "metadata": {},
     "output_type": "execute_result"
    }
   ],
   "source": [
    "# Ver columnas (nombres)\n",
    "df_unido_fhvhvene24.columns"
   ]
  },
  {
   "cell_type": "code",
   "execution_count": 38,
   "metadata": {},
   "outputs": [],
   "source": [
    "# Cantidad de valores nulos en cada columna\n",
    "null_counts_fhvhvene24= df_unido_fhvhvene24.isnull().sum()"
   ]
  },
  {
   "cell_type": "code",
   "execution_count": 39,
   "metadata": {},
   "outputs": [
    {
     "data": {
      "text/plain": [
       "hvfhs_license_num             0\n",
       "dispatching_base_num          0\n",
       "originating_base_num    5232431\n",
       "request_datetime              0\n",
       "on_scene_datetime       5232431\n",
       "pickup_datetime               0\n",
       "dropoff_datetime              0\n",
       "PULocationID                  0\n",
       "DOLocationID                  0\n",
       "trip_miles                    0\n",
       "trip_time                     0\n",
       "base_passenger_fare           0\n",
       "tolls                         0\n",
       "bcf                           0\n",
       "sales_tax                     0\n",
       "congestion_surcharge          0\n",
       "airport_fee                   0\n",
       "tips                          0\n",
       "driver_pay                    0\n",
       "shared_request_flag           0\n",
       "shared_match_flag             0\n",
       "access_a_ride_flag            0\n",
       "wav_request_flag              0\n",
       "wav_match_flag                0\n",
       "OBJECTID                      0\n",
       "Shape_Leng                    0\n",
       "Shape_Area                    0\n",
       "zone                          0\n",
       "LocationID                    0\n",
       "borough                       0\n",
       "dtype: int64"
      ]
     },
     "execution_count": 39,
     "metadata": {},
     "output_type": "execute_result"
    }
   ],
   "source": [
    "null_counts_fhvhvene24"
   ]
  },
  {
   "cell_type": "markdown",
   "metadata": {},
   "source": [
    "*Se aplicó una revisión de duplicados, y no apareció ninguno, no se observa el código porque son 20 millones de datos."
   ]
  },
  {
   "cell_type": "code",
   "execution_count": 40,
   "metadata": {},
   "outputs": [],
   "source": [
    "# Agrupar por las columnas deseadas, primero al recoger al pasajero:\n",
    "grouped_data_ini = df_unido_fhvhvene24.groupby([\"pickup_datetime\", \"PULocationID\", \n",
    "                            \"trip_miles\", \"trip_time\", \"zone\", \"borough\"])"
   ]
  },
  {
   "cell_type": "code",
   "execution_count": 41,
   "metadata": {},
   "outputs": [],
   "source": [
    "# Sumar las millas de viaje\n",
    "sum_trip_miles_ini = grouped_data_ini[\"trip_miles\"].sum().reset_index(name=\"total_trip_miles\")"
   ]
  },
  {
   "cell_type": "code",
   "execution_count": 42,
   "metadata": {},
   "outputs": [
    {
     "data": {
      "text/html": [
       "<div>\n",
       "<style scoped>\n",
       "    .dataframe tbody tr th:only-of-type {\n",
       "        vertical-align: middle;\n",
       "    }\n",
       "\n",
       "    .dataframe tbody tr th {\n",
       "        vertical-align: top;\n",
       "    }\n",
       "\n",
       "    .dataframe thead th {\n",
       "        text-align: right;\n",
       "    }\n",
       "</style>\n",
       "<table border=\"1\" class=\"dataframe\">\n",
       "  <thead>\n",
       "    <tr style=\"text-align: right;\">\n",
       "      <th></th>\n",
       "      <th>pickup_datetime</th>\n",
       "      <th>PULocationID</th>\n",
       "      <th>trip_miles</th>\n",
       "      <th>trip_time</th>\n",
       "      <th>zone</th>\n",
       "      <th>borough</th>\n",
       "      <th>total_trip_miles</th>\n",
       "    </tr>\n",
       "  </thead>\n",
       "  <tbody>\n",
       "    <tr>\n",
       "      <th>0</th>\n",
       "      <td>2024-01-01 00:00:00</td>\n",
       "      <td>21</td>\n",
       "      <td>2.260</td>\n",
       "      <td>649</td>\n",
       "      <td>Bensonhurst East</td>\n",
       "      <td>Brooklyn</td>\n",
       "      <td>2.260</td>\n",
       "    </tr>\n",
       "    <tr>\n",
       "      <th>1</th>\n",
       "      <td>2024-01-01 00:00:00</td>\n",
       "      <td>36</td>\n",
       "      <td>2.714</td>\n",
       "      <td>1054</td>\n",
       "      <td>Bushwick North</td>\n",
       "      <td>Brooklyn</td>\n",
       "      <td>2.714</td>\n",
       "    </tr>\n",
       "    <tr>\n",
       "      <th>2</th>\n",
       "      <td>2024-01-01 00:00:00</td>\n",
       "      <td>69</td>\n",
       "      <td>1.710</td>\n",
       "      <td>732</td>\n",
       "      <td>East Concourse/Concourse Village</td>\n",
       "      <td>Bronx</td>\n",
       "      <td>1.710</td>\n",
       "    </tr>\n",
       "    <tr>\n",
       "      <th>3</th>\n",
       "      <td>2024-01-01 00:00:00</td>\n",
       "      <td>138</td>\n",
       "      <td>8.177</td>\n",
       "      <td>795</td>\n",
       "      <td>LaGuardia Airport</td>\n",
       "      <td>Queens</td>\n",
       "      <td>8.177</td>\n",
       "    </tr>\n",
       "    <tr>\n",
       "      <th>4</th>\n",
       "      <td>2024-01-01 00:00:00</td>\n",
       "      <td>144</td>\n",
       "      <td>1.040</td>\n",
       "      <td>380</td>\n",
       "      <td>Little Italy/NoLiTa</td>\n",
       "      <td>Manhattan</td>\n",
       "      <td>1.040</td>\n",
       "    </tr>\n",
       "    <tr>\n",
       "      <th>...</th>\n",
       "      <td>...</td>\n",
       "      <td>...</td>\n",
       "      <td>...</td>\n",
       "      <td>...</td>\n",
       "      <td>...</td>\n",
       "      <td>...</td>\n",
       "      <td>...</td>\n",
       "    </tr>\n",
       "    <tr>\n",
       "      <th>19658826</th>\n",
       "      <td>2024-01-31 23:59:58</td>\n",
       "      <td>64</td>\n",
       "      <td>11.490</td>\n",
       "      <td>1180</td>\n",
       "      <td>Douglaston</td>\n",
       "      <td>Queens</td>\n",
       "      <td>11.490</td>\n",
       "    </tr>\n",
       "    <tr>\n",
       "      <th>19658827</th>\n",
       "      <td>2024-01-31 23:59:58</td>\n",
       "      <td>236</td>\n",
       "      <td>12.260</td>\n",
       "      <td>1700</td>\n",
       "      <td>Upper East Side North</td>\n",
       "      <td>Manhattan</td>\n",
       "      <td>12.260</td>\n",
       "    </tr>\n",
       "    <tr>\n",
       "      <th>19658828</th>\n",
       "      <td>2024-01-31 23:59:59</td>\n",
       "      <td>17</td>\n",
       "      <td>1.094</td>\n",
       "      <td>332</td>\n",
       "      <td>Bedford</td>\n",
       "      <td>Brooklyn</td>\n",
       "      <td>1.094</td>\n",
       "    </tr>\n",
       "    <tr>\n",
       "      <th>19658829</th>\n",
       "      <td>2024-01-31 23:59:59</td>\n",
       "      <td>163</td>\n",
       "      <td>23.390</td>\n",
       "      <td>2411</td>\n",
       "      <td>Midtown North</td>\n",
       "      <td>Manhattan</td>\n",
       "      <td>23.390</td>\n",
       "    </tr>\n",
       "    <tr>\n",
       "      <th>19658830</th>\n",
       "      <td>2024-01-31 23:59:59</td>\n",
       "      <td>246</td>\n",
       "      <td>4.310</td>\n",
       "      <td>978</td>\n",
       "      <td>West Chelsea/Hudson Yards</td>\n",
       "      <td>Manhattan</td>\n",
       "      <td>4.310</td>\n",
       "    </tr>\n",
       "  </tbody>\n",
       "</table>\n",
       "<p>19658831 rows × 7 columns</p>\n",
       "</div>"
      ],
      "text/plain": [
       "             pickup_datetime  PULocationID  trip_miles  trip_time  \\\n",
       "0        2024-01-01 00:00:00            21       2.260        649   \n",
       "1        2024-01-01 00:00:00            36       2.714       1054   \n",
       "2        2024-01-01 00:00:00            69       1.710        732   \n",
       "3        2024-01-01 00:00:00           138       8.177        795   \n",
       "4        2024-01-01 00:00:00           144       1.040        380   \n",
       "...                      ...           ...         ...        ...   \n",
       "19658826 2024-01-31 23:59:58            64      11.490       1180   \n",
       "19658827 2024-01-31 23:59:58           236      12.260       1700   \n",
       "19658828 2024-01-31 23:59:59            17       1.094        332   \n",
       "19658829 2024-01-31 23:59:59           163      23.390       2411   \n",
       "19658830 2024-01-31 23:59:59           246       4.310        978   \n",
       "\n",
       "                                      zone    borough  total_trip_miles  \n",
       "0                         Bensonhurst East   Brooklyn             2.260  \n",
       "1                           Bushwick North   Brooklyn             2.714  \n",
       "2         East Concourse/Concourse Village      Bronx             1.710  \n",
       "3                        LaGuardia Airport     Queens             8.177  \n",
       "4                      Little Italy/NoLiTa  Manhattan             1.040  \n",
       "...                                    ...        ...               ...  \n",
       "19658826                        Douglaston     Queens            11.490  \n",
       "19658827             Upper East Side North  Manhattan            12.260  \n",
       "19658828                           Bedford   Brooklyn             1.094  \n",
       "19658829                     Midtown North  Manhattan            23.390  \n",
       "19658830         West Chelsea/Hudson Yards  Manhattan             4.310  \n",
       "\n",
       "[19658831 rows x 7 columns]"
      ]
     },
     "execution_count": 42,
     "metadata": {},
     "output_type": "execute_result"
    }
   ],
   "source": [
    "sum_trip_miles_ini"
   ]
  },
  {
   "cell_type": "code",
   "execution_count": 43,
   "metadata": {},
   "outputs": [],
   "source": [
    "# Crea dos nuevas columnas para la fecha y la hora\n",
    "sum_trip_miles_ini.loc[:, \"fecha_pic\"] = sum_trip_miles_ini[\"pickup_datetime\"].dt.date\n",
    "sum_trip_miles_ini.loc[:, \"hora_pic\"] = sum_trip_miles_ini[\"pickup_datetime\"].dt.time"
   ]
  },
  {
   "cell_type": "code",
   "execution_count": 44,
   "metadata": {},
   "outputs": [],
   "source": [
    "# DataFrame con año, mes y día separados\n",
    "sum_trip_miles_ini.loc[:, \"agno_pic\"] = sum_trip_miles_ini[\"pickup_datetime\"].dt.year\n",
    "sum_trip_miles_ini.loc[:, \"mes_pic\"] = sum_trip_miles_ini[\"pickup_datetime\"].dt.month\n",
    "sum_trip_miles_ini.loc[:, \"dia_pic\"] = sum_trip_miles_ini[\"pickup_datetime\"].dt.day"
   ]
  },
  {
   "cell_type": "code",
   "execution_count": 45,
   "metadata": {},
   "outputs": [],
   "source": [
    "# Crea una nueva columna 'hora_exacta' extrayendo la hora de la columna 'hora'\n",
    "sum_trip_miles_ini.loc[:, \"hora_exacta_pic\"] = sum_trip_miles_ini[\"hora_pic\"].apply(lambda x: x.hour)"
   ]
  },
  {
   "cell_type": "code",
   "execution_count": 46,
   "metadata": {},
   "outputs": [
    {
     "data": {
      "text/html": [
       "<div>\n",
       "<style scoped>\n",
       "    .dataframe tbody tr th:only-of-type {\n",
       "        vertical-align: middle;\n",
       "    }\n",
       "\n",
       "    .dataframe tbody tr th {\n",
       "        vertical-align: top;\n",
       "    }\n",
       "\n",
       "    .dataframe thead th {\n",
       "        text-align: right;\n",
       "    }\n",
       "</style>\n",
       "<table border=\"1\" class=\"dataframe\">\n",
       "  <thead>\n",
       "    <tr style=\"text-align: right;\">\n",
       "      <th></th>\n",
       "      <th>pickup_datetime</th>\n",
       "      <th>PULocationID</th>\n",
       "      <th>trip_miles</th>\n",
       "      <th>trip_time</th>\n",
       "      <th>zone</th>\n",
       "      <th>borough</th>\n",
       "      <th>total_trip_miles</th>\n",
       "      <th>fecha_pic</th>\n",
       "      <th>hora_pic</th>\n",
       "      <th>agno_pic</th>\n",
       "      <th>mes_pic</th>\n",
       "      <th>dia_pic</th>\n",
       "      <th>hora_exacta_pic</th>\n",
       "    </tr>\n",
       "  </thead>\n",
       "  <tbody>\n",
       "    <tr>\n",
       "      <th>0</th>\n",
       "      <td>2024-01-01</td>\n",
       "      <td>21</td>\n",
       "      <td>2.260</td>\n",
       "      <td>649</td>\n",
       "      <td>Bensonhurst East</td>\n",
       "      <td>Brooklyn</td>\n",
       "      <td>2.260</td>\n",
       "      <td>2024-01-01</td>\n",
       "      <td>00:00:00</td>\n",
       "      <td>2024</td>\n",
       "      <td>1</td>\n",
       "      <td>1</td>\n",
       "      <td>0</td>\n",
       "    </tr>\n",
       "    <tr>\n",
       "      <th>1</th>\n",
       "      <td>2024-01-01</td>\n",
       "      <td>36</td>\n",
       "      <td>2.714</td>\n",
       "      <td>1054</td>\n",
       "      <td>Bushwick North</td>\n",
       "      <td>Brooklyn</td>\n",
       "      <td>2.714</td>\n",
       "      <td>2024-01-01</td>\n",
       "      <td>00:00:00</td>\n",
       "      <td>2024</td>\n",
       "      <td>1</td>\n",
       "      <td>1</td>\n",
       "      <td>0</td>\n",
       "    </tr>\n",
       "  </tbody>\n",
       "</table>\n",
       "</div>"
      ],
      "text/plain": [
       "  pickup_datetime  PULocationID  trip_miles  trip_time              zone  \\\n",
       "0      2024-01-01            21       2.260        649  Bensonhurst East   \n",
       "1      2024-01-01            36       2.714       1054    Bushwick North   \n",
       "\n",
       "    borough  total_trip_miles   fecha_pic  hora_pic  agno_pic  mes_pic  \\\n",
       "0  Brooklyn             2.260  2024-01-01  00:00:00      2024        1   \n",
       "1  Brooklyn             2.714  2024-01-01  00:00:00      2024        1   \n",
       "\n",
       "   dia_pic  hora_exacta_pic  \n",
       "0        1                0  \n",
       "1        1                0  "
      ]
     },
     "execution_count": 46,
     "metadata": {},
     "output_type": "execute_result"
    }
   ],
   "source": [
    "sum_trip_miles_ini.head(2)"
   ]
  },
  {
   "cell_type": "code",
   "execution_count": 47,
   "metadata": {},
   "outputs": [],
   "source": [
    "# Agrupado por \"dia_pic\" y calculado el total hasta el día 15.\n",
    "grouped_df_15_count = sum_trip_miles_ini[sum_trip_miles_ini[\"dia_pic\"] <= 15].groupby(\"dia_pic\")[\"dia_pic\"].agg(dia_pic_count=(\"sum\"))"
   ]
  },
  {
   "cell_type": "code",
   "execution_count": 48,
   "metadata": {},
   "outputs": [
    {
     "data": {
      "text/html": [
       "<div>\n",
       "<style scoped>\n",
       "    .dataframe tbody tr th:only-of-type {\n",
       "        vertical-align: middle;\n",
       "    }\n",
       "\n",
       "    .dataframe tbody tr th {\n",
       "        vertical-align: top;\n",
       "    }\n",
       "\n",
       "    .dataframe thead th {\n",
       "        text-align: right;\n",
       "    }\n",
       "</style>\n",
       "<table border=\"1\" class=\"dataframe\">\n",
       "  <thead>\n",
       "    <tr style=\"text-align: right;\">\n",
       "      <th></th>\n",
       "      <th>dia_pic_count</th>\n",
       "    </tr>\n",
       "    <tr>\n",
       "      <th>dia_pic</th>\n",
       "      <th></th>\n",
       "    </tr>\n",
       "  </thead>\n",
       "  <tbody>\n",
       "    <tr>\n",
       "      <th>1</th>\n",
       "      <td>638196</td>\n",
       "    </tr>\n",
       "    <tr>\n",
       "      <th>2</th>\n",
       "      <td>956238</td>\n",
       "    </tr>\n",
       "    <tr>\n",
       "      <th>3</th>\n",
       "      <td>1494612</td>\n",
       "    </tr>\n",
       "    <tr>\n",
       "      <th>4</th>\n",
       "      <td>2289856</td>\n",
       "    </tr>\n",
       "    <tr>\n",
       "      <th>5</th>\n",
       "      <td>3282290</td>\n",
       "    </tr>\n",
       "    <tr>\n",
       "      <th>6</th>\n",
       "      <td>4253064</td>\n",
       "    </tr>\n",
       "    <tr>\n",
       "      <th>7</th>\n",
       "      <td>3798277</td>\n",
       "    </tr>\n",
       "    <tr>\n",
       "      <th>8</th>\n",
       "      <td>4155464</td>\n",
       "    </tr>\n",
       "    <tr>\n",
       "      <th>9</th>\n",
       "      <td>5617530</td>\n",
       "    </tr>\n",
       "    <tr>\n",
       "      <th>10</th>\n",
       "      <td>5671210</td>\n",
       "    </tr>\n",
       "    <tr>\n",
       "      <th>11</th>\n",
       "      <td>6689452</td>\n",
       "    </tr>\n",
       "    <tr>\n",
       "      <th>12</th>\n",
       "      <td>8200908</td>\n",
       "    </tr>\n",
       "    <tr>\n",
       "      <th>13</th>\n",
       "      <td>9782760</td>\n",
       "    </tr>\n",
       "    <tr>\n",
       "      <th>14</th>\n",
       "      <td>9570750</td>\n",
       "    </tr>\n",
       "    <tr>\n",
       "      <th>15</th>\n",
       "      <td>8386455</td>\n",
       "    </tr>\n",
       "  </tbody>\n",
       "</table>\n",
       "</div>"
      ],
      "text/plain": [
       "         dia_pic_count\n",
       "dia_pic               \n",
       "1               638196\n",
       "2               956238\n",
       "3              1494612\n",
       "4              2289856\n",
       "5              3282290\n",
       "6              4253064\n",
       "7              3798277\n",
       "8              4155464\n",
       "9              5617530\n",
       "10             5671210\n",
       "11             6689452\n",
       "12             8200908\n",
       "13             9782760\n",
       "14             9570750\n",
       "15             8386455"
      ]
     },
     "execution_count": 48,
     "metadata": {},
     "output_type": "execute_result"
    }
   ],
   "source": [
    "grouped_df_15_count"
   ]
  },
  {
   "cell_type": "code",
   "execution_count": 49,
   "metadata": {},
   "outputs": [],
   "source": [
    "# Agrupado por \"dia_pic\" y calculado el total del 16 al 31.\n",
    "grouped_df_31_count = sum_trip_miles_ini[sum_trip_miles_ini[\"dia_pic\"] >= 16].groupby(\"dia_pic\")[\"dia_pic\"].agg(dia_pic_count=(\"sum\"))"
   ]
  },
  {
   "cell_type": "code",
   "execution_count": 50,
   "metadata": {},
   "outputs": [
    {
     "data": {
      "text/html": [
       "<div>\n",
       "<style scoped>\n",
       "    .dataframe tbody tr th:only-of-type {\n",
       "        vertical-align: middle;\n",
       "    }\n",
       "\n",
       "    .dataframe tbody tr th {\n",
       "        vertical-align: top;\n",
       "    }\n",
       "\n",
       "    .dataframe thead th {\n",
       "        text-align: right;\n",
       "    }\n",
       "</style>\n",
       "<table border=\"1\" class=\"dataframe\">\n",
       "  <thead>\n",
       "    <tr style=\"text-align: right;\">\n",
       "      <th></th>\n",
       "      <th>dia_pic_count</th>\n",
       "    </tr>\n",
       "    <tr>\n",
       "      <th>dia_pic</th>\n",
       "      <th></th>\n",
       "    </tr>\n",
       "  </thead>\n",
       "  <tbody>\n",
       "    <tr>\n",
       "      <th>16</th>\n",
       "      <td>9862512</td>\n",
       "    </tr>\n",
       "    <tr>\n",
       "      <th>17</th>\n",
       "      <td>11552826</td>\n",
       "    </tr>\n",
       "    <tr>\n",
       "      <th>18</th>\n",
       "      <td>12308130</td>\n",
       "    </tr>\n",
       "    <tr>\n",
       "      <th>19</th>\n",
       "      <td>14030151</td>\n",
       "    </tr>\n",
       "    <tr>\n",
       "      <th>20</th>\n",
       "      <td>16488480</td>\n",
       "    </tr>\n",
       "    <tr>\n",
       "      <th>21</th>\n",
       "      <td>14231427</td>\n",
       "    </tr>\n",
       "    <tr>\n",
       "      <th>22</th>\n",
       "      <td>12559008</td>\n",
       "    </tr>\n",
       "    <tr>\n",
       "      <th>23</th>\n",
       "      <td>13532901</td>\n",
       "    </tr>\n",
       "    <tr>\n",
       "      <th>24</th>\n",
       "      <td>14917968</td>\n",
       "    </tr>\n",
       "    <tr>\n",
       "      <th>25</th>\n",
       "      <td>16320425</td>\n",
       "    </tr>\n",
       "    <tr>\n",
       "      <th>26</th>\n",
       "      <td>18595226</td>\n",
       "    </tr>\n",
       "    <tr>\n",
       "      <th>27</th>\n",
       "      <td>20304324</td>\n",
       "    </tr>\n",
       "    <tr>\n",
       "      <th>28</th>\n",
       "      <td>19673528</td>\n",
       "    </tr>\n",
       "    <tr>\n",
       "      <th>29</th>\n",
       "      <td>15972156</td>\n",
       "    </tr>\n",
       "    <tr>\n",
       "      <th>30</th>\n",
       "      <td>17478630</td>\n",
       "    </tr>\n",
       "    <tr>\n",
       "      <th>31</th>\n",
       "      <td>18886564</td>\n",
       "    </tr>\n",
       "  </tbody>\n",
       "</table>\n",
       "</div>"
      ],
      "text/plain": [
       "         dia_pic_count\n",
       "dia_pic               \n",
       "16             9862512\n",
       "17            11552826\n",
       "18            12308130\n",
       "19            14030151\n",
       "20            16488480\n",
       "21            14231427\n",
       "22            12559008\n",
       "23            13532901\n",
       "24            14917968\n",
       "25            16320425\n",
       "26            18595226\n",
       "27            20304324\n",
       "28            19673528\n",
       "29            15972156\n",
       "30            17478630\n",
       "31            18886564"
      ]
     },
     "execution_count": 50,
     "metadata": {},
     "output_type": "execute_result"
    }
   ],
   "source": [
    "grouped_df_31_count"
   ]
  },
  {
   "cell_type": "markdown",
   "metadata": {},
   "source": [
    "Tasa de cambio de la recogida de pasajeros FHVHV (se compararon los primeros 15 días con los 15 posteriores):"
   ]
  },
  {
   "cell_type": "code",
   "execution_count": 51,
   "metadata": {},
   "outputs": [
    {
     "name": "stdout",
     "output_type": "stream",
     "text": [
      "Tasa de cambio de usuarios de taxis: 55.6%\n"
     ]
    }
   ],
   "source": [
    "# Entonces si queremos saber la tasa de cambio en el número de usuarios de los servicios de taxis:\n",
    "# Realizamos el cálculo de números de usuarios servicio taxi:\n",
    "# (NumeroUsuariosFinalPeriodo - NumeroUsuariosComienzoPeriodo) / NumeroUsuariosComienzoPeriodo * 100\n",
    "\n",
    "Tasa_cambio_Usuarios_taxis = ((18886564 - 8386455) / 18886564 * 100)\n",
    "# Formateo con dos decimales\n",
    "tasa_cambio_formateada = round(Tasa_cambio_Usuarios_taxis, 2)\n",
    "\n",
    "print(f\"Tasa de cambio de usuarios de taxis: {tasa_cambio_formateada}%\")"
   ]
  },
  {
   "cell_type": "markdown",
   "metadata": {},
   "source": [
    "* Para realizar la tasa de cambio, se compararon los primeros 15 días con los posteriores 15 días de Enero 2024, para lo que es recogida de pasajeros FHVHV\n",
    "(FHV de alto volumen, vehículos de alquiler).\n",
    "* Son más de 19 658 831 datos.\n",
    "* Si se esperaba un aumento del 10%, en este caso se cumple (período muy corto de tiempo), aumenta en un 55.6% el número de usuarios."
   ]
  },
  {
   "cell_type": "code",
   "execution_count": 52,
   "metadata": {},
   "outputs": [
    {
     "data": {
      "text/html": [
       "<div>\n",
       "<style scoped>\n",
       "    .dataframe tbody tr th:only-of-type {\n",
       "        vertical-align: middle;\n",
       "    }\n",
       "\n",
       "    .dataframe tbody tr th {\n",
       "        vertical-align: top;\n",
       "    }\n",
       "\n",
       "    .dataframe thead th {\n",
       "        text-align: right;\n",
       "    }\n",
       "</style>\n",
       "<table border=\"1\" class=\"dataframe\">\n",
       "  <thead>\n",
       "    <tr style=\"text-align: right;\">\n",
       "      <th></th>\n",
       "      <th>pickup_datetime</th>\n",
       "      <th>PULocationID</th>\n",
       "      <th>trip_miles</th>\n",
       "      <th>trip_time</th>\n",
       "      <th>zone</th>\n",
       "      <th>borough</th>\n",
       "      <th>prom_trip_miles</th>\n",
       "    </tr>\n",
       "  </thead>\n",
       "  <tbody>\n",
       "    <tr>\n",
       "      <th>0</th>\n",
       "      <td>2024-01-01 00:00:00</td>\n",
       "      <td>21</td>\n",
       "      <td>2.260</td>\n",
       "      <td>649</td>\n",
       "      <td>Bensonhurst East</td>\n",
       "      <td>Brooklyn</td>\n",
       "      <td>649.0</td>\n",
       "    </tr>\n",
       "    <tr>\n",
       "      <th>1</th>\n",
       "      <td>2024-01-01 00:00:00</td>\n",
       "      <td>36</td>\n",
       "      <td>2.714</td>\n",
       "      <td>1054</td>\n",
       "      <td>Bushwick North</td>\n",
       "      <td>Brooklyn</td>\n",
       "      <td>1054.0</td>\n",
       "    </tr>\n",
       "    <tr>\n",
       "      <th>2</th>\n",
       "      <td>2024-01-01 00:00:00</td>\n",
       "      <td>69</td>\n",
       "      <td>1.710</td>\n",
       "      <td>732</td>\n",
       "      <td>East Concourse/Concourse Village</td>\n",
       "      <td>Bronx</td>\n",
       "      <td>732.0</td>\n",
       "    </tr>\n",
       "    <tr>\n",
       "      <th>3</th>\n",
       "      <td>2024-01-01 00:00:00</td>\n",
       "      <td>138</td>\n",
       "      <td>8.177</td>\n",
       "      <td>795</td>\n",
       "      <td>LaGuardia Airport</td>\n",
       "      <td>Queens</td>\n",
       "      <td>795.0</td>\n",
       "    </tr>\n",
       "    <tr>\n",
       "      <th>4</th>\n",
       "      <td>2024-01-01 00:00:00</td>\n",
       "      <td>144</td>\n",
       "      <td>1.040</td>\n",
       "      <td>380</td>\n",
       "      <td>Little Italy/NoLiTa</td>\n",
       "      <td>Manhattan</td>\n",
       "      <td>380.0</td>\n",
       "    </tr>\n",
       "    <tr>\n",
       "      <th>...</th>\n",
       "      <td>...</td>\n",
       "      <td>...</td>\n",
       "      <td>...</td>\n",
       "      <td>...</td>\n",
       "      <td>...</td>\n",
       "      <td>...</td>\n",
       "      <td>...</td>\n",
       "    </tr>\n",
       "    <tr>\n",
       "      <th>19658826</th>\n",
       "      <td>2024-01-31 23:59:58</td>\n",
       "      <td>64</td>\n",
       "      <td>11.490</td>\n",
       "      <td>1180</td>\n",
       "      <td>Douglaston</td>\n",
       "      <td>Queens</td>\n",
       "      <td>1180.0</td>\n",
       "    </tr>\n",
       "    <tr>\n",
       "      <th>19658827</th>\n",
       "      <td>2024-01-31 23:59:58</td>\n",
       "      <td>236</td>\n",
       "      <td>12.260</td>\n",
       "      <td>1700</td>\n",
       "      <td>Upper East Side North</td>\n",
       "      <td>Manhattan</td>\n",
       "      <td>1700.0</td>\n",
       "    </tr>\n",
       "    <tr>\n",
       "      <th>19658828</th>\n",
       "      <td>2024-01-31 23:59:59</td>\n",
       "      <td>17</td>\n",
       "      <td>1.094</td>\n",
       "      <td>332</td>\n",
       "      <td>Bedford</td>\n",
       "      <td>Brooklyn</td>\n",
       "      <td>332.0</td>\n",
       "    </tr>\n",
       "    <tr>\n",
       "      <th>19658829</th>\n",
       "      <td>2024-01-31 23:59:59</td>\n",
       "      <td>163</td>\n",
       "      <td>23.390</td>\n",
       "      <td>2411</td>\n",
       "      <td>Midtown North</td>\n",
       "      <td>Manhattan</td>\n",
       "      <td>2411.0</td>\n",
       "    </tr>\n",
       "    <tr>\n",
       "      <th>19658830</th>\n",
       "      <td>2024-01-31 23:59:59</td>\n",
       "      <td>246</td>\n",
       "      <td>4.310</td>\n",
       "      <td>978</td>\n",
       "      <td>West Chelsea/Hudson Yards</td>\n",
       "      <td>Manhattan</td>\n",
       "      <td>978.0</td>\n",
       "    </tr>\n",
       "  </tbody>\n",
       "</table>\n",
       "<p>19658831 rows × 7 columns</p>\n",
       "</div>"
      ],
      "text/plain": [
       "             pickup_datetime  PULocationID  trip_miles  trip_time  \\\n",
       "0        2024-01-01 00:00:00            21       2.260        649   \n",
       "1        2024-01-01 00:00:00            36       2.714       1054   \n",
       "2        2024-01-01 00:00:00            69       1.710        732   \n",
       "3        2024-01-01 00:00:00           138       8.177        795   \n",
       "4        2024-01-01 00:00:00           144       1.040        380   \n",
       "...                      ...           ...         ...        ...   \n",
       "19658826 2024-01-31 23:59:58            64      11.490       1180   \n",
       "19658827 2024-01-31 23:59:58           236      12.260       1700   \n",
       "19658828 2024-01-31 23:59:59            17       1.094        332   \n",
       "19658829 2024-01-31 23:59:59           163      23.390       2411   \n",
       "19658830 2024-01-31 23:59:59           246       4.310        978   \n",
       "\n",
       "                                      zone    borough  prom_trip_miles  \n",
       "0                         Bensonhurst East   Brooklyn            649.0  \n",
       "1                           Bushwick North   Brooklyn           1054.0  \n",
       "2         East Concourse/Concourse Village      Bronx            732.0  \n",
       "3                        LaGuardia Airport     Queens            795.0  \n",
       "4                      Little Italy/NoLiTa  Manhattan            380.0  \n",
       "...                                    ...        ...              ...  \n",
       "19658826                        Douglaston     Queens           1180.0  \n",
       "19658827             Upper East Side North  Manhattan           1700.0  \n",
       "19658828                           Bedford   Brooklyn            332.0  \n",
       "19658829                     Midtown North  Manhattan           2411.0  \n",
       "19658830         West Chelsea/Hudson Yards  Manhattan            978.0  \n",
       "\n",
       "[19658831 rows x 7 columns]"
      ]
     },
     "execution_count": 52,
     "metadata": {},
     "output_type": "execute_result"
    }
   ],
   "source": [
    "# Promediar las millas de viaje\n",
    "avg_trip_time_ini = grouped_data_ini[\"trip_time\"].mean().reset_index(name=\"prom_trip_miles\")\n",
    "avg_trip_time_ini"
   ]
  },
  {
   "cell_type": "code",
   "execution_count": 53,
   "metadata": {},
   "outputs": [],
   "source": [
    "# Agrupar por las columnas deseadas, ahora al dejar al pasajero:\n",
    "grouped_data_lleg = df_unido_fhvhvene24.groupby([\"dropoff_datetime\", \"DOLocationID\", \n",
    "                            \"trip_miles\", \"trip_time\", \"zone\", \"borough\"])"
   ]
  },
  {
   "cell_type": "code",
   "execution_count": 54,
   "metadata": {},
   "outputs": [],
   "source": [
    "# Count the number of trips for each DOLocationID\n",
    "grouped_data_lleg_trips = grouped_data_lleg.size()"
   ]
  },
  {
   "cell_type": "code",
   "execution_count": 55,
   "metadata": {},
   "outputs": [
    {
     "data": {
      "text/plain": [
       "dropoff_datetime     DOLocationID  trip_miles  trip_time  zone                      borough  \n",
       "2024-01-01 00:02:35  80            0.575       141        Bushwick North            Brooklyn     1\n",
       "2024-01-01 00:02:37  183           0.000       121        Pelham Bay                Bronx        1\n",
       "2024-01-01 00:02:42  74            0.533       137        East Harlem North         Manhattan    1\n",
       "2024-01-01 00:03:11  107           0.430       168        Gramercy                  Manhattan    1\n",
       "2024-01-01 00:03:38  119           0.627       214        Washington Heights North  Manhattan    1\n",
       "                                                                                                ..\n",
       "2024-02-01 01:38:27  246           19.182      7985       JFK Airport               Queens       1\n",
       "2024-02-01 01:48:42  265           65.510      7690       TriBeCa/Civic Center      Manhattan    1\n",
       "2024-02-01 02:00:41  265           217.820     14141      JFK Airport               Queens       1\n",
       "2024-02-01 02:03:16  265           183.200     11746      Flushing                  Queens       1\n",
       "2024-02-01 02:10:41  132           261.170     16814      South Ozone Park          Queens       1\n",
       "Length: 19658831, dtype: int64"
      ]
     },
     "execution_count": 55,
     "metadata": {},
     "output_type": "execute_result"
    }
   ],
   "source": [
    "grouped_data_lleg_trips"
   ]
  },
  {
   "cell_type": "code",
   "execution_count": 56,
   "metadata": {},
   "outputs": [],
   "source": [
    "# Sumar las millas de viaje\n",
    "sum_trip_miles_lleg = grouped_data_lleg[\"trip_miles\"].sum().reset_index(name=\"total_trip_miles\")"
   ]
  },
  {
   "cell_type": "code",
   "execution_count": 57,
   "metadata": {},
   "outputs": [
    {
     "data": {
      "text/html": [
       "<div>\n",
       "<style scoped>\n",
       "    .dataframe tbody tr th:only-of-type {\n",
       "        vertical-align: middle;\n",
       "    }\n",
       "\n",
       "    .dataframe tbody tr th {\n",
       "        vertical-align: top;\n",
       "    }\n",
       "\n",
       "    .dataframe thead th {\n",
       "        text-align: right;\n",
       "    }\n",
       "</style>\n",
       "<table border=\"1\" class=\"dataframe\">\n",
       "  <thead>\n",
       "    <tr style=\"text-align: right;\">\n",
       "      <th></th>\n",
       "      <th>dropoff_datetime</th>\n",
       "      <th>DOLocationID</th>\n",
       "      <th>trip_miles</th>\n",
       "      <th>trip_time</th>\n",
       "      <th>zone</th>\n",
       "      <th>borough</th>\n",
       "      <th>total_trip_miles</th>\n",
       "    </tr>\n",
       "  </thead>\n",
       "  <tbody>\n",
       "    <tr>\n",
       "      <th>0</th>\n",
       "      <td>2024-01-01 00:02:35</td>\n",
       "      <td>80</td>\n",
       "      <td>0.575</td>\n",
       "      <td>141</td>\n",
       "      <td>Bushwick North</td>\n",
       "      <td>Brooklyn</td>\n",
       "      <td>0.575</td>\n",
       "    </tr>\n",
       "    <tr>\n",
       "      <th>1</th>\n",
       "      <td>2024-01-01 00:02:37</td>\n",
       "      <td>183</td>\n",
       "      <td>0.000</td>\n",
       "      <td>121</td>\n",
       "      <td>Pelham Bay</td>\n",
       "      <td>Bronx</td>\n",
       "      <td>0.000</td>\n",
       "    </tr>\n",
       "    <tr>\n",
       "      <th>2</th>\n",
       "      <td>2024-01-01 00:02:42</td>\n",
       "      <td>74</td>\n",
       "      <td>0.533</td>\n",
       "      <td>137</td>\n",
       "      <td>East Harlem North</td>\n",
       "      <td>Manhattan</td>\n",
       "      <td>0.533</td>\n",
       "    </tr>\n",
       "    <tr>\n",
       "      <th>3</th>\n",
       "      <td>2024-01-01 00:03:11</td>\n",
       "      <td>107</td>\n",
       "      <td>0.430</td>\n",
       "      <td>168</td>\n",
       "      <td>Gramercy</td>\n",
       "      <td>Manhattan</td>\n",
       "      <td>0.430</td>\n",
       "    </tr>\n",
       "    <tr>\n",
       "      <th>4</th>\n",
       "      <td>2024-01-01 00:03:38</td>\n",
       "      <td>119</td>\n",
       "      <td>0.627</td>\n",
       "      <td>214</td>\n",
       "      <td>Washington Heights North</td>\n",
       "      <td>Manhattan</td>\n",
       "      <td>0.627</td>\n",
       "    </tr>\n",
       "    <tr>\n",
       "      <th>...</th>\n",
       "      <td>...</td>\n",
       "      <td>...</td>\n",
       "      <td>...</td>\n",
       "      <td>...</td>\n",
       "      <td>...</td>\n",
       "      <td>...</td>\n",
       "      <td>...</td>\n",
       "    </tr>\n",
       "    <tr>\n",
       "      <th>19658826</th>\n",
       "      <td>2024-02-01 01:38:27</td>\n",
       "      <td>246</td>\n",
       "      <td>19.182</td>\n",
       "      <td>7985</td>\n",
       "      <td>JFK Airport</td>\n",
       "      <td>Queens</td>\n",
       "      <td>19.182</td>\n",
       "    </tr>\n",
       "    <tr>\n",
       "      <th>19658827</th>\n",
       "      <td>2024-02-01 01:48:42</td>\n",
       "      <td>265</td>\n",
       "      <td>65.510</td>\n",
       "      <td>7690</td>\n",
       "      <td>TriBeCa/Civic Center</td>\n",
       "      <td>Manhattan</td>\n",
       "      <td>65.510</td>\n",
       "    </tr>\n",
       "    <tr>\n",
       "      <th>19658828</th>\n",
       "      <td>2024-02-01 02:00:41</td>\n",
       "      <td>265</td>\n",
       "      <td>217.820</td>\n",
       "      <td>14141</td>\n",
       "      <td>JFK Airport</td>\n",
       "      <td>Queens</td>\n",
       "      <td>217.820</td>\n",
       "    </tr>\n",
       "    <tr>\n",
       "      <th>19658829</th>\n",
       "      <td>2024-02-01 02:03:16</td>\n",
       "      <td>265</td>\n",
       "      <td>183.200</td>\n",
       "      <td>11746</td>\n",
       "      <td>Flushing</td>\n",
       "      <td>Queens</td>\n",
       "      <td>183.200</td>\n",
       "    </tr>\n",
       "    <tr>\n",
       "      <th>19658830</th>\n",
       "      <td>2024-02-01 02:10:41</td>\n",
       "      <td>132</td>\n",
       "      <td>261.170</td>\n",
       "      <td>16814</td>\n",
       "      <td>South Ozone Park</td>\n",
       "      <td>Queens</td>\n",
       "      <td>261.170</td>\n",
       "    </tr>\n",
       "  </tbody>\n",
       "</table>\n",
       "<p>19658831 rows × 7 columns</p>\n",
       "</div>"
      ],
      "text/plain": [
       "            dropoff_datetime  DOLocationID  trip_miles  trip_time  \\\n",
       "0        2024-01-01 00:02:35            80       0.575        141   \n",
       "1        2024-01-01 00:02:37           183       0.000        121   \n",
       "2        2024-01-01 00:02:42            74       0.533        137   \n",
       "3        2024-01-01 00:03:11           107       0.430        168   \n",
       "4        2024-01-01 00:03:38           119       0.627        214   \n",
       "...                      ...           ...         ...        ...   \n",
       "19658826 2024-02-01 01:38:27           246      19.182       7985   \n",
       "19658827 2024-02-01 01:48:42           265      65.510       7690   \n",
       "19658828 2024-02-01 02:00:41           265     217.820      14141   \n",
       "19658829 2024-02-01 02:03:16           265     183.200      11746   \n",
       "19658830 2024-02-01 02:10:41           132     261.170      16814   \n",
       "\n",
       "                              zone    borough  total_trip_miles  \n",
       "0                   Bushwick North   Brooklyn             0.575  \n",
       "1                       Pelham Bay      Bronx             0.000  \n",
       "2                East Harlem North  Manhattan             0.533  \n",
       "3                         Gramercy  Manhattan             0.430  \n",
       "4         Washington Heights North  Manhattan             0.627  \n",
       "...                            ...        ...               ...  \n",
       "19658826               JFK Airport     Queens            19.182  \n",
       "19658827      TriBeCa/Civic Center  Manhattan            65.510  \n",
       "19658828               JFK Airport     Queens           217.820  \n",
       "19658829                  Flushing     Queens           183.200  \n",
       "19658830          South Ozone Park     Queens           261.170  \n",
       "\n",
       "[19658831 rows x 7 columns]"
      ]
     },
     "execution_count": 57,
     "metadata": {},
     "output_type": "execute_result"
    }
   ],
   "source": [
    "sum_trip_miles_lleg"
   ]
  },
  {
   "cell_type": "markdown",
   "metadata": {},
   "source": [
    "*trip_time está en segundos y miles en millas"
   ]
  },
  {
   "cell_type": "code",
   "execution_count": 58,
   "metadata": {},
   "outputs": [],
   "source": [
    "# Crea dos nuevas columnas para la fecha y la hora\n",
    "sum_trip_miles_lleg.loc[:, \"fecha_off\"] = sum_trip_miles_lleg[\"dropoff_datetime\"].dt.date\n",
    "sum_trip_miles_lleg.loc[:, \"hora_off\"] = sum_trip_miles_lleg[\"dropoff_datetime\"].dt.time"
   ]
  },
  {
   "cell_type": "code",
   "execution_count": 59,
   "metadata": {},
   "outputs": [],
   "source": [
    "# DataFrame con año, mes y día separados\n",
    "sum_trip_miles_lleg.loc[:, \"agno_off\"] = sum_trip_miles_lleg[\"dropoff_datetime\"].dt.year\n",
    "sum_trip_miles_lleg.loc[:, \"mes_off\"] = sum_trip_miles_lleg[\"dropoff_datetime\"].dt.month\n",
    "sum_trip_miles_lleg.loc[:, \"dia_off\"] = sum_trip_miles_lleg[\"dropoff_datetime\"].dt.day"
   ]
  },
  {
   "cell_type": "code",
   "execution_count": 60,
   "metadata": {},
   "outputs": [],
   "source": [
    "# Crea una nueva columna 'hora_exacta' extrayendo la hora de la columna 'hora'\n",
    "sum_trip_miles_lleg.loc[:, \"hora_exacta_off\"] = sum_trip_miles_lleg[\"hora_off\"].apply(lambda x: x.hour)"
   ]
  },
  {
   "cell_type": "code",
   "execution_count": 61,
   "metadata": {},
   "outputs": [
    {
     "data": {
      "text/html": [
       "<div>\n",
       "<style scoped>\n",
       "    .dataframe tbody tr th:only-of-type {\n",
       "        vertical-align: middle;\n",
       "    }\n",
       "\n",
       "    .dataframe tbody tr th {\n",
       "        vertical-align: top;\n",
       "    }\n",
       "\n",
       "    .dataframe thead th {\n",
       "        text-align: right;\n",
       "    }\n",
       "</style>\n",
       "<table border=\"1\" class=\"dataframe\">\n",
       "  <thead>\n",
       "    <tr style=\"text-align: right;\">\n",
       "      <th></th>\n",
       "      <th>dropoff_datetime</th>\n",
       "      <th>DOLocationID</th>\n",
       "      <th>trip_miles</th>\n",
       "      <th>trip_time</th>\n",
       "      <th>zone</th>\n",
       "      <th>borough</th>\n",
       "      <th>total_trip_miles</th>\n",
       "      <th>fecha_off</th>\n",
       "      <th>hora_off</th>\n",
       "      <th>agno_off</th>\n",
       "      <th>mes_off</th>\n",
       "      <th>dia_off</th>\n",
       "      <th>hora_exacta_off</th>\n",
       "    </tr>\n",
       "  </thead>\n",
       "  <tbody>\n",
       "    <tr>\n",
       "      <th>0</th>\n",
       "      <td>2024-01-01 00:02:35</td>\n",
       "      <td>80</td>\n",
       "      <td>0.575</td>\n",
       "      <td>141</td>\n",
       "      <td>Bushwick North</td>\n",
       "      <td>Brooklyn</td>\n",
       "      <td>0.575</td>\n",
       "      <td>2024-01-01</td>\n",
       "      <td>00:02:35</td>\n",
       "      <td>2024</td>\n",
       "      <td>1</td>\n",
       "      <td>1</td>\n",
       "      <td>0</td>\n",
       "    </tr>\n",
       "    <tr>\n",
       "      <th>1</th>\n",
       "      <td>2024-01-01 00:02:37</td>\n",
       "      <td>183</td>\n",
       "      <td>0.000</td>\n",
       "      <td>121</td>\n",
       "      <td>Pelham Bay</td>\n",
       "      <td>Bronx</td>\n",
       "      <td>0.000</td>\n",
       "      <td>2024-01-01</td>\n",
       "      <td>00:02:37</td>\n",
       "      <td>2024</td>\n",
       "      <td>1</td>\n",
       "      <td>1</td>\n",
       "      <td>0</td>\n",
       "    </tr>\n",
       "  </tbody>\n",
       "</table>\n",
       "</div>"
      ],
      "text/plain": [
       "     dropoff_datetime  DOLocationID  trip_miles  trip_time            zone  \\\n",
       "0 2024-01-01 00:02:35            80       0.575        141  Bushwick North   \n",
       "1 2024-01-01 00:02:37           183       0.000        121      Pelham Bay   \n",
       "\n",
       "    borough  total_trip_miles   fecha_off  hora_off  agno_off  mes_off  \\\n",
       "0  Brooklyn             0.575  2024-01-01  00:02:35      2024        1   \n",
       "1     Bronx             0.000  2024-01-01  00:02:37      2024        1   \n",
       "\n",
       "   dia_off  hora_exacta_off  \n",
       "0        1                0  \n",
       "1        1                0  "
      ]
     },
     "execution_count": 61,
     "metadata": {},
     "output_type": "execute_result"
    }
   ],
   "source": [
    "sum_trip_miles_lleg.head(2)"
   ]
  },
  {
   "cell_type": "code",
   "execution_count": 62,
   "metadata": {},
   "outputs": [],
   "source": [
    "# Agrupado por \"dia_off\" y calculado el total hasta el día 15.\n",
    "grouped_df_15_count_off = sum_trip_miles_lleg[sum_trip_miles_lleg[\"dia_off\"] <= 15].groupby(\"dia_off\")[\"dia_off\"].agg(dia_off_count=(\"sum\"))"
   ]
  },
  {
   "cell_type": "code",
   "execution_count": 63,
   "metadata": {},
   "outputs": [
    {
     "data": {
      "text/html": [
       "<div>\n",
       "<style scoped>\n",
       "    .dataframe tbody tr th:only-of-type {\n",
       "        vertical-align: middle;\n",
       "    }\n",
       "\n",
       "    .dataframe tbody tr th {\n",
       "        vertical-align: top;\n",
       "    }\n",
       "\n",
       "    .dataframe thead th {\n",
       "        text-align: right;\n",
       "    }\n",
       "</style>\n",
       "<table border=\"1\" class=\"dataframe\">\n",
       "  <thead>\n",
       "    <tr style=\"text-align: right;\">\n",
       "      <th></th>\n",
       "      <th>dia_off_count</th>\n",
       "    </tr>\n",
       "    <tr>\n",
       "      <th>dia_off</th>\n",
       "      <th></th>\n",
       "    </tr>\n",
       "  </thead>\n",
       "  <tbody>\n",
       "    <tr>\n",
       "      <th>1</th>\n",
       "      <td>640336</td>\n",
       "    </tr>\n",
       "    <tr>\n",
       "      <th>2</th>\n",
       "      <td>956100</td>\n",
       "    </tr>\n",
       "    <tr>\n",
       "      <th>3</th>\n",
       "      <td>1492803</td>\n",
       "    </tr>\n",
       "    <tr>\n",
       "      <th>4</th>\n",
       "      <td>2285152</td>\n",
       "    </tr>\n",
       "    <tr>\n",
       "      <th>5</th>\n",
       "      <td>3264655</td>\n",
       "    </tr>\n",
       "    <tr>\n",
       "      <th>6</th>\n",
       "      <td>4251036</td>\n",
       "    </tr>\n",
       "    <tr>\n",
       "      <th>7</th>\n",
       "      <td>3837099</td>\n",
       "    </tr>\n",
       "    <tr>\n",
       "      <th>8</th>\n",
       "      <td>4156208</td>\n",
       "    </tr>\n",
       "    <tr>\n",
       "      <th>9</th>\n",
       "      <td>5617188</td>\n",
       "    </tr>\n",
       "    <tr>\n",
       "      <th>10</th>\n",
       "      <td>5658680</td>\n",
       "    </tr>\n",
       "    <tr>\n",
       "      <th>11</th>\n",
       "      <td>6669113</td>\n",
       "    </tr>\n",
       "    <tr>\n",
       "      <th>12</th>\n",
       "      <td>8142864</td>\n",
       "    </tr>\n",
       "    <tr>\n",
       "      <th>13</th>\n",
       "      <td>9767771</td>\n",
       "    </tr>\n",
       "    <tr>\n",
       "      <th>14</th>\n",
       "      <td>9650816</td>\n",
       "    </tr>\n",
       "    <tr>\n",
       "      <th>15</th>\n",
       "      <td>8422065</td>\n",
       "    </tr>\n",
       "  </tbody>\n",
       "</table>\n",
       "</div>"
      ],
      "text/plain": [
       "         dia_off_count\n",
       "dia_off               \n",
       "1               640336\n",
       "2               956100\n",
       "3              1492803\n",
       "4              2285152\n",
       "5              3264655\n",
       "6              4251036\n",
       "7              3837099\n",
       "8              4156208\n",
       "9              5617188\n",
       "10             5658680\n",
       "11             6669113\n",
       "12             8142864\n",
       "13             9767771\n",
       "14             9650816\n",
       "15             8422065"
      ]
     },
     "execution_count": 63,
     "metadata": {},
     "output_type": "execute_result"
    }
   ],
   "source": [
    "grouped_df_15_count_off"
   ]
  },
  {
   "cell_type": "code",
   "execution_count": 64,
   "metadata": {},
   "outputs": [],
   "source": [
    "# Agrupado por \"dia_off\" y calculado el total desde el día 16 al 31.\n",
    "grouped_df_31_count_off = sum_trip_miles_lleg[sum_trip_miles_lleg[\"dia_off\"] >= 16].groupby(\"dia_off\")[\"dia_off\"].agg(dia_off_count=(\"sum\"))"
   ]
  },
  {
   "cell_type": "code",
   "execution_count": 65,
   "metadata": {},
   "outputs": [
    {
     "data": {
      "text/html": [
       "<div>\n",
       "<style scoped>\n",
       "    .dataframe tbody tr th:only-of-type {\n",
       "        vertical-align: middle;\n",
       "    }\n",
       "\n",
       "    .dataframe tbody tr th {\n",
       "        vertical-align: top;\n",
       "    }\n",
       "\n",
       "    .dataframe thead th {\n",
       "        text-align: right;\n",
       "    }\n",
       "</style>\n",
       "<table border=\"1\" class=\"dataframe\">\n",
       "  <thead>\n",
       "    <tr style=\"text-align: right;\">\n",
       "      <th></th>\n",
       "      <th>dia_off_count</th>\n",
       "    </tr>\n",
       "    <tr>\n",
       "      <th>dia_off</th>\n",
       "      <th></th>\n",
       "    </tr>\n",
       "  </thead>\n",
       "  <tbody>\n",
       "    <tr>\n",
       "      <th>16</th>\n",
       "      <td>9867616</td>\n",
       "    </tr>\n",
       "    <tr>\n",
       "      <th>17</th>\n",
       "      <td>11534721</td>\n",
       "    </tr>\n",
       "    <tr>\n",
       "      <th>18</th>\n",
       "      <td>12279114</td>\n",
       "    </tr>\n",
       "    <tr>\n",
       "      <th>19</th>\n",
       "      <td>13957913</td>\n",
       "    </tr>\n",
       "    <tr>\n",
       "      <th>20</th>\n",
       "      <td>16428140</td>\n",
       "    </tr>\n",
       "    <tr>\n",
       "      <th>21</th>\n",
       "      <td>14428554</td>\n",
       "    </tr>\n",
       "    <tr>\n",
       "      <th>22</th>\n",
       "      <td>12576564</td>\n",
       "    </tr>\n",
       "    <tr>\n",
       "      <th>23</th>\n",
       "      <td>13509234</td>\n",
       "    </tr>\n",
       "    <tr>\n",
       "      <th>24</th>\n",
       "      <td>14893152</td>\n",
       "    </tr>\n",
       "    <tr>\n",
       "      <th>25</th>\n",
       "      <td>16278300</td>\n",
       "    </tr>\n",
       "    <tr>\n",
       "      <th>26</th>\n",
       "      <td>18483920</td>\n",
       "    </tr>\n",
       "    <tr>\n",
       "      <th>27</th>\n",
       "      <td>20231856</td>\n",
       "    </tr>\n",
       "    <tr>\n",
       "      <th>28</th>\n",
       "      <td>19955908</td>\n",
       "    </tr>\n",
       "    <tr>\n",
       "      <th>29</th>\n",
       "      <td>15987497</td>\n",
       "    </tr>\n",
       "    <tr>\n",
       "      <th>30</th>\n",
       "      <td>17461620</td>\n",
       "    </tr>\n",
       "    <tr>\n",
       "      <th>31</th>\n",
       "      <td>18844063</td>\n",
       "    </tr>\n",
       "  </tbody>\n",
       "</table>\n",
       "</div>"
      ],
      "text/plain": [
       "         dia_off_count\n",
       "dia_off               \n",
       "16             9867616\n",
       "17            11534721\n",
       "18            12279114\n",
       "19            13957913\n",
       "20            16428140\n",
       "21            14428554\n",
       "22            12576564\n",
       "23            13509234\n",
       "24            14893152\n",
       "25            16278300\n",
       "26            18483920\n",
       "27            20231856\n",
       "28            19955908\n",
       "29            15987497\n",
       "30            17461620\n",
       "31            18844063"
      ]
     },
     "execution_count": 65,
     "metadata": {},
     "output_type": "execute_result"
    }
   ],
   "source": [
    "grouped_df_31_count_off"
   ]
  },
  {
   "cell_type": "markdown",
   "metadata": {},
   "source": [
    "Tasa de cambio de dejada de pasajeros FHVHV:"
   ]
  },
  {
   "cell_type": "code",
   "execution_count": 66,
   "metadata": {},
   "outputs": [
    {
     "name": "stdout",
     "output_type": "stream",
     "text": [
      "Tasa de cambio de usuarios de taxis: 123.75%\n"
     ]
    }
   ],
   "source": [
    "# Entonces si queremos saber la tasa de cambio en el número de usuarios de los servicios de taxis:\n",
    "# Realizamos el cálculo de números de usuarios servicio taxi:\n",
    "# (NumeroUsuariosFinalPeriodo - NumeroUsuariosComienzoPeriodo) / NumeroUsuariosComienzoPeriodo * 100\n",
    "\n",
    "Tasa_cambio_Usuarios_taxis = ((18844063 - 8422065) / 8422065 * 100)\n",
    "# Formateo con dos decimales\n",
    "tasa_cambio_formateada = round(Tasa_cambio_Usuarios_taxis, 2)\n",
    "\n",
    "print(f\"Tasa de cambio de usuarios de taxis: {tasa_cambio_formateada}%\")"
   ]
  },
  {
   "cell_type": "markdown",
   "metadata": {},
   "source": [
    "Este aumento significativo, puede deberse al viaje compartido, lo cual hace aumentar la ruta y el tiempo dejando pasajeros."
   ]
  },
  {
   "cell_type": "code",
   "execution_count": 67,
   "metadata": {},
   "outputs": [
    {
     "data": {
      "text/html": [
       "<div>\n",
       "<style scoped>\n",
       "    .dataframe tbody tr th:only-of-type {\n",
       "        vertical-align: middle;\n",
       "    }\n",
       "\n",
       "    .dataframe tbody tr th {\n",
       "        vertical-align: top;\n",
       "    }\n",
       "\n",
       "    .dataframe thead th {\n",
       "        text-align: right;\n",
       "    }\n",
       "</style>\n",
       "<table border=\"1\" class=\"dataframe\">\n",
       "  <thead>\n",
       "    <tr style=\"text-align: right;\">\n",
       "      <th></th>\n",
       "      <th>dropoff_datetime</th>\n",
       "      <th>DOLocationID</th>\n",
       "      <th>trip_miles</th>\n",
       "      <th>trip_time</th>\n",
       "      <th>zone</th>\n",
       "      <th>borough</th>\n",
       "      <th>prom_trip_miles</th>\n",
       "    </tr>\n",
       "  </thead>\n",
       "  <tbody>\n",
       "    <tr>\n",
       "      <th>0</th>\n",
       "      <td>2024-01-01 00:02:35</td>\n",
       "      <td>80</td>\n",
       "      <td>0.575</td>\n",
       "      <td>141</td>\n",
       "      <td>Bushwick North</td>\n",
       "      <td>Brooklyn</td>\n",
       "      <td>141.0</td>\n",
       "    </tr>\n",
       "    <tr>\n",
       "      <th>1</th>\n",
       "      <td>2024-01-01 00:02:37</td>\n",
       "      <td>183</td>\n",
       "      <td>0.000</td>\n",
       "      <td>121</td>\n",
       "      <td>Pelham Bay</td>\n",
       "      <td>Bronx</td>\n",
       "      <td>121.0</td>\n",
       "    </tr>\n",
       "    <tr>\n",
       "      <th>2</th>\n",
       "      <td>2024-01-01 00:02:42</td>\n",
       "      <td>74</td>\n",
       "      <td>0.533</td>\n",
       "      <td>137</td>\n",
       "      <td>East Harlem North</td>\n",
       "      <td>Manhattan</td>\n",
       "      <td>137.0</td>\n",
       "    </tr>\n",
       "    <tr>\n",
       "      <th>3</th>\n",
       "      <td>2024-01-01 00:03:11</td>\n",
       "      <td>107</td>\n",
       "      <td>0.430</td>\n",
       "      <td>168</td>\n",
       "      <td>Gramercy</td>\n",
       "      <td>Manhattan</td>\n",
       "      <td>168.0</td>\n",
       "    </tr>\n",
       "    <tr>\n",
       "      <th>4</th>\n",
       "      <td>2024-01-01 00:03:38</td>\n",
       "      <td>119</td>\n",
       "      <td>0.627</td>\n",
       "      <td>214</td>\n",
       "      <td>Washington Heights North</td>\n",
       "      <td>Manhattan</td>\n",
       "      <td>214.0</td>\n",
       "    </tr>\n",
       "    <tr>\n",
       "      <th>...</th>\n",
       "      <td>...</td>\n",
       "      <td>...</td>\n",
       "      <td>...</td>\n",
       "      <td>...</td>\n",
       "      <td>...</td>\n",
       "      <td>...</td>\n",
       "      <td>...</td>\n",
       "    </tr>\n",
       "    <tr>\n",
       "      <th>19658826</th>\n",
       "      <td>2024-02-01 01:38:27</td>\n",
       "      <td>246</td>\n",
       "      <td>19.182</td>\n",
       "      <td>7985</td>\n",
       "      <td>JFK Airport</td>\n",
       "      <td>Queens</td>\n",
       "      <td>7985.0</td>\n",
       "    </tr>\n",
       "    <tr>\n",
       "      <th>19658827</th>\n",
       "      <td>2024-02-01 01:48:42</td>\n",
       "      <td>265</td>\n",
       "      <td>65.510</td>\n",
       "      <td>7690</td>\n",
       "      <td>TriBeCa/Civic Center</td>\n",
       "      <td>Manhattan</td>\n",
       "      <td>7690.0</td>\n",
       "    </tr>\n",
       "    <tr>\n",
       "      <th>19658828</th>\n",
       "      <td>2024-02-01 02:00:41</td>\n",
       "      <td>265</td>\n",
       "      <td>217.820</td>\n",
       "      <td>14141</td>\n",
       "      <td>JFK Airport</td>\n",
       "      <td>Queens</td>\n",
       "      <td>14141.0</td>\n",
       "    </tr>\n",
       "    <tr>\n",
       "      <th>19658829</th>\n",
       "      <td>2024-02-01 02:03:16</td>\n",
       "      <td>265</td>\n",
       "      <td>183.200</td>\n",
       "      <td>11746</td>\n",
       "      <td>Flushing</td>\n",
       "      <td>Queens</td>\n",
       "      <td>11746.0</td>\n",
       "    </tr>\n",
       "    <tr>\n",
       "      <th>19658830</th>\n",
       "      <td>2024-02-01 02:10:41</td>\n",
       "      <td>132</td>\n",
       "      <td>261.170</td>\n",
       "      <td>16814</td>\n",
       "      <td>South Ozone Park</td>\n",
       "      <td>Queens</td>\n",
       "      <td>16814.0</td>\n",
       "    </tr>\n",
       "  </tbody>\n",
       "</table>\n",
       "<p>19658831 rows × 7 columns</p>\n",
       "</div>"
      ],
      "text/plain": [
       "            dropoff_datetime  DOLocationID  trip_miles  trip_time  \\\n",
       "0        2024-01-01 00:02:35            80       0.575        141   \n",
       "1        2024-01-01 00:02:37           183       0.000        121   \n",
       "2        2024-01-01 00:02:42            74       0.533        137   \n",
       "3        2024-01-01 00:03:11           107       0.430        168   \n",
       "4        2024-01-01 00:03:38           119       0.627        214   \n",
       "...                      ...           ...         ...        ...   \n",
       "19658826 2024-02-01 01:38:27           246      19.182       7985   \n",
       "19658827 2024-02-01 01:48:42           265      65.510       7690   \n",
       "19658828 2024-02-01 02:00:41           265     217.820      14141   \n",
       "19658829 2024-02-01 02:03:16           265     183.200      11746   \n",
       "19658830 2024-02-01 02:10:41           132     261.170      16814   \n",
       "\n",
       "                              zone    borough  prom_trip_miles  \n",
       "0                   Bushwick North   Brooklyn            141.0  \n",
       "1                       Pelham Bay      Bronx            121.0  \n",
       "2                East Harlem North  Manhattan            137.0  \n",
       "3                         Gramercy  Manhattan            168.0  \n",
       "4         Washington Heights North  Manhattan            214.0  \n",
       "...                            ...        ...              ...  \n",
       "19658826               JFK Airport     Queens           7985.0  \n",
       "19658827      TriBeCa/Civic Center  Manhattan           7690.0  \n",
       "19658828               JFK Airport     Queens          14141.0  \n",
       "19658829                  Flushing     Queens          11746.0  \n",
       "19658830          South Ozone Park     Queens          16814.0  \n",
       "\n",
       "[19658831 rows x 7 columns]"
      ]
     },
     "execution_count": 67,
     "metadata": {},
     "output_type": "execute_result"
    }
   ],
   "source": [
    "# Promediar las millas de viaje\n",
    "avg_trip_time_lleg = grouped_data_lleg[\"trip_time\"].mean().reset_index(name=\"prom_trip_miles\")\n",
    "avg_trip_time_lleg"
   ]
  },
  {
   "cell_type": "markdown",
   "metadata": {},
   "source": [
    "Se pueden observar las millas totales de viaje de inicio y de llegada del usuario de taxis FHVH (FHV de alto volumen, viajes de alquiler) en Enero del 2024."
   ]
  },
  {
   "cell_type": "markdown",
   "metadata": {},
   "source": [
    "Para viajes FHV:"
   ]
  },
  {
   "cell_type": "code",
   "execution_count": 68,
   "metadata": {},
   "outputs": [],
   "source": [
    "# datos de taxi unidos con la data de zona de taxi\n",
    "\n",
    "# Unir los DataFrames\n",
    "df_unido_fhvene24 = pd.merge(df_fhv_ene24, df, left_on=\"PUlocationID\", right_on=\"LocationID\")"
   ]
  },
  {
   "cell_type": "code",
   "execution_count": 69,
   "metadata": {},
   "outputs": [
    {
     "data": {
      "text/html": [
       "<div>\n",
       "<style scoped>\n",
       "    .dataframe tbody tr th:only-of-type {\n",
       "        vertical-align: middle;\n",
       "    }\n",
       "\n",
       "    .dataframe tbody tr th {\n",
       "        vertical-align: top;\n",
       "    }\n",
       "\n",
       "    .dataframe thead th {\n",
       "        text-align: right;\n",
       "    }\n",
       "</style>\n",
       "<table border=\"1\" class=\"dataframe\">\n",
       "  <thead>\n",
       "    <tr style=\"text-align: right;\">\n",
       "      <th></th>\n",
       "      <th>dispatching_base_num</th>\n",
       "      <th>pickup_datetime</th>\n",
       "      <th>dropOff_datetime</th>\n",
       "      <th>PUlocationID</th>\n",
       "      <th>DOlocationID</th>\n",
       "      <th>SR_Flag</th>\n",
       "      <th>Affiliated_base_number</th>\n",
       "      <th>OBJECTID</th>\n",
       "      <th>Shape_Leng</th>\n",
       "      <th>Shape_Area</th>\n",
       "      <th>zone</th>\n",
       "      <th>LocationID</th>\n",
       "      <th>borough</th>\n",
       "    </tr>\n",
       "  </thead>\n",
       "  <tbody>\n",
       "    <tr>\n",
       "      <th>279512</th>\n",
       "      <td>B03320</td>\n",
       "      <td>2024-01-31 23:58:00</td>\n",
       "      <td>2024-02-01 00:22:00</td>\n",
       "      <td>138.0</td>\n",
       "      <td>13.0</td>\n",
       "      <td>NaN</td>\n",
       "      <td>B03320</td>\n",
       "      <td>138</td>\n",
       "      <td>0.107467</td>\n",
       "      <td>0.000537</td>\n",
       "      <td>LaGuardia Airport</td>\n",
       "      <td>138</td>\n",
       "      <td>Queens</td>\n",
       "    </tr>\n",
       "    <tr>\n",
       "      <th>279513</th>\n",
       "      <td>B03320</td>\n",
       "      <td>2024-01-31 23:01:00</td>\n",
       "      <td>2024-02-01 00:17:00</td>\n",
       "      <td>107.0</td>\n",
       "      <td>265.0</td>\n",
       "      <td>NaN</td>\n",
       "      <td>B03404</td>\n",
       "      <td>107</td>\n",
       "      <td>0.038041</td>\n",
       "      <td>0.000075</td>\n",
       "      <td>Gramercy</td>\n",
       "      <td>107</td>\n",
       "      <td>Manhattan</td>\n",
       "    </tr>\n",
       "  </tbody>\n",
       "</table>\n",
       "</div>"
      ],
      "text/plain": [
       "       dispatching_base_num     pickup_datetime    dropOff_datetime  \\\n",
       "279512               B03320 2024-01-31 23:58:00 2024-02-01 00:22:00   \n",
       "279513               B03320 2024-01-31 23:01:00 2024-02-01 00:17:00   \n",
       "\n",
       "        PUlocationID  DOlocationID  SR_Flag Affiliated_base_number  OBJECTID  \\\n",
       "279512         138.0          13.0      NaN                 B03320       138   \n",
       "279513         107.0         265.0      NaN                 B03404       107   \n",
       "\n",
       "        Shape_Leng  Shape_Area               zone  LocationID    borough  \n",
       "279512    0.107467    0.000537  LaGuardia Airport         138     Queens  \n",
       "279513    0.038041    0.000075           Gramercy         107  Manhattan  "
      ]
     },
     "execution_count": 69,
     "metadata": {},
     "output_type": "execute_result"
    }
   ],
   "source": [
    "df_unido_fhvene24.tail(2)"
   ]
  },
  {
   "cell_type": "code",
   "execution_count": 70,
   "metadata": {},
   "outputs": [],
   "source": [
    "# Crea dos nuevas columnas para la fecha y la hora de recogida de pasajeros\n",
    "df_unido_fhvene24.loc[:, \"fecha_pic2\"] = df_unido_fhvene24[\"pickup_datetime\"].dt.date\n",
    "df_unido_fhvene24.loc[:, \"hora_pic2\"] = df_unido_fhvene24[\"pickup_datetime\"].dt.time"
   ]
  },
  {
   "cell_type": "code",
   "execution_count": 71,
   "metadata": {},
   "outputs": [],
   "source": [
    "# DataFrame con año, mes y día separados\n",
    "df_unido_fhvene24.loc[:, \"agno_pic2\"] = df_unido_fhvene24[\"pickup_datetime\"].dt.year\n",
    "df_unido_fhvene24.loc[:, \"mes_pic2\"] = df_unido_fhvene24[\"pickup_datetime\"].dt.month\n",
    "df_unido_fhvene24.loc[:, \"dia_pic2\"] = df_unido_fhvene24[\"pickup_datetime\"].dt.day"
   ]
  },
  {
   "cell_type": "code",
   "execution_count": 72,
   "metadata": {},
   "outputs": [],
   "source": [
    "# Crea una nueva columna 'hora_exacta' extrayendo la hora de la columna 'hora'\n",
    "df_unido_fhvene24.loc[:, \"hora_exacta_pic2\"] = df_unido_fhvene24[\"hora_pic2\"].apply(lambda x: x.hour)"
   ]
  },
  {
   "cell_type": "code",
   "execution_count": 73,
   "metadata": {},
   "outputs": [],
   "source": [
    "# Crea dos nuevas columnas para la fecha y la hora de repartir pasajeros\n",
    "df_unido_fhvene24.loc[:, \"fecha_off2\"] = df_unido_fhvene24[\"dropOff_datetime\"].dt.date\n",
    "df_unido_fhvene24.loc[:, \"hora_off2\"] = df_unido_fhvene24[\"dropOff_datetime\"].dt.time"
   ]
  },
  {
   "cell_type": "code",
   "execution_count": 74,
   "metadata": {},
   "outputs": [],
   "source": [
    "# DataFrame con año, mes y día separados\n",
    "df_unido_fhvene24.loc[:, \"agno_off2\"] = df_unido_fhvene24[\"dropOff_datetime\"].dt.year\n",
    "df_unido_fhvene24.loc[:, \"mes_off2\"] = df_unido_fhvene24[\"dropOff_datetime\"].dt.month\n",
    "df_unido_fhvene24.loc[:, \"dia_off2\"] = df_unido_fhvene24[\"dropOff_datetime\"].dt.day"
   ]
  },
  {
   "cell_type": "code",
   "execution_count": 75,
   "metadata": {},
   "outputs": [],
   "source": [
    "# Crea una nueva columna 'hora_exacta' extrayendo la hora de la columna 'hora'\n",
    "df_unido_fhvene24.loc[:, \"hora_exacta_off2\"] = df_unido_fhvene24[\"hora_off2\"].apply(lambda x: x.hour)"
   ]
  },
  {
   "cell_type": "code",
   "execution_count": 76,
   "metadata": {},
   "outputs": [
    {
     "data": {
      "text/html": [
       "<div>\n",
       "<style scoped>\n",
       "    .dataframe tbody tr th:only-of-type {\n",
       "        vertical-align: middle;\n",
       "    }\n",
       "\n",
       "    .dataframe tbody tr th {\n",
       "        vertical-align: top;\n",
       "    }\n",
       "\n",
       "    .dataframe thead th {\n",
       "        text-align: right;\n",
       "    }\n",
       "</style>\n",
       "<table border=\"1\" class=\"dataframe\">\n",
       "  <thead>\n",
       "    <tr style=\"text-align: right;\">\n",
       "      <th></th>\n",
       "      <th>dispatching_base_num</th>\n",
       "      <th>pickup_datetime</th>\n",
       "      <th>dropOff_datetime</th>\n",
       "      <th>PUlocationID</th>\n",
       "      <th>DOlocationID</th>\n",
       "      <th>SR_Flag</th>\n",
       "      <th>Affiliated_base_number</th>\n",
       "      <th>OBJECTID</th>\n",
       "      <th>Shape_Leng</th>\n",
       "      <th>Shape_Area</th>\n",
       "      <th>...</th>\n",
       "      <th>agno_pic2</th>\n",
       "      <th>mes_pic2</th>\n",
       "      <th>dia_pic2</th>\n",
       "      <th>hora_exacta_pic2</th>\n",
       "      <th>fecha_off2</th>\n",
       "      <th>hora_off2</th>\n",
       "      <th>agno_off2</th>\n",
       "      <th>mes_off2</th>\n",
       "      <th>dia_off2</th>\n",
       "      <th>hora_exacta_off2</th>\n",
       "    </tr>\n",
       "  </thead>\n",
       "  <tbody>\n",
       "    <tr>\n",
       "      <th>0</th>\n",
       "      <td>B00171</td>\n",
       "      <td>2024-01-01 00:52:00</td>\n",
       "      <td>2024-01-01 00:57:00</td>\n",
       "      <td>151.0</td>\n",
       "      <td>75.0</td>\n",
       "      <td>NaN</td>\n",
       "      <td>B00256</td>\n",
       "      <td>151</td>\n",
       "      <td>0.054890</td>\n",
       "      <td>0.000129</td>\n",
       "      <td>...</td>\n",
       "      <td>2024</td>\n",
       "      <td>1</td>\n",
       "      <td>1</td>\n",
       "      <td>0</td>\n",
       "      <td>2024-01-01</td>\n",
       "      <td>00:57:00</td>\n",
       "      <td>2024</td>\n",
       "      <td>1</td>\n",
       "      <td>1</td>\n",
       "      <td>0</td>\n",
       "    </tr>\n",
       "    <tr>\n",
       "      <th>1</th>\n",
       "      <td>B00254</td>\n",
       "      <td>2024-01-01 00:30:55</td>\n",
       "      <td>2024-01-01 00:46:58</td>\n",
       "      <td>161.0</td>\n",
       "      <td>239.0</td>\n",
       "      <td>NaN</td>\n",
       "      <td>B02970</td>\n",
       "      <td>161</td>\n",
       "      <td>0.035804</td>\n",
       "      <td>0.000072</td>\n",
       "      <td>...</td>\n",
       "      <td>2024</td>\n",
       "      <td>1</td>\n",
       "      <td>1</td>\n",
       "      <td>0</td>\n",
       "      <td>2024-01-01</td>\n",
       "      <td>00:46:58</td>\n",
       "      <td>2024</td>\n",
       "      <td>1</td>\n",
       "      <td>1</td>\n",
       "      <td>0</td>\n",
       "    </tr>\n",
       "  </tbody>\n",
       "</table>\n",
       "<p>2 rows × 25 columns</p>\n",
       "</div>"
      ],
      "text/plain": [
       "  dispatching_base_num     pickup_datetime    dropOff_datetime  PUlocationID  \\\n",
       "0               B00171 2024-01-01 00:52:00 2024-01-01 00:57:00         151.0   \n",
       "1               B00254 2024-01-01 00:30:55 2024-01-01 00:46:58         161.0   \n",
       "\n",
       "   DOlocationID  SR_Flag Affiliated_base_number  OBJECTID  Shape_Leng  \\\n",
       "0          75.0      NaN                 B00256       151    0.054890   \n",
       "1         239.0      NaN                 B02970       161    0.035804   \n",
       "\n",
       "   Shape_Area  ... agno_pic2  mes_pic2 dia_pic2 hora_exacta_pic2  fecha_off2  \\\n",
       "0    0.000129  ...      2024         1        1                0  2024-01-01   \n",
       "1    0.000072  ...      2024         1        1                0  2024-01-01   \n",
       "\n",
       "   hora_off2  agno_off2  mes_off2  dia_off2 hora_exacta_off2  \n",
       "0   00:57:00       2024         1         1                0  \n",
       "1   00:46:58       2024         1         1                0  \n",
       "\n",
       "[2 rows x 25 columns]"
      ]
     },
     "execution_count": 76,
     "metadata": {},
     "output_type": "execute_result"
    }
   ],
   "source": [
    "df_unido_fhvene24.head(2)"
   ]
  },
  {
   "cell_type": "code",
   "execution_count": 77,
   "metadata": {},
   "outputs": [
    {
     "data": {
      "text/plain": [
       "279514"
      ]
     },
     "execution_count": 77,
     "metadata": {},
     "output_type": "execute_result"
    }
   ],
   "source": [
    "# Estos no son viajes compartidos!!! No hay valores para SR_Flag, no son compartidos. Es decir, 279 514 dentro de 20 millones, no son viajes compartidos.\n",
    "df_unido_fhvene24[\"SR_Flag\"].isnull().sum()"
   ]
  },
  {
   "cell_type": "code",
   "execution_count": 78,
   "metadata": {},
   "outputs": [],
   "source": [
    "# Cantidad de valores nulos en cada columna\n",
    "null_counts_fhvene24= df_unido_fhvene24.isnull().sum()"
   ]
  },
  {
   "cell_type": "code",
   "execution_count": 79,
   "metadata": {},
   "outputs": [
    {
     "data": {
      "text/plain": [
       "dispatching_base_num           0\n",
       "pickup_datetime                0\n",
       "dropOff_datetime               0\n",
       "PUlocationID                   0\n",
       "DOlocationID               11610\n",
       "SR_Flag                   279514\n",
       "Affiliated_base_number         0\n",
       "OBJECTID                       0\n",
       "Shape_Leng                     0\n",
       "Shape_Area                     0\n",
       "zone                           0\n",
       "LocationID                     0\n",
       "borough                        0\n",
       "fecha_pic2                     0\n",
       "hora_pic2                      0\n",
       "agno_pic2                      0\n",
       "mes_pic2                       0\n",
       "dia_pic2                       0\n",
       "hora_exacta_pic2               0\n",
       "fecha_off2                     0\n",
       "hora_off2                      0\n",
       "agno_off2                      0\n",
       "mes_off2                       0\n",
       "dia_off2                       0\n",
       "hora_exacta_off2               0\n",
       "dtype: int64"
      ]
     },
     "execution_count": 79,
     "metadata": {},
     "output_type": "execute_result"
    }
   ],
   "source": [
    "null_counts_fhvene24"
   ]
  },
  {
   "cell_type": "code",
   "execution_count": 80,
   "metadata": {},
   "outputs": [],
   "source": [
    "# Seleccionar las columnas para nueva DF:\n",
    "selected_df = df_unido_fhvene24[[\"PUlocationID\", \"DOlocationID\", \"zone\", \"borough\", \"dia_pic2\", \"dia_off2\"]]"
   ]
  },
  {
   "cell_type": "code",
   "execution_count": 81,
   "metadata": {},
   "outputs": [
    {
     "data": {
      "text/html": [
       "<div>\n",
       "<style scoped>\n",
       "    .dataframe tbody tr th:only-of-type {\n",
       "        vertical-align: middle;\n",
       "    }\n",
       "\n",
       "    .dataframe tbody tr th {\n",
       "        vertical-align: top;\n",
       "    }\n",
       "\n",
       "    .dataframe thead th {\n",
       "        text-align: right;\n",
       "    }\n",
       "</style>\n",
       "<table border=\"1\" class=\"dataframe\">\n",
       "  <thead>\n",
       "    <tr style=\"text-align: right;\">\n",
       "      <th></th>\n",
       "      <th>PUlocationID</th>\n",
       "      <th>DOlocationID</th>\n",
       "      <th>zone</th>\n",
       "      <th>borough</th>\n",
       "      <th>dia_pic2</th>\n",
       "      <th>dia_off2</th>\n",
       "    </tr>\n",
       "  </thead>\n",
       "  <tbody>\n",
       "    <tr>\n",
       "      <th>0</th>\n",
       "      <td>151.0</td>\n",
       "      <td>75.0</td>\n",
       "      <td>Manhattan Valley</td>\n",
       "      <td>Manhattan</td>\n",
       "      <td>1</td>\n",
       "      <td>1</td>\n",
       "    </tr>\n",
       "    <tr>\n",
       "      <th>1</th>\n",
       "      <td>161.0</td>\n",
       "      <td>239.0</td>\n",
       "      <td>Midtown Center</td>\n",
       "      <td>Manhattan</td>\n",
       "      <td>1</td>\n",
       "      <td>1</td>\n",
       "    </tr>\n",
       "    <tr>\n",
       "      <th>2</th>\n",
       "      <td>140.0</td>\n",
       "      <td>233.0</td>\n",
       "      <td>Lenox Hill East</td>\n",
       "      <td>Manhattan</td>\n",
       "      <td>1</td>\n",
       "      <td>1</td>\n",
       "    </tr>\n",
       "    <tr>\n",
       "      <th>3</th>\n",
       "      <td>261.0</td>\n",
       "      <td>239.0</td>\n",
       "      <td>World Trade Center</td>\n",
       "      <td>Manhattan</td>\n",
       "      <td>1</td>\n",
       "      <td>1</td>\n",
       "    </tr>\n",
       "    <tr>\n",
       "      <th>4</th>\n",
       "      <td>262.0</td>\n",
       "      <td>229.0</td>\n",
       "      <td>Yorkville East</td>\n",
       "      <td>Manhattan</td>\n",
       "      <td>1</td>\n",
       "      <td>1</td>\n",
       "    </tr>\n",
       "    <tr>\n",
       "      <th>...</th>\n",
       "      <td>...</td>\n",
       "      <td>...</td>\n",
       "      <td>...</td>\n",
       "      <td>...</td>\n",
       "      <td>...</td>\n",
       "      <td>...</td>\n",
       "    </tr>\n",
       "    <tr>\n",
       "      <th>279509</th>\n",
       "      <td>140.0</td>\n",
       "      <td>76.0</td>\n",
       "      <td>Lenox Hill East</td>\n",
       "      <td>Manhattan</td>\n",
       "      <td>31</td>\n",
       "      <td>1</td>\n",
       "    </tr>\n",
       "    <tr>\n",
       "      <th>279510</th>\n",
       "      <td>39.0</td>\n",
       "      <td>97.0</td>\n",
       "      <td>Canarsie</td>\n",
       "      <td>Brooklyn</td>\n",
       "      <td>31</td>\n",
       "      <td>1</td>\n",
       "    </tr>\n",
       "    <tr>\n",
       "      <th>279511</th>\n",
       "      <td>82.0</td>\n",
       "      <td>82.0</td>\n",
       "      <td>Elmhurst</td>\n",
       "      <td>Queens</td>\n",
       "      <td>31</td>\n",
       "      <td>31</td>\n",
       "    </tr>\n",
       "    <tr>\n",
       "      <th>279512</th>\n",
       "      <td>138.0</td>\n",
       "      <td>13.0</td>\n",
       "      <td>LaGuardia Airport</td>\n",
       "      <td>Queens</td>\n",
       "      <td>31</td>\n",
       "      <td>1</td>\n",
       "    </tr>\n",
       "    <tr>\n",
       "      <th>279513</th>\n",
       "      <td>107.0</td>\n",
       "      <td>265.0</td>\n",
       "      <td>Gramercy</td>\n",
       "      <td>Manhattan</td>\n",
       "      <td>31</td>\n",
       "      <td>1</td>\n",
       "    </tr>\n",
       "  </tbody>\n",
       "</table>\n",
       "<p>279514 rows × 6 columns</p>\n",
       "</div>"
      ],
      "text/plain": [
       "        PUlocationID  DOlocationID                zone    borough  dia_pic2  \\\n",
       "0              151.0          75.0    Manhattan Valley  Manhattan         1   \n",
       "1              161.0         239.0      Midtown Center  Manhattan         1   \n",
       "2              140.0         233.0     Lenox Hill East  Manhattan         1   \n",
       "3              261.0         239.0  World Trade Center  Manhattan         1   \n",
       "4              262.0         229.0      Yorkville East  Manhattan         1   \n",
       "...              ...           ...                 ...        ...       ...   \n",
       "279509         140.0          76.0     Lenox Hill East  Manhattan        31   \n",
       "279510          39.0          97.0            Canarsie   Brooklyn        31   \n",
       "279511          82.0          82.0            Elmhurst     Queens        31   \n",
       "279512         138.0          13.0   LaGuardia Airport     Queens        31   \n",
       "279513         107.0         265.0            Gramercy  Manhattan        31   \n",
       "\n",
       "        dia_off2  \n",
       "0              1  \n",
       "1              1  \n",
       "2              1  \n",
       "3              1  \n",
       "4              1  \n",
       "...          ...  \n",
       "279509         1  \n",
       "279510         1  \n",
       "279511        31  \n",
       "279512         1  \n",
       "279513         1  \n",
       "\n",
       "[279514 rows x 6 columns]"
      ]
     },
     "execution_count": 81,
     "metadata": {},
     "output_type": "execute_result"
    }
   ],
   "source": [
    "selected_df # TRATAR DE PASAR EL TIPO DE DATO A NUMÉRICO O ENTERO EN ESTA PARTE   dasboard para el viernes"
   ]
  },
  {
   "cell_type": "code",
   "execution_count": 85,
   "metadata": {},
   "outputs": [],
   "source": [
    "# Convertir columnas a int\n",
    "cols_to_convert = ['PUlocationID', 'DOlocationID', 'dia_pic2', 'dia_off2']\n",
    "selected_df[cols_to_convert] = selected_df[cols_to_convert].fillna(0).astype(int)"
   ]
  },
  {
   "cell_type": "code",
   "execution_count": 86,
   "metadata": {},
   "outputs": [],
   "source": [
    "# Group by the specified columns\n",
    "grouped_df = selected_df.groupby(['PUlocationID', 'zone', 'borough', 'dia_pic2'])\n",
    "\n",
    "# Sum 'dia_pic2' within each group\n",
    "grouped_df_sum = grouped_df['dia_pic2'].sum()"
   ]
  },
  {
   "cell_type": "code",
   "execution_count": 87,
   "metadata": {},
   "outputs": [
    {
     "data": {
      "text/plain": [
       "PUlocationID  zone            borough    dia_pic2\n",
       "1             Newark Airport  EWR        1            26\n",
       "                                         2            58\n",
       "                                         3            90\n",
       "                                         4            80\n",
       "                                         5            85\n",
       "                                                    ... \n",
       "263           Yorkville West  Manhattan  27          216\n",
       "                                         28          168\n",
       "                                         29          261\n",
       "                                         30          390\n",
       "                                         31          434\n",
       "Name: dia_pic2, Length: 7559, dtype: int32"
      ]
     },
     "execution_count": 87,
     "metadata": {},
     "output_type": "execute_result"
    }
   ],
   "source": [
    "grouped_df_sum"
   ]
  },
  {
   "cell_type": "code",
   "execution_count": 94,
   "metadata": {},
   "outputs": [],
   "source": [
    "filtered_df = grouped_df_sum[grouped_df_sum.index.get_level_values('dia_pic2') <= 15]\n",
    "total_dia_pic2_15 = filtered_df.sum()"
   ]
  },
  {
   "cell_type": "code",
   "execution_count": 95,
   "metadata": {},
   "outputs": [
    {
     "data": {
      "text/plain": [
       "989158"
      ]
     },
     "execution_count": 95,
     "metadata": {},
     "output_type": "execute_result"
    }
   ],
   "source": [
    "total_dia_pic2_15   "
   ]
  },
  {
   "cell_type": "code",
   "execution_count": 102,
   "metadata": {},
   "outputs": [],
   "source": [
    "filtered_df = grouped_df_sum[grouped_df_sum.index.get_level_values('dia_pic2') >= 16]\n",
    "total_dia_pic2_31 = filtered_df.sum()"
   ]
  },
  {
   "cell_type": "code",
   "execution_count": 103,
   "metadata": {},
   "outputs": [
    {
     "data": {
      "text/plain": [
       "3696155"
      ]
     },
     "execution_count": 103,
     "metadata": {},
     "output_type": "execute_result"
    }
   ],
   "source": [
    "total_dia_pic2_31"
   ]
  },
  {
   "cell_type": "markdown",
   "metadata": {},
   "source": [
    "Tasa de cambio de la recogida de pasajeros FHV:"
   ]
  },
  {
   "cell_type": "code",
   "execution_count": 104,
   "metadata": {},
   "outputs": [
    {
     "name": "stdout",
     "output_type": "stream",
     "text": [
      "Tasa de cambio de usuarios de taxis: 273.67%\n"
     ]
    }
   ],
   "source": [
    "# Entonces si queremos saber la tasa de cambio en el número de usuarios de los servicios de taxis:\n",
    "# Realizamos el cálculo de números de usuarios servicio taxi:\n",
    "# (NumeroUsuariosFinalPeriodo - NumeroUsuariosComienzoPeriodo) / NumeroUsuariosComienzoPeriodo * 100\n",
    "\n",
    "Tasa_cambio_Usuarios_taxis = ((3696155 - 989158) / 989158 * 100)\n",
    "# Formateo con dos decimales\n",
    "tasa_cambio_formateada = round(Tasa_cambio_Usuarios_taxis, 2)\n",
    "\n",
    "print(f\"Tasa de cambio de usuarios de taxis: {tasa_cambio_formateada}%\")"
   ]
  },
  {
   "cell_type": "code",
   "execution_count": 105,
   "metadata": {},
   "outputs": [],
   "source": [
    "# Group by the specified columns\n",
    "grouped_df_off2 = selected_df.groupby(['DOlocationID', 'zone', 'borough', 'dia_off2'])\n",
    "\n",
    "# Sum 'dia_pic2' within each group\n",
    "grouped_df_sum_off2 = grouped_df_off2['dia_off2'].sum()"
   ]
  },
  {
   "cell_type": "code",
   "execution_count": 106,
   "metadata": {},
   "outputs": [
    {
     "data": {
      "text/plain": [
       "DOlocationID  zone            borough    dia_off2\n",
       "0             Baisley Park    Queens     2            2\n",
       "                                         17          17\n",
       "                                         23          46\n",
       "              Bath Beach      Brooklyn   1            2\n",
       "                                         4            4\n",
       "                                                     ..\n",
       "265           Yorkville West  Manhattan  17          68\n",
       "                                         18          18\n",
       "                                         19          38\n",
       "                                         26          26\n",
       "                                         29          29\n",
       "Name: dia_off2, Length: 135211, dtype: int32"
      ]
     },
     "execution_count": 106,
     "metadata": {},
     "output_type": "execute_result"
    }
   ],
   "source": [
    "grouped_df_sum_off2"
   ]
  },
  {
   "cell_type": "code",
   "execution_count": 107,
   "metadata": {},
   "outputs": [],
   "source": [
    "filtered_df = grouped_df_sum_off2[grouped_df_sum_off2.index.get_level_values('dia_off2') <= 15]\n",
    "total_dia_off2_15 = filtered_df.sum()"
   ]
  },
  {
   "cell_type": "code",
   "execution_count": 109,
   "metadata": {},
   "outputs": [
    {
     "data": {
      "text/plain": [
       "991343"
      ]
     },
     "execution_count": 109,
     "metadata": {},
     "output_type": "execute_result"
    }
   ],
   "source": [
    "total_dia_off2_15"
   ]
  },
  {
   "cell_type": "code",
   "execution_count": 108,
   "metadata": {},
   "outputs": [],
   "source": [
    "filtered_df_off2 = grouped_df_sum_off2[grouped_df_sum_off2.index.get_level_values('dia_off2') >= 16]\n",
    "total_dia_off2_31 = filtered_df_off2.sum()"
   ]
  },
  {
   "cell_type": "code",
   "execution_count": 110,
   "metadata": {},
   "outputs": [
    {
     "data": {
      "text/plain": [
       "3691250"
      ]
     },
     "execution_count": 110,
     "metadata": {},
     "output_type": "execute_result"
    }
   ],
   "source": [
    "total_dia_off2_31"
   ]
  },
  {
   "cell_type": "markdown",
   "metadata": {},
   "source": [
    "Tasa de cambio de la dejada de pasajeros FHV:"
   ]
  },
  {
   "cell_type": "code",
   "execution_count": 111,
   "metadata": {},
   "outputs": [
    {
     "name": "stdout",
     "output_type": "stream",
     "text": [
      "Tasa de cambio de usuarios de taxis: 272.35%\n"
     ]
    }
   ],
   "source": [
    "# Entonces si queremos saber la tasa de cambio en el número de usuarios de los servicios de taxis:\n",
    "# Realizamos el cálculo de números de usuarios servicio taxi:\n",
    "# (NumeroUsuariosFinalPeriodo - NumeroUsuariosComienzoPeriodo) / NumeroUsuariosComienzoPeriodo * 100\n",
    "\n",
    "Tasa_cambio_Usuarios_taxis = ((3691250 - 991343) / 991343 * 100)\n",
    "# Formateo con dos decimales\n",
    "tasa_cambio_formateada = round(Tasa_cambio_Usuarios_taxis, 2)\n",
    "\n",
    "print(f\"Tasa de cambio de usuarios de taxis: {tasa_cambio_formateada}%\")"
   ]
  },
  {
   "cell_type": "markdown",
   "metadata": {},
   "source": [
    "*Los viajes de dejar pasajeros, FHV son los viajes de alquiler, fuera de los taxis amarillos y verdes, \n",
    "la tasa de cambio descendió un poco (1,32%), respecto de la recogida, se puede decir que no hay grandes \n",
    "variaciones en los viajes o la dejada de pasajeros, ya que la mayoría no era viaje compartido."
   ]
  }
 ],
 "metadata": {
  "kernelspec": {
   "display_name": "base",
   "language": "python",
   "name": "python3"
  },
  "language_info": {
   "codemirror_mode": {
    "name": "ipython",
    "version": 3
   },
   "file_extension": ".py",
   "mimetype": "text/x-python",
   "name": "python",
   "nbconvert_exporter": "python",
   "pygments_lexer": "ipython3",
   "version": "3.11.9"
  }
 },
 "nbformat": 4,
 "nbformat_minor": 2
}
