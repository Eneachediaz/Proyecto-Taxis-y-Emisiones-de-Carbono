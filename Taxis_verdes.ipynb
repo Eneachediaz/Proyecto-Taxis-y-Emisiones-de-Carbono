{
 "cells": [
  {
   "cell_type": "markdown",
   "metadata": {},
   "source": [
    "Archivo Taxis \"verdes\", 2020 y 2021:"
   ]
  },
  {
   "cell_type": "markdown",
   "metadata": {},
   "source": [
    "En Nueva York, la principal diferencia entre los taxis amarillos y los verdes es la zona en la que pueden operar. \n",
    "Los taxis amarillos pueden recoger pasajeros en cualquier lugar de la ciudad, mientras que los taxis verdes, \n",
    "también conocidos como Boro Cabs, están limitados a recoger pasajeros principalmente fuera de Manhattan \n",
    "y no pueden hacerlo por debajo de la calle East 96th o West 110th ni en los aeropuertos."
   ]
  },
  {
   "cell_type": "code",
   "execution_count": 2,
   "metadata": {},
   "outputs": [],
   "source": [
    "# Librerías\n",
    "import pandas as pd\n",
    "import numpy as np\n",
    "\n",
    "import pyarrow.parquet as pq \n",
    "import os\n",
    "from pandas import DataFrame\n",
    "\n",
    "import matplotlib.pyplot as plt\n",
    "import seaborn as sns\n"
   ]
  },
  {
   "cell_type": "code",
   "execution_count": 3,
   "metadata": {},
   "outputs": [],
   "source": [
    "# Assumiendo que el archivo está en la carpeta\n",
    "# Cambiar al directorio con el archivo\n",
    "file_path_01 = \"C:/Users/56988/Desktop/NYdrive/GreenTaxis/green_tripdata_2020-01.parquet\"\n",
    "os.chdir(\"C:/Users/56988/Desktop/NYdrive/\")"
   ]
  },
  {
   "cell_type": "code",
   "execution_count": 4,
   "metadata": {},
   "outputs": [],
   "source": [
    "# Assumiendo que el archivo está en la carpeta\n",
    "# Cambiar al directorio con el archivo\n",
    "file_path_02 = \"C:/Users/56988/Desktop/NYdrive/GreenTaxis/green_tripdata_2020-02.parquet\"\n",
    "os.chdir(\"C:/Users/56988/Desktop/NYdrive/\")"
   ]
  },
  {
   "cell_type": "code",
   "execution_count": 5,
   "metadata": {},
   "outputs": [],
   "source": [
    "# Assumiendo que el archivo está en la carpeta\n",
    "# Cambiar al directorio con el archivo\n",
    "file_path_03 = \"C:/Users/56988/Desktop/NYdrive/GreenTaxis/green_tripdata_2020-03.parquet\"\n",
    "os.chdir(\"C:/Users/56988/Desktop/NYdrive/\")"
   ]
  },
  {
   "cell_type": "code",
   "execution_count": 6,
   "metadata": {},
   "outputs": [],
   "source": [
    "# Assumiendo que el archivo está en la carpeta\n",
    "# Cambiar al directorio con el archivo\n",
    "file_path_04 = \"C:/Users/56988/Desktop/NYdrive/GreenTaxis/green_tripdata_2020-04.parquet\"\n",
    "os.chdir(\"C:/Users/56988/Desktop/NYdrive/\")"
   ]
  },
  {
   "cell_type": "code",
   "execution_count": 7,
   "metadata": {},
   "outputs": [],
   "source": [
    "# Assumiendo que el archivo está en la carpeta\n",
    "# Cambiar al directorio con el archivo\n",
    "file_path_05 = \"C:/Users/56988/Desktop/NYdrive/GreenTaxis/green_tripdata_2020-05.parquet\"\n",
    "os.chdir(\"C:/Users/56988/Desktop/NYdrive/\")"
   ]
  },
  {
   "cell_type": "code",
   "execution_count": 8,
   "metadata": {},
   "outputs": [],
   "source": [
    "# Assumiendo que el archivo está en la carpeta\n",
    "# Cambiar al directorio con el archivo\n",
    "file_path_06 = \"C:/Users/56988/Desktop/NYdrive/GreenTaxis/green_tripdata_2020-06.parquet\"\n",
    "os.chdir(\"C:/Users/56988/Desktop/NYdrive/\")"
   ]
  },
  {
   "cell_type": "code",
   "execution_count": 9,
   "metadata": {},
   "outputs": [],
   "source": [
    "# Assumiendo que el archivo está en la carpeta\n",
    "# Cambiar al directorio con el archivo\n",
    "file_path_07 = \"C:/Users/56988/Desktop/NYdrive/GreenTaxis/green_tripdata_2020-07.parquet\"\n",
    "os.chdir(\"C:/Users/56988/Desktop/NYdrive/\")"
   ]
  },
  {
   "cell_type": "code",
   "execution_count": 10,
   "metadata": {},
   "outputs": [],
   "source": [
    "# Assumiendo que el archivo está en la carpeta\n",
    "# Cambiar al directorio con el archivo\n",
    "file_path_08 = \"C:/Users/56988/Desktop/NYdrive/GreenTaxis/green_tripdata_2020-08.parquet\"\n",
    "os.chdir(\"C:/Users/56988/Desktop/NYdrive/\")"
   ]
  },
  {
   "cell_type": "code",
   "execution_count": 11,
   "metadata": {},
   "outputs": [],
   "source": [
    "# Assumiendo que el archivo está en la carpeta\n",
    "# Cambiar al directorio con el archivo\n",
    "file_path_09 = \"C:/Users/56988/Desktop/NYdrive/GreenTaxis/green_tripdata_2020-09.parquet\"\n",
    "os.chdir(\"C:/Users/56988/Desktop/NYdrive/\")"
   ]
  },
  {
   "cell_type": "code",
   "execution_count": 12,
   "metadata": {},
   "outputs": [],
   "source": [
    "# Assumiendo que el archivo está en la carpeta\n",
    "# Cambiar al directorio con el archivo\n",
    "file_path_10 = \"C:/Users/56988/Desktop/NYdrive/GreenTaxis/green_tripdata_2020-10.parquet\"\n",
    "os.chdir(\"C:/Users/56988/Desktop/NYdrive/\")"
   ]
  },
  {
   "cell_type": "code",
   "execution_count": 13,
   "metadata": {},
   "outputs": [],
   "source": [
    "# Assumiendo que el archivo está en la carpeta\n",
    "# Cambiar al directorio con el archivo\n",
    "file_path_11 = \"C:/Users/56988/Desktop/NYdrive/GreenTaxis/green_tripdata_2020-11.parquet\"\n",
    "os.chdir(\"C:/Users/56988/Desktop/NYdrive/\")"
   ]
  },
  {
   "cell_type": "code",
   "execution_count": 14,
   "metadata": {},
   "outputs": [],
   "source": [
    "# Assumiendo que el archivo está en la carpeta\n",
    "# Cambiar al directorio con el archivo\n",
    "file_path_12 = \"C:/Users/56988/Desktop/NYdrive/GreenTaxis/green_tripdata_2020-12.parquet\"\n",
    "os.chdir(\"C:/Users/56988/Desktop/NYdrive/\")"
   ]
  },
  {
   "cell_type": "code",
   "execution_count": 15,
   "metadata": {},
   "outputs": [],
   "source": [
    "# Dataframe Taxis verdes Año 2020\n",
    "df_verde_ene2020 = pd.read_parquet(file_path_01)\n",
    "df_verde_feb2020 = pd.read_parquet(file_path_02)\n",
    "df_verde_mar2020 = pd.read_parquet(file_path_03)\n",
    "df_verde_abr2020 = pd.read_parquet(file_path_04)\n",
    "df_verde_may2020 = pd.read_parquet(file_path_05)\n",
    "df_verde_jun2020 = pd.read_parquet(file_path_06)\n",
    "df_verde_jul2020 = pd.read_parquet(file_path_07)\n",
    "df_verde_ago2020 = pd.read_parquet(file_path_08)\n",
    "df_verde_sep2020 = pd.read_parquet(file_path_09)\n",
    "df_verde_oct2020 = pd.read_parquet(file_path_10)\n",
    "df_verde_nov2020 = pd.read_parquet(file_path_11)\n",
    "df_verde_dic2020 = pd.read_parquet(file_path_12)"
   ]
  },
  {
   "cell_type": "code",
   "execution_count": 16,
   "metadata": {},
   "outputs": [],
   "source": [
    "# Assumiendo que el archivo está en la carpeta\n",
    "# Cambiar al directorio con el archivo\n",
    "file_path_01 = \"C:/Users/56988/Desktop/NYdrive/GreenTaxis/green_tripdata_2021-01.parquet\"\n",
    "os.chdir(\"C:/Users/56988/Desktop/NYdrive/\")"
   ]
  },
  {
   "cell_type": "code",
   "execution_count": 17,
   "metadata": {},
   "outputs": [],
   "source": [
    "# Assumiendo que el archivo está en la carpeta\n",
    "# Cambiar al directorio con el archivo\n",
    "file_path_02 = \"C:/Users/56988/Desktop/NYdrive/GreenTaxis/green_tripdata_2021-02.parquet\"\n",
    "os.chdir(\"C:/Users/56988/Desktop/NYdrive/\")"
   ]
  },
  {
   "cell_type": "code",
   "execution_count": 18,
   "metadata": {},
   "outputs": [],
   "source": [
    "# Assumiendo que el archivo está en la carpeta\n",
    "# Cambiar al directorio con el archivo\n",
    "file_path_03 = \"C:/Users/56988/Desktop/NYdrive/GreenTaxis/green_tripdata_2021-03.parquet\"\n",
    "os.chdir(\"C:/Users/56988/Desktop/NYdrive/\")"
   ]
  },
  {
   "cell_type": "code",
   "execution_count": 19,
   "metadata": {},
   "outputs": [],
   "source": [
    "# Assumiendo que el archivo está en la carpeta\n",
    "# Cambiar al directorio con el archivo\n",
    "file_path_04 = \"C:/Users/56988/Desktop/NYdrive/GreenTaxis/green_tripdata_2021-04.parquet\"\n",
    "os.chdir(\"C:/Users/56988/Desktop/NYdrive/\")"
   ]
  },
  {
   "cell_type": "code",
   "execution_count": 20,
   "metadata": {},
   "outputs": [],
   "source": [
    "# Assumiendo que el archivo está en la carpeta\n",
    "# Cambiar al directorio con el archivo\n",
    "file_path_05 = \"C:/Users/56988/Desktop/NYdrive/GreenTaxis/green_tripdata_2021-05.parquet\"\n",
    "os.chdir(\"C:/Users/56988/Desktop/NYdrive/\")"
   ]
  },
  {
   "cell_type": "code",
   "execution_count": 21,
   "metadata": {},
   "outputs": [],
   "source": [
    "# Assumiendo que el archivo está en la carpeta\n",
    "# Cambiar al directorio con el archivo\n",
    "file_path_06 = \"C:/Users/56988/Desktop/NYdrive/GreenTaxis/green_tripdata_2021-06.parquet\"\n",
    "os.chdir(\"C:/Users/56988/Desktop/NYdrive/\")"
   ]
  },
  {
   "cell_type": "code",
   "execution_count": 22,
   "metadata": {},
   "outputs": [],
   "source": [
    "# Assumiendo que el archivo está en la carpeta\n",
    "# Cambiar al directorio con el archivo\n",
    "file_path_07 = \"C:/Users/56988/Desktop/NYdrive/GreenTaxis/green_tripdata_2021-07.parquet\"\n",
    "os.chdir(\"C:/Users/56988/Desktop/NYdrive/\")"
   ]
  },
  {
   "cell_type": "code",
   "execution_count": 23,
   "metadata": {},
   "outputs": [],
   "source": [
    "# Assumiendo que el archivo está en la carpeta\n",
    "# Cambiar al directorio con el archivo\n",
    "file_path_08 = \"C:/Users/56988/Desktop/NYdrive/GreenTaxis/green_tripdata_2021-08.parquet\"\n",
    "os.chdir(\"C:/Users/56988/Desktop/NYdrive/\")"
   ]
  },
  {
   "cell_type": "code",
   "execution_count": 24,
   "metadata": {},
   "outputs": [],
   "source": [
    "# Assumiendo que el archivo está en la carpeta\n",
    "# Cambiar al directorio con el archivo\n",
    "file_path_09 = \"C:/Users/56988/Desktop/NYdrive/GreenTaxis/green_tripdata_2021-09.parquet\"\n",
    "os.chdir(\"C:/Users/56988/Desktop/NYdrive/\")"
   ]
  },
  {
   "cell_type": "code",
   "execution_count": 25,
   "metadata": {},
   "outputs": [],
   "source": [
    "# Assumiendo que el archivo está en la carpeta\n",
    "# Cambiar al directorio con el archivo\n",
    "file_path_10 = \"C:/Users/56988/Desktop/NYdrive/GreenTaxis/green_tripdata_2021-10.parquet\"\n",
    "os.chdir(\"C:/Users/56988/Desktop/NYdrive/\")"
   ]
  },
  {
   "cell_type": "code",
   "execution_count": 26,
   "metadata": {},
   "outputs": [],
   "source": [
    "# Assumiendo que el archivo está en la carpeta\n",
    "# Cambiar al directorio con el archivo\n",
    "file_path_11 = \"C:/Users/56988/Desktop/NYdrive/GreenTaxis/green_tripdata_2021-11.parquet\"\n",
    "os.chdir(\"C:/Users/56988/Desktop/NYdrive/\")"
   ]
  },
  {
   "cell_type": "code",
   "execution_count": 27,
   "metadata": {},
   "outputs": [],
   "source": [
    "# Assumiendo que el archivo está en la carpeta\n",
    "# Cambiar al directorio con el archivo\n",
    "file_path_12 = \"C:/Users/56988/Desktop/NYdrive/GreenTaxis/green_tripdata_2021-12.parquet\"\n",
    "os.chdir(\"C:/Users/56988/Desktop/NYdrive/\")"
   ]
  },
  {
   "cell_type": "code",
   "execution_count": 28,
   "metadata": {},
   "outputs": [],
   "source": [
    "# Dataframe Taxis verdes Año 2021\n",
    "df_verde_ene2021 = pd.read_parquet(file_path_01)\n",
    "df_verde_feb2021 = pd.read_parquet(file_path_02)\n",
    "df_verde_mar2021 = pd.read_parquet(file_path_03)\n",
    "df_verde_abr2021 = pd.read_parquet(file_path_04)\n",
    "df_verde_may2021 = pd.read_parquet(file_path_05)\n",
    "df_verde_jun2021 = pd.read_parquet(file_path_06)\n",
    "df_verde_jul2021 = pd.read_parquet(file_path_07)\n",
    "df_verde_ago2021 = pd.read_parquet(file_path_08)\n",
    "df_verde_sep2021 = pd.read_parquet(file_path_09)\n",
    "df_verde_oct2021 = pd.read_parquet(file_path_10)\n",
    "df_verde_nov2021 = pd.read_parquet(file_path_11)\n",
    "df_verde_dic2021 = pd.read_parquet(file_path_12)"
   ]
  },
  {
   "cell_type": "markdown",
   "metadata": {},
   "source": [
    "**Los nombres de las columnas significan:**\n",
    "- **VendorID**: Identificador de la compañía que opera el vehículo.\n",
    "- **lpep_pickup_datetime**: La fecha y hora cuando comienza el viaje.\n",
    "- **lpep_dropoff_datetime**: La fecha y hora cuando termina el viaje.\n",
    "- **store_and_fwd_flag**: Indica si los datos del viaje se almacenaron en la memoria del vehículo \n",
    "antes de enviarlos al proveedor porque el vehículo no tenía conexión al servidor. \n",
    "- **RatecodeID**: El código de tarifa vigente para el viaje.\n",
    "- **PULocationID**: El ID del lugar de recogida.\n",
    "- **DOLocationID**: El ID del lugar de llegada.\n",
    "- **passenger_count**: El número de pasajeros en el vehículo.\n",
    "- **trip_distance**: La distancia del viaje.\n",
    "- **fare_amount**: El importe de la tarifa para el viaje.\n",
    "- **extra**: Cargos adicionales por el viaje.\n",
    "- **mta_tax**: Monto del impuesto de la Autoridad de Transporte Metropolitano.\n",
    "- **tip_amount**: La cantidad de propina dada.\n",
    "- **tolls_amount**: Importe total de todos los peajes pagados durante el viaje.\n",
    "- **ehail_fee**: Tarifa si el viaje se reserva electrónicamente (e-hail).\n",
    "- **improvement_surcharge**: Un recargo por mejoras en el servicio.\n",
    "- **total_amount**: El importe total cobrado al pasajero.\n",
    "- **payment_type**: Cómo pagó el pasajero el viaje.\n",
    "- **trip_type**: Indica si el viaje fue un llamado callejero o un despacho.\n",
    "- **congestion_surcharge**: Una tarifa que se cobra por los viajes que pasan por zonas congestionadas."
   ]
  },
  {
   "cell_type": "code",
   "execution_count": 29,
   "metadata": {},
   "outputs": [
    {
     "data": {
      "text/html": [
       "<div>\n",
       "<style scoped>\n",
       "    .dataframe tbody tr th:only-of-type {\n",
       "        vertical-align: middle;\n",
       "    }\n",
       "\n",
       "    .dataframe tbody tr th {\n",
       "        vertical-align: top;\n",
       "    }\n",
       "\n",
       "    .dataframe thead th {\n",
       "        text-align: right;\n",
       "    }\n",
       "</style>\n",
       "<table border=\"1\" class=\"dataframe\">\n",
       "  <thead>\n",
       "    <tr style=\"text-align: right;\">\n",
       "      <th></th>\n",
       "      <th>VendorID</th>\n",
       "      <th>lpep_pickup_datetime</th>\n",
       "      <th>lpep_dropoff_datetime</th>\n",
       "      <th>store_and_fwd_flag</th>\n",
       "      <th>RatecodeID</th>\n",
       "      <th>PULocationID</th>\n",
       "      <th>DOLocationID</th>\n",
       "      <th>passenger_count</th>\n",
       "      <th>trip_distance</th>\n",
       "      <th>fare_amount</th>\n",
       "      <th>extra</th>\n",
       "      <th>mta_tax</th>\n",
       "      <th>tip_amount</th>\n",
       "      <th>tolls_amount</th>\n",
       "      <th>ehail_fee</th>\n",
       "      <th>improvement_surcharge</th>\n",
       "      <th>total_amount</th>\n",
       "      <th>payment_type</th>\n",
       "      <th>trip_type</th>\n",
       "      <th>congestion_surcharge</th>\n",
       "    </tr>\n",
       "  </thead>\n",
       "  <tbody>\n",
       "    <tr>\n",
       "      <th>0</th>\n",
       "      <td>2</td>\n",
       "      <td>2019-12-18 15:52:30</td>\n",
       "      <td>2019-12-18 15:54:39</td>\n",
       "      <td>N</td>\n",
       "      <td>1.0</td>\n",
       "      <td>264</td>\n",
       "      <td>264</td>\n",
       "      <td>5.0</td>\n",
       "      <td>0.00</td>\n",
       "      <td>3.5</td>\n",
       "      <td>0.5</td>\n",
       "      <td>0.5</td>\n",
       "      <td>0.01</td>\n",
       "      <td>0.0</td>\n",
       "      <td>None</td>\n",
       "      <td>0.3</td>\n",
       "      <td>4.81</td>\n",
       "      <td>1.0</td>\n",
       "      <td>1.0</td>\n",
       "      <td>0.0</td>\n",
       "    </tr>\n",
       "    <tr>\n",
       "      <th>1</th>\n",
       "      <td>2</td>\n",
       "      <td>2020-01-01 00:45:58</td>\n",
       "      <td>2020-01-01 00:56:39</td>\n",
       "      <td>N</td>\n",
       "      <td>5.0</td>\n",
       "      <td>66</td>\n",
       "      <td>65</td>\n",
       "      <td>2.0</td>\n",
       "      <td>1.28</td>\n",
       "      <td>20.0</td>\n",
       "      <td>0.0</td>\n",
       "      <td>0.0</td>\n",
       "      <td>4.06</td>\n",
       "      <td>0.0</td>\n",
       "      <td>None</td>\n",
       "      <td>0.3</td>\n",
       "      <td>24.36</td>\n",
       "      <td>1.0</td>\n",
       "      <td>2.0</td>\n",
       "      <td>0.0</td>\n",
       "    </tr>\n",
       "  </tbody>\n",
       "</table>\n",
       "</div>"
      ],
      "text/plain": [
       "   VendorID lpep_pickup_datetime lpep_dropoff_datetime store_and_fwd_flag  \\\n",
       "0         2  2019-12-18 15:52:30   2019-12-18 15:54:39                  N   \n",
       "1         2  2020-01-01 00:45:58   2020-01-01 00:56:39                  N   \n",
       "\n",
       "   RatecodeID  PULocationID  DOLocationID  passenger_count  trip_distance  \\\n",
       "0         1.0           264           264              5.0           0.00   \n",
       "1         5.0            66            65              2.0           1.28   \n",
       "\n",
       "   fare_amount  extra  mta_tax  tip_amount  tolls_amount ehail_fee  \\\n",
       "0          3.5    0.5      0.5        0.01           0.0      None   \n",
       "1         20.0    0.0      0.0        4.06           0.0      None   \n",
       "\n",
       "   improvement_surcharge  total_amount  payment_type  trip_type  \\\n",
       "0                    0.3          4.81           1.0        1.0   \n",
       "1                    0.3         24.36           1.0        2.0   \n",
       "\n",
       "   congestion_surcharge  \n",
       "0                   0.0  \n",
       "1                   0.0  "
      ]
     },
     "execution_count": 29,
     "metadata": {},
     "output_type": "execute_result"
    }
   ],
   "source": [
    "df_verde_ene2020.head(2)"
   ]
  },
  {
   "cell_type": "code",
   "execution_count": 30,
   "metadata": {},
   "outputs": [
    {
     "data": {
      "text/plain": [
       "array(['N', 'Y', None], dtype=object)"
      ]
     },
     "execution_count": 30,
     "metadata": {},
     "output_type": "execute_result"
    }
   ],
   "source": [
    "df_verde_ene2020[\"store_and_fwd_flag\"].unique()"
   ]
  },
  {
   "cell_type": "code",
   "execution_count": 31,
   "metadata": {},
   "outputs": [
    {
     "name": "stdout",
     "output_type": "stream",
     "text": [
      "<class 'pandas.core.frame.DataFrame'>\n",
      "RangeIndex: 447770 entries, 0 to 447769\n",
      "Data columns (total 20 columns):\n",
      " #   Column                 Non-Null Count   Dtype         \n",
      "---  ------                 --------------   -----         \n",
      " 0   VendorID               447770 non-null  int64         \n",
      " 1   lpep_pickup_datetime   447770 non-null  datetime64[us]\n",
      " 2   lpep_dropoff_datetime  447770 non-null  datetime64[us]\n",
      " 3   store_and_fwd_flag     331719 non-null  object        \n",
      " 4   RatecodeID             331719 non-null  float64       \n",
      " 5   PULocationID           447770 non-null  int64         \n",
      " 6   DOLocationID           447770 non-null  int64         \n",
      " 7   passenger_count        331719 non-null  float64       \n",
      " 8   trip_distance          447770 non-null  float64       \n",
      " 9   fare_amount            447770 non-null  float64       \n",
      " 10  extra                  447770 non-null  float64       \n",
      " 11  mta_tax                447770 non-null  float64       \n",
      " 12  tip_amount             447770 non-null  float64       \n",
      " 13  tolls_amount           447770 non-null  float64       \n",
      " 14  ehail_fee              0 non-null       object        \n",
      " 15  improvement_surcharge  447770 non-null  float64       \n",
      " 16  total_amount           447770 non-null  float64       \n",
      " 17  payment_type           331719 non-null  float64       \n",
      " 18  trip_type              331718 non-null  float64       \n",
      " 19  congestion_surcharge   331719 non-null  float64       \n",
      "dtypes: datetime64[us](2), float64(13), int64(3), object(2)\n",
      "memory usage: 68.3+ MB\n"
     ]
    }
   ],
   "source": [
    "df_verde_ene2020.info()"
   ]
  },
  {
   "cell_type": "code",
   "execution_count": 32,
   "metadata": {},
   "outputs": [
    {
     "data": {
      "text/html": [
       "<div>\n",
       "<style scoped>\n",
       "    .dataframe tbody tr th:only-of-type {\n",
       "        vertical-align: middle;\n",
       "    }\n",
       "\n",
       "    .dataframe tbody tr th {\n",
       "        vertical-align: top;\n",
       "    }\n",
       "\n",
       "    .dataframe thead th {\n",
       "        text-align: right;\n",
       "    }\n",
       "</style>\n",
       "<table border=\"1\" class=\"dataframe\">\n",
       "  <thead>\n",
       "    <tr style=\"text-align: right;\">\n",
       "      <th></th>\n",
       "      <th>VendorID</th>\n",
       "      <th>lpep_pickup_datetime</th>\n",
       "      <th>lpep_dropoff_datetime</th>\n",
       "      <th>RatecodeID</th>\n",
       "      <th>PULocationID</th>\n",
       "      <th>DOLocationID</th>\n",
       "      <th>passenger_count</th>\n",
       "      <th>trip_distance</th>\n",
       "      <th>fare_amount</th>\n",
       "      <th>extra</th>\n",
       "      <th>mta_tax</th>\n",
       "      <th>tip_amount</th>\n",
       "      <th>tolls_amount</th>\n",
       "      <th>improvement_surcharge</th>\n",
       "      <th>total_amount</th>\n",
       "      <th>payment_type</th>\n",
       "      <th>trip_type</th>\n",
       "      <th>congestion_surcharge</th>\n",
       "    </tr>\n",
       "  </thead>\n",
       "  <tbody>\n",
       "    <tr>\n",
       "      <th>count</th>\n",
       "      <td>447770.000000</td>\n",
       "      <td>447770</td>\n",
       "      <td>447770</td>\n",
       "      <td>331719.000000</td>\n",
       "      <td>447770.000000</td>\n",
       "      <td>447770.000000</td>\n",
       "      <td>331719.000000</td>\n",
       "      <td>447770.000000</td>\n",
       "      <td>447770.000000</td>\n",
       "      <td>447770.000000</td>\n",
       "      <td>447770.000000</td>\n",
       "      <td>447770.000000</td>\n",
       "      <td>447770.000000</td>\n",
       "      <td>447770.000000</td>\n",
       "      <td>447770.000000</td>\n",
       "      <td>331719.000000</td>\n",
       "      <td>331718.000000</td>\n",
       "      <td>331719.000000</td>\n",
       "    </tr>\n",
       "    <tr>\n",
       "      <th>mean</th>\n",
       "      <td>1.874295</td>\n",
       "      <td>2020-01-16 04:12:19.210329</td>\n",
       "      <td>2020-01-16 04:32:27.806519</td>\n",
       "      <td>1.101661</td>\n",
       "      <td>108.121236</td>\n",
       "      <td>128.864473</td>\n",
       "      <td>1.304110</td>\n",
       "      <td>3.599392</td>\n",
       "      <td>15.839504</td>\n",
       "      <td>0.838858</td>\n",
       "      <td>0.388785</td>\n",
       "      <td>0.899788</td>\n",
       "      <td>0.327172</td>\n",
       "      <td>0.287046</td>\n",
       "      <td>18.898600</td>\n",
       "      <td>1.452841</td>\n",
       "      <td>1.023032</td>\n",
       "      <td>0.472377</td>\n",
       "    </tr>\n",
       "    <tr>\n",
       "      <th>min</th>\n",
       "      <td>1.000000</td>\n",
       "      <td>2008-12-31 23:11:00</td>\n",
       "      <td>2008-12-31 23:12:08</td>\n",
       "      <td>1.000000</td>\n",
       "      <td>1.000000</td>\n",
       "      <td>1.000000</td>\n",
       "      <td>0.000000</td>\n",
       "      <td>-33.690000</td>\n",
       "      <td>-210.000000</td>\n",
       "      <td>-4.500000</td>\n",
       "      <td>-0.500000</td>\n",
       "      <td>-2.800000</td>\n",
       "      <td>-6.120000</td>\n",
       "      <td>-0.300000</td>\n",
       "      <td>-210.300000</td>\n",
       "      <td>1.000000</td>\n",
       "      <td>1.000000</td>\n",
       "      <td>-2.750000</td>\n",
       "    </tr>\n",
       "    <tr>\n",
       "      <th>25%</th>\n",
       "      <td>2.000000</td>\n",
       "      <td>2020-01-08 15:12:08</td>\n",
       "      <td>2020-01-08 15:34:00</td>\n",
       "      <td>1.000000</td>\n",
       "      <td>52.000000</td>\n",
       "      <td>63.000000</td>\n",
       "      <td>1.000000</td>\n",
       "      <td>1.080000</td>\n",
       "      <td>7.000000</td>\n",
       "      <td>0.000000</td>\n",
       "      <td>0.500000</td>\n",
       "      <td>0.000000</td>\n",
       "      <td>0.000000</td>\n",
       "      <td>0.300000</td>\n",
       "      <td>9.120000</td>\n",
       "      <td>1.000000</td>\n",
       "      <td>1.000000</td>\n",
       "      <td>0.000000</td>\n",
       "    </tr>\n",
       "    <tr>\n",
       "      <th>50%</th>\n",
       "      <td>2.000000</td>\n",
       "      <td>2020-01-15 17:59:00</td>\n",
       "      <td>2020-01-15 18:17:59</td>\n",
       "      <td>1.000000</td>\n",
       "      <td>82.000000</td>\n",
       "      <td>129.000000</td>\n",
       "      <td>1.000000</td>\n",
       "      <td>2.070000</td>\n",
       "      <td>11.500000</td>\n",
       "      <td>0.500000</td>\n",
       "      <td>0.500000</td>\n",
       "      <td>0.000000</td>\n",
       "      <td>0.000000</td>\n",
       "      <td>0.300000</td>\n",
       "      <td>14.400000</td>\n",
       "      <td>1.000000</td>\n",
       "      <td>1.000000</td>\n",
       "      <td>0.000000</td>\n",
       "    </tr>\n",
       "    <tr>\n",
       "      <th>75%</th>\n",
       "      <td>2.000000</td>\n",
       "      <td>2020-01-24 07:18:33</td>\n",
       "      <td>2020-01-24 07:42:54</td>\n",
       "      <td>1.000000</td>\n",
       "      <td>166.000000</td>\n",
       "      <td>194.000000</td>\n",
       "      <td>1.000000</td>\n",
       "      <td>4.410000</td>\n",
       "      <td>21.000000</td>\n",
       "      <td>1.000000</td>\n",
       "      <td>0.500000</td>\n",
       "      <td>1.460000</td>\n",
       "      <td>0.000000</td>\n",
       "      <td>0.300000</td>\n",
       "      <td>24.550000</td>\n",
       "      <td>2.000000</td>\n",
       "      <td>1.000000</td>\n",
       "      <td>0.000000</td>\n",
       "    </tr>\n",
       "    <tr>\n",
       "      <th>max</th>\n",
       "      <td>2.000000</td>\n",
       "      <td>2020-02-01 23:56:49</td>\n",
       "      <td>2020-02-02 00:09:54</td>\n",
       "      <td>99.000000</td>\n",
       "      <td>265.000000</td>\n",
       "      <td>265.000000</td>\n",
       "      <td>9.000000</td>\n",
       "      <td>130.680000</td>\n",
       "      <td>753.000000</td>\n",
       "      <td>8.250000</td>\n",
       "      <td>3.550000</td>\n",
       "      <td>450.000000</td>\n",
       "      <td>96.120000</td>\n",
       "      <td>0.300000</td>\n",
       "      <td>753.800000</td>\n",
       "      <td>5.000000</td>\n",
       "      <td>2.000000</td>\n",
       "      <td>2.750000</td>\n",
       "    </tr>\n",
       "    <tr>\n",
       "      <th>std</th>\n",
       "      <td>0.331517</td>\n",
       "      <td>NaN</td>\n",
       "      <td>NaN</td>\n",
       "      <td>0.664471</td>\n",
       "      <td>71.165956</td>\n",
       "      <td>76.446125</td>\n",
       "      <td>0.953394</td>\n",
       "      <td>4.257709</td>\n",
       "      <td>12.691982</td>\n",
       "      <td>1.149168</td>\n",
       "      <td>0.210808</td>\n",
       "      <td>2.319882</td>\n",
       "      <td>1.458425</td>\n",
       "      <td>0.064305</td>\n",
       "      <td>14.101771</td>\n",
       "      <td>0.518710</td>\n",
       "      <td>0.150004</td>\n",
       "      <td>1.037282</td>\n",
       "    </tr>\n",
       "  </tbody>\n",
       "</table>\n",
       "</div>"
      ],
      "text/plain": [
       "            VendorID        lpep_pickup_datetime       lpep_dropoff_datetime  \\\n",
       "count  447770.000000                      447770                      447770   \n",
       "mean        1.874295  2020-01-16 04:12:19.210329  2020-01-16 04:32:27.806519   \n",
       "min         1.000000         2008-12-31 23:11:00         2008-12-31 23:12:08   \n",
       "25%         2.000000         2020-01-08 15:12:08         2020-01-08 15:34:00   \n",
       "50%         2.000000         2020-01-15 17:59:00         2020-01-15 18:17:59   \n",
       "75%         2.000000         2020-01-24 07:18:33         2020-01-24 07:42:54   \n",
       "max         2.000000         2020-02-01 23:56:49         2020-02-02 00:09:54   \n",
       "std         0.331517                         NaN                         NaN   \n",
       "\n",
       "          RatecodeID   PULocationID   DOLocationID  passenger_count  \\\n",
       "count  331719.000000  447770.000000  447770.000000    331719.000000   \n",
       "mean        1.101661     108.121236     128.864473         1.304110   \n",
       "min         1.000000       1.000000       1.000000         0.000000   \n",
       "25%         1.000000      52.000000      63.000000         1.000000   \n",
       "50%         1.000000      82.000000     129.000000         1.000000   \n",
       "75%         1.000000     166.000000     194.000000         1.000000   \n",
       "max        99.000000     265.000000     265.000000         9.000000   \n",
       "std         0.664471      71.165956      76.446125         0.953394   \n",
       "\n",
       "       trip_distance    fare_amount          extra        mta_tax  \\\n",
       "count  447770.000000  447770.000000  447770.000000  447770.000000   \n",
       "mean        3.599392      15.839504       0.838858       0.388785   \n",
       "min       -33.690000    -210.000000      -4.500000      -0.500000   \n",
       "25%         1.080000       7.000000       0.000000       0.500000   \n",
       "50%         2.070000      11.500000       0.500000       0.500000   \n",
       "75%         4.410000      21.000000       1.000000       0.500000   \n",
       "max       130.680000     753.000000       8.250000       3.550000   \n",
       "std         4.257709      12.691982       1.149168       0.210808   \n",
       "\n",
       "          tip_amount   tolls_amount  improvement_surcharge   total_amount  \\\n",
       "count  447770.000000  447770.000000          447770.000000  447770.000000   \n",
       "mean        0.899788       0.327172               0.287046      18.898600   \n",
       "min        -2.800000      -6.120000              -0.300000    -210.300000   \n",
       "25%         0.000000       0.000000               0.300000       9.120000   \n",
       "50%         0.000000       0.000000               0.300000      14.400000   \n",
       "75%         1.460000       0.000000               0.300000      24.550000   \n",
       "max       450.000000      96.120000               0.300000     753.800000   \n",
       "std         2.319882       1.458425               0.064305      14.101771   \n",
       "\n",
       "        payment_type      trip_type  congestion_surcharge  \n",
       "count  331719.000000  331718.000000         331719.000000  \n",
       "mean        1.452841       1.023032              0.472377  \n",
       "min         1.000000       1.000000             -2.750000  \n",
       "25%         1.000000       1.000000              0.000000  \n",
       "50%         1.000000       1.000000              0.000000  \n",
       "75%         2.000000       1.000000              0.000000  \n",
       "max         5.000000       2.000000              2.750000  \n",
       "std         0.518710       0.150004              1.037282  "
      ]
     },
     "execution_count": 32,
     "metadata": {},
     "output_type": "execute_result"
    }
   ],
   "source": [
    "df_verde_ene2020.describe()"
   ]
  },
  {
   "cell_type": "code",
   "execution_count": 33,
   "metadata": {},
   "outputs": [
    {
     "data": {
      "text/plain": [
       "<Axes: >"
      ]
     },
     "execution_count": 33,
     "metadata": {},
     "output_type": "execute_result"
    },
    {
     "data": {
      "image/png": "[encoded data removed]",
      "text/plain": [
       "<Figure size 640x480 with 1 Axes>"
      ]
     },
     "metadata": {},
     "output_type": "display_data"
    }
   ],
   "source": [
    "# DF 'df_alternative_fuel' como DataFrame\n",
    "sns.boxplot(data=df_verde_ene2020[[\"passenger_count\", \"trip_distance\", \"fare_amount\", \"extra\", \n",
    "                                \"mta_tax\", \"tip_amount\", \"tolls_amount\", \"improvement_surcharge\", \n",
    "                                \"total_amount\", \"payment_type\", \"trip_type\", \"congestion_surcharge\"]])"
   ]
  },
  {
   "cell_type": "code",
   "execution_count": 34,
   "metadata": {},
   "outputs": [],
   "source": [
    "# Cantidad de valores nulos en cada columna\n",
    "null_counts_ene2020 = df_verde_ene2020.isnull().sum()"
   ]
  },
  {
   "cell_type": "code",
   "execution_count": 35,
   "metadata": {},
   "outputs": [
    {
     "data": {
      "text/plain": [
       "VendorID                      0\n",
       "lpep_pickup_datetime          0\n",
       "lpep_dropoff_datetime         0\n",
       "store_and_fwd_flag       116051\n",
       "RatecodeID               116051\n",
       "PULocationID                  0\n",
       "DOLocationID                  0\n",
       "passenger_count          116051\n",
       "trip_distance                 0\n",
       "fare_amount                   0\n",
       "extra                         0\n",
       "mta_tax                       0\n",
       "tip_amount                    0\n",
       "tolls_amount                  0\n",
       "ehail_fee                447770\n",
       "improvement_surcharge         0\n",
       "total_amount                  0\n",
       "payment_type             116051\n",
       "trip_type                116052\n",
       "congestion_surcharge     116051\n",
       "dtype: int64"
      ]
     },
     "execution_count": 35,
     "metadata": {},
     "output_type": "execute_result"
    }
   ],
   "source": [
    "null_counts_ene2020"
   ]
  },
  {
   "cell_type": "code",
   "execution_count": 36,
   "metadata": {},
   "outputs": [
    {
     "data": {
      "text/html": [
       "<div>\n",
       "<style scoped>\n",
       "    .dataframe tbody tr th:only-of-type {\n",
       "        vertical-align: middle;\n",
       "    }\n",
       "\n",
       "    .dataframe tbody tr th {\n",
       "        vertical-align: top;\n",
       "    }\n",
       "\n",
       "    .dataframe thead th {\n",
       "        text-align: right;\n",
       "    }\n",
       "</style>\n",
       "<table border=\"1\" class=\"dataframe\">\n",
       "  <thead>\n",
       "    <tr style=\"text-align: right;\">\n",
       "      <th></th>\n",
       "      <th>VendorID</th>\n",
       "      <th>lpep_pickup_datetime</th>\n",
       "      <th>lpep_dropoff_datetime</th>\n",
       "      <th>store_and_fwd_flag</th>\n",
       "      <th>RatecodeID</th>\n",
       "      <th>PULocationID</th>\n",
       "      <th>DOLocationID</th>\n",
       "      <th>passenger_count</th>\n",
       "      <th>trip_distance</th>\n",
       "      <th>fare_amount</th>\n",
       "      <th>extra</th>\n",
       "      <th>mta_tax</th>\n",
       "      <th>tip_amount</th>\n",
       "      <th>tolls_amount</th>\n",
       "      <th>ehail_fee</th>\n",
       "      <th>improvement_surcharge</th>\n",
       "      <th>total_amount</th>\n",
       "      <th>payment_type</th>\n",
       "      <th>trip_type</th>\n",
       "      <th>congestion_surcharge</th>\n",
       "    </tr>\n",
       "  </thead>\n",
       "  <tbody>\n",
       "    <tr>\n",
       "      <th>0</th>\n",
       "      <td>2</td>\n",
       "      <td>2021-12-01 00:35:15</td>\n",
       "      <td>2021-12-01 00:42:24</td>\n",
       "      <td>N</td>\n",
       "      <td>1.0</td>\n",
       "      <td>82</td>\n",
       "      <td>82</td>\n",
       "      <td>1.0</td>\n",
       "      <td>0.65</td>\n",
       "      <td>6.0</td>\n",
       "      <td>0.5</td>\n",
       "      <td>0.5</td>\n",
       "      <td>0.0</td>\n",
       "      <td>0.0</td>\n",
       "      <td>None</td>\n",
       "      <td>0.3</td>\n",
       "      <td>7.3</td>\n",
       "      <td>2.0</td>\n",
       "      <td>1.0</td>\n",
       "      <td>0.0</td>\n",
       "    </tr>\n",
       "    <tr>\n",
       "      <th>1</th>\n",
       "      <td>2</td>\n",
       "      <td>2021-12-01 00:15:54</td>\n",
       "      <td>2021-12-01 00:20:31</td>\n",
       "      <td>N</td>\n",
       "      <td>1.0</td>\n",
       "      <td>236</td>\n",
       "      <td>151</td>\n",
       "      <td>1.0</td>\n",
       "      <td>1.62</td>\n",
       "      <td>6.5</td>\n",
       "      <td>0.5</td>\n",
       "      <td>0.5</td>\n",
       "      <td>1.5</td>\n",
       "      <td>0.0</td>\n",
       "      <td>None</td>\n",
       "      <td>0.3</td>\n",
       "      <td>9.3</td>\n",
       "      <td>1.0</td>\n",
       "      <td>1.0</td>\n",
       "      <td>0.0</td>\n",
       "    </tr>\n",
       "  </tbody>\n",
       "</table>\n",
       "</div>"
      ],
      "text/plain": [
       "   VendorID lpep_pickup_datetime lpep_dropoff_datetime store_and_fwd_flag  \\\n",
       "0         2  2021-12-01 00:35:15   2021-12-01 00:42:24                  N   \n",
       "1         2  2021-12-01 00:15:54   2021-12-01 00:20:31                  N   \n",
       "\n",
       "   RatecodeID  PULocationID  DOLocationID  passenger_count  trip_distance  \\\n",
       "0         1.0            82            82              1.0           0.65   \n",
       "1         1.0           236           151              1.0           1.62   \n",
       "\n",
       "   fare_amount  extra  mta_tax  tip_amount  tolls_amount ehail_fee  \\\n",
       "0          6.0    0.5      0.5         0.0           0.0      None   \n",
       "1          6.5    0.5      0.5         1.5           0.0      None   \n",
       "\n",
       "   improvement_surcharge  total_amount  payment_type  trip_type  \\\n",
       "0                    0.3           7.3           2.0        1.0   \n",
       "1                    0.3           9.3           1.0        1.0   \n",
       "\n",
       "   congestion_surcharge  \n",
       "0                   0.0  \n",
       "1                   0.0  "
      ]
     },
     "execution_count": 36,
     "metadata": {},
     "output_type": "execute_result"
    }
   ],
   "source": [
    "df_verde_dic2021.head(2)"
   ]
  },
  {
   "cell_type": "code",
   "execution_count": 37,
   "metadata": {},
   "outputs": [],
   "source": [
    "# Cantidad de valores nulos en cada columna\n",
    "null_counts_dic2021 = df_verde_dic2021.isnull().sum()"
   ]
  },
  {
   "cell_type": "code",
   "execution_count": 38,
   "metadata": {},
   "outputs": [
    {
     "data": {
      "text/plain": [
       "VendorID                     0\n",
       "lpep_pickup_datetime         0\n",
       "lpep_dropoff_datetime        0\n",
       "store_and_fwd_flag       25235\n",
       "RatecodeID               25235\n",
       "PULocationID                 0\n",
       "DOLocationID                 0\n",
       "passenger_count          25235\n",
       "trip_distance                0\n",
       "fare_amount                  0\n",
       "extra                        0\n",
       "mta_tax                      0\n",
       "tip_amount                   0\n",
       "tolls_amount                 0\n",
       "ehail_fee                99961\n",
       "improvement_surcharge        0\n",
       "total_amount                 0\n",
       "payment_type             25235\n",
       "trip_type                25235\n",
       "congestion_surcharge     25235\n",
       "dtype: int64"
      ]
     },
     "execution_count": 38,
     "metadata": {},
     "output_type": "execute_result"
    }
   ],
   "source": [
    "null_counts_dic2021"
   ]
  },
  {
   "cell_type": "code",
   "execution_count": 39,
   "metadata": {},
   "outputs": [
    {
     "name": "stdout",
     "output_type": "stream",
     "text": [
      "<class 'pandas.core.frame.DataFrame'>\n",
      "RangeIndex: 99961 entries, 0 to 99960\n",
      "Data columns (total 20 columns):\n",
      " #   Column                 Non-Null Count  Dtype         \n",
      "---  ------                 --------------  -----         \n",
      " 0   VendorID               99961 non-null  int64         \n",
      " 1   lpep_pickup_datetime   99961 non-null  datetime64[us]\n",
      " 2   lpep_dropoff_datetime  99961 non-null  datetime64[us]\n",
      " 3   store_and_fwd_flag     74726 non-null  object        \n",
      " 4   RatecodeID             74726 non-null  float64       \n",
      " 5   PULocationID           99961 non-null  int64         \n",
      " 6   DOLocationID           99961 non-null  int64         \n",
      " 7   passenger_count        74726 non-null  float64       \n",
      " 8   trip_distance          99961 non-null  float64       \n",
      " 9   fare_amount            99961 non-null  float64       \n",
      " 10  extra                  99961 non-null  float64       \n",
      " 11  mta_tax                99961 non-null  float64       \n",
      " 12  tip_amount             99961 non-null  float64       \n",
      " 13  tolls_amount           99961 non-null  float64       \n",
      " 14  ehail_fee              0 non-null      object        \n",
      " 15  improvement_surcharge  99961 non-null  float64       \n",
      " 16  total_amount           99961 non-null  float64       \n",
      " 17  payment_type           74726 non-null  float64       \n",
      " 18  trip_type              74726 non-null  float64       \n",
      " 19  congestion_surcharge   74726 non-null  float64       \n",
      "dtypes: datetime64[us](2), float64(13), int64(3), object(2)\n",
      "memory usage: 15.3+ MB\n"
     ]
    }
   ],
   "source": [
    "df_verde_dic2021.info()"
   ]
  },
  {
   "cell_type": "code",
   "execution_count": 40,
   "metadata": {},
   "outputs": [
    {
     "data": {
      "text/html": [
       "<div>\n",
       "<style scoped>\n",
       "    .dataframe tbody tr th:only-of-type {\n",
       "        vertical-align: middle;\n",
       "    }\n",
       "\n",
       "    .dataframe tbody tr th {\n",
       "        vertical-align: top;\n",
       "    }\n",
       "\n",
       "    .dataframe thead th {\n",
       "        text-align: right;\n",
       "    }\n",
       "</style>\n",
       "<table border=\"1\" class=\"dataframe\">\n",
       "  <thead>\n",
       "    <tr style=\"text-align: right;\">\n",
       "      <th></th>\n",
       "      <th>VendorID</th>\n",
       "      <th>lpep_pickup_datetime</th>\n",
       "      <th>lpep_dropoff_datetime</th>\n",
       "      <th>RatecodeID</th>\n",
       "      <th>PULocationID</th>\n",
       "      <th>DOLocationID</th>\n",
       "      <th>passenger_count</th>\n",
       "      <th>trip_distance</th>\n",
       "      <th>fare_amount</th>\n",
       "      <th>extra</th>\n",
       "      <th>mta_tax</th>\n",
       "      <th>tip_amount</th>\n",
       "      <th>tolls_amount</th>\n",
       "      <th>improvement_surcharge</th>\n",
       "      <th>total_amount</th>\n",
       "      <th>payment_type</th>\n",
       "      <th>trip_type</th>\n",
       "      <th>congestion_surcharge</th>\n",
       "    </tr>\n",
       "  </thead>\n",
       "  <tbody>\n",
       "    <tr>\n",
       "      <th>count</th>\n",
       "      <td>99961.000000</td>\n",
       "      <td>99961</td>\n",
       "      <td>99961</td>\n",
       "      <td>74726.000000</td>\n",
       "      <td>99961.000000</td>\n",
       "      <td>99961.000000</td>\n",
       "      <td>74726.000000</td>\n",
       "      <td>99961.000000</td>\n",
       "      <td>99961.000000</td>\n",
       "      <td>99961.000000</td>\n",
       "      <td>99961.000000</td>\n",
       "      <td>99961.000000</td>\n",
       "      <td>99961.000000</td>\n",
       "      <td>99961.000000</td>\n",
       "      <td>99961.000000</td>\n",
       "      <td>74726.000000</td>\n",
       "      <td>74726.000000</td>\n",
       "      <td>74726.000000</td>\n",
       "    </tr>\n",
       "    <tr>\n",
       "      <th>mean</th>\n",
       "      <td>1.881694</td>\n",
       "      <td>2021-12-14 20:44:36.571303</td>\n",
       "      <td>2021-12-14 21:09:19.537890</td>\n",
       "      <td>1.185504</td>\n",
       "      <td>105.217765</td>\n",
       "      <td>133.759336</td>\n",
       "      <td>1.266467</td>\n",
       "      <td>187.536785</td>\n",
       "      <td>19.247001</td>\n",
       "      <td>0.798585</td>\n",
       "      <td>0.356214</td>\n",
       "      <td>1.387295</td>\n",
       "      <td>0.535881</td>\n",
       "      <td>0.297512</td>\n",
       "      <td>23.076101</td>\n",
       "      <td>1.421794</td>\n",
       "      <td>1.040388</td>\n",
       "      <td>0.632303</td>\n",
       "    </tr>\n",
       "    <tr>\n",
       "      <th>min</th>\n",
       "      <td>1.000000</td>\n",
       "      <td>2009-01-01 00:07:17</td>\n",
       "      <td>2009-01-01 00:10:02</td>\n",
       "      <td>1.000000</td>\n",
       "      <td>1.000000</td>\n",
       "      <td>1.000000</td>\n",
       "      <td>0.000000</td>\n",
       "      <td>0.000000</td>\n",
       "      <td>-108.430000</td>\n",
       "      <td>-4.500000</td>\n",
       "      <td>-0.500000</td>\n",
       "      <td>-1.700000</td>\n",
       "      <td>0.000000</td>\n",
       "      <td>-0.300000</td>\n",
       "      <td>-88.330000</td>\n",
       "      <td>1.000000</td>\n",
       "      <td>1.000000</td>\n",
       "      <td>-2.750000</td>\n",
       "    </tr>\n",
       "    <tr>\n",
       "      <th>25%</th>\n",
       "      <td>2.000000</td>\n",
       "      <td>2021-12-07 15:29:17</td>\n",
       "      <td>2021-12-07 15:54:00</td>\n",
       "      <td>1.000000</td>\n",
       "      <td>61.000000</td>\n",
       "      <td>72.000000</td>\n",
       "      <td>1.000000</td>\n",
       "      <td>1.280000</td>\n",
       "      <td>8.000000</td>\n",
       "      <td>0.000000</td>\n",
       "      <td>0.000000</td>\n",
       "      <td>0.000000</td>\n",
       "      <td>0.000000</td>\n",
       "      <td>0.300000</td>\n",
       "      <td>10.560000</td>\n",
       "      <td>1.000000</td>\n",
       "      <td>1.000000</td>\n",
       "      <td>0.000000</td>\n",
       "    </tr>\n",
       "    <tr>\n",
       "      <th>50%</th>\n",
       "      <td>2.000000</td>\n",
       "      <td>2021-12-14 12:34:00</td>\n",
       "      <td>2021-12-14 13:00:58</td>\n",
       "      <td>1.000000</td>\n",
       "      <td>75.000000</td>\n",
       "      <td>132.000000</td>\n",
       "      <td>1.000000</td>\n",
       "      <td>2.430000</td>\n",
       "      <td>13.500000</td>\n",
       "      <td>0.000000</td>\n",
       "      <td>0.500000</td>\n",
       "      <td>0.000000</td>\n",
       "      <td>0.000000</td>\n",
       "      <td>0.300000</td>\n",
       "      <td>17.300000</td>\n",
       "      <td>1.000000</td>\n",
       "      <td>1.000000</td>\n",
       "      <td>0.000000</td>\n",
       "    </tr>\n",
       "    <tr>\n",
       "      <th>75%</th>\n",
       "      <td>2.000000</td>\n",
       "      <td>2021-12-21 15:10:11</td>\n",
       "      <td>2021-12-21 15:38:11</td>\n",
       "      <td>1.000000</td>\n",
       "      <td>155.000000</td>\n",
       "      <td>200.000000</td>\n",
       "      <td>1.000000</td>\n",
       "      <td>5.350000</td>\n",
       "      <td>24.000000</td>\n",
       "      <td>1.000000</td>\n",
       "      <td>0.500000</td>\n",
       "      <td>2.160000</td>\n",
       "      <td>0.000000</td>\n",
       "      <td>0.300000</td>\n",
       "      <td>28.860000</td>\n",
       "      <td>2.000000</td>\n",
       "      <td>1.000000</td>\n",
       "      <td>0.000000</td>\n",
       "    </tr>\n",
       "    <tr>\n",
       "      <th>max</th>\n",
       "      <td>2.000000</td>\n",
       "      <td>2021-12-31 23:59:00</td>\n",
       "      <td>2022-01-01 21:05:53</td>\n",
       "      <td>5.000000</td>\n",
       "      <td>265.000000</td>\n",
       "      <td>265.000000</td>\n",
       "      <td>9.000000</td>\n",
       "      <td>334303.190000</td>\n",
       "      <td>532.500000</td>\n",
       "      <td>8.250000</td>\n",
       "      <td>3.550000</td>\n",
       "      <td>333.690000</td>\n",
       "      <td>40.500000</td>\n",
       "      <td>0.300000</td>\n",
       "      <td>533.300000</td>\n",
       "      <td>4.000000</td>\n",
       "      <td>2.000000</td>\n",
       "      <td>2.750000</td>\n",
       "    </tr>\n",
       "    <tr>\n",
       "      <th>std</th>\n",
       "      <td>0.322972</td>\n",
       "      <td>NaN</td>\n",
       "      <td>NaN</td>\n",
       "      <td>0.830455</td>\n",
       "      <td>67.987793</td>\n",
       "      <td>76.520506</td>\n",
       "      <td>0.871988</td>\n",
       "      <td>4841.596181</td>\n",
       "      <td>17.701623</td>\n",
       "      <td>1.163326</td>\n",
       "      <td>0.229582</td>\n",
       "      <td>2.847392</td>\n",
       "      <td>1.934481</td>\n",
       "      <td>0.035632</td>\n",
       "      <td>19.239484</td>\n",
       "      <td>0.517379</td>\n",
       "      <td>0.196868</td>\n",
       "      <td>1.157506</td>\n",
       "    </tr>\n",
       "  </tbody>\n",
       "</table>\n",
       "</div>"
      ],
      "text/plain": [
       "           VendorID        lpep_pickup_datetime       lpep_dropoff_datetime  \\\n",
       "count  99961.000000                       99961                       99961   \n",
       "mean       1.881694  2021-12-14 20:44:36.571303  2021-12-14 21:09:19.537890   \n",
       "min        1.000000         2009-01-01 00:07:17         2009-01-01 00:10:02   \n",
       "25%        2.000000         2021-12-07 15:29:17         2021-12-07 15:54:00   \n",
       "50%        2.000000         2021-12-14 12:34:00         2021-12-14 13:00:58   \n",
       "75%        2.000000         2021-12-21 15:10:11         2021-12-21 15:38:11   \n",
       "max        2.000000         2021-12-31 23:59:00         2022-01-01 21:05:53   \n",
       "std        0.322972                         NaN                         NaN   \n",
       "\n",
       "         RatecodeID  PULocationID  DOLocationID  passenger_count  \\\n",
       "count  74726.000000  99961.000000  99961.000000     74726.000000   \n",
       "mean       1.185504    105.217765    133.759336         1.266467   \n",
       "min        1.000000      1.000000      1.000000         0.000000   \n",
       "25%        1.000000     61.000000     72.000000         1.000000   \n",
       "50%        1.000000     75.000000    132.000000         1.000000   \n",
       "75%        1.000000    155.000000    200.000000         1.000000   \n",
       "max        5.000000    265.000000    265.000000         9.000000   \n",
       "std        0.830455     67.987793     76.520506         0.871988   \n",
       "\n",
       "       trip_distance   fare_amount         extra       mta_tax    tip_amount  \\\n",
       "count   99961.000000  99961.000000  99961.000000  99961.000000  99961.000000   \n",
       "mean      187.536785     19.247001      0.798585      0.356214      1.387295   \n",
       "min         0.000000   -108.430000     -4.500000     -0.500000     -1.700000   \n",
       "25%         1.280000      8.000000      0.000000      0.000000      0.000000   \n",
       "50%         2.430000     13.500000      0.000000      0.500000      0.000000   \n",
       "75%         5.350000     24.000000      1.000000      0.500000      2.160000   \n",
       "max    334303.190000    532.500000      8.250000      3.550000    333.690000   \n",
       "std      4841.596181     17.701623      1.163326      0.229582      2.847392   \n",
       "\n",
       "       tolls_amount  improvement_surcharge  total_amount  payment_type  \\\n",
       "count  99961.000000           99961.000000  99961.000000  74726.000000   \n",
       "mean       0.535881               0.297512     23.076101      1.421794   \n",
       "min        0.000000              -0.300000    -88.330000      1.000000   \n",
       "25%        0.000000               0.300000     10.560000      1.000000   \n",
       "50%        0.000000               0.300000     17.300000      1.000000   \n",
       "75%        0.000000               0.300000     28.860000      2.000000   \n",
       "max       40.500000               0.300000    533.300000      4.000000   \n",
       "std        1.934481               0.035632     19.239484      0.517379   \n",
       "\n",
       "          trip_type  congestion_surcharge  \n",
       "count  74726.000000          74726.000000  \n",
       "mean       1.040388              0.632303  \n",
       "min        1.000000             -2.750000  \n",
       "25%        1.000000              0.000000  \n",
       "50%        1.000000              0.000000  \n",
       "75%        1.000000              0.000000  \n",
       "max        2.000000              2.750000  \n",
       "std        0.196868              1.157506  "
      ]
     },
     "execution_count": 40,
     "metadata": {},
     "output_type": "execute_result"
    }
   ],
   "source": [
    "df_verde_dic2021.describe()"
   ]
  },
  {
   "cell_type": "code",
   "execution_count": 41,
   "metadata": {},
   "outputs": [],
   "source": [
    "# Copia del DF anterior\n",
    "df_copia_df_verde_dic2021 = df_verde_dic2021.copy()"
   ]
  },
  {
   "cell_type": "code",
   "execution_count": 42,
   "metadata": {},
   "outputs": [],
   "source": [
    "# Muestrea el 7% de los datos, al azar\n",
    "df_muestra7 = df_copia_df_verde_dic2021.sample(frac=0.07, random_state=1)"
   ]
  },
  {
   "cell_type": "code",
   "execution_count": 60,
   "metadata": {},
   "outputs": [
    {
     "data": {
      "text/html": [
       "<div>\n",
       "<style scoped>\n",
       "    .dataframe tbody tr th:only-of-type {\n",
       "        vertical-align: middle;\n",
       "    }\n",
       "\n",
       "    .dataframe tbody tr th {\n",
       "        vertical-align: top;\n",
       "    }\n",
       "\n",
       "    .dataframe thead th {\n",
       "        text-align: right;\n",
       "    }\n",
       "</style>\n",
       "<table border=\"1\" class=\"dataframe\">\n",
       "  <thead>\n",
       "    <tr style=\"text-align: right;\">\n",
       "      <th></th>\n",
       "      <th>VendorID</th>\n",
       "      <th>lpep_pickup_datetime</th>\n",
       "      <th>lpep_dropoff_datetime</th>\n",
       "      <th>store_and_fwd_flag</th>\n",
       "      <th>RatecodeID</th>\n",
       "      <th>PULocationID</th>\n",
       "      <th>DOLocationID</th>\n",
       "      <th>passenger_count</th>\n",
       "      <th>trip_distance</th>\n",
       "      <th>fare_amount</th>\n",
       "      <th>extra</th>\n",
       "      <th>mta_tax</th>\n",
       "      <th>tip_amount</th>\n",
       "      <th>tolls_amount</th>\n",
       "      <th>ehail_fee</th>\n",
       "      <th>improvement_surcharge</th>\n",
       "      <th>total_amount</th>\n",
       "      <th>payment_type</th>\n",
       "      <th>trip_type</th>\n",
       "      <th>congestion_surcharge</th>\n",
       "    </tr>\n",
       "  </thead>\n",
       "  <tbody>\n",
       "    <tr>\n",
       "      <th>17916</th>\n",
       "      <td>2</td>\n",
       "      <td>2021-12-07 17:06:02</td>\n",
       "      <td>2021-12-07 17:34:44</td>\n",
       "      <td>N</td>\n",
       "      <td>1.0</td>\n",
       "      <td>41</td>\n",
       "      <td>138</td>\n",
       "      <td>1.0</td>\n",
       "      <td>8.07</td>\n",
       "      <td>26.5</td>\n",
       "      <td>1.0</td>\n",
       "      <td>0.5</td>\n",
       "      <td>6.97</td>\n",
       "      <td>6.55</td>\n",
       "      <td>None</td>\n",
       "      <td>0.3</td>\n",
       "      <td>41.82</td>\n",
       "      <td>1.0</td>\n",
       "      <td>1.0</td>\n",
       "      <td>0.0</td>\n",
       "    </tr>\n",
       "    <tr>\n",
       "      <th>29737</th>\n",
       "      <td>2</td>\n",
       "      <td>2021-12-11 20:03:06</td>\n",
       "      <td>2021-12-11 20:10:22</td>\n",
       "      <td>N</td>\n",
       "      <td>1.0</td>\n",
       "      <td>74</td>\n",
       "      <td>42</td>\n",
       "      <td>1.0</td>\n",
       "      <td>1.38</td>\n",
       "      <td>7.0</td>\n",
       "      <td>0.5</td>\n",
       "      <td>0.5</td>\n",
       "      <td>0.00</td>\n",
       "      <td>0.00</td>\n",
       "      <td>None</td>\n",
       "      <td>0.3</td>\n",
       "      <td>8.30</td>\n",
       "      <td>1.0</td>\n",
       "      <td>1.0</td>\n",
       "      <td>0.0</td>\n",
       "    </tr>\n",
       "  </tbody>\n",
       "</table>\n",
       "</div>"
      ],
      "text/plain": [
       "       VendorID lpep_pickup_datetime lpep_dropoff_datetime store_and_fwd_flag  \\\n",
       "17916         2  2021-12-07 17:06:02   2021-12-07 17:34:44                  N   \n",
       "29737         2  2021-12-11 20:03:06   2021-12-11 20:10:22                  N   \n",
       "\n",
       "       RatecodeID  PULocationID  DOLocationID  passenger_count  trip_distance  \\\n",
       "17916         1.0            41           138              1.0           8.07   \n",
       "29737         1.0            74            42              1.0           1.38   \n",
       "\n",
       "       fare_amount  extra  mta_tax  tip_amount  tolls_amount ehail_fee  \\\n",
       "17916         26.5    1.0      0.5        6.97          6.55      None   \n",
       "29737          7.0    0.5      0.5        0.00          0.00      None   \n",
       "\n",
       "       improvement_surcharge  total_amount  payment_type  trip_type  \\\n",
       "17916                    0.3         41.82           1.0        1.0   \n",
       "29737                    0.3          8.30           1.0        1.0   \n",
       "\n",
       "       congestion_surcharge  \n",
       "17916                   0.0  \n",
       "29737                   0.0  "
      ]
     },
     "execution_count": 60,
     "metadata": {},
     "output_type": "execute_result"
    }
   ],
   "source": [
    "df_muestra7.head(2)"
   ]
  },
  {
   "cell_type": "code",
   "execution_count": 44,
   "metadata": {},
   "outputs": [
    {
     "name": "stdout",
     "output_type": "stream",
     "text": [
      "VendorID                    0\n",
      "lpep_pickup_datetime        0\n",
      "lpep_dropoff_datetime       0\n",
      "store_and_fwd_flag       1720\n",
      "RatecodeID               1720\n",
      "PULocationID                0\n",
      "DOLocationID                0\n",
      "passenger_count          1720\n",
      "trip_distance               0\n",
      "fare_amount                 0\n",
      "extra                       0\n",
      "mta_tax                     0\n",
      "tip_amount                  0\n",
      "tolls_amount                0\n",
      "ehail_fee                6997\n",
      "improvement_surcharge       0\n",
      "total_amount                0\n",
      "payment_type             1720\n",
      "trip_type                1720\n",
      "congestion_surcharge     1720\n",
      "dtype: int64\n"
     ]
    }
   ],
   "source": [
    "# Muestra la cantidad de valores NaN en cada columna\n",
    "print(df_muestra7.isnull().sum())"
   ]
  },
  {
   "cell_type": "code",
   "execution_count": 45,
   "metadata": {},
   "outputs": [
    {
     "name": "stdout",
     "output_type": "stream",
     "text": [
      "Suma total de NaNs: 17317\n"
     ]
    }
   ],
   "source": [
    "# Contar los valores NaN de cada columna\n",
    "nan_counts = df_muestra7.isnull().sum()\n",
    "\n",
    "# Conseguir la suma total de NaNs\n",
    "total_nan = nan_counts.sum()\n",
    "\n",
    "# Mostrar la suma total de NaNs\n",
    "print(\"Suma total de NaNs:\", total_nan)\n"
   ]
  },
  {
   "cell_type": "code",
   "execution_count": 46,
   "metadata": {},
   "outputs": [
    {
     "name": "stdout",
     "output_type": "stream",
     "text": [
      "VendorID                    0\n",
      "lpep_pickup_datetime        0\n",
      "lpep_dropoff_datetime       0\n",
      "store_and_fwd_flag          0\n",
      "RatecodeID                  0\n",
      "PULocationID                0\n",
      "DOLocationID                0\n",
      "passenger_count            22\n",
      "trip_distance             265\n",
      "fare_amount                11\n",
      "extra                    3616\n",
      "mta_tax                  1917\n",
      "tip_amount               4201\n",
      "tolls_amount             6445\n",
      "ehail_fee                   0\n",
      "improvement_surcharge      19\n",
      "total_amount               11\n",
      "payment_type                0\n",
      "trip_type                   0\n",
      "congestion_surcharge     4112\n",
      "dtype: int64\n"
     ]
    }
   ],
   "source": [
    "# Muestra la cantidad de valores 0 en cada columna\n",
    "print((df_muestra7 == 0).sum())  "
   ]
  },
  {
   "cell_type": "code",
   "execution_count": 47,
   "metadata": {},
   "outputs": [],
   "source": [
    "contar_ceros = df_muestra7.eq(0).sum()"
   ]
  },
  {
   "cell_type": "code",
   "execution_count": 48,
   "metadata": {},
   "outputs": [
    {
     "data": {
      "text/plain": [
       "VendorID                    0\n",
       "lpep_pickup_datetime        0\n",
       "lpep_dropoff_datetime       0\n",
       "store_and_fwd_flag          0\n",
       "RatecodeID                  0\n",
       "PULocationID                0\n",
       "DOLocationID                0\n",
       "passenger_count            22\n",
       "trip_distance             265\n",
       "fare_amount                11\n",
       "extra                    3616\n",
       "mta_tax                  1917\n",
       "tip_amount               4201\n",
       "tolls_amount             6445\n",
       "ehail_fee                   0\n",
       "improvement_surcharge      19\n",
       "total_amount               11\n",
       "payment_type                0\n",
       "trip_type                   0\n",
       "congestion_surcharge     4112\n",
       "dtype: int64"
      ]
     },
     "execution_count": 48,
     "metadata": {},
     "output_type": "execute_result"
    }
   ],
   "source": [
    "contar_ceros"
   ]
  },
  {
   "cell_type": "code",
   "execution_count": 49,
   "metadata": {},
   "outputs": [
    {
     "name": "stdout",
     "output_type": "stream",
     "text": [
      "Suma total de ceros: 20619\n"
     ]
    }
   ],
   "source": [
    "# Contar ceros de cada columna\n",
    "contar_ceros = df_muestra7.eq(0).sum()\n",
    "\n",
    "# La suma total de valores 0\n",
    "total_ceros = contar_ceros.sum()\n",
    "\n",
    "# Mostrar la suma total de 0\n",
    "print(\"Suma total de ceros:\", total_ceros)\n"
   ]
  },
  {
   "cell_type": "code",
   "execution_count": 50,
   "metadata": {},
   "outputs": [],
   "source": [
    "df_verde_dic2021_muestra_pq = pd.DataFrame(df_muestra7)"
   ]
  },
  {
   "cell_type": "code",
   "execution_count": 51,
   "metadata": {},
   "outputs": [
    {
     "data": {
      "text/html": [
       "<div>\n",
       "<style scoped>\n",
       "    .dataframe tbody tr th:only-of-type {\n",
       "        vertical-align: middle;\n",
       "    }\n",
       "\n",
       "    .dataframe tbody tr th {\n",
       "        vertical-align: top;\n",
       "    }\n",
       "\n",
       "    .dataframe thead th {\n",
       "        text-align: right;\n",
       "    }\n",
       "</style>\n",
       "<table border=\"1\" class=\"dataframe\">\n",
       "  <thead>\n",
       "    <tr style=\"text-align: right;\">\n",
       "      <th></th>\n",
       "      <th>VendorID</th>\n",
       "      <th>lpep_pickup_datetime</th>\n",
       "      <th>lpep_dropoff_datetime</th>\n",
       "      <th>store_and_fwd_flag</th>\n",
       "      <th>RatecodeID</th>\n",
       "      <th>PULocationID</th>\n",
       "      <th>DOLocationID</th>\n",
       "      <th>passenger_count</th>\n",
       "      <th>trip_distance</th>\n",
       "      <th>fare_amount</th>\n",
       "      <th>extra</th>\n",
       "      <th>mta_tax</th>\n",
       "      <th>tip_amount</th>\n",
       "      <th>tolls_amount</th>\n",
       "      <th>ehail_fee</th>\n",
       "      <th>improvement_surcharge</th>\n",
       "      <th>total_amount</th>\n",
       "      <th>payment_type</th>\n",
       "      <th>trip_type</th>\n",
       "      <th>congestion_surcharge</th>\n",
       "    </tr>\n",
       "  </thead>\n",
       "  <tbody>\n",
       "    <tr>\n",
       "      <th>17916</th>\n",
       "      <td>2</td>\n",
       "      <td>2021-12-07 17:06:02</td>\n",
       "      <td>2021-12-07 17:34:44</td>\n",
       "      <td>N</td>\n",
       "      <td>1.0</td>\n",
       "      <td>41</td>\n",
       "      <td>138</td>\n",
       "      <td>1.0</td>\n",
       "      <td>8.07</td>\n",
       "      <td>26.5</td>\n",
       "      <td>1.0</td>\n",
       "      <td>0.5</td>\n",
       "      <td>6.97</td>\n",
       "      <td>6.55</td>\n",
       "      <td>None</td>\n",
       "      <td>0.3</td>\n",
       "      <td>41.82</td>\n",
       "      <td>1.0</td>\n",
       "      <td>1.0</td>\n",
       "      <td>0.0</td>\n",
       "    </tr>\n",
       "    <tr>\n",
       "      <th>29737</th>\n",
       "      <td>2</td>\n",
       "      <td>2021-12-11 20:03:06</td>\n",
       "      <td>2021-12-11 20:10:22</td>\n",
       "      <td>N</td>\n",
       "      <td>1.0</td>\n",
       "      <td>74</td>\n",
       "      <td>42</td>\n",
       "      <td>1.0</td>\n",
       "      <td>1.38</td>\n",
       "      <td>7.0</td>\n",
       "      <td>0.5</td>\n",
       "      <td>0.5</td>\n",
       "      <td>0.00</td>\n",
       "      <td>0.00</td>\n",
       "      <td>None</td>\n",
       "      <td>0.3</td>\n",
       "      <td>8.30</td>\n",
       "      <td>1.0</td>\n",
       "      <td>1.0</td>\n",
       "      <td>0.0</td>\n",
       "    </tr>\n",
       "  </tbody>\n",
       "</table>\n",
       "</div>"
      ],
      "text/plain": [
       "       VendorID lpep_pickup_datetime lpep_dropoff_datetime store_and_fwd_flag  \\\n",
       "17916         2  2021-12-07 17:06:02   2021-12-07 17:34:44                  N   \n",
       "29737         2  2021-12-11 20:03:06   2021-12-11 20:10:22                  N   \n",
       "\n",
       "       RatecodeID  PULocationID  DOLocationID  passenger_count  trip_distance  \\\n",
       "17916         1.0            41           138              1.0           8.07   \n",
       "29737         1.0            74            42              1.0           1.38   \n",
       "\n",
       "       fare_amount  extra  mta_tax  tip_amount  tolls_amount ehail_fee  \\\n",
       "17916         26.5    1.0      0.5        6.97          6.55      None   \n",
       "29737          7.0    0.5      0.5        0.00          0.00      None   \n",
       "\n",
       "       improvement_surcharge  total_amount  payment_type  trip_type  \\\n",
       "17916                    0.3         41.82           1.0        1.0   \n",
       "29737                    0.3          8.30           1.0        1.0   \n",
       "\n",
       "       congestion_surcharge  \n",
       "17916                   0.0  \n",
       "29737                   0.0  "
      ]
     },
     "execution_count": 51,
     "metadata": {},
     "output_type": "execute_result"
    }
   ],
   "source": [
    "df_verde_dic2021_muestra_pq.head(2)"
   ]
  },
  {
   "cell_type": "code",
   "execution_count": 52,
   "metadata": {},
   "outputs": [
    {
     "name": "stdout",
     "output_type": "stream",
     "text": [
      "0\n"
     ]
    },
    {
     "name": "stderr",
     "output_type": "stream",
     "text": [
      "C:\\Users\\56988\\AppData\\Local\\Temp\\ipykernel_11784\\2420376096.py:2: FutureWarning: Downcasting object dtype arrays on .fillna, .ffill, .bfill is deprecated and will change in a future version. Call result.infer_objects(copy=False) instead. To opt-in to the future behavior, set `pd.set_option('future.no_silent_downcasting', True)`\n",
      "  df_verde_dic2021_muestra_pq_replaced = df_verde_dic2021_muestra_pq.fillna(1)\n"
     ]
    }
   ],
   "source": [
    "#Reemplazar NaN por 1# Replace NaN values in 'passenger_count' with 1 (creates a new DataFrame)\n",
    "df_verde_dic2021_muestra_pq_replaced = df_verde_dic2021_muestra_pq.fillna(1)\n",
    "\n",
    "# Assign the replaced column to the original DataFrame (optional)\n",
    "df_verde_dic2021_muestra_pq[\"passenger_count\"] = df_verde_dic2021_muestra_pq_replaced[\"passenger_count\"]\n",
    "\n",
    "# Verify the replacement (optional)\n",
    "print(df_verde_dic2021_muestra_pq['passenger_count'].isna().sum()) "
   ]
  },
  {
   "cell_type": "code",
   "execution_count": 53,
   "metadata": {},
   "outputs": [],
   "source": [
    "# Define the specific columns you want to include (replace with your actual columns)\n",
    "columnas_numeric = [\"passenger_count\", \"trip_distance\", \"fare_amount\", \"extra\",\n",
    "                    \"mta_tax\", \"tip_amount\", \"tolls_amount\", \"improvement_surcharge\",\n",
    "                    \"total_amount\", \"payment_type\", \"trip_type\", \"congestion_surcharge\"]\n",
    "\n",
    "# Filter for columns present in your DataFrame\n",
    "columnas_numeric = [col for col in columnas_numeric if col in df_verde_dic2021_muestra_pq.columns]\n"
   ]
  },
  {
   "cell_type": "code",
   "execution_count": 54,
   "metadata": {},
   "outputs": [],
   "source": [
    "# Select the columns for conversion\n",
    "columns_to_convert = columnas_numeric\n",
    "\n",
    "# Try converting to numeric (int or float)\n",
    "for col in columns_to_convert:\n",
    "    try:\n",
    "        # Try converting to integer first (more efficient for whole numbers)\n",
    "        df_verde_dic2021_muestra_pq[col] = pd.to_numeric(df_verde_dic2021_muestra_pq[col], errors='coerce')  # Handle errors (coerce to NaN)\n",
    "    except pd.errors.ParserError:\n",
    "        try:\n",
    "            # If conversion to int fails, try float\n",
    "            df_verde_dic2021_muestra_pq[col] = pd.to_numeric(df_verde_dic2021_muestra_pq[col], errors='coerce')\n",
    "        except pd.errors.ParserError:\n",
    "            # If both fail, keep the column as-is (assuming it's not numeric)\n",
    "            print(f\"Warning: Could not convert column '{col}' to numeric.\")"
   ]
  },
  {
   "cell_type": "code",
   "execution_count": 55,
   "metadata": {},
   "outputs": [
    {
     "name": "stdout",
     "output_type": "stream",
     "text": [
      "VendorID                          int64\n",
      "lpep_pickup_datetime     datetime64[us]\n",
      "lpep_dropoff_datetime    datetime64[us]\n",
      "store_and_fwd_flag               object\n",
      "RatecodeID                      float64\n",
      "PULocationID                      int64\n",
      "DOLocationID                      int64\n",
      "passenger_count                 float64\n",
      "trip_distance                   float64\n",
      "fare_amount                     float64\n",
      "extra                           float64\n",
      "mta_tax                         float64\n",
      "tip_amount                      float64\n",
      "tolls_amount                    float64\n",
      "ehail_fee                        object\n",
      "improvement_surcharge           float64\n",
      "total_amount                    float64\n",
      "payment_type                    float64\n",
      "trip_type                       float64\n",
      "congestion_surcharge            float64\n",
      "dtype: object\n"
     ]
    }
   ],
   "source": [
    "# Verify data types (optional)\n",
    "print(df_verde_dic2021_muestra_pq.dtypes)"
   ]
  },
  {
   "cell_type": "code",
   "execution_count": 56,
   "metadata": {},
   "outputs": [
    {
     "data": {
      "image/png": "[encoded data removed]",
      "text/plain": [
       "<Figure size 1000x3000 with 12 Axes>"
      ]
     },
     "metadata": {},
     "output_type": "display_data"
    }
   ],
   "source": [
    "# Select the numeric columns for the histogram\n",
    "columns_to_plot = columnas_numeric\n",
    "\n",
    "# Create the histogram figure\n",
    "fig, axes = plt.subplots(nrows=len(columns_to_plot), ncols=1, figsize=(10, 30))  # Adjust figure size as needed\n",
    "\n",
    "# Loop through each column and create a histogram\n",
    "for i, col in enumerate(columns_to_plot):\n",
    "    df_verde_dic2021_muestra_pq[col].hist(bins=10, ax=axes[i])  # Adjust bins as needed\n",
    "    axes[i].set_title(col)\n",
    "    axes[i].set_xlabel(col)\n",
    "    axes[i].set_ylabel('Frequency')\n",
    "\n",
    "# Adjust layout (optional)\n",
    "plt.tight_layout()\n",
    "\n",
    "# Display the histogram\n",
    "plt.show()\n"
   ]
  },
  {
   "cell_type": "code",
   "execution_count": 57,
   "metadata": {},
   "outputs": [
    {
     "data": {
      "text/plain": [
       "array(['N', None, 'Y'], dtype=object)"
      ]
     },
     "execution_count": 57,
     "metadata": {},
     "output_type": "execute_result"
    }
   ],
   "source": [
    "df_verde_dic2021_muestra_pq[\"store_and_fwd_flag\"].unique()"
   ]
  },
  {
   "cell_type": "code",
   "execution_count": 58,
   "metadata": {},
   "outputs": [
    {
     "data": {
      "text/plain": [
       "array([ 1., nan,  2.])"
      ]
     },
     "execution_count": 58,
     "metadata": {},
     "output_type": "execute_result"
    }
   ],
   "source": [
    "df_verde_dic2021_muestra_pq[\"trip_type\"].unique()"
   ]
  },
  {
   "cell_type": "code",
   "execution_count": 59,
   "metadata": {},
   "outputs": [
    {
     "data": {
      "text/plain": [
       "<Axes: >"
      ]
     },
     "execution_count": 59,
     "metadata": {},
     "output_type": "execute_result"
    },
    {
     "data": {
      "image/png": "[encoded data removed]",
      "text/plain": [
       "<Figure size 640x480 with 1 Axes>"
      ]
     },
     "metadata": {},
     "output_type": "display_data"
    }
   ],
   "source": [
    "# DF 'df_alternative_fuel' como DataFrame\n",
    "sns.boxplot(df_verde_dic2021_muestra_pq[[\"passenger_count\", \"trip_distance\", \"fare_amount\", \"extra\", \n",
    "                                \"mta_tax\", \"tip_amount\", \"tolls_amount\", \"improvement_surcharge\", \n",
    "                                \"total_amount\", \"payment_type\", \"trip_type\", \"congestion_surcharge\"]])"
   ]
  }
 ],
 "metadata": {
  "kernelspec": {
   "display_name": "base",
   "language": "python",
   "name": "python3"
  },
  "language_info": {
   "codemirror_mode": {
    "name": "ipython",
    "version": 3
   },
   "file_extension": ".py",
   "mimetype": "text/x-python",
   "name": "python",
   "nbconvert_exporter": "python",
   "pygments_lexer": "ipython3",
   "version": "3.11.9"
  }
 },
 "nbformat": 4,
 "nbformat_minor": 2
}
