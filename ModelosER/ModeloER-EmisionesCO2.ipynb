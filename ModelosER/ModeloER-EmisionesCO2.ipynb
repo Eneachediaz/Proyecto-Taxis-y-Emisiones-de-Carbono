{
 "cells": [
  {
   "cell_type": "markdown",
   "metadata": {},
   "source": [
    "### Modelo de Relacion de Reducción Porcentual de Emisiones de CO₂ de taxis en Nueva York"
   ]
  },
  {
   "cell_type": "markdown",
   "metadata": {},
   "source": [
    "#### Datos Requeridos:"
   ]
  },
  {
   "cell_type": "markdown",
   "metadata": {},
   "source": [
    "**Importa los datasets relevantes**: fhvhv_tripdata_2024-01, green_tripdata_2024-01, yellow_tripdata_2024-01, y taxi+_zone_lookup.\n",
    "\n",
    "Para obtener la distancia recorrida, se utilizaran datos históricos de viajes en taxi como trip_distance y trip_miles \n",
    "\n",
    "**Emisiones de CO₂ por Unidad de Distancia**: Utiliza el promedio de emisiones (por ejemplo, 8,887 gramos de CO₂ por galón de gasolina) y la economía de combustible (22.2 millas por galón). Datos proporcionados por EPA (U.S. Environmental Protection Agency). Se deberia armar una tabla que contenga estos datos unicamente. \n",
    "\n",
    "**Columnas**:\n",
    "| pickup_datetime | dropOff_datetime | dispatching | Trip_Distance/Trip_Mille | Fuel_Consumed (Calculado)| CO2_Emissions (Calculado) |\n"
   ]
  },
  {
   "cell_type": "markdown",
   "metadata": {},
   "source": [
    "#### Preparación de los Datos:"
   ]
  },
  {
   "cell_type": "markdown",
   "metadata": {},
   "source": [
    "El primer paso seria unificar los nombres de las columnas que extraeremos en cada tabla.\\\n",
    "Convertir las fechas y horas a formatos datetime.\\\n",
    "Crear columnas adicionales calculadas como Fuel_Consumed y CO2_Emissions para facilitar su consumo.\\\n",
    "Posteriormente, se agruparan los datos por fecha y se calculara el número total de emisiones de CO2 en toneladas metricas."
   ]
  },
  {
   "cell_type": "markdown",
   "metadata": {},
   "source": [
    "#### Unión de Tablas"
   ]
  },
  {
   "cell_type": "markdown",
   "metadata": {},
   "source": [
    "Utilizar la LocationID para relacionar las tablas de viajes (fhvhv_tripdata_2024-01, green_tripdata_2024-01, yellow_tripdata_2024-01) con la tabla taxi+_zone_lookup para obtener información adicional de ubicación."
   ]
  },
  {
   "cell_type": "markdown",
   "metadata": {},
   "source": [
    "#### Cálculo de Emisiones Actuales:"
   ]
  },
  {
   "cell_type": "markdown",
   "metadata": {},
   "source": [
    "**Distancia Total Recorrida**: Suma la distancia recorrida por todos los taxis en un periodo específico (por ejemplo, un año). \\\n",
    "**Galones de Combustible Consumidos**: Calcula los galones de combustible consumidos utilizando la economía de combustible.\\\n",
    "**Emisiones de CO₂**: Multiplica los galones de combustible consumidos por las emisiones de CO₂ por galón."
   ]
  },
  {
   "cell_type": "markdown",
   "metadata": {},
   "source": [
    "Datos aportados por el EPA: \\\n",
    "**Cálculos Base para un Vehículo Típico**\n",
    "\n",
    "Economía de combustible: 22.2 millas por galón \\\n",
    "Distancia anual: 11,500 millas \\\n",
    "Emisiones por galón: 8,887 gramos de CO₂ \\\n",
    "\n",
    "Emisiones Anuales: \\\n",
    "Galones consumidos por año: (11,500 millas / 22.2 millas/galón) = 518 galones \\\n",
    "Emisiones de CO₂ por año: 518 galones x 8,887 gramos/galón = 4,604,266 gramos = 4.6 toneladas métricas"
   ]
  },
  {
   "cell_type": "markdown",
   "metadata": {},
   "source": [
    "**Cálculo ajustado para Taxis**\n",
    "Estimando que los taxis recorren mas millas anualmente, usaremos la misma economia de combustible (22.2 millas por galón) pero usaremos la columna trip_distance y trip_mille para calcular la columna calculada CO2_Emissions. \\\n",
    "\n",
    "*Distancia anual de un taxi*: Suma trip_distance y trip_mille, en millas \\\n",
    "*Galones consumidos por año*: (Distancia anual de un taxi / 22.2 millas/galón). \n",
    "*Emisiones de CO₂ por año*: (Galones consumidos por año x 8,887 gramos/galón) "
   ]
  },
  {
   "cell_type": "markdown",
   "metadata": {},
   "source": [
    "#### Cálculo de Emisiones Futuras"
   ]
  },
  {
   "cell_type": "markdown",
   "metadata": {},
   "source": [
    "*Estrategias de Reducción*: Implementar estrategias como la reducción de la distancia recorrida, la mejora de la eficiencia del combustible, o la adopción de vehículos eléctricos.\\\n",
    "*Proyección de Emisiones*: Calcula las emisiones proyectadas basadas en las estrategias implementadas."
   ]
  },
  {
   "cell_type": "markdown",
   "metadata": {},
   "source": [
    "### Cálculo de Reducción Porcentual"
   ]
  },
  {
   "cell_type": "markdown",
   "metadata": {},
   "source": [
    "Compara las emisiones actuales con las emisiones futuras proyectadas para determinar la reducción porcentual."
   ]
  },
  {
   "cell_type": "markdown",
   "metadata": {},
   "source": [
    "#### Visualización del KPI"
   ]
  },
  {
   "cell_type": "markdown",
   "metadata": {
    "vscode": {
     "languageId": "plaintext"
    }
   },
   "source": [
    "Opciones recomendadas de graficos que favorecen la visualizacion de este KPI\n",
    "\n",
    "1. **Gráfico de Líneas con Área Sombreada** \\\n",
    "*Descripción*: Un gráfico de líneas que muestre las emisiones de CO₂ a lo largo del tiempo, con un área sombreada que destaque la reducción proyectada.\\\n",
    "*Uso*: Este gráfico es ideal para mostrar tendencias a lo largo del tiempo y visualizar claramente la reducción en las emisiones de CO₂. \\\n",
    "*Configuración*:\n",
    "Eje X: Fechas (por mes, trimestre o año). \\\n",
    "Eje Y: Emisiones de CO₂ (en toneladas métricas). \\\n",
    "Líneas: Emisiones actuales y proyectadas. \\\n",
    "Área sombreada: Diferencia entre emisiones actuales y proyectadas.\n",
    "\n",
    "2. **Gráfico de Barras Apiladas**\\\n",
    "*Descripción*: Un gráfico de barras apiladas que compare las emisiones de CO₂ actuales y proyectadas por periodos específicos (mensuales, trimestrales, anuales). \\\n",
    "*Uso*: Útil para comparar las emisiones en distintos periodos y ver claramente la reducción en un formato de barras. \\\n",
    "*Configuración*:\n",
    "Eje X: Periodos de tiempo (mes, trimestre, año).\\\n",
    "Eje Y: Emisiones de CO₂ (en toneladas métricas). \\\n",
    "Segmentos de barras: Emisiones actuales y proyectadas.\n",
    "\n",
    "3. **Gráfico de Barras con Objetivo (Bullet Chart)** \\\n",
    "*Descripción*: Un gráfico de barras que muestre las emisiones actuales y proyectadas, con una línea objetivo para la reducción deseada. \\\n",
    "*Uso*: Ideal para mostrar el progreso hacia un objetivo de reducción específico y visualizar si las proyecciones están cumpliendo con el objetivo. \\\n",
    "*Configuración*:\n",
    "Eje X: Periodos de tiempo (mes, trimestre, año). \\\n",
    "Eje Y: Emisiones de CO₂ (en toneladas métricas). \\\n",
    "Barra: Emisiones actuales. \\\n",
    "Línea objetivo: Emisiones proyectadas. \n",
    "\n",
    "4. **Tarjeta de KPI** \\\n",
    "*Descripción*: Una tarjeta de KPI que muestre el porcentaje de reducción de emisiones de CO₂. \\\n",
    "*Uso*: Útil para resaltar de manera concisa y directa el KPI de reducción porcentual. \\\n",
    "*Configuración*:\n",
    "Valor: Porcentaje de reducción de emisiones de CO₂."
   ]
  }
 ],
 "metadata": {
  "language_info": {
   "name": "python"
  }
 },
 "nbformat": 4,
 "nbformat_minor": 2
}
