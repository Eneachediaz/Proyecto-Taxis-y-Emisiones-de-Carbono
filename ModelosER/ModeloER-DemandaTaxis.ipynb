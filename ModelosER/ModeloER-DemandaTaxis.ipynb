{
 "cells": [
  {
   "cell_type": "markdown",
   "metadata": {},
   "source": [
    "### Modelo de Relacion para la Tasa de Cambio en la Demanda de Taxis"
   ]
  },
  {
   "cell_type": "markdown",
   "metadata": {},
   "source": [
    "#### Datos Requeridos:"
   ]
  },
  {
   "cell_type": "markdown",
   "metadata": {},
   "source": [
    "**Importa los datasets relevantes**: fhvhv_tripdata_2024-01, green_tripdata_2024-01, yellow_tripdata_2024-01, y taxi+_zone_lookup.\n",
    "\n",
    "Para calcular la tasa de cambio en la demanda de taxis, se utilizaron datos históricos de viajes en taxi, incluyendo fecha y hora de viaje, y el número de viajes.\n",
    "\n",
    "**Columnas**:\n",
    "| pickup_datetime | dropOff_datetime | dispatching | PUlocationID | DOlocationID |\n"
   ]
  },
  {
   "cell_type": "markdown",
   "metadata": {},
   "source": [
    "#### Preparación de los Datos:"
   ]
  },
  {
   "cell_type": "markdown",
   "metadata": {},
   "source": [
    "El primer paso seria unificar los nombres de las columnas que extraeremos en cada tabla.\\\n",
    "Convertir las fechas y horas a formatos datetime.\\\n",
    "Crear columnas adicionales necesarias como pickup_date para facilitar la agrupación por fecha.\\\n",
    "Posteriormente, se agruparan los datos por fecha y se calculara el número total de viajes en cada período."
   ]
  },
  {
   "cell_type": "markdown",
   "metadata": {},
   "source": [
    "#### Unión de Tablas"
   ]
  },
  {
   "cell_type": "markdown",
   "metadata": {},
   "source": [
    "Utilizar la LocationID para unir las tablas de viajes (fhvhv_tripdata_2024-01, green_tripdata_2024-01, yellow_tripdata_2024-01) con la tabla taxi+_zone_lookup para obtener información adicional de ubicación."
   ]
  },
  {
   "cell_type": "markdown",
   "metadata": {},
   "source": [
    "#### Cálculo de la Tasa de Cambio:"
   ]
  },
  {
   "cell_type": "markdown",
   "metadata": {},
   "source": [
    "Agrupar los datos por día (pickup_date) y calcular la cantidad de viajes por día.\n",
    "Calcular la tasa de cambio en la demanda comparando la cantidad de viajes entre días consecutivos.\n",
    "\n",
    "La tasa de cambio en la demanda de taxis se calculara utilizando la siguiente fórmula:\\\n",
    "\n",
    "Tasa de Cambio = (Valor Actual − Valor Anterior) / Valor Anterior × 100"
   ]
  },
  {
   "cell_type": "markdown",
   "metadata": {},
   "source": [
    "#### Visualización del KPI"
   ]
  },
  {
   "cell_type": "markdown",
   "metadata": {},
   "source": [
    "Se utilizara PowerBi para visualizar los resultados mediante gráficos de líneas o barras que muestren la tendencia diaria en la demanda de taxis"
   ]
  },
  {
   "cell_type": "markdown",
   "metadata": {},
   "source": [
    "![image.](/Recursos%20de%20Marca/kpi%20demanda.JPG)"
   ]
  },
  {
   "cell_type": "code",
   "execution_count": null,
   "metadata": {
    "vscode": {
     "languageId": "plaintext"
    }
   },
   "outputs": [],
   "source": []
  }
 ],
 "metadata": {
  "language_info": {
   "name": "python"
  }
 },
 "nbformat": 4,
 "nbformat_minor": 2
}
